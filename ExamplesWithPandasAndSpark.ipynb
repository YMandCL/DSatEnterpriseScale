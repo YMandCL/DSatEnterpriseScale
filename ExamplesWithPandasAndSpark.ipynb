{
 "cells": [
  {
   "cell_type": "code",
   "execution_count": 34,
   "metadata": {},
   "outputs": [],
   "source": [
    "import numpy as np\n",
    "import pandas as pd\n",
    "import matplotlib.pyplot as plt\n",
    "from sklearn.linear_model import LinearRegression\n",
    "from sklearn.metrics import r2_score\n",
    "#from sklearn.cross_validation import train_test_split\n",
    "from pyspark.mllib.regression import LabeledPoint, LinearRegressionWithSGD\n",
    "from pyspark.mllib.evaluation import RegressionMetrics\n",
    "from pyspark.mllib.linalg import DenseVector\n",
    "from pyspark.mllib.feature import StandardScaler\n",
    "from pyspark.mllib.feature import StandardScalerModel\n",
    "%matplotlib inline"
   ]
  },
  {
   "cell_type": "markdown",
   "metadata": {},
   "source": [
    "# Solving a simple linear regression\n",
    "\n",
    "## Numpy Analytical Solution"
   ]
  },
  {
   "cell_type": "code",
   "execution_count": 35,
   "metadata": {},
   "outputs": [
    {
     "name": "stdout",
     "output_type": "stream",
     "text": [
      "--2019-12-05 17:52:17--  https://raw.githubusercontent.com/nilmeier/DSatEnterpriseScale/master/cars.csv\n",
      "Resolving raw.githubusercontent.com (raw.githubusercontent.com)... 151.101.48.133\n",
      "Connecting to raw.githubusercontent.com (raw.githubusercontent.com)|151.101.48.133|:443... connected.\n",
      "HTTP request sent, awaiting response... 200 OK\n",
      "Length: 21083 (21K) [text/plain]\n",
      "Saving to: 'cars.csv.1'\n",
      "\n",
      "100%[======================================>] 21,083      --.-K/s   in 0.001s  \n",
      "\n",
      "2019-12-05 17:52:17 (33.7 MB/s) - 'cars.csv.1' saved [21083/21083]\n",
      "\n"
     ]
    }
   ],
   "source": [
    "!wget https://raw.githubusercontent.com/nilmeier/DSatEnterpriseScale/master/cars.csv\n",
    "# read data into pandas dataframe from csv\n",
    "df = pd.read_csv('cars.csv')"
   ]
  },
  {
   "cell_type": "code",
   "execution_count": 36,
   "metadata": {},
   "outputs": [
    {
     "data": {
      "text/html": [
       "<div>\n",
       "<style scoped>\n",
       "    .dataframe tbody tr th:only-of-type {\n",
       "        vertical-align: middle;\n",
       "    }\n",
       "\n",
       "    .dataframe tbody tr th {\n",
       "        vertical-align: top;\n",
       "    }\n",
       "\n",
       "    .dataframe thead th {\n",
       "        text-align: right;\n",
       "    }\n",
       "</style>\n",
       "<table border=\"1\" class=\"dataframe\">\n",
       "  <thead>\n",
       "    <tr style=\"text-align: right;\">\n",
       "      <th></th>\n",
       "      <th>mpg</th>\n",
       "      <th>cylinders</th>\n",
       "      <th>displacement</th>\n",
       "      <th>horsepower</th>\n",
       "      <th>weight</th>\n",
       "      <th>acceleration</th>\n",
       "      <th>model</th>\n",
       "      <th>origin</th>\n",
       "      <th>car_name</th>\n",
       "    </tr>\n",
       "  </thead>\n",
       "  <tbody>\n",
       "    <tr>\n",
       "      <th>0</th>\n",
       "      <td>18.0</td>\n",
       "      <td>8</td>\n",
       "      <td>307.0</td>\n",
       "      <td>130.0</td>\n",
       "      <td>3504.0</td>\n",
       "      <td>12.0</td>\n",
       "      <td>70</td>\n",
       "      <td>1</td>\n",
       "      <td>chevrolet chevelle malibu</td>\n",
       "    </tr>\n",
       "    <tr>\n",
       "      <th>1</th>\n",
       "      <td>15.0</td>\n",
       "      <td>8</td>\n",
       "      <td>350.0</td>\n",
       "      <td>165.0</td>\n",
       "      <td>3693.0</td>\n",
       "      <td>11.5</td>\n",
       "      <td>70</td>\n",
       "      <td>1</td>\n",
       "      <td>buick skylark 320</td>\n",
       "    </tr>\n",
       "    <tr>\n",
       "      <th>2</th>\n",
       "      <td>18.0</td>\n",
       "      <td>8</td>\n",
       "      <td>318.0</td>\n",
       "      <td>150.0</td>\n",
       "      <td>3436.0</td>\n",
       "      <td>11.0</td>\n",
       "      <td>70</td>\n",
       "      <td>1</td>\n",
       "      <td>plymouth satellite</td>\n",
       "    </tr>\n",
       "    <tr>\n",
       "      <th>3</th>\n",
       "      <td>16.0</td>\n",
       "      <td>8</td>\n",
       "      <td>304.0</td>\n",
       "      <td>150.0</td>\n",
       "      <td>3433.0</td>\n",
       "      <td>12.0</td>\n",
       "      <td>70</td>\n",
       "      <td>1</td>\n",
       "      <td>amc rebel sst</td>\n",
       "    </tr>\n",
       "    <tr>\n",
       "      <th>4</th>\n",
       "      <td>17.0</td>\n",
       "      <td>8</td>\n",
       "      <td>302.0</td>\n",
       "      <td>140.0</td>\n",
       "      <td>3449.0</td>\n",
       "      <td>10.5</td>\n",
       "      <td>70</td>\n",
       "      <td>1</td>\n",
       "      <td>ford torino</td>\n",
       "    </tr>\n",
       "  </tbody>\n",
       "</table>\n",
       "</div>"
      ],
      "text/plain": [
       "    mpg  cylinders  displacement horsepower  weight  acceleration  model  \\\n",
       "0  18.0          8         307.0      130.0  3504.0          12.0     70   \n",
       "1  15.0          8         350.0      165.0  3693.0          11.5     70   \n",
       "2  18.0          8         318.0      150.0  3436.0          11.0     70   \n",
       "3  16.0          8         304.0      150.0  3433.0          12.0     70   \n",
       "4  17.0          8         302.0      140.0  3449.0          10.5     70   \n",
       "\n",
       "   origin                   car_name  \n",
       "0       1  chevrolet chevelle malibu  \n",
       "1       1          buick skylark 320  \n",
       "2       1         plymouth satellite  \n",
       "3       1              amc rebel sst  \n",
       "4       1                ford torino  "
      ]
     },
     "execution_count": 36,
     "metadata": {},
     "output_type": "execute_result"
    }
   ],
   "source": [
    "df.head()"
   ]
  },
  {
   "cell_type": "code",
   "execution_count": 37,
   "metadata": {},
   "outputs": [
    {
     "name": "stdout",
     "output_type": "stream",
     "text": [
      "<class 'pandas.core.frame.DataFrame'>\n",
      "RangeIndex: 398 entries, 0 to 397\n",
      "Data columns (total 9 columns):\n",
      "mpg             398 non-null float64\n",
      "cylinders       398 non-null int64\n",
      "displacement    398 non-null float64\n",
      "horsepower      398 non-null object\n",
      "weight          398 non-null float64\n",
      "acceleration    398 non-null float64\n",
      "model           398 non-null int64\n",
      "origin          398 non-null int64\n",
      "car_name        398 non-null object\n",
      "dtypes: float64(4), int64(3), object(2)\n",
      "memory usage: 28.1+ KB\n"
     ]
    }
   ],
   "source": [
    "df.info()"
   ]
  },
  {
   "cell_type": "code",
   "execution_count": 38,
   "metadata": {},
   "outputs": [],
   "source": [
    "# remove missing values and convert to float\n",
    "df['horsepower'] = df.horsepower.map(lambda x: float(x) if x != '?' else -1)\n",
    "df = df[df.horsepower > -1]"
   ]
  },
  {
   "cell_type": "code",
   "execution_count": 39,
   "metadata": {},
   "outputs": [
    {
     "data": {
      "text/plain": [
       "Text(0, 0.5, 'MPG')"
      ]
     },
     "execution_count": 39,
     "metadata": {},
     "output_type": "execute_result"
    },
    {
     "data": {
      "image/png": "[encoded data removed]",
      "text/plain": [
       "<Figure size 864x288 with 2 Axes>"
      ]
     },
     "metadata": {
      "needs_background": "light"
     },
     "output_type": "display_data"
    }
   ],
   "source": [
    "# visualize the data\n",
    "fig, axs = plt.subplots(1, 2, figsize=(12, 4))\n",
    "axs[0].scatter(df.horsepower, df.mpg)\n",
    "axs[0].set_xlabel('Horsepower (hp)')\n",
    "axs[0].set_ylabel('MPG')\n",
    "axs[1].scatter(df.weight, df.mpg)\n",
    "axs[1].set_xlabel('Weight (lbs)')\n",
    "axs[1].set_ylabel('MPG')"
   ]
  },
  {
   "cell_type": "markdown",
   "metadata": {},
   "source": [
    "Find the linear least squares solution to the problem:\n",
    "\n",
    "$$y=X\\beta + \\epsilon$$\n",
    "\n",
    "Where $X$ is a matrix of features, with each column corresponding to a certain feature (like horsepower)"
   ]
  },
  {
   "cell_type": "code",
   "execution_count": 40,
   "metadata": {},
   "outputs": [
    {
     "name": "stdout",
     "output_type": "stream",
     "text": [
      "[[1.000e+00 1.300e+02 3.504e+03]\n",
      " [1.000e+00 1.650e+02 3.693e+03]\n",
      " [1.000e+00 1.500e+02 3.436e+03]\n",
      " ...\n",
      " [1.000e+00 8.400e+01 2.295e+03]\n",
      " [1.000e+00 7.900e+01 2.625e+03]\n",
      " [1.000e+00 8.200e+01 2.720e+03]]\n"
     ]
    }
   ],
   "source": [
    "# use only the horsepower and weight columns as features\n",
    "def add_const(X):\n",
    "    return np.concatenate((np.ones(shape=(X.shape[0],1)),X),axis=1)\n",
    "X = df[['horsepower', 'weight']]\n",
    "# add a column of ones so that there can be an intercept term\n",
    "X = add_const(X)\n",
    "y = df.mpg.values\n",
    "print(X)"
   ]
  },
  {
   "cell_type": "markdown",
   "metadata": {},
   "source": [
    "The least squares solution is:\n",
    "\n",
    "$$\\hat{\\beta} = (X^TX)^{-1}X^Ty\\\\\n",
    "\\hat{y}=X\\hat{\\beta}$$"
   ]
  },
  {
   "cell_type": "code",
   "execution_count": 41,
   "metadata": {},
   "outputs": [
    {
     "name": "stdout",
     "output_type": "stream",
     "text": [
      "[ 4.56402108e+01 -4.73028631e-02 -5.79415736e-03]\n",
      "[ 4.56402108e+01 -4.73028631e-02 -5.79415736e-03]\n",
      "[ 4.56402108e+01 -4.73028631e-02 -5.79415736e-03]\n"
     ]
    }
   ],
   "source": [
    "# compute solution from explicit matrix operations\n",
    "beta_hat = np.dot(np.dot(np.linalg.inv(np.dot(X.T, X)), X.T), y)\n",
    "print(beta_hat)\n",
    "# using numpy pseudo-inverse function\n",
    "beta_hat = np.dot(np.linalg.pinv(X), y)\n",
    "print(beta_hat)\n",
    "# using numpy matrix objects\n",
    "X_mat = np.mat(X)\n",
    "y_mat = np.mat(y).T\n",
    "beta_hat = (X_mat.T*X_mat).I*X_mat.T*y_mat # much more concise\n",
    "print (np.array(beta_hat).ravel())"
   ]
  },
  {
   "cell_type": "code",
   "execution_count": 42,
   "metadata": {},
   "outputs": [
    {
     "name": "stdout",
     "output_type": "stream",
     "text": [
      "R-squared = 0.70638\n"
     ]
    }
   ],
   "source": [
    "# compute the best fit line and find r-squared\n",
    "yhat_numpy = np.dot(X, beta_hat)\n",
    "print(\"R-squared = %1.5f\" % r2_score(y, yhat_numpy))"
   ]
  },
  {
   "cell_type": "markdown",
   "metadata": {},
   "source": [
    "## Scikit-Learn Solution"
   ]
  },
  {
   "cell_type": "code",
   "execution_count": 43,
   "metadata": {},
   "outputs": [
    {
     "name": "stdout",
     "output_type": "stream",
     "text": [
      "R-squared = 0.70638\n"
     ]
    }
   ],
   "source": [
    "# fit a LinearRegression classifier and get r-squared\n",
    "clf = LinearRegression()\n",
    "clf.fit(X, y)\n",
    "print(\"R-squared = %1.5f\" % clf.score(X, y))"
   ]
  },
  {
   "cell_type": "markdown",
   "metadata": {},
   "source": [
    "## Spark MLlib Solution"
   ]
  },
  {
   "cell_type": "code",
   "execution_count": 44,
   "metadata": {},
   "outputs": [
    {
     "data": {
      "text/html": [
       "\n",
       "        <div>\n",
       "            <p><b>SparkContext</b></p>\n",
       "\n",
       "\n",
       "            <dl>\n",
       "              <dt>Version</dt>\n",
       "                <dd><code>v2.3.3</code></dd>\n",
       "              <dt>Master</dt>\n",
       "                <dd><code>spark://jkg-deployment-ffce239d-0c89-4925-bcda-5818f38a16b0-55799bvx4xg:7077</code></dd>\n",
       "              <dt>AppName</dt>\n",
       "                <dd><code>pyspark-shell</code></dd>\n",
       "            </dl>\n",
       "        </div>\n",
       "        "
      ],
      "text/plain": [
       "<SparkContext master=spark://jkg-deployment-ffce239d-0c89-4925-bcda-5818f38a16b0-55799bvx4xg:7077 appName=pyspark-shell>"
      ]
     },
     "execution_count": 44,
     "metadata": {},
     "output_type": "execute_result"
    }
   ],
   "source": [
    "# Verify that your Spark Context is initialized\n",
    "sc "
   ]
  },
  {
   "cell_type": "code",
   "execution_count": 45,
   "metadata": {},
   "outputs": [
    {
     "name": "stdout",
     "output_type": "stream",
     "text": [
      "--2019-12-05 17:52:30--  https://raw.githubusercontent.com/nilmeier/DSatEnterpriseScale/master/cars2.csv\n",
      "Resolving raw.githubusercontent.com (raw.githubusercontent.com)... 199.232.8.133\n",
      "Connecting to raw.githubusercontent.com (raw.githubusercontent.com)|199.232.8.133|:443... connected.\n",
      "HTTP request sent, awaiting response... 200 OK\n",
      "Length: 6830 (6.7K) [text/plain]\n",
      "Saving to: 'cars2.csv.1'\n",
      "\n",
      "100%[======================================>] 6,830       --.-K/s   in 0s      \n",
      "\n",
      "2019-12-05 17:52:30 (65.1 MB/s) - 'cars2.csv.1' saved [6830/6830]\n",
      "\n"
     ]
    }
   ],
   "source": [
    "# read data into Spark RDD\n",
    "!wget https://raw.githubusercontent.com/nilmeier/DSatEnterpriseScale/master/cars2.csv\n",
    "def parse_point(line):\n",
    "    vals = line.split(',')\n",
    "    return DenseVector(vals)\n",
    "data = sc.textFile('cars2.csv').map(lambda x: parse_point(x))"
   ]
  },
  {
   "cell_type": "code",
   "execution_count": 46,
   "metadata": {},
   "outputs": [],
   "source": [
    "parsedData = data.map(lambda x: LabeledPoint(x[0], DenseVector(x[1:])))"
   ]
  },
  {
   "cell_type": "code",
   "execution_count": 47,
   "metadata": {},
   "outputs": [
    {
     "data": {
      "text/plain": [
       "[DenseVector([18.0, 130.0, 3504.0]),\n",
       " DenseVector([15.0, 165.0, 3693.0]),\n",
       " DenseVector([18.0, 150.0, 3436.0]),\n",
       " DenseVector([16.0, 150.0, 3433.0]),\n",
       " DenseVector([17.0, 140.0, 3449.0]),\n",
       " DenseVector([15.0, 198.0, 4341.0]),\n",
       " DenseVector([14.0, 220.0, 4354.0]),\n",
       " DenseVector([14.0, 215.0, 4312.0]),\n",
       " DenseVector([14.0, 225.0, 4425.0]),\n",
       " DenseVector([15.0, 190.0, 3850.0]),\n",
       " DenseVector([15.0, 170.0, 3563.0]),\n",
       " DenseVector([14.0, 160.0, 3609.0]),\n",
       " DenseVector([15.0, 150.0, 3761.0]),\n",
       " DenseVector([14.0, 225.0, 3086.0]),\n",
       " DenseVector([24.0, 95.0, 2372.0]),\n",
       " DenseVector([22.0, 95.0, 2833.0]),\n",
       " DenseVector([18.0, 97.0, 2774.0]),\n",
       " DenseVector([21.0, 85.0, 2587.0]),\n",
       " DenseVector([27.0, 88.0, 2130.0]),\n",
       " DenseVector([26.0, 46.0, 1835.0]),\n",
       " DenseVector([25.0, 87.0, 2672.0]),\n",
       " DenseVector([24.0, 90.0, 2430.0]),\n",
       " DenseVector([25.0, 95.0, 2375.0]),\n",
       " DenseVector([26.0, 113.0, 2234.0]),\n",
       " DenseVector([21.0, 90.0, 2648.0]),\n",
       " DenseVector([10.0, 215.0, 4615.0]),\n",
       " DenseVector([10.0, 200.0, 4376.0]),\n",
       " DenseVector([11.0, 210.0, 4382.0]),\n",
       " DenseVector([9.0, 193.0, 4732.0]),\n",
       " DenseVector([27.0, 88.0, 2130.0]),\n",
       " DenseVector([28.0, 90.0, 2264.0]),\n",
       " DenseVector([25.0, 95.0, 2228.0]),\n",
       " DenseVector([19.0, 100.0, 2634.0]),\n",
       " DenseVector([16.0, 105.0, 3439.0]),\n",
       " DenseVector([17.0, 100.0, 3329.0]),\n",
       " DenseVector([19.0, 88.0, 3302.0]),\n",
       " DenseVector([18.0, 100.0, 3288.0]),\n",
       " DenseVector([14.0, 165.0, 4209.0]),\n",
       " DenseVector([14.0, 175.0, 4464.0]),\n",
       " DenseVector([14.0, 153.0, 4154.0]),\n",
       " DenseVector([14.0, 150.0, 4096.0]),\n",
       " DenseVector([12.0, 180.0, 4955.0]),\n",
       " DenseVector([13.0, 170.0, 4746.0]),\n",
       " DenseVector([13.0, 175.0, 5140.0]),\n",
       " DenseVector([18.0, 110.0, 2962.0]),\n",
       " DenseVector([22.0, 72.0, 2408.0]),\n",
       " DenseVector([19.0, 100.0, 3282.0]),\n",
       " DenseVector([18.0, 88.0, 3139.0]),\n",
       " DenseVector([23.0, 86.0, 2220.0]),\n",
       " DenseVector([28.0, 90.0, 2123.0]),\n",
       " DenseVector([30.0, 70.0, 2074.0]),\n",
       " DenseVector([30.0, 76.0, 2065.0]),\n",
       " DenseVector([31.0, 65.0, 1773.0]),\n",
       " DenseVector([35.0, 69.0, 1613.0]),\n",
       " DenseVector([27.0, 60.0, 1834.0]),\n",
       " DenseVector([26.0, 70.0, 1955.0]),\n",
       " DenseVector([24.0, 95.0, 2278.0]),\n",
       " DenseVector([25.0, 80.0, 2126.0]),\n",
       " DenseVector([23.0, 54.0, 2254.0]),\n",
       " DenseVector([20.0, 90.0, 2408.0]),\n",
       " DenseVector([21.0, 86.0, 2226.0]),\n",
       " DenseVector([13.0, 165.0, 4274.0]),\n",
       " DenseVector([14.0, 175.0, 4385.0]),\n",
       " DenseVector([15.0, 150.0, 4135.0]),\n",
       " DenseVector([14.0, 153.0, 4129.0]),\n",
       " DenseVector([17.0, 150.0, 3672.0]),\n",
       " DenseVector([11.0, 208.0, 4633.0]),\n",
       " DenseVector([13.0, 155.0, 4502.0]),\n",
       " DenseVector([12.0, 160.0, 4456.0]),\n",
       " DenseVector([13.0, 190.0, 4422.0]),\n",
       " DenseVector([19.0, 97.0, 2330.0]),\n",
       " DenseVector([15.0, 150.0, 3892.0]),\n",
       " DenseVector([13.0, 130.0, 4098.0]),\n",
       " DenseVector([13.0, 140.0, 4294.0]),\n",
       " DenseVector([14.0, 150.0, 4077.0]),\n",
       " DenseVector([18.0, 112.0, 2933.0]),\n",
       " DenseVector([22.0, 76.0, 2511.0]),\n",
       " DenseVector([21.0, 87.0, 2979.0]),\n",
       " DenseVector([26.0, 69.0, 2189.0]),\n",
       " DenseVector([22.0, 86.0, 2395.0]),\n",
       " DenseVector([28.0, 92.0, 2288.0]),\n",
       " DenseVector([23.0, 97.0, 2506.0]),\n",
       " DenseVector([28.0, 80.0, 2164.0]),\n",
       " DenseVector([27.0, 88.0, 2100.0]),\n",
       " DenseVector([13.0, 175.0, 4100.0]),\n",
       " DenseVector([14.0, 150.0, 3672.0]),\n",
       " DenseVector([13.0, 145.0, 3988.0]),\n",
       " DenseVector([14.0, 137.0, 4042.0]),\n",
       " DenseVector([15.0, 150.0, 3777.0]),\n",
       " DenseVector([12.0, 198.0, 4952.0]),\n",
       " DenseVector([13.0, 150.0, 4464.0]),\n",
       " DenseVector([13.0, 158.0, 4363.0]),\n",
       " DenseVector([14.0, 150.0, 4237.0]),\n",
       " DenseVector([13.0, 215.0, 4735.0]),\n",
       " DenseVector([12.0, 225.0, 4951.0]),\n",
       " DenseVector([13.0, 175.0, 3821.0]),\n",
       " DenseVector([18.0, 105.0, 3121.0]),\n",
       " DenseVector([16.0, 100.0, 3278.0]),\n",
       " DenseVector([18.0, 100.0, 2945.0]),\n",
       " DenseVector([18.0, 88.0, 3021.0]),\n",
       " DenseVector([23.0, 95.0, 2904.0]),\n",
       " DenseVector([26.0, 46.0, 1950.0]),\n",
       " DenseVector([11.0, 150.0, 4997.0]),\n",
       " DenseVector([12.0, 167.0, 4906.0]),\n",
       " DenseVector([13.0, 170.0, 4654.0]),\n",
       " DenseVector([12.0, 180.0, 4499.0]),\n",
       " DenseVector([18.0, 100.0, 2789.0]),\n",
       " DenseVector([20.0, 88.0, 2279.0]),\n",
       " DenseVector([21.0, 72.0, 2401.0]),\n",
       " DenseVector([22.0, 94.0, 2379.0]),\n",
       " DenseVector([18.0, 90.0, 2124.0]),\n",
       " DenseVector([19.0, 85.0, 2310.0]),\n",
       " DenseVector([21.0, 107.0, 2472.0]),\n",
       " DenseVector([26.0, 90.0, 2265.0]),\n",
       " DenseVector([15.0, 145.0, 4082.0]),\n",
       " DenseVector([16.0, 230.0, 4278.0]),\n",
       " DenseVector([29.0, 49.0, 1867.0]),\n",
       " DenseVector([24.0, 75.0, 2158.0]),\n",
       " DenseVector([20.0, 91.0, 2582.0]),\n",
       " DenseVector([19.0, 112.0, 2868.0]),\n",
       " DenseVector([15.0, 150.0, 3399.0]),\n",
       " DenseVector([24.0, 110.0, 2660.0]),\n",
       " DenseVector([20.0, 122.0, 2807.0]),\n",
       " DenseVector([11.0, 180.0, 3664.0]),\n",
       " DenseVector([20.0, 95.0, 3102.0]),\n",
       " DenseVector([19.0, 100.0, 2901.0]),\n",
       " DenseVector([15.0, 100.0, 3336.0]),\n",
       " DenseVector([31.0, 67.0, 1950.0]),\n",
       " DenseVector([26.0, 80.0, 2451.0]),\n",
       " DenseVector([32.0, 65.0, 1836.0]),\n",
       " DenseVector([25.0, 75.0, 2542.0]),\n",
       " DenseVector([16.0, 100.0, 3781.0]),\n",
       " DenseVector([16.0, 110.0, 3632.0]),\n",
       " DenseVector([18.0, 105.0, 3613.0]),\n",
       " DenseVector([16.0, 140.0, 4141.0]),\n",
       " DenseVector([13.0, 150.0, 4699.0]),\n",
       " DenseVector([14.0, 150.0, 4457.0]),\n",
       " DenseVector([14.0, 140.0, 4638.0]),\n",
       " DenseVector([14.0, 150.0, 4257.0]),\n",
       " DenseVector([29.0, 83.0, 2219.0]),\n",
       " DenseVector([26.0, 67.0, 1963.0]),\n",
       " DenseVector([26.0, 78.0, 2300.0]),\n",
       " DenseVector([31.0, 52.0, 1649.0]),\n",
       " DenseVector([32.0, 61.0, 2003.0]),\n",
       " DenseVector([28.0, 75.0, 2125.0]),\n",
       " DenseVector([24.0, 75.0, 2108.0]),\n",
       " DenseVector([26.0, 75.0, 2246.0]),\n",
       " DenseVector([24.0, 97.0, 2489.0]),\n",
       " DenseVector([26.0, 93.0, 2391.0]),\n",
       " DenseVector([31.0, 67.0, 2000.0]),\n",
       " DenseVector([19.0, 95.0, 3264.0]),\n",
       " DenseVector([18.0, 105.0, 3459.0]),\n",
       " DenseVector([15.0, 72.0, 3432.0]),\n",
       " DenseVector([15.0, 72.0, 3158.0]),\n",
       " DenseVector([16.0, 170.0, 4668.0]),\n",
       " DenseVector([15.0, 145.0, 4440.0]),\n",
       " DenseVector([16.0, 150.0, 4498.0]),\n",
       " DenseVector([14.0, 148.0, 4657.0]),\n",
       " DenseVector([17.0, 110.0, 3907.0]),\n",
       " DenseVector([16.0, 105.0, 3897.0]),\n",
       " DenseVector([15.0, 110.0, 3730.0]),\n",
       " DenseVector([18.0, 95.0, 3785.0]),\n",
       " DenseVector([21.0, 110.0, 3039.0]),\n",
       " DenseVector([20.0, 110.0, 3221.0]),\n",
       " DenseVector([13.0, 129.0, 3169.0]),\n",
       " DenseVector([29.0, 75.0, 2171.0]),\n",
       " DenseVector([23.0, 83.0, 2639.0]),\n",
       " DenseVector([20.0, 100.0, 2914.0]),\n",
       " DenseVector([23.0, 78.0, 2592.0]),\n",
       " DenseVector([24.0, 96.0, 2702.0]),\n",
       " DenseVector([25.0, 71.0, 2223.0]),\n",
       " DenseVector([24.0, 97.0, 2545.0]),\n",
       " DenseVector([18.0, 97.0, 2984.0]),\n",
       " DenseVector([29.0, 70.0, 1937.0]),\n",
       " DenseVector([19.0, 90.0, 3211.0]),\n",
       " DenseVector([23.0, 95.0, 2694.0]),\n",
       " DenseVector([23.0, 88.0, 2957.0]),\n",
       " DenseVector([22.0, 98.0, 2945.0]),\n",
       " DenseVector([25.0, 115.0, 2671.0]),\n",
       " DenseVector([33.0, 53.0, 1795.0]),\n",
       " DenseVector([28.0, 86.0, 2464.0]),\n",
       " DenseVector([25.0, 81.0, 2220.0]),\n",
       " DenseVector([25.0, 92.0, 2572.0]),\n",
       " DenseVector([26.0, 79.0, 2255.0]),\n",
       " DenseVector([27.0, 83.0, 2202.0]),\n",
       " DenseVector([17.5, 140.0, 4215.0]),\n",
       " DenseVector([16.0, 150.0, 4190.0]),\n",
       " DenseVector([15.5, 120.0, 3962.0]),\n",
       " DenseVector([14.5, 152.0, 4215.0]),\n",
       " DenseVector([22.0, 100.0, 3233.0]),\n",
       " DenseVector([22.0, 105.0, 3353.0]),\n",
       " DenseVector([24.0, 81.0, 3012.0]),\n",
       " DenseVector([22.5, 90.0, 3085.0]),\n",
       " DenseVector([29.0, 52.0, 2035.0]),\n",
       " DenseVector([24.5, 60.0, 2164.0]),\n",
       " DenseVector([29.0, 70.0, 1937.0]),\n",
       " DenseVector([33.0, 53.0, 1795.0]),\n",
       " DenseVector([20.0, 100.0, 3651.0]),\n",
       " DenseVector([18.0, 78.0, 3574.0]),\n",
       " DenseVector([18.5, 110.0, 3645.0]),\n",
       " DenseVector([17.5, 95.0, 3193.0]),\n",
       " DenseVector([29.5, 71.0, 1825.0]),\n",
       " DenseVector([32.0, 70.0, 1990.0]),\n",
       " DenseVector([28.0, 75.0, 2155.0]),\n",
       " DenseVector([26.5, 72.0, 2565.0]),\n",
       " DenseVector([20.0, 102.0, 3150.0]),\n",
       " DenseVector([13.0, 150.0, 3940.0]),\n",
       " DenseVector([19.0, 88.0, 3270.0]),\n",
       " DenseVector([19.0, 108.0, 2930.0]),\n",
       " DenseVector([16.5, 120.0, 3820.0]),\n",
       " DenseVector([16.5, 180.0, 4380.0]),\n",
       " DenseVector([13.0, 145.0, 4055.0]),\n",
       " DenseVector([13.0, 130.0, 3870.0]),\n",
       " DenseVector([13.0, 150.0, 3755.0]),\n",
       " DenseVector([31.5, 68.0, 2045.0]),\n",
       " DenseVector([30.0, 80.0, 2155.0]),\n",
       " DenseVector([36.0, 58.0, 1825.0]),\n",
       " DenseVector([25.5, 96.0, 2300.0]),\n",
       " DenseVector([33.5, 70.0, 1945.0]),\n",
       " DenseVector([17.5, 145.0, 3880.0]),\n",
       " DenseVector([17.0, 110.0, 4060.0]),\n",
       " DenseVector([15.5, 145.0, 4140.0]),\n",
       " DenseVector([15.0, 130.0, 4295.0]),\n",
       " DenseVector([17.5, 110.0, 3520.0]),\n",
       " DenseVector([20.5, 105.0, 3425.0]),\n",
       " DenseVector([19.0, 100.0, 3630.0]),\n",
       " DenseVector([18.5, 98.0, 3525.0]),\n",
       " DenseVector([16.0, 180.0, 4220.0]),\n",
       " DenseVector([15.5, 170.0, 4165.0]),\n",
       " DenseVector([15.5, 190.0, 4325.0]),\n",
       " DenseVector([16.0, 149.0, 4335.0]),\n",
       " DenseVector([29.0, 78.0, 1940.0]),\n",
       " DenseVector([24.5, 88.0, 2740.0]),\n",
       " DenseVector([26.0, 75.0, 2265.0]),\n",
       " DenseVector([25.5, 89.0, 2755.0]),\n",
       " DenseVector([30.5, 63.0, 2051.0]),\n",
       " DenseVector([33.5, 83.0, 2075.0]),\n",
       " DenseVector([30.0, 67.0, 1985.0]),\n",
       " DenseVector([30.5, 78.0, 2190.0]),\n",
       " DenseVector([22.0, 97.0, 2815.0]),\n",
       " DenseVector([21.5, 110.0, 2600.0]),\n",
       " DenseVector([21.5, 110.0, 2720.0]),\n",
       " DenseVector([43.1, 48.0, 1985.0]),\n",
       " DenseVector([36.1, 66.0, 1800.0]),\n",
       " DenseVector([32.8, 52.0, 1985.0]),\n",
       " DenseVector([39.4, 70.0, 2070.0]),\n",
       " DenseVector([36.1, 60.0, 1800.0]),\n",
       " DenseVector([19.9, 110.0, 3365.0]),\n",
       " DenseVector([19.4, 140.0, 3735.0]),\n",
       " DenseVector([20.2, 139.0, 3570.0]),\n",
       " DenseVector([19.2, 105.0, 3535.0]),\n",
       " DenseVector([20.5, 95.0, 3155.0]),\n",
       " DenseVector([20.2, 85.0, 2965.0]),\n",
       " DenseVector([25.1, 88.0, 2720.0]),\n",
       " DenseVector([20.5, 100.0, 3430.0]),\n",
       " DenseVector([19.4, 90.0, 3210.0]),\n",
       " DenseVector([20.6, 105.0, 3380.0]),\n",
       " DenseVector([20.8, 85.0, 3070.0]),\n",
       " DenseVector([18.6, 110.0, 3620.0]),\n",
       " DenseVector([18.1, 120.0, 3410.0]),\n",
       " DenseVector([19.2, 145.0, 3425.0]),\n",
       " DenseVector([17.7, 165.0, 3445.0]),\n",
       " DenseVector([18.1, 139.0, 3205.0]),\n",
       " DenseVector([17.5, 140.0, 4080.0]),\n",
       " DenseVector([30.0, 68.0, 2155.0]),\n",
       " DenseVector([27.5, 95.0, 2560.0]),\n",
       " DenseVector([27.2, 97.0, 2300.0]),\n",
       " DenseVector([30.9, 75.0, 2230.0]),\n",
       " DenseVector([21.1, 95.0, 2515.0]),\n",
       " DenseVector([23.2, 105.0, 2745.0]),\n",
       " DenseVector([23.8, 85.0, 2855.0]),\n",
       " DenseVector([23.9, 97.0, 2405.0]),\n",
       " DenseVector([20.3, 103.0, 2830.0]),\n",
       " DenseVector([17.0, 125.0, 3140.0]),\n",
       " DenseVector([21.6, 115.0, 2795.0]),\n",
       " DenseVector([16.2, 133.0, 3410.0]),\n",
       " DenseVector([31.5, 71.0, 1990.0]),\n",
       " DenseVector([29.5, 68.0, 2135.0]),\n",
       " DenseVector([21.5, 115.0, 3245.0]),\n",
       " DenseVector([19.8, 85.0, 2990.0]),\n",
       " DenseVector([22.3, 88.0, 2890.0]),\n",
       " DenseVector([20.2, 90.0, 3265.0]),\n",
       " DenseVector([20.6, 110.0, 3360.0]),\n",
       " DenseVector([17.0, 130.0, 3840.0]),\n",
       " DenseVector([17.6, 129.0, 3725.0]),\n",
       " DenseVector([16.5, 138.0, 3955.0]),\n",
       " DenseVector([18.2, 135.0, 3830.0]),\n",
       " DenseVector([16.9, 155.0, 4360.0]),\n",
       " DenseVector([15.5, 142.0, 4054.0]),\n",
       " DenseVector([19.2, 125.0, 3605.0]),\n",
       " DenseVector([18.5, 150.0, 3940.0]),\n",
       " DenseVector([31.9, 71.0, 1925.0]),\n",
       " DenseVector([34.1, 65.0, 1975.0]),\n",
       " DenseVector([35.7, 80.0, 1915.0]),\n",
       " DenseVector([27.4, 80.0, 2670.0]),\n",
       " DenseVector([25.4, 77.0, 3530.0]),\n",
       " DenseVector([23.0, 125.0, 3900.0]),\n",
       " DenseVector([27.2, 71.0, 3190.0]),\n",
       " DenseVector([23.9, 90.0, 3420.0]),\n",
       " DenseVector([34.2, 70.0, 2200.0]),\n",
       " DenseVector([34.5, 70.0, 2150.0]),\n",
       " DenseVector([31.8, 65.0, 2020.0]),\n",
       " DenseVector([37.3, 69.0, 2130.0]),\n",
       " DenseVector([28.4, 90.0, 2670.0]),\n",
       " DenseVector([28.8, 115.0, 2595.0]),\n",
       " DenseVector([26.8, 115.0, 2700.0]),\n",
       " DenseVector([33.5, 90.0, 2556.0]),\n",
       " DenseVector([41.5, 76.0, 2144.0]),\n",
       " DenseVector([38.1, 60.0, 1968.0]),\n",
       " DenseVector([32.1, 70.0, 2120.0]),\n",
       " DenseVector([37.2, 65.0, 2019.0]),\n",
       " DenseVector([28.0, 90.0, 2678.0]),\n",
       " DenseVector([26.4, 88.0, 2870.0]),\n",
       " DenseVector([24.3, 90.0, 3003.0]),\n",
       " DenseVector([19.1, 90.0, 3381.0]),\n",
       " DenseVector([34.3, 78.0, 2188.0]),\n",
       " DenseVector([29.8, 90.0, 2711.0]),\n",
       " DenseVector([31.3, 75.0, 2542.0]),\n",
       " DenseVector([37.0, 92.0, 2434.0]),\n",
       " DenseVector([32.2, 75.0, 2265.0]),\n",
       " DenseVector([46.6, 65.0, 2110.0]),\n",
       " DenseVector([27.9, 105.0, 2800.0]),\n",
       " DenseVector([40.8, 65.0, 2110.0]),\n",
       " DenseVector([44.3, 48.0, 2085.0]),\n",
       " DenseVector([43.4, 48.0, 2335.0]),\n",
       " DenseVector([36.4, 67.0, 2950.0]),\n",
       " DenseVector([30.0, 67.0, 3250.0]),\n",
       " DenseVector([44.6, 67.0, 1850.0]),\n",
       " DenseVector([33.8, 67.0, 2145.0]),\n",
       " DenseVector([29.8, 62.0, 1845.0]),\n",
       " DenseVector([32.7, 132.0, 2910.0]),\n",
       " DenseVector([23.7, 100.0, 2420.0]),\n",
       " DenseVector([35.0, 88.0, 2500.0]),\n",
       " DenseVector([32.4, 72.0, 2290.0]),\n",
       " DenseVector([27.2, 84.0, 2490.0]),\n",
       " DenseVector([26.6, 84.0, 2635.0]),\n",
       " DenseVector([25.8, 92.0, 2620.0]),\n",
       " DenseVector([23.5, 110.0, 2725.0]),\n",
       " DenseVector([30.0, 84.0, 2385.0]),\n",
       " DenseVector([39.1, 58.0, 1755.0]),\n",
       " DenseVector([39.0, 64.0, 1875.0]),\n",
       " DenseVector([35.1, 60.0, 1760.0]),\n",
       " DenseVector([32.3, 67.0, 2065.0]),\n",
       " DenseVector([37.0, 65.0, 1975.0]),\n",
       " DenseVector([37.7, 62.0, 2050.0]),\n",
       " DenseVector([34.1, 68.0, 1985.0]),\n",
       " DenseVector([34.7, 63.0, 2215.0]),\n",
       " DenseVector([34.4, 65.0, 2045.0]),\n",
       " DenseVector([29.9, 65.0, 2380.0]),\n",
       " DenseVector([33.0, 74.0, 2190.0]),\n",
       " DenseVector([33.7, 75.0, 2210.0]),\n",
       " DenseVector([32.4, 75.0, 2350.0]),\n",
       " DenseVector([32.9, 100.0, 2615.0]),\n",
       " DenseVector([31.6, 74.0, 2635.0]),\n",
       " DenseVector([28.1, 80.0, 3230.0]),\n",
       " DenseVector([30.7, 76.0, 3160.0]),\n",
       " DenseVector([25.4, 116.0, 2900.0]),\n",
       " DenseVector([24.2, 120.0, 2930.0]),\n",
       " DenseVector([22.4, 110.0, 3415.0]),\n",
       " DenseVector([26.6, 105.0, 3725.0]),\n",
       " DenseVector([20.2, 88.0, 3060.0]),\n",
       " DenseVector([17.6, 85.0, 3465.0]),\n",
       " DenseVector([28.0, 88.0, 2605.0]),\n",
       " DenseVector([27.0, 88.0, 2640.0]),\n",
       " DenseVector([34.0, 88.0, 2395.0]),\n",
       " DenseVector([31.0, 85.0, 2575.0]),\n",
       " DenseVector([29.0, 84.0, 2525.0]),\n",
       " DenseVector([27.0, 90.0, 2735.0]),\n",
       " DenseVector([24.0, 92.0, 2865.0]),\n",
       " DenseVector([36.0, 74.0, 1980.0]),\n",
       " DenseVector([37.0, 68.0, 2025.0]),\n",
       " DenseVector([31.0, 68.0, 1970.0]),\n",
       " DenseVector([38.0, 63.0, 2125.0]),\n",
       " DenseVector([36.0, 70.0, 2125.0]),\n",
       " DenseVector([36.0, 88.0, 2160.0]),\n",
       " DenseVector([36.0, 75.0, 2205.0]),\n",
       " DenseVector([34.0, 70.0, 2245.0]),\n",
       " DenseVector([38.0, 67.0, 1965.0]),\n",
       " DenseVector([32.0, 67.0, 1965.0]),\n",
       " DenseVector([38.0, 67.0, 1995.0]),\n",
       " DenseVector([25.0, 110.0, 2945.0]),\n",
       " DenseVector([38.0, 85.0, 3015.0]),\n",
       " DenseVector([26.0, 92.0, 2585.0]),\n",
       " DenseVector([22.0, 112.0, 2835.0]),\n",
       " DenseVector([32.0, 96.0, 2665.0]),\n",
       " DenseVector([36.0, 84.0, 2370.0]),\n",
       " DenseVector([27.0, 90.0, 2950.0]),\n",
       " DenseVector([27.0, 86.0, 2790.0]),\n",
       " DenseVector([44.0, 52.0, 2130.0]),\n",
       " DenseVector([32.0, 84.0, 2295.0]),\n",
       " DenseVector([28.0, 79.0, 2625.0]),\n",
       " DenseVector([31.0, 82.0, 2720.0])]"
      ]
     },
     "execution_count": 47,
     "metadata": {},
     "output_type": "execute_result"
    }
   ],
   "source": [
    "data.collect()"
   ]
  },
  {
   "cell_type": "code",
   "execution_count": 48,
   "metadata": {},
   "outputs": [],
   "source": [
    "# train a MLlib LinearRegression using stochastic gradient descent as the solver\n",
    "spark_model = LinearRegressionWithSGD.train(parsedData)"
   ]
  },
  {
   "cell_type": "code",
   "execution_count": null,
   "metadata": {},
   "outputs": [],
   "source": []
  },
  {
   "cell_type": "code",
   "execution_count": 60,
   "metadata": {},
   "outputs": [],
   "source": [
    "# put results into correct form for metrics object\n",
    "valuesAndPreds = parsedData.map(lambda p: (float(spark_model.predict(p.features)), p.label))"
   ]
  },
  {
   "cell_type": "code",
   "execution_count": 61,
   "metadata": {},
   "outputs": [
    {
     "name": "stdout",
     "output_type": "stream",
     "text": [
      "R-squared = nan\n"
     ]
    }
   ],
   "source": [
    "metrics = RegressionMetrics(valuesAndPreds)\n",
    "print(\"R-squared = %1.3f\" % metrics.r2)"
   ]
  },
  {
   "cell_type": "markdown",
   "metadata": {},
   "source": [
    "Uh-oh, what happened? It turns out that the Spark MLlib optimization algorithm (stochastic gradient descent) does not have great convergence properties. The optimization does not converge and so we get an incorrect solution."
   ]
  },
  {
   "cell_type": "markdown",
   "metadata": {},
   "source": [
    "### Scaled input data\n",
    "\n",
    "One work around is to scale the input data before the optimization is performed. In this case, scaling the input data means subtracting the mean of each column from the values in that column, and then dividing each value by the standard deviation of the column. In mathematical form:\n",
    "\n",
    "$$X_{scaled}=\\frac{X-\\bar{X}}{\\sigma}$$"
   ]
  },
  {
   "cell_type": "code",
   "execution_count": 52,
   "metadata": {},
   "outputs": [],
   "source": [
    "# scale the data to zero mean and unit variance\n",
    "scaler = StandardScaler(True, True)\n",
    "scaler_model = scaler.fit(data) # computes and stores the mean and variance of each column\n",
    "parsedData_scaled = scaler_model.transform(data) # returns scaled data"
   ]
  },
  {
   "cell_type": "code",
   "execution_count": 53,
   "metadata": {},
   "outputs": [],
   "source": [
    "parsedData_scaled_transformed = parsedData_scaled.map(lambda x: LabeledPoint(x[0], DenseVector(x[1:])))"
   ]
  },
  {
   "cell_type": "code",
   "execution_count": 54,
   "metadata": {},
   "outputs": [],
   "source": [
    "spark_model_scaled = LinearRegressionWithSGD.train(parsedData_scaled_transformed)"
   ]
  },
  {
   "cell_type": "code",
   "execution_count": 55,
   "metadata": {},
   "outputs": [],
   "source": [
    "# put results into correct form for metrics object\n",
    "valuesAndPreds = parsedData_scaled_transformed.map(lambda p: (float(spark_model_scaled.predict(p.features)), p.label))\n",
    "metrics = RegressionMetrics(valuesAndPreds)"
   ]
  },
  {
   "cell_type": "code",
   "execution_count": 57,
   "metadata": {
    "scrolled": true
   },
   "outputs": [
    {
     "name": "stdout",
     "output_type": "stream",
     "text": [
      "R-squared = 0.70604\n"
     ]
    }
   ],
   "source": [
    "print(\"R-squared = %1.5f\" % metrics.r2)"
   ]
  },
  {
   "cell_type": "markdown",
   "metadata": {},
   "source": [
    "## Summary"
   ]
  },
  {
   "cell_type": "code",
   "execution_count": 59,
   "metadata": {},
   "outputs": [
    {
     "name": "stdout",
     "output_type": "stream",
     "text": [
      "numpy R-Squared: 0.70638\n",
      "sci-kit R-Squared: 0.70638\n",
      "mllib R-Squared: 0.70604\n"
     ]
    }
   ],
   "source": [
    "r_squared = {'numpy': r2_score(y, yhat_numpy), \n",
    "             'sci-kit': clf.score(X, y), \n",
    "             #'R fit': rsq_R,\n",
    "             #'R solve': rsq_R_mat,\n",
    "             'mllib': metrics.r2}\n",
    "for method in r_squared:\n",
    "    print(\"%s R-Squared: %1.5f\" % (method, r_squared[method]))"
   ]
  },
  {
   "cell_type": "code",
   "execution_count": null,
   "metadata": {
    "collapsed": true
   },
   "outputs": [],
   "source": []
  },
  {
   "cell_type": "code",
   "execution_count": null,
   "metadata": {
    "collapsed": true
   },
   "outputs": [],
   "source": []
  }
 ],
 "metadata": {
  "anaconda-cloud": {},
  "kernelspec": {
   "display_name": "Python 3.6 with Spark",
   "language": "python3",
   "name": "python36"
  },
  "language_info": {
   "codemirror_mode": {
    "name": "ipython",
    "version": 3
   },
   "file_extension": ".py",
   "mimetype": "text/x-python",
   "name": "python",
   "nbconvert_exporter": "python",
   "pygments_lexer": "ipython3",
   "version": "3.6.8"
  }
 },
 "nbformat": 4,
 "nbformat_minor": 1
}
