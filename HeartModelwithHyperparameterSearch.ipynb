{
 "cells": [
  {
   "cell_type": "markdown",
   "metadata": {
    "collapsed": true
   },
   "source": [
    "<center><h1> Predict heart failure with Watson Machine Learning</h1></center>\n",
    "![alt text](https://www.cdc.gov/dhdsp/images/heart_failure.jpg \"Heart failure\")\n",
    "<p>This notebook contains steps and code to create a predictive model to predict heart failure and then deploy that model to Watson Machine Learning so it can be used in an application.</p>\n",
    "## Learning Goals\n",
    "The learning goals of this notebook are:\n",
    "* Load a CSV file into the  Object Storage Service linked to your Data Science Experience \n",
    "* Create an Apache® Spark machine learning model\n",
    "* Train and evaluate a model\n",
    "* Persist a model in a Watson Machine Learning repository\n",
    "\n",
    "## 1. Setup\n",
    "\n",
    "Before you use the sample code in this notebook, you must perform the following setup tasks:\n",
    "* Create a Watson Machine Learning Service instance (a free plan is offered) and associate it with your project\n",
    "* Upload heart failure  data to the Object Store service that is part of your data Science Experience trial\n"
   ]
  },
  {
   "cell_type": "code",
   "execution_count": 3,
   "metadata": {},
   "outputs": [
    {
     "name": "stdout",
     "output_type": "stream",
     "text": [
      "Collecting ibmos2spark\n",
      "  Downloading https://files.pythonhosted.org/packages/c6/81/1edb24382edef1ca636e87972b2da286b8271a586c728a21f916d3cd76cd/ibmos2spark-1.0.1-py2.py3-none-any.whl\n",
      "Installing collected packages: ibmos2spark\n",
      "Successfully installed ibmos2spark-1.0.1\n"
     ]
    }
   ],
   "source": [
    "!pip install ibmos2spark"
   ]
  },
  {
   "cell_type": "markdown",
   "metadata": {},
   "source": [
    "## 2. Load and explore data\n",
    "<p>In this section you will load the data as an Apache® Spark DataFrame and perform a basic exploration.</p>\n",
    "\n",
    "<p>Load the data to the Spark DataFrame from your associated Object Storage instance.</p>"
   ]
  },
  {
   "cell_type": "code",
   "execution_count": 2,
   "metadata": {},
   "outputs": [
    {
     "data": {
      "text/plain": [
       "[Row(AVGHEARTBEATSPERMIN=93, PALPITATIONSPERDAY=22, CHOLESTEROL=163, BMI=25, HEARTFAILURE='N', AGE=49, SEX='F', FAMILYHISTORY='N', SMOKERLAST5YRS='N', EXERCISEMINPERWEEK=110),\n",
       " Row(AVGHEARTBEATSPERMIN=108, PALPITATIONSPERDAY=22, CHOLESTEROL=181, BMI=24, HEARTFAILURE='N', AGE=32, SEX='F', FAMILYHISTORY='N', SMOKERLAST5YRS='N', EXERCISEMINPERWEEK=192),\n",
       " Row(AVGHEARTBEATSPERMIN=86, PALPITATIONSPERDAY=0, CHOLESTEROL=239, BMI=20, HEARTFAILURE='N', AGE=60, SEX='F', FAMILYHISTORY='N', SMOKERLAST5YRS='N', EXERCISEMINPERWEEK=121),\n",
       " Row(AVGHEARTBEATSPERMIN=80, PALPITATIONSPERDAY=36, CHOLESTEROL=164, BMI=31, HEARTFAILURE='Y', AGE=45, SEX='F', FAMILYHISTORY='Y', SMOKERLAST5YRS='N', EXERCISEMINPERWEEK=141),\n",
       " Row(AVGHEARTBEATSPERMIN=66, PALPITATIONSPERDAY=36, CHOLESTEROL=185, BMI=23, HEARTFAILURE='N', AGE=39, SEX='F', FAMILYHISTORY='N', SMOKERLAST5YRS='N', EXERCISEMINPERWEEK=63)]"
      ]
     },
     "execution_count": 2,
     "metadata": {},
     "output_type": "execute_result"
    }
   ],
   "source": [
    "import ibmos2spark\n",
    "\n",
    "# @hidden_cell\n",
    "credentials = {\n",
    "    'endpoint': 'get your endpoint',\n",
    "    'api_key': 'get your api key',\n",
    "    'service_id': 'get your service id',\n",
    "    'iam_service_endpoint': 'get your iam_service_endpoint'}\n",
    "\n",
    "configuration_name = 'get your configuration_name'\n",
    "cos = ibmos2spark.CloudObjectStorage(sc, credentials, configuration_name, 'bluemix_cos')\n",
    "\n",
    "from pyspark.sql import SparkSession\n",
    "spark = SparkSession.builder.getOrCreate()\n",
    "df_data = spark.read\\\n",
    "  .format('org.apache.spark.sql.execution.datasources.csv.CSVFileFormat')\\\n",
    "  .option('header', 'true')\\\n",
    "  .option('inferSchema', 'true')\\\n",
    "  .load(cos.url('patientdataV6.csv', 'heartmodel-donotdelete-pr-aiitgp2ifpc0i2'))\n",
    "df_data.take(5)\n"
   ]
  },
  {
   "cell_type": "markdown",
   "metadata": {},
   "source": [
    "Explore the loaded data by using the following Apache® Spark DataFrame methods:\n",
    "* print schema\n",
    "* print top ten records\n",
    "* count all records"
   ]
  },
  {
   "cell_type": "code",
   "execution_count": 3,
   "metadata": {},
   "outputs": [
    {
     "name": "stdout",
     "output_type": "stream",
     "text": [
      "root\n",
      " |-- AVGHEARTBEATSPERMIN: integer (nullable = true)\n",
      " |-- PALPITATIONSPERDAY: integer (nullable = true)\n",
      " |-- CHOLESTEROL: integer (nullable = true)\n",
      " |-- BMI: integer (nullable = true)\n",
      " |-- HEARTFAILURE: string (nullable = true)\n",
      " |-- AGE: integer (nullable = true)\n",
      " |-- SEX: string (nullable = true)\n",
      " |-- FAMILYHISTORY: string (nullable = true)\n",
      " |-- SMOKERLAST5YRS: string (nullable = true)\n",
      " |-- EXERCISEMINPERWEEK: integer (nullable = true)\n",
      "\n"
     ]
    }
   ],
   "source": [
    "df_data.printSchema()"
   ]
  },
  {
   "cell_type": "markdown",
   "metadata": {},
   "source": [
    "As you can see, the data contains ten  fields. The  HEARTFAILURE field is the one we would like to predict (label)."
   ]
  },
  {
   "cell_type": "code",
   "execution_count": 4,
   "metadata": {},
   "outputs": [
    {
     "name": "stdout",
     "output_type": "stream",
     "text": [
      "+-------------------+------------------+-----------+---+------------+---+---+-------------+--------------+------------------+\n",
      "|AVGHEARTBEATSPERMIN|PALPITATIONSPERDAY|CHOLESTEROL|BMI|HEARTFAILURE|AGE|SEX|FAMILYHISTORY|SMOKERLAST5YRS|EXERCISEMINPERWEEK|\n",
      "+-------------------+------------------+-----------+---+------------+---+---+-------------+--------------+------------------+\n",
      "|                 93|                22|        163| 25|           N| 49|  F|            N|             N|               110|\n",
      "|                108|                22|        181| 24|           N| 32|  F|            N|             N|               192|\n",
      "|                 86|                 0|        239| 20|           N| 60|  F|            N|             N|               121|\n",
      "|                 80|                36|        164| 31|           Y| 45|  F|            Y|             N|               141|\n",
      "|                 66|                36|        185| 23|           N| 39|  F|            N|             N|                63|\n",
      "|                125|                27|        201| 31|           N| 47|  M|            N|             N|                13|\n",
      "|                 83|                27|        169| 20|           N| 71|  F|            Y|             N|               124|\n",
      "|                107|                31|        199| 32|           N| 55|  F|            N|             N|                22|\n",
      "|                 92|                28|        174| 22|           N| 44|  F|            N|             N|               107|\n",
      "|                 84|                12|        206| 25|           N| 50|  M|            N|             N|               199|\n",
      "|                 60|                 1|        194| 28|           N| 71|  M|            N|             N|                27|\n",
      "|                134|                 7|        228| 34|           Y| 63|  F|            Y|             N|                92|\n",
      "|                103|                 0|        237| 24|           N| 64|  F|            Y|             N|                34|\n",
      "|                101|                39|        157| 20|           N| 49|  M|            N|             N|                33|\n",
      "|                 92|                 2|        169| 26|           N| 36|  M|            N|             N|               217|\n",
      "|                 80|                27|        234| 27|           N| 50|  M|            N|             N|                28|\n",
      "|                 82|                14|        155| 30|           N| 70|  F|            N|             N|               207|\n",
      "|                 63|                 9|        204| 26|           N| 42|  M|            N|             N|                88|\n",
      "|                 83|                12|        209| 29|           N| 38|  M|            Y|             N|               220|\n",
      "|                 80|                37|        157| 20|           N| 48|  M|            N|             N|                54|\n",
      "+-------------------+------------------+-----------+---+------------+---+---+-------------+--------------+------------------+\n",
      "only showing top 20 rows\n",
      "\n"
     ]
    }
   ],
   "source": [
    "df_data.show()"
   ]
  },
  {
   "cell_type": "code",
   "execution_count": 5,
   "metadata": {},
   "outputs": [
    {
     "name": "stdout",
     "output_type": "stream",
     "text": [
      "+-------+-------------------+------------------+------------------+------------------+------------+------------------+-----+-------------+--------------+------------------+\n",
      "|summary|AVGHEARTBEATSPERMIN|PALPITATIONSPERDAY|       CHOLESTEROL|               BMI|HEARTFAILURE|               AGE|  SEX|FAMILYHISTORY|SMOKERLAST5YRS|EXERCISEMINPERWEEK|\n",
      "+-------+-------------------+------------------+------------------+------------------+------------+------------------+-----+-------------+--------------+------------------+\n",
      "|  count|              10800|             10800|             10800|             10800|       10800|             10800|10800|        10800|         10800|             10800|\n",
      "|   mean|  87.11509259259259|20.423148148148147|195.08027777777778| 26.35972222222222|        null|49.965185185185184| null|         null|          null|119.72953703703703|\n",
      "| stddev| 19.744375148984474|12.165320351622993|26.136731865042325|3.8201472810942136|        null|13.079280962015586| null|         null|          null| 71.14706006382843|\n",
      "|    min|                 48|                 0|               150|                20|           N|                28|    F|            N|             N|                 0|\n",
      "|    max|                161|                45|               245|                34|           Y|                72|    M|            Y|             Y|               250|\n",
      "+-------+-------------------+------------------+------------------+------------------+------------+------------------+-----+-------------+--------------+------------------+\n",
      "\n"
     ]
    }
   ],
   "source": [
    "df_data.describe().show()"
   ]
  },
  {
   "cell_type": "code",
   "execution_count": 6,
   "metadata": {},
   "outputs": [
    {
     "data": {
      "text/plain": [
       "10800"
      ]
     },
     "execution_count": 6,
     "metadata": {},
     "output_type": "execute_result"
    }
   ],
   "source": [
    "df_data.count()"
   ]
  },
  {
   "cell_type": "markdown",
   "metadata": {},
   "source": [
    "As you can see, the data set contains 10800 records."
   ]
  },
  {
   "cell_type": "markdown",
   "metadata": {},
   "source": [
    "## 3. Interactive Visualizations w/PixieDust"
   ]
  },
  {
   "cell_type": "code",
   "execution_count": 7,
   "metadata": {},
   "outputs": [
    {
     "name": "stdout",
     "output_type": "stream",
     "text": [
      "Collecting pixiedust==1.1.2\n",
      "\u001b[?25l  Downloading https://files.pythonhosted.org/packages/ac/13/0d7ae5d69b6faa70f0439a93e52cffafb1c2e1e767bd5ea8c39e9bd1cf96/pixiedust-1.1.2.tar.gz (150kB)\n",
      "\u001b[K    100% |################################| 153kB 1.2MB/s eta 0:00:01\n",
      "\u001b[?25hCollecting mpld3 (from pixiedust==1.1.2)\n",
      "\u001b[?25l  Downloading https://files.pythonhosted.org/packages/91/95/a52d3a83d0a29ba0d6898f6727e9858fe7a43f6c2ce81a5fe7e05f0f4912/mpld3-0.3.tar.gz (788kB)\n",
      "\u001b[K    100% |################################| 798kB 1.5MB/s ta 0:00:011\n",
      "\u001b[?25hCollecting lxml (from pixiedust==1.1.2)\n",
      "\u001b[?25l  Downloading https://files.pythonhosted.org/packages/ec/be/5ab8abdd8663c0386ec2dd595a5bc0e23330a0549b8a91e32f38c20845b6/lxml-4.4.1-cp36-cp36m-manylinux1_x86_64.whl (5.8MB)\n",
      "\u001b[K    100% |################################| 5.8MB 1.2MB/s eta 0:00:01\n",
      "\u001b[?25hCollecting geojson (from pixiedust==1.1.2)\n",
      "  Downloading https://files.pythonhosted.org/packages/e4/8d/9e28e9af95739e6d2d2f8d4bef0b3432da40b7c3588fbad4298c1be09e48/geojson-2.5.0-py2.py3-none-any.whl\n",
      "Building wheels for collected packages: pixiedust, mpld3\n",
      "  Building wheel for pixiedust (setup.py) ... \u001b[?25ldone\n",
      "\u001b[?25h  Stored in directory: /home/spark/shared/.cache/pip/wheels/37/e4/e7/7d45c1323f62f317f2a02d3c9c2c2a74ac3953993a75b05866\n",
      "  Building wheel for mpld3 (setup.py) ... \u001b[?25ldone\n",
      "\u001b[?25h  Stored in directory: /home/spark/shared/.cache/pip/wheels/c0/47/fb/8a64f89aecfe0059830479308ad42d62e898a3e3cefdf6ba28\n",
      "Successfully built pixiedust mpld3\n",
      "Installing collected packages: mpld3, lxml, geojson, pixiedust\n",
      "\u001b[31mException:\n",
      "Traceback (most recent call last):\n",
      "  File \"/opt/ibm/conda/miniconda3.6/lib/python3.6/site-packages/pip/_internal/cli/base_command.py\", line 176, in main\n",
      "    status = self.run(options, args)\n",
      "  File \"/opt/ibm/conda/miniconda3.6/lib/python3.6/site-packages/pip/_internal/commands/install.py\", line 393, in run\n",
      "    use_user_site=options.use_user_site,\n",
      "  File \"/opt/ibm/conda/miniconda3.6/lib/python3.6/site-packages/pip/_internal/req/__init__.py\", line 57, in install_given_reqs\n",
      "    **kwargs\n",
      "  File \"/opt/ibm/conda/miniconda3.6/lib/python3.6/site-packages/pip/_internal/req/req_install.py\", line 919, in install\n",
      "    use_user_site=use_user_site, pycompile=pycompile,\n",
      "  File \"/opt/ibm/conda/miniconda3.6/lib/python3.6/site-packages/pip/_internal/req/req_install.py\", line 445, in move_wheel_files\n",
      "    warn_script_location=warn_script_location,\n",
      "  File \"/opt/ibm/conda/miniconda3.6/lib/python3.6/site-packages/pip/_internal/wheel.py\", line 280, in move_wheel_files\n",
      "    prefix=prefix,\n",
      "  File \"/opt/ibm/conda/miniconda3.6/lib/python3.6/site-packages/pip/_internal/locations.py\", line 180, in distutils_scheme\n",
      "    i.finalize_options()\n",
      "  File \"/home/spark/conda/envs/python3.6/lib/python3.6/distutils/command/install.py\", line 252, in finalize_options\n",
      "    raise DistutilsOptionError(\"can't combine user with prefix, \"\n",
      "distutils.errors.DistutilsOptionError: can't combine user with prefix, exec_prefix/home, or install_(plat)base\u001b[0m\n"
     ]
    }
   ],
   "source": [
    "# To confirm you have the latest version of PixieDust on your system, run this cell\n",
    "!pip install --user pixiedust==1.1.2"
   ]
  },
  {
   "cell_type": "markdown",
   "metadata": {},
   "source": [
    "If indicated by the installer, restart the kernel and rerun the notebook until here and continue with the workshop."
   ]
  },
  {
   "cell_type": "code",
   "execution_count": 8,
   "metadata": {},
   "outputs": [
    {
     "name": "stdout",
     "output_type": "stream",
     "text": [
      "Pixiedust database opened successfully\n",
      "Table VERSION_TRACKER created successfully\n",
      "Table METRICS_TRACKER created successfully\n",
      "\n",
      "Share anonymous install statistics? (opt-out instructions)\n",
      "\n",
      "PixieDust will record metadata on its environment the next time the package is installed or updated. The data is anonymized and aggregated to help plan for future releases, and records only the following values:\n",
      "\n",
      "{\n",
      "   \"data_sent\": currentDate,\n",
      "   \"runtime\": \"python\",\n",
      "   \"application_version\": currentPixiedustVersion,\n",
      "   \"space_id\": nonIdentifyingUniqueId,\n",
      "   \"config\": {\n",
      "       \"repository_id\": \"https://github.com/ibm-watson-data-lab/pixiedust\",\n",
      "       \"target_runtimes\": [\"Data Science Experience\"],\n",
      "       \"event_id\": \"web\",\n",
      "       \"event_organizer\": \"dev-journeys\"\n",
      "   }\n",
      "}\n",
      "You can opt out by calling pixiedust.optOut() in a new cell.\n"
     ]
    },
    {
     "data": {
      "text/html": [
       "\n",
       "        <div style=\"margin:10px\">\n",
       "            <a href=\"https://github.com/ibm-watson-data-lab/pixiedust\" target=\"_new\">\n",
       "                <img src=\"https://github.com/ibm-watson-data-lab/pixiedust/raw/master/docs/_static/pd_icon32.png\" style=\"float:left;margin-right:10px\"/>\n",
       "            </a>\n",
       "            <span>Pixiedust version 1.1.16</span>\n",
       "        </div>\n",
       "        "
      ],
      "text/plain": [
       "<IPython.core.display.HTML object>"
      ]
     },
     "metadata": {},
     "output_type": "display_data"
    },
    {
     "name": "stdout",
     "output_type": "stream",
     "text": [
      "\u001b[31mPixiedust runtime updated. Please restart kernel\u001b[0m\n",
      "Table SPARK_PACKAGES created successfully\n",
      "Table USER_PREFERENCES created successfully\n",
      "Table service_connections created successfully\n"
     ]
    },
    {
     "data": {
      "text/html": [
       "<div>Warning: You are not running the latest version of PixieDust. Current is 1.1.16, Latest is 1.1.17</div>"
      ],
      "text/plain": [
       "<IPython.core.display.HTML object>"
      ]
     },
     "metadata": {},
     "output_type": "display_data"
    },
    {
     "data": {
      "text/html": [
       "\n",
       "                <div>Please copy and run the following command in a new cell to upgrade: <span style=\"background-color:#ececec;font-family:monospace;padding:0 5px\">!pip install --user --upgrade pixiedust</span></div>\n",
       "            "
      ],
      "text/plain": [
       "<IPython.core.display.HTML object>"
      ]
     },
     "metadata": {},
     "output_type": "display_data"
    },
    {
     "data": {
      "text/html": [
       "<div>Please restart kernel after upgrading.</div>"
      ],
      "text/plain": [
       "<IPython.core.display.HTML object>"
      ]
     },
     "metadata": {},
     "output_type": "display_data"
    }
   ],
   "source": [
    "import pixiedust"
   ]
  },
  {
   "cell_type": "markdown",
   "metadata": {},
   "source": [
    "### Simple visualization using bar charts\n",
    "With PixieDust display(), you can visually explore the loaded data using built-in charts, such as, bar charts, line charts, scatter plots, or maps.\n",
    "To explore a data set: choose the desired chart type from the drop down, configure chart options, configure display options."
   ]
  },
  {
   "cell_type": "code",
   "execution_count": 9,
   "metadata": {
    "pixiedust": {
     "displayParams": {
      "aggregation": "SUM",
      "handlerId": "barChart",
      "keyFields": "AGE",
      "rendererId": "seaborn",
      "rowCount": "500",
      "valueFields": "BMI"
     }
    },
    "scrolled": true
   },
   "outputs": [
    {
     "data": {
      "text/html": [
       "<style type=\"text/css\">.pd_warning{display:none;}</style><div class=\"pd_warning\"><em>Hey, there's something awesome here! To see it, open this notebook outside GitHub, in a viewer like Jupyter</em></div>\n",
       "        <div class=\"pd_save is-viewer-good\" style=\"padding-right:10px;text-align: center;line-height:initial !important;font-size: xx-large;font-weight: 500;color: coral;\">\n",
       "            \n",
       "        </div>\n",
       "    <div id=\"chartFigure0fc13d79\" class=\"pd_save is-viewer-good\" style=\"overflow-x:auto\">\n",
       "            \n",
       "                    \n",
       "                            <center><img style=\"max-width:initial !important\" src=\"data:image/png;base64,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\" class=\"pd_save\"></center>\n",
       "                        \n",
       "                    \n",
       "                \n",
       "        </div>"
      ],
      "text/plain": [
       "<IPython.core.display.HTML object>"
      ]
     },
     "metadata": {},
     "output_type": "display_data"
    }
   ],
   "source": [
    "display(df_data)"
   ]
  },
  {
   "cell_type": "markdown",
   "metadata": {},
   "source": [
    "## 4. Create an Apache® Spark machine learning model\n",
    "In this section you will learn how to prepare data, create and train an Apache® Spark machine learning model.\n",
    "\n",
    "### 4.1. Prepare data\n",
    "In this subsection you will split your data into: train and  test  data sets."
   ]
  },
  {
   "cell_type": "code",
   "execution_count": 10,
   "metadata": {},
   "outputs": [
    {
     "name": "stdout",
     "output_type": "stream",
     "text": [
      "Number of training records: 8637\n",
      "Number of testing records : 2163\n"
     ]
    }
   ],
   "source": [
    "split_data = df_data.randomSplit([0.8, 0.20], 24)\n",
    "train_data = split_data[0]\n",
    "test_data = split_data[1]\n",
    "\n",
    "print(\"Number of training records: \" + str(train_data.count()))\n",
    "print(\"Number of testing records : \" + str(test_data.count()))"
   ]
  },
  {
   "cell_type": "markdown",
   "metadata": {},
   "source": [
    "As you can see our data has been successfully split into two data sets:\n",
    "* The train data set, which is the largest group, is used for training.\n",
    "* The test data set will be used for model evaluation and is used to test the assumptions of the model.\n",
    "\n",
    "### 4.2. Create pipeline and train a model\n",
    "In this section you will create an Apache® Spark machine learning pipeline and then train the model.\n",
    "In the first step you need to import the Apache® Spark machine learning packages that will be needed in the subsequent steps.\n",
    "\n",
    "A sequence of data processing is called a _data pipeline_.  Each step in the pipeline processes the data and passes the result to the next step in the pipeline, this allows you to transform and fit your model with the raw input data."
   ]
  },
  {
   "cell_type": "code",
   "execution_count": 11,
   "metadata": {},
   "outputs": [],
   "source": [
    "from pyspark.ml.feature import StringIndexer, IndexToString, VectorAssembler\n",
    "from pyspark.ml.classification import RandomForestClassifier, LogisticRegression, NaiveBayes\n",
    "from pyspark.ml.evaluation import MulticlassClassificationEvaluator\n",
    "from pyspark.ml import Pipeline, Model"
   ]
  },
  {
   "cell_type": "markdown",
   "metadata": {},
   "source": [
    "In the following step, convert all the string fields to numeric ones by using the StringIndexer transformer."
   ]
  },
  {
   "cell_type": "code",
   "execution_count": 12,
   "metadata": {},
   "outputs": [],
   "source": [
    "stringIndexer_label = StringIndexer(inputCol=\"HEARTFAILURE\", outputCol=\"label\").fit(df_data)\n",
    "stringIndexer_sex = StringIndexer(inputCol=\"SEX\", outputCol=\"SEX_IX\")\n",
    "stringIndexer_famhist = StringIndexer(inputCol=\"FAMILYHISTORY\", outputCol=\"FAMILYHISTORY_IX\")\n",
    "stringIndexer_smoker = StringIndexer(inputCol=\"SMOKERLAST5YRS\", outputCol=\"SMOKERLAST5YRS_IX\")"
   ]
  },
  {
   "cell_type": "markdown",
   "metadata": {},
   "source": [
    "Next, define estimators you want to use for classification. We will compare performance of Random Forest, Logistic Regression, and Naive Bayes in the following example."
   ]
  },
  {
   "cell_type": "code",
   "execution_count": 13,
   "metadata": {},
   "outputs": [],
   "source": [
    "rf = RandomForestClassifier(labelCol=\"label\", featuresCol=\"features\")\n",
    "lr = LogisticRegression()\n",
    "nb = NaiveBayes(smoothing=1.0)"
   ]
  },
  {
   "cell_type": "markdown",
   "metadata": {},
   "source": [
    "Finally, indexed labels back to original labels."
   ]
  },
  {
   "cell_type": "code",
   "execution_count": 14,
   "metadata": {},
   "outputs": [],
   "source": [
    "labelConverter = IndexToString(inputCol=\"prediction\", outputCol=\"predictedLabel\", labels=stringIndexer_label.labels)"
   ]
  },
  {
   "cell_type": "code",
   "execution_count": 15,
   "metadata": {},
   "outputs": [
    {
     "name": "stdout",
     "output_type": "stream",
     "text": [
      "+-------------------+------------------+-----------+---+------------+---+---+-------------+--------------+------------------+-----+------+----------------+-----------------+--------------------+\n",
      "|AVGHEARTBEATSPERMIN|PALPITATIONSPERDAY|CHOLESTEROL|BMI|HEARTFAILURE|AGE|SEX|FAMILYHISTORY|SMOKERLAST5YRS|EXERCISEMINPERWEEK|label|SEX_IX|FAMILYHISTORY_IX|SMOKERLAST5YRS_IX|            features|\n",
      "+-------------------+------------------+-----------+---+------------+---+---+-------------+--------------+------------------+-----+------+----------------+-----------------+--------------------+\n",
      "|                 93|                22|        163| 25|           N| 49|  F|            N|             N|               110|  0.0|   1.0|             0.0|              0.0|[93.0,22.0,163.0,...|\n",
      "|                108|                22|        181| 24|           N| 32|  F|            N|             N|               192|  0.0|   1.0|             0.0|              0.0|[108.0,22.0,181.0...|\n",
      "|                 86|                 0|        239| 20|           N| 60|  F|            N|             N|               121|  0.0|   1.0|             0.0|              0.0|[86.0,0.0,239.0,2...|\n",
      "|                 80|                36|        164| 31|           Y| 45|  F|            Y|             N|               141|  1.0|   1.0|             1.0|              0.0|[80.0,36.0,164.0,...|\n",
      "|                 66|                36|        185| 23|           N| 39|  F|            N|             N|                63|  0.0|   1.0|             0.0|              0.0|[66.0,36.0,185.0,...|\n",
      "|                125|                27|        201| 31|           N| 47|  M|            N|             N|                13|  0.0|   0.0|             0.0|              0.0|[125.0,27.0,201.0...|\n",
      "|                 83|                27|        169| 20|           N| 71|  F|            Y|             N|               124|  0.0|   1.0|             1.0|              0.0|[83.0,27.0,169.0,...|\n",
      "|                107|                31|        199| 32|           N| 55|  F|            N|             N|                22|  0.0|   1.0|             0.0|              0.0|[107.0,31.0,199.0...|\n",
      "|                 92|                28|        174| 22|           N| 44|  F|            N|             N|               107|  0.0|   1.0|             0.0|              0.0|[92.0,28.0,174.0,...|\n",
      "|                 84|                12|        206| 25|           N| 50|  M|            N|             N|               199|  0.0|   0.0|             0.0|              0.0|[84.0,12.0,206.0,...|\n",
      "|                 60|                 1|        194| 28|           N| 71|  M|            N|             N|                27|  0.0|   0.0|             0.0|              0.0|[60.0,1.0,194.0,2...|\n",
      "|                134|                 7|        228| 34|           Y| 63|  F|            Y|             N|                92|  1.0|   1.0|             1.0|              0.0|[134.0,7.0,228.0,...|\n",
      "|                103|                 0|        237| 24|           N| 64|  F|            Y|             N|                34|  0.0|   1.0|             1.0|              0.0|[103.0,0.0,237.0,...|\n",
      "|                101|                39|        157| 20|           N| 49|  M|            N|             N|                33|  0.0|   0.0|             0.0|              0.0|[101.0,39.0,157.0...|\n",
      "|                 92|                 2|        169| 26|           N| 36|  M|            N|             N|               217|  0.0|   0.0|             0.0|              0.0|[92.0,2.0,169.0,2...|\n",
      "|                 80|                27|        234| 27|           N| 50|  M|            N|             N|                28|  0.0|   0.0|             0.0|              0.0|[80.0,27.0,234.0,...|\n",
      "|                 82|                14|        155| 30|           N| 70|  F|            N|             N|               207|  0.0|   1.0|             0.0|              0.0|[82.0,14.0,155.0,...|\n",
      "|                 63|                 9|        204| 26|           N| 42|  M|            N|             N|                88|  0.0|   0.0|             0.0|              0.0|[63.0,9.0,204.0,2...|\n",
      "|                 83|                12|        209| 29|           N| 38|  M|            Y|             N|               220|  0.0|   0.0|             1.0|              0.0|[83.0,12.0,209.0,...|\n",
      "|                 80|                37|        157| 20|           N| 48|  M|            N|             N|                54|  0.0|   0.0|             0.0|              0.0|[80.0,37.0,157.0,...|\n",
      "+-------------------+------------------+-----------+---+------------+---+---+-------------+--------------+------------------+-----+------+----------------+-----------------+--------------------+\n",
      "only showing top 20 rows\n",
      "\n"
     ]
    }
   ],
   "source": [
    "vectorAssembler_features =  VectorAssembler(inputCols= [\"AVGHEARTBEATSPERMIN\",\"PALPITATIONSPERDAY\", \n",
    "                                \"CHOLESTEROL\",\"BMI\",\"AGE\",\"SEX_IX\",\"FAMILYHISTORY_IX\",\n",
    "                                \"SMOKERLAST5YRS_IX\",\"EXERCISEMINPERWEEK\"], outputCol=\"features\")\n",
    "                                                      \n",
    "transform_df_pipeline = Pipeline(stages=[stringIndexer_label, stringIndexer_sex, stringIndexer_famhist, stringIndexer_smoker, vectorAssembler_features])\n",
    "transformed_df = transform_df_pipeline.fit(df_data).transform(df_data)\n",
    "transformed_df.show()"
   ]
  },
  {
   "cell_type": "markdown",
   "metadata": {},
   "source": [
    "Let's build our pipelines now. A pipeline consists of transformers and an estimator."
   ]
  },
  {
   "cell_type": "code",
   "execution_count": 16,
   "metadata": {},
   "outputs": [],
   "source": [
    "pipeline1 = Pipeline(stages=[stringIndexer_label, stringIndexer_sex, \n",
    "                             stringIndexer_famhist, stringIndexer_smoker,\n",
    "                             vectorAssembler_features, rf, labelConverter])\n",
    "m1Name = \"Random Forest\"\n",
    "\n",
    "pipeline2 = Pipeline(stages=[stringIndexer_label, stringIndexer_sex,\n",
    "                            stringIndexer_famhist, stringIndexer_smoker,\n",
    "                            vectorAssembler_features, lr, labelConverter])\n",
    "m2Name = \"Logistic Regression\"\n",
    "\n",
    "pipeline3 = Pipeline(stages=[stringIndexer_label, stringIndexer_sex,\n",
    "                             stringIndexer_famhist, stringIndexer_smoker,\n",
    "                             vectorAssembler_features, nb, labelConverter])\n",
    "m3Name = \"Naive Bayes\""
   ]
  },
  {
   "cell_type": "markdown",
   "metadata": {},
   "source": [
    "Now, you can train your Random Forest model by using the previously defined **pipelines** and **training data**."
   ]
  },
  {
   "cell_type": "code",
   "execution_count": 19,
   "metadata": {},
   "outputs": [],
   "source": [
    "model1 = pipeline1.fit(train_data)\n",
    "model2 = pipeline2.fit(train_data)\n",
    "model3 = pipeline3.fit(train_data)"
   ]
  },
  {
   "cell_type": "markdown",
   "metadata": {},
   "source": [
    "Here, we write a function to extract the number of true and false positives and negatives from our dataframes."
   ]
  },
  {
   "cell_type": "code",
   "execution_count": 20,
   "metadata": {},
   "outputs": [],
   "source": [
    "from pyspark.sql.types import Row\n",
    "import numpy as np\n",
    "def getCMEntries(threshold):\n",
    "    newThresholdDF = spark.sql(\"select label, p1, prediction as oldPrediction,\"\n",
    "    \" case when p1 > \" + str(threshold) + \" then 1.0 else 0.0 end as newPrediction\"\n",
    "    \" from inputToThreshold\")\n",
    "    newThresholdDF.registerTempTable(\"newThreshold\")\n",
    "    \n",
    "    # Here is an SQL query to find true positives\n",
    "    tpA = spark.sql(\"SELECT * FROM newThreshold WHERE label = 1 AND newprediction = 1\")\n",
    "    \n",
    "    # Write an SQL query to find the number of false positives\n",
    "    ### spark.sql(\"???\")\n",
    "    fpA = spark.sql(\"SELECT * FROM newThreshold WHERE label = 0 AND newprediction = 1\")\n",
    "    \n",
    "    # Write an SQL query to find the number of false negatives\n",
    "    ### spark.sql(\"???\")\n",
    "    fnA = spark.sql(\"SELECT * FROM newThreshold WHERE label = 1 AND newprediction = 0\")\n",
    "    \n",
    "    # Write an SQL query to find the number of true negatives\n",
    "    ### spark.sql(\"???\")\n",
    "    tnA = spark.sql(\"SELECT * FROM newThreshold WHERE label = 0 AND newprediction = 0\")\n",
    "    return (tpA.count(), fpA.count(), fnA.count(), tnA.count())"
   ]
  },
  {
   "cell_type": "markdown",
   "metadata": {},
   "source": [
    "You can check your model accuracy now. To evaluate the model, use test data."
   ]
  },
  {
   "cell_type": "markdown",
   "metadata": {},
   "source": [
    "### 4.3. Compute Metrics as a Function of Threshold"
   ]
  },
  {
   "cell_type": "markdown",
   "metadata": {},
   "source": [
    "It may be the case that the default threshold of 0.5 for classification is not ideal. Let's explore this possiblity, and use some standard metrics to evaluate model fitness.\n",
    "\n",
    "$TP$,$FP$ are the number of true and false positives, $FP$,$TN$ are the number of false and true negatives.  $P$ and $N$ are the total number of ground truth positive and negatives. \n",
    "\n",
    "True Positive Rate:  $$TPR=TP/(FP + FN) = TP/P$$\n",
    "\n",
    "False Positive Rate:  $$FP/N$$\n",
    "\n",
    "Matthews Correlation Coefficient:\n",
    "$$MCC = \\frac{TP \\cdot TN - FP\\cdot FN}{[(TP+FP)\\cdot(FP+FN)\\cdot(FN+FP)\\cdot(TN+FN)]^{1/2}}$$\n",
    "\n",
    "\n",
    "The Area Under the Curve (AUC):\n",
    "$$AUC=\\int_{0}^{1}TPRd(FPR)$$\n",
    "\n",
    "where the y axis is $TPR$ and the x axis is $FPR$.  A plot of $TPR$ versus $FPR$ is known as the Receiver Operating Characteristic (ROC).\n",
    "\n",
    "Recall the trapezoid rule: \n",
    "\n",
    "$$\\int_{x_0}^{x_N}f(x)dx=\\sum_{i=0}^N(x_{i+1}-x_i)\\cdot\\frac{1}{2}\\left [ (x_{i+1}) +f(x_i) \\right ]$$\n",
    "\n",
    "where $TPR=f(x)$ and $FPR=x$.\n",
    "\n",
    "Use this formula to compute the AUC for the ROC, which is a plot of TPR (y axis) vs FPR (x axis).  The AUC is a measure of performance across all threshold values."
   ]
  },
  {
   "cell_type": "code",
   "execution_count": 22,
   "metadata": {},
   "outputs": [],
   "source": [
    "import numpy as np\n",
    "numBins = 10\n",
    "thresholds = np.array(range(0, numBins + 1))*1.0/numBins"
   ]
  },
  {
   "cell_type": "markdown",
   "metadata": {},
   "source": [
    "Here, we are writing a function to compute $TPR$, $FPR$, etc. for each threshold setting (the default is 0.5).  In many cases, a slightly different threshold can perform better.  You are asked to fill in the blanks marked with \"???\"."
   ]
  },
  {
   "cell_type": "code",
   "execution_count": 23,
   "metadata": {},
   "outputs": [],
   "source": [
    "def getModelThresholdStats(model_df, data):\n",
    "    tp = np.array([i for i in range(0, numBins + 1 )])\n",
    "    fp = np.array([i for i in range(0, numBins + 1 )])\n",
    "    fn = np.array([i for i in range(0, numBins + 1 )])\n",
    "    tn = np.array([i for i in range(0, numBins + 1 )])\n",
    "    \n",
    "    #generate dataframe to be used in thresholding:\n",
    "    predictionsForROC = model_df.transform(data)\n",
    "    predictionsForROC.registerTempTable(\"predictions\")\n",
    "    columnsForCM = spark.sql(\"select probability, prediction, label from predictions\")\n",
    "    extractedProbability = columnsForCM.rdd.map(lambda x: Row(p1 = np\n",
    "    .asscalar(x[0][1]), prediction=x[1] , label=x[2])).toDF()\n",
    "    extractedProbability.registerTempTable(\"inputToThreshold\")\n",
    "    \n",
    "    # get the total number of positives and negatives in the predictions dataset:\n",
    "    ### p = spark.sql(\"???\").count()\n",
    "    ### n = spark.sql(\"???\").count()\n",
    "    p = spark.sql(\"SELECT * from predictions WHERE label = 1\").count()\n",
    "    n = spark.sql(\"SELECT * from predictions WHERE label = 0\").count()\n",
    "                             \n",
    "    # We know the number of true positives, etc. at the threshold edges:\n",
    "    (tp[0],fp[0],fn[0],tn[0]) = (p, n, 0, 0)\n",
    "    (tp[-1],fp[-1],fn[-1],tn[-1]) = (0, 0, p, n)\n",
    "                             \n",
    "    for (i, threshold) in zip(range(0, numBins + 1),thresholds):\n",
    "        print(i, threshold)\n",
    "        if (i>0 and i<numBins):\n",
    "            (tp[i],fp[i],fn[i],tn[i]) = getCMEntries(threshold)\n",
    "        print(tp[i],fp[i],fn[i],tn[i])\n",
    "    \n",
    "    # coercing to double precision from integers\n",
    "    tp = tp*1.0; fp=fp*1.0; p=p*1.0; n=n*1.0\n",
    "    \n",
    "    # calculate the true positive and false positive rate\n",
    "    ### tpr = ???\n",
    "    ### fpr = ???\n",
    "    tpr = tp/(tp + fn)\n",
    "    fpr = fp/(tp + fn)\n",
    "    \n",
    "    # calculate Matthews Correlation Coefficient\n",
    "    ### mcc = ???\n",
    "    mcc = (tp * tn - fp * fn)/np.sqrt((tp + fp)*(tp + fn) * (tn + fp) * (tn + fn))\n",
    "    \n",
    "    # calculate accuracy as a function of threshold\n",
    "    accThreshold = (tp + tn) / (p + n)\n",
    "    \n",
    "    # calculate the area under the curve\n",
    "    auc = - np.array(\n",
    "             [(fpr[i + 1] - fpr[i]) * 0.5 * (tpr[i + 1] + tpr[i]) for i in range(0,numBins)]\n",
    "            ).sum()\n",
    "                             \n",
    "    return (tpr, fpr, mcc, accThreshold, auc)"
   ]
  },
  {
   "cell_type": "markdown",
   "metadata": {},
   "source": [
    "### Run your Parameter Sweeps...this should take ~1min."
   ]
  },
  {
   "cell_type": "code",
   "execution_count": 25,
   "metadata": {},
   "outputs": [
    {
     "name": "stdout",
     "output_type": "stream",
     "text": [
      "getting stats for Random Forest: train\n",
      "0 0.0\n",
      "1427 7210 0 0\n",
      "1 0.1\n",
      "1109 2511 318 4699\n",
      "2 0.2\n",
      "893 854 534 6356\n",
      "3 0.3\n",
      "853 703 574 6507\n",
      "4 0.4\n",
      "571 240 856 6970\n",
      "5 0.5\n",
      "421 124 1006 7086\n",
      "6 0.6\n",
      "313 62 1114 7148\n",
      "7 0.7\n",
      "100 5 1327 7205\n",
      "8 0.8\n",
      "5 0 1422 7210\n",
      "9 0.9\n",
      "0 0 1427 7210\n",
      "10 1.0\n",
      "0 0 1427 7210\n",
      "getting stats for Random Forest: test\n"
     ]
    },
    {
     "name": "stderr",
     "output_type": "stream",
     "text": [
      "/opt/ibm/conda/miniconda3.6/lib/python3.6/site-packages/ipykernel/__main__.py:42: RuntimeWarning: invalid value encountered in true_divide\n"
     ]
    },
    {
     "name": "stdout",
     "output_type": "stream",
     "text": [
      "0 0.0\n",
      "361 1802 0 0\n",
      "1 0.1\n",
      "274 621 87 1181\n",
      "2 0.2\n",
      "232 197 129 1605\n",
      "3 0.3\n",
      "225 158 136 1644\n",
      "4 0.4\n",
      "154 59 207 1743\n",
      "5 0.5\n",
      "110 37 251 1765\n",
      "6 0.6\n",
      "75 17 286 1785\n",
      "7 0.7\n",
      "21 2 340 1800\n",
      "8 0.8\n",
      "4 0 357 1802\n",
      "9 0.9\n",
      "0 0 361 1802\n",
      "10 1.0\n",
      "0 0 361 1802\n",
      "getting stats for Logistic Regression\n",
      "0 0.0\n",
      "1427 7210 0 0\n",
      "1 0.1\n",
      "1111 3023 316 4187\n",
      "2 0.2\n",
      "855 1060 572 6150\n",
      "3 0.3\n",
      "740 687 687 6523\n",
      "4 0.4\n",
      "595 429 832 6781\n",
      "5 0.5\n",
      "425 233 1002 6977\n",
      "6 0.6\n",
      "271 95 1156 7115\n",
      "7 0.7\n",
      "134 32 1293 7178\n",
      "8 0.8\n",
      "34 9 1393 7201\n",
      "9 0.9\n",
      "1 1 1426 7209\n",
      "10 1.0\n",
      "0 0 1427 7210\n",
      "getting stats for Random Forest: test\n",
      "0 0.0\n",
      "361 1802 0 0\n",
      "1 0.1\n",
      "280 730 81 1072\n",
      "2 0.2\n",
      "226 247 135 1555\n",
      "3 0.3\n",
      "203 163 158 1639\n",
      "4 0.4\n",
      "161 109 200 1693\n",
      "5 0.5\n",
      "108 53 253 1749\n",
      "6 0.6\n",
      "67 26 294 1776\n",
      "7 0.7\n",
      "25 7 336 1795\n",
      "8 0.8\n",
      "8 1 353 1801\n",
      "9 0.9\n",
      "1 0 360 1802\n",
      "10 1.0\n",
      "0 0 361 1802\n",
      "getting stats for Naive Bayes: train\n",
      "0 0.0\n",
      "1427 7210 0 0\n",
      "1 0.1\n",
      "876 3314 551 3896\n",
      "2 0.2\n",
      "841 3133 586 4077\n",
      "3 0.3\n",
      "809 2998 618 4212\n",
      "4 0.4\n",
      "785 2905 642 4305\n",
      "5 0.5\n",
      "770 2814 657 4396\n",
      "6 0.6\n",
      "742 2729 685 4481\n",
      "7 0.7\n",
      "715 2639 712 4571\n",
      "8 0.8\n",
      "686 2504 741 4706\n",
      "9 0.9\n",
      "643 2335 784 4875\n",
      "10 1.0\n",
      "0 0 1427 7210\n",
      "getting stats for Naive Bayes: test\n",
      "0 0.0\n",
      "361 1802 0 0\n",
      "1 0.1\n",
      "230 789 131 1013\n",
      "2 0.2\n",
      "221 748 140 1054\n",
      "3 0.3\n",
      "216 721 145 1081\n",
      "4 0.4\n",
      "210 695 151 1107\n",
      "5 0.5\n",
      "203 669 158 1133\n",
      "6 0.6\n",
      "198 635 163 1167\n",
      "7 0.7\n",
      "193 612 168 1190\n",
      "8 0.8\n",
      "186 579 175 1223\n",
      "9 0.9\n",
      "172 534 189 1268\n",
      "10 1.0\n",
      "0 0 361 1802\n"
     ]
    }
   ],
   "source": [
    "print(\"getting stats for \" + m1Name + \": train\")\n",
    "(tpr1,fpr1,mcc1,acc1,auc1) = getModelThresholdStats(model1, train_data)\n",
    "print(\"getting stats for \" + m1Name + \": test\")\n",
    "(tpr1Test,fpr1Test,mcc1Test,acc1Test,auc1Test) = getModelThresholdStats(model1, test_data)\n",
    "print(\"getting stats for \" + m2Name)\n",
    "(tpr2,fpr2,mcc2,acc2,auc2) = getModelThresholdStats(model2, train_data)\n",
    "print(\"getting stats for \" + m2Name + \": test\")\n",
    "(tpr2Test,fpr2Test,mcc2Test,acc2Test,auc2Test) = getModelThresholdStats(model2, test_data)\n",
    "print(\"getting stats for \" + m3Name + \": train\")\n",
    "(tpr3,fpr3,mcc3,acc3,auc3) = getModelThresholdStats(model3, train_data)\n",
    "print(\"getting stats for \" + m3Name + \": test\")\n",
    "(tpr3Test,fpr3Test,mcc3Test,acc3Test,auc3Test) = getModelThresholdStats(model3, test_data)"
   ]
  },
  {
   "cell_type": "markdown",
   "metadata": {},
   "source": [
    "Now plot your results..."
   ]
  },
  {
   "cell_type": "code",
   "execution_count": 26,
   "metadata": {},
   "outputs": [
    {
     "name": "stderr",
     "output_type": "stream",
     "text": [
      "/opt/ibm/conda/miniconda3.6/lib/python3.6/site-packages/matplotlib/font_manager.py:1241: UserWarning: findfont: Font family ['serif'] not found. Falling back to DejaVu Sans.\n",
      "  (prop.get_family(), self.defaultFamily[fontext]))\n"
     ]
    },
    {
     "data": {
      "image/png": "[encoded data removed]",
      "text/plain": [
       "<Figure size 1080x360 with 2 Axes>"
      ]
     },
     "metadata": {
      "needs_background": "light"
     },
     "output_type": "display_data"
    },
    {
     "data": {
      "image/png": "[encoded data removed]",
      "text/plain": [
       "<Figure size 1080x360 with 2 Axes>"
      ]
     },
     "metadata": {
      "needs_background": "light"
     },
     "output_type": "display_data"
    },
    {
     "data": {
      "image/png": "[encoded data removed]",
      "text/plain": [
       "<Figure size 1080x360 with 2 Axes>"
      ]
     },
     "metadata": {
      "needs_background": "light"
     },
     "output_type": "display_data"
    }
   ],
   "source": [
    "%matplotlib inline\n",
    "import matplotlib.pyplot as plt\n",
    "plt.rcParams['figure.figsize'] = (15,5)\n",
    "plt.subplot(121)\n",
    "plt.plot(thresholds, mcc1, '-o')\n",
    "plt.plot(thresholds, mcc2, '-o')\n",
    "plt.plot(thresholds, mcc3, '-o')\n",
    "plt.title(\"Matthews Correlation Coefficient\")\n",
    "plt.xlabel(\"Threshold\")\n",
    "plt.ylim(0,0.75)\n",
    "plt.legend([m1Name + \": AUC (train) = \"+ str(round(auc1,3)),\n",
    "m2Name + \": AUC (train) = \"+ str(round(auc2,3)),\n",
    "m3Name + \": AUC (train) = \"+ str(round(auc3,3))])\n",
    "plt.subplot(122)\n",
    "plt.plot( thresholds, mcc1Test, '-o')\n",
    "plt.plot( thresholds, mcc2Test, '-o')\n",
    "plt.plot( thresholds, mcc3Test, '-o')\n",
    "plt.title(\"Matthews Correlation Coefficient\")\n",
    "plt.xlabel(\"Threshold\")\n",
    "plt.ylim(0,0.75)\n",
    "plt.legend([m1Name + \": AUC (test) = \"+ str(round(auc1Test,3)),\n",
    "m2Name + \": AUC (test) = \"+ str(round(auc2Test,3)),\n",
    "m3Name + \": AUC (test) = \"+ str(round(auc3Test,3))])\n",
    "plt.show()\n",
    "plt.subplot(121)\n",
    "plt.plot(thresholds, acc1,'-o')\n",
    "plt.plot(thresholds, acc2,'-o')\n",
    "plt.plot(thresholds, acc3,'-o')\n",
    "plt.title(\"Accuracy\")\n",
    "plt.ylabel(\"Accuracy\")\n",
    "plt.xlabel(\"Threshold\")\n",
    "plt.ylim(0,1.0)\n",
    "plt.subplot(122)\n",
    "plt.plot(thresholds, acc1Test,'-o')\n",
    "plt.plot(thresholds, acc2Test,'-o')\n",
    "plt.plot(thresholds, acc3Test,'-o')\n",
    "plt.title(\"Accuracy\")\n",
    "plt.ylabel(\"Accuracy\")\n",
    "plt.xlabel(\"Threshold\")\n",
    "plt.ylim(0,1.0)\n",
    "plt.show()\n",
    "plt.subplot(121)\n",
    "plt.title(\"Receiver Operating Characteristic\")\n",
    "plt.plot(fpr1, tpr1,'-o')\n",
    "plt.plot(fpr2, tpr2,'-o')\n",
    "plt.plot(fpr3, tpr3,'-o')\n",
    "plt.ylabel(\"True Positive Rate\")\n",
    "plt.xlabel(\"False Positive Rate\")\n",
    "plt.subplot(122)\n",
    "plt.title(\"Receiver Operating Characteristic\")\n",
    "plt.plot(fpr1, tpr1Test,'-o')\n",
    "plt.plot(fpr2, tpr2Test,'-o')\n",
    "plt.plot(fpr3, tpr3Test,'-o')\n",
    "plt.ylabel(\"True Positive Rate\")\n",
    "plt.xlabel(\"False Positive Rate\")\n",
    "plt.show()"
   ]
  },
  {
   "cell_type": "markdown",
   "metadata": {},
   "source": [
    "Based on the plots, which model do you think will best predict heart failure?  What is the optimal threshold setting?"
   ]
  },
  {
   "cell_type": "code",
   "execution_count": null,
   "metadata": {},
   "outputs": [],
   "source": []
  }
 ],
 "metadata": {
  "kernelspec": {
   "display_name": "Python 3.6 with Spark",
   "language": "python3",
   "name": "python36"
  },
  "language_info": {
   "codemirror_mode": {
    "name": "ipython",
    "version": 3
   },
   "file_extension": ".py",
   "mimetype": "text/x-python",
   "name": "python",
   "nbconvert_exporter": "python",
   "pygments_lexer": "ipython3",
   "version": "3.6.8"
  }
 },
 "nbformat": 4,
 "nbformat_minor": 1
}
