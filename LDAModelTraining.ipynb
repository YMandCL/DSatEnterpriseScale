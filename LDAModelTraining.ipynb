{
 "cells": [
  {
   "cell_type": "markdown",
   "metadata": {},
   "source": [
    "# Topic Modeling with Latent Dirichlet Allocation in Spark"
   ]
  },
  {
   "cell_type": "markdown",
   "metadata": {},
   "source": [
    "The Latent Dirichlet Allocation is a popular method for clustering, especially for text based datasets.  It has particularly good performance for sparse feature sets, as is seen when the features are wordcounts vectors.  It alleviates the need for something like word2vec, which results in a dense lower dimensional feature vector. \n",
    "\n",
    "Since this particular analysis can take up to 10 minutes on your laptop, we'll train it in one notebook, and load the results in a second notebook."
   ]
  },
  {
   "cell_type": "code",
   "execution_count": 1,
   "metadata": {
    "collapsed": true
   },
   "outputs": [],
   "source": [
    "import scala.collection.mutable\n",
    "import org.apache.spark.mllib.clustering.LDA\n",
    "import org.apache.spark.mllib.linalg.{Vector, Vectors}\n",
    "import org.apache.spark.rdd.RDD"
   ]
  },
  {
   "cell_type": "markdown",
   "metadata": {},
   "source": [
    "## Downloading Data"
   ]
  },
  {
   "cell_type": "markdown",
   "metadata": {
    "collapsed": true
   },
   "source": [
    "We will download the yahoo 20 newsgroups dataset if you haven't already done so. This dataset contains 20,000 news stories that have been manually categorized into directories.  "
   ]
  },
  {
   "cell_type": "code",
   "execution_count": 3,
   "metadata": {},
   "outputs": [
    {
     "name": "stdout",
     "output_type": "stream",
     "text": [
      "directories in 20 newsgroup dataset\n"
     ]
    },
    {
     "data": {
      "text/plain": [
       "listing = \n"
      ]
     },
     "metadata": {},
     "output_type": "display_data"
    },
    {
     "data": {
      "text/plain": [
       "warning: there were four feature warnings; re-run with -feature for details\n",
       "\"20news-19997.tar.gz\n",
       "SimpleL...\n"
      ]
     },
     "metadata": {},
     "output_type": "display_data"
    },
    {
     "data": {
      "text/plain": [
       "20news-19997.tar.gz\n",
       "20_newsgroups\n",
       "ActivationFunctions.html\n",
       "ActivationFunctions.ipynb\n",
       "cars2.csv\n",
       "cars.csv\n",
       "derby.log\n",
       "ex3ExampleMultivariateGD.m\n",
       "ex3x.dat\n",
       "ex3y.dat\n",
       "gradientDescent.m\n",
       "Heart Model with Hyperparameter Search.html\n",
       "Heart Model with Hyperparameter Search.ipynb\n",
       "LDAModels\n",
       "LDAModelsOld\n",
       "LDAModelTraining.html\n",
       "LDAModelTraining.ipynb\n",
       "LDAPredictWithPretrainedModel.html\n",
       "LDAPredictWithPretrainedModel.ipynb\n",
       "LinearRegressionSingleFeature.html\n",
       "LinearRegressionSingleFeature.ipynb\n",
       "MNIST for Beginners.html\n",
       "MNIST for Beginners.ipynb\n",
       "model\n",
       "multinomialSampler.html\n",
       "multinomialSampler.ipynb\n",
       "notebook.tex\n",
       "output_15_1.png\n",
       "output_17_1.png\n",
       "output_39_0.png\n",
       "output_40_2.png\n",
       "patientdataV6.csv\n",
       "README.md\n",
       "recentDraft.pdf\n",
       "SimpleKMeans.ipynb\n",
       "SimpleLinearRegression.html\n",
       "SimpleLinearRegression.ipynb\n",
       "SimpleLinearRegression.ipynb.invalid\n",
       "spark-warehouse\n",
       "test.py\n",
       "Untitled.ipynb\n",
       "Word2VecWithKMeans.html\n",
       "Word2VecWithKMeans.ipynb\n"
      ]
     },
     "execution_count": 3,
     "metadata": {},
     "output_type": "execute_result"
    }
   ],
   "source": [
    "import sys.process._\n",
    "val listing = \"ls\"!! ;\n",
    "\n",
    "if (listing.contains(\"20_newsgroups\") == false ) {\n",
    "    println(\"downloading dataset\")\n",
    "    \"wget http://qwone.com/~jason/20Newsgroups/20news-19997.tar.gz\"!;\n",
    "    \"tar -xvf 20news-19997.tar.gz\"!;\n",
    "    \"rm 20news-19997*\"!;\n",
    "}\n",
    "println(\"directories in 20 newsgroup dataset\")\n"
   ]
  },
  {
   "cell_type": "markdown",
   "metadata": {},
   "source": [
    "The directories (categories) are listed in the output below."
   ]
  },
  {
   "cell_type": "code",
   "execution_count": 4,
   "metadata": {},
   "outputs": [
    {
     "name": "stdout",
     "output_type": "stream",
     "text": [
      "alt.atheism\n",
      "comp.graphics\n",
      "comp.os.ms-windows.misc\n",
      "comp.sys.ibm.pc.hardware\n",
      "comp.sys.mac.hardware\n",
      "comp.windows.x\n",
      "misc.forsale\n",
      "rec.autos\n",
      "rec.motorcycles\n",
      "rec.sport.baseball\n",
      "rec.sport.hockey\n",
      "sci.crypt\n",
      "sci.electronics\n",
      "sci.med\n",
      "sci.space\n",
      "soc.religion.christian\n",
      "talk.politics.guns\n",
      "talk.politics.mideast\n",
      "talk.politics.misc\n",
      "talk.religion.misc\n"
     ]
    },
    {
     "data": {
      "text/plain": [
       "warning: there was one feature warning; re-run with -feature for details\n"
      ]
     },
     "metadata": {},
     "output_type": "display_data"
    },
    {
     "data": {
      "text/plain": [
       "0"
      ]
     },
     "execution_count": 4,
     "metadata": {},
     "output_type": "execute_result"
    }
   ],
   "source": [
    "\"ls 20_newsgroups/\"!"
   ]
  },
  {
   "cell_type": "markdown",
   "metadata": {},
   "source": [
    "Let's load all of the stories into a corpus."
   ]
  },
  {
   "cell_type": "code",
   "execution_count": 5,
   "metadata": {},
   "outputs": [
    {
     "data": {
      "text/plain": [
       "corpus = PartitionwiseSampledRDD[3] at sample at <console>:35\n"
      ]
     },
     "metadata": {},
     "output_type": "display_data"
    },
    {
     "data": {
      "text/plain": [
       "PartitionwiseSampledRDD[3] at sample at <console>:35"
      ]
     },
     "execution_count": 5,
     "metadata": {},
     "output_type": "execute_result"
    }
   ],
   "source": [
    "val corpus: RDD[String] = sc.wholeTextFiles(\"20_newsgroups/*/*\").map(_._2).\n",
    "                           sample(fraction=0.01,withReplacement=false,seed=0L)"
   ]
  },
  {
   "cell_type": "markdown",
   "metadata": {},
   "source": [
    "## Tokenization and Word Count"
   ]
  },
  {
   "cell_type": "markdown",
   "metadata": {},
   "source": [
    "From the corpus, we tokenize the words, which means every instance of the word gets a count of 1 assigned to it.  When we collect repeated instances of those words, we will add those counts up and get a total word count.  Because this is so frequently done in big data, word counts are often called the \"hello world\" of big data and text mining.  This can take about 5 min."
   ]
  },
  {
   "cell_type": "code",
   "execution_count": 7,
   "metadata": {},
   "outputs": [
    {
     "name": "stdout",
     "output_type": "stream",
     "text": [
      "Time to Compute Word Count: 260.565s\n"
     ]
    },
    {
     "data": {
      "text/plain": [
       "tokenized = MapPartitionsRDD[9] at map at <console>:42\n",
       "t0TermCount = 2285994266528809\n",
       "termCounts = Array((that,661), (this,361), (with,357), (have,305), (from,217), (what,187), (will,186), (they,185), (about,169), (would,152), (your,135), (some,133), (article,126), (there,124), (more,120), (when,110), (other,108), (people,104), (just,103), (which,102), (their,90), (like,89), (were,89), (know,86), (university,84), (only,84), (been,81), (information,80), (these,78), (than,74), (should,74), (most,73), (because,71), (does,69), (system,68), (also,68), (even,64), (many,64), (make,63), (could,63), (them,58), (into,57), (good,55), (think,52), (very,52), (anonymous,52), (same,50), (government,50), (over,49), (internet,49), (canc...\n"
      ]
     },
     "metadata": {},
     "output_type": "display_data"
    },
    {
     "data": {
      "text/plain": [
       "[(that,661), (this,361), (with,357), (have,305), (from,217), (what,187), (will,186), (they,185), (about,169), (would,152), (your,135), (some,133), (article,126), (there,124), (more,120), (when,110), (other,108), (people,104), (just,103), (which,102), (their,90), (like,89), (were,89), (know,86), (university,84), (only,84), (been,81), (information,80), (these,78), (than,74), (should,74), (most,73), (because,71), (does,69), (system,68), (also,68), (even,64), (many,64), (make,63), (could,63), (them,58), (into,57), (good,55), (think,52), (very,52), (anonymous,52), (same,50), (government,50), (over,49), (internet,49), (cancer,46), (privacy,46), (still,44), (email,44), (then,44), (those,43), (computer,43), (time,42), (need,41), (windows,41), (much,41), (used,41), (access,40), (using,40), (anyone,39), (believe,39), (first,39), (mail,39), (said,39), (world,38), (since,38), (between,38), (after,38), (where,38), (encryption,38), (right,37), (really,36), (research,36), (want,35), (file,35), (being,35), (problem,35), (while,34), (under,33), (find,33), (each,33), (aids,33), (such,33), (never,32), (part,32), (available,32), (address,31), (breast,31), (local,31), (data,30), (better,30), (take,30), (back,30), (might,30), (through,30), (someone,29), (fact,29), (going,29), (different,29), (sure,29), (number,29), (news,29), (anonymity,28), (something,28), (things,28), (must,28), (april,27), (years,27), (medical,27), (before,27), (during,27), (real,26), (made,26), (based,26), (give,26), (last,25), (network,25), (booklet,25), (national,25), (here,25), (without,25), (security,25), (please,25), (given,25), (both,25), (down,24), (usenet,24), (volume,24), (enough,24), (others,24), (user,24), (least,24), (files,24), (series,24), (well,23), (sites,23), (person,23), (power,23), (help,23), (great,23), (every,23), (public,23), (another,23), (work,23), (patients,22), (read,22), (sense,22), (case,22), (technology,22), (control,22), (whether,22), (probably,22), (following,22), (state,22), (able,21), (send,21), (important,21), (associated,21), (question,21), (drug,21), (best,21), (change,21), (message,21), (mean,21), (jewish,20), (anything,20), (currently,20), (general,20), (rather,20), (rights,20), (toronto,20), (software,20), (always,20), (thing,19), (users,19), (means,19), (early,19), (look,19), (year,19), (makes,19), (several,18), (health,18), (addresses,18), (long,18), (getting,18), (come,18), (posting,18), (identity,18), (test,18), (problems,18), (police,18), (questions,18), (common,18), (private,18), (current,18), (called,18), (communications,18), (expect,18), (patient,18), (department,17), (drive,17), (certain,17), (heard,17), (already,17), (quite,17), (completely,17), (multiple,17), (nothing,17), (drugs,17), (legal,17), (thanks,17), (page,17), (keep,17), (having,17), (server,17), (seems,17), (agencies,17), (perhaps,17), (support,17), (companies,17), (start,16), (high,16), (post,16), (saying,16), (doing,16), (protect,16), (future,16), (group,16), (company,16), (provide,16), (running,16), (networks,16), (making,16), (large,16), (generally,16), (next,16), (possible,16), (order,15), (often,15), (little,15), (happy,15), (provides,15), (engine,15), (single,15), (chip,15), (type,15), (science,15), (enforcement,15), (human,15), (actually,15), (comes,15), (once,15), (around,15), (account,15), (college,15), (radio,15), (seen,15), (either,15), (newsletter,15), (evidence,15), (video,15), (likely,14), (list,14), (willing,14), (space,14), (chromium,14), (systems,14), (program,14), (found,14), (palestinian,14), (unix,14), (phone,14), (keys,14), (secure,14), (less,14), (clipper,14), (everyone,14), (code,14), (religious,14), (above,14), (issue,14), (center,14), (against,14), (book,14), (hicnet,14), (machine,14), (related,14), (similar,14), (institute,14), (behind,13), (point,13), (identification,13), (fans,13), (money,13), (says,13), (david,13), (directly,13), (approach,13), (claim,13), (uses,13), (call,13), (simple,13), (administrators,13), (life,13), (anybody,13), (devices,13), (major,13), (hard,13), (today,13), (mailing,13), (team,13), (strong,13), (tell,13), (john,13), (original,13), (name,13), (remember,13), (stop,12), (simply,12), (services,12), (states,12), (trust,12), (insurance,12), (american,12), (until,12), (requires,12), (potential,12), (device,12), (independent,12), (describes,12), (compromise,12), (personal,12), (among,12), (instead,12), (couple,12), (women,12), (join,12), (ever,12), (whole,12), (includes,12), (directory,12), (suppose,12), (disk,12), (consider,12), (members,12), (interested,12), (turn,12), (second,11), (done,11), (reason,11), (school,11), (goes,11), (away,11), (card,11), (past,11), (kind,11), (takes,11), (looks,11), (remote,11), (president,11), (transmission,11), (kill,11), (total,11), (almost,11), (reading,11), (receiving,11), (basic,11), (three,11), (live,11), (deal,11), (sounds,11), (works,11), (education,11), (electronic,11), (talking,11), (young,11), (press,11), (evolution,11), (wonder,11), (traffic,11), (matter,11), (standard,11), (told,11), (home,11), (though,11), (leads,11), (programs,11), (trying,11), (cipher,11), (wants,11), (looking,11), (bike,11), (types,11), (left,11), (source,11), (care,11), (escrow,11), (accounts,10), (stuff,10), (messages,10), (sent,10), (house,10), (regular,10), (report,10), (freedom,10), (times,10), (sometimes,10), (example,10), (administration,10), (infected,10), (standards,10), (bring,10), (ensure,10), (review,10), (blue,10), (serious,10), (considered,10), (maybe,10), (criminals,10), (groups,10), (understand,10), (development,10), (pressure,10), (longer,10), (exist,10), (including,10), (certainly,10), (usually,10), (situations,10), (service,10), (games,10), (cubs,10), (political,10), (force,10), (become,10), (united,10), (cases,10), (place,10), (carry,10), (researchers,10), (cause,10), (mine,10), (bill,10), (religion,10), (belief,10), (taking,9), (experience,9), (importance,9), (fire,9), (international,9), (treatment,9), (game,9), (final,9), (pretty,9), (feel,9), (love,9), (cellular,9), (safety,9), (hope,9), (later,9), (close,9), (logic,9), (canada,9), (step,9), (family,9), (seem,9), (true,9), (friend,9), (version,9), (thinking,9), (issues,9), (project,9), (main,9), (months,9), (write,9), (frequently,9), (involved,9), (request,9), (choose,9), (tools,9), (global,9), (develop,9), (within,9), (wrong,9), (avoid,9), (atheists,9), (shots,9), (christian,9), (difference,9), (save,9), (obtain,9), (algorithm,9), (known,9), (white,9), (full,9), (except,9), (george,9), (crypto,9), (illinois,9), (social,9), (scientific,9), (idea,9), (thought,9), (front,9), (effective,9), (surgeon,9), (reported,9), (highly,9), (else,9), (clinical,9), (took,9), (protocols,9), (listen,9), (division,9), (field,8), (accept,8), (weight,8), (office,8), (correct,8), (commercial,8), (dave,8), (increase,8), (cult,8), (body,8), (piece,8), (jesus,8), (computers,8), (history,8), (lciii,8), (james,8), (baseball,8), (shell,8), (performance,8), (apple,8), (policy,8), (line,8), (southern,8), (specific,8), (speak,8), (developed,8), (talk,8), (again,8), (contact,8), (suggest,8), (hear,8), (movie,8), (knowledge,8), (near,8), (disease,8), (child,8), (procedures,8), (established,8), (guide,8), (note,8), (voice,8), (effects,8), (sort,8), (evil,8), (analysis,8), (word,8), (shape,8), (potentially,8), (side,8), (mentioned,8), (course,8), (everything,8), (double,8), (release,8), (section,8), (yankee,8), (individual,8), (infection,8), (pamphlet,8), (sound,8), (supposed,8), (define,8), (detection,8), (follow,8), (especially,8), (whom,8), (actions,8), (previous,8), (creation,8), (speed,8), (command,8), (lock,8), (york,8), (direct,8), (church,8), (fields,8), (higher,8), (designed,8), (michael,8), (operation,8), (clear,8), (wade,8), (positive,8), (explain,8), (daily,8), (mark,8), (cannot,8), (texas,8), (concerns,8), (chain,8), (answers,8), (lack,8), (wish,8), (shown,8), (particular,8), (drives,8), (recently,7), (virtually,7), (names,7), (free,7), (quote,7), (although,7), (significantly,7), (beliefs,7), (arbitrary,7), (discusses,7), (prevent,7), (build,7), (insulin,7), (doubt,7), (discussion,7), (difficult,7), (threat,7), (picolinate,7), (country,7), (primary,7), (yanks,7), (whose,7), (koresh,7), (mass,7), (mind,7), (vary,7), (visible,7), (mostly,7), (results,7), (illegal,7), (brochure,7), (industry,7), (powerful,7), (return,7), (explains,7), (function,7), (scodal,7), (computing,7), (commands,7), (agree,7), (create,7), (night,7), (unless,7), (utility,7), (tried,7), (somebody,7), (spacecraft,7), (created,7), (asante,7), (western,7), (arab,7), (allows,7), (disks,7), (added,7), (america,7), (worked,7), (initial,7), (absolutely,7), (theory,7), (steal,7), (invasive,7), (explanation,7), (children,7), (recent,7), (received,7), (adapter,7), (contains,7), (deleted,7), (abus,7), (needed,7), (risk,7), (study,7), (clinton,7), (black,7), (stay,7), (product,7), (immune,7), (outside,7), (ohio,7), (terms,7), (drivers,7), (regarding,7), (muscle,7), (default,7), (solve,7), (opinions,7), (appear,7), (response,7), (small,7), (richard,7), (color,7), (third,7), (city,7), (site,7), (record,7), (joined,7), (nation,7), (leave,7), (guess,7), (carefully,7), (phones,7), (ethernet,7), (mode,7), (wondering,7), (break,7), (require,7), (significant,7), (virus,7), (various,7), (taken,7), (steve,7), (provided,7), (military,7), (washington,6), (came,6), (apply,6), (selling,6), (mechanisms,6), (sexual,6), (louis,6), (worth,6), (parts,6), (death,6), (chicago,6), (limited,6), (writes,6), (answer,6), (prove,6), (display,6), (export,6), (hamburg,6), (guarantee,6), (necessarily,6), (scope,6), (aware,6), (interesting,6), (whatever,6), (connection,6), (scsi,6), (medicine,6), (kept,6), (according,6), (scored,6), (domain,6), (woman,6), (providing,6), (armenians,6), (sheets,6), (proper,6), (resource,6), (references,6), (existence,6), (technologies,6), (thank,6), (search,6), (thomas,6), (israel,6), (telephone,6), (opinion,6), (monitor,6), (mistake,6), (approaches,6), (shift,6), (drawing,6), (missing,6), (self,6), (dangerous,6), (readily,6), (players,6), (particularly,6), (contents,6), (machines,6), (application,6), (host,6), (four,6), (setting,6), (light,6), (individuals,6), (ways,6), (changed,6), (federal,6), (toward,6), (position,6), (effect,6), (motif,6), (cards,6), (login,6), (sale,6), (posted,6), (nice,6), (result,6), (working,6), (inherent,6), (convert,6), (surface,6), (west,6), (patience,6), (zoology,6), (caps,6), (gave,6), (holes,6), (guidelines,6), (engineering,6), (industrial,6), (impossible,6), (unable,6), (extremely,6), (resources,6), (written,6), (journal,6), (keyboard,6), (operators,6), (neural,6), (living,6), (placed,6), (hold,6), (trouble,6), (appropriate,6), (lives,6), (days,6), (israeli,6), (watch,6), (story,6), (wanted,6), (reasons,6), (happened,6), (restrictions,6), (allow,6), (itself,6), (show,6), (points,6), (client,6), (nature,6), (playoff,6), (process,6), (units,6), (radiation,6), (gets,6), (needs,6), (special,6), (poster,6), (morality,6), (lose,6), (street,6), (stolen,6), (neither,6), (knows,5), (kratz,5), (ignore,5), (plus,5), (spanish,5), (park,5), (giving,5), (quicktime,5), (blood,5), (robert,5), (archive,5), (reliable,5), (level,5), (moment,5), (tends,5), (serial,5), (form,5), (guaranteed,5), (installed,5), (islam,5), (secret,5), (loose,5), (background,5), (hardware,5), (equipment,5), (breastmilk,5), (advice,5), (parent,5), (math,5), (asked,5), (increasingly,5), (nixon,5), (lead,5), (rabin,5), (oxygen,5), (check,5), (tells,5), (starting,5), (discovered,5), (decision,5), (hate,5), (responsibility,5), (design,5), (responsible,5), (temperature,5), (directed,5), (harddisk,5), (measure,5), (manual,5), (oilers,5), (turbo,5), (stand,5), (signal,5), (older,5), (crime,5), (switch,5), (options,5), (situation,5), (sections,5), (foreign,5), (alternatives,5), (initiative,5), (harm,5), (screen,5), (dark,5), (further,5), (business,5), (agnostic,5), (locks,5), (protocol,5), (pocklington,5), (desktop,5), (atmosphere,5), (inspired,5), (sell,5), (include,5), (introduction,5), (ability,5), (strongly,5), (peace,5), (play,5), (hospital,5), (conversations,5), (basically,5), (perfectly,5), (zionist,5), (chart,5), (week,5), (christians,5), (drawn,5), (miles,5), (paper,5), (boot,5), (party,5), (polytechnic,5), (language,5), (professionals,5), (building,5), (proposed,5), (myself,5), (heart,5), (split,5), (useful,5), (recommend,5), (values,5), (poor,5), (matthew,5), (runs,5), (ideas,5), (stanley,5), (wiretap,5), (official,5), (sobre,5), (alternative,5), (truth,5), (absolute,5), (cars,5), (satellite,5), (converting,5), (telecommunications,5), (content,5), (determined,5), (weeks,5), (meant,5), (tend,5), (former,5), (palestinians,5), (average,5), (database,5), (asking,5), (moral,5), (material,5), (cable,5), (lawrence,5), (online,5), (gotten,5), (kids,5), (tests,5), (orthopedic,5), (stacker,5), (activities,5), (present,5), (decisions,5), (tickets,5), (finally,5), (changes,5), (solution,5), (experts,5), (required,5), (battery,5), (sets,5), (accuracy,5), (hockey,5), (rules,5), (attempt,5), (started,5), (knew,5), (played,5), (mother,5), (administrator,5), (believing,5), (boston,5), (protection,5), (definition,5), (unlimited,5), (funding,5), (techniques,5), (planning,5), (feasible,5), (wrote,5), (complete,5), (soon,5), (bugs,5), (copies,5), (establishment,5), (alone,5), (typically,5), (elves,5), (percent,5), (modern,5), (aspects,5), (happens,5), (plan,5), (versions,5), (batting,5), (named,5), (justice,5), (quality,5), (organization,5), (considering,5), (meaning,5), (swiss,5), (lower,5), (tips,4), (records,4), (shut,4), (dead,4), (thus,4), (converted,4), (dean,4), (latter,4), (plans,4), (went,4), (otherwise,4), (agreement,4), (muslims,4), (statements,4), (open,4), (selanne,4), (bible,4), (risks,4), (tittle,4), (decide,4), (hung,4), (july,4), (widget,4), (larry,4), (details,4), (jerome,4), (identify,4), (newsgroup,4), (improve,4), (branch,4), (monday,4), (bonds,4), (helps,4), (yankees,4), (powerbook,4), (surgical,4), (interest,4), (para,4), (trade,4), (towards,4), (attorney,4), (bush,4), (prototype,4), (valid,4), (quadra,4), (unknown,4), (supported,4), (sirach,4), (prophecies,4), (eating,4), (modem,4), (handle,4), (altitude,4), (decided,4), (winning,4), (multisync,4), (maximum,4), (noise,4), (policies,4), (title,4), (included,4), (happen,4), (argue,4), (error,4), (subscribe,4), (protected,4), (appreciate,4), (sending,4), (lots,4), (identities,4), (overacker,4), (cell,4), (cryptography,4), (fear,4), (items,4), (reduce,4), (tank,4), (committed,4), (teams,4), (ports,4), (english,4), (station,4), (communication,4), (numerous,4), (distribution,4), (demonstrated,4), (fresh,4), (reserve,4), (veterans,4), (corporation,4), (worried,4), (emphasis,4), (apart,4), (waco,4), (obviously,4), (defeated,4), (slowly,4), (reply,4), (largely,4), (fight,4), (images,4), (guys,4), (extra,4), (arrogance,4), (understanding,4), (variety,4), (finland,4), (editres,4), (status,4), (flames,4), (spent,4), (round,4), (fault,4), (ontario,4), (lung,4), (bosnian,4), (clin,4), (board,4), (stick,4), (remailers,4), (learn,4), (europe,4), (gateway,4), (therefore,4), (ride,4), (nine,4), (info,4), (typical,4), (digital,4), (scared,4), (williams,4), (bikes,4), (father,4), (miss,4), (prefer,4), (sources,4), (places,4), (society,4), (allergy,4), (sophisticated,4), (uncommon,4), (gathered,4), (cigarette,4), (stereo,4), (pittsburgh,4), (testing,4), (affected,4), (sector,4), (boggs,4), (unscrupulous,4), (term,4), (scenario,4), (attitude,4), (hide,4), (fast,4), (collection,4), (concept,4), (mention,4), (officials,4), (attack,4), (staff,4), (careful,4), (rich,4), (gives,4), (excellent,4), (market,4), (realize,4), (massive,4), (germany,4), (price,4), (discussions,4), (green,4), (install,4), (seeing,4), (community,4), (arabs,4), (muslim,4), (brought,4), (serve,4), (adam,4), (smith,4), (author,4), (metabolism,4), (vancouver,4), (fairly,4), (beginning,4), (workgroups,4), (exact,4), (demand,4), (stories,4), (mechanism,4), (bilingual,4), (christ,4), (along,4), (objective,4), (bought,4), (professor,4), (swap,4), (changing,4), (catholic,4), (vesselin,4), (allowing,4), (operating,4), (internal,4), (area,4), (sign,4), (judaism,4), (phase,4), (mount,4), (boxes,4), (bitmap,4), (requesting,4), (receive,4), (share,4), (infrastructure,4), (papers,4), (yourself,4), (population,4), (fall,4), (trials,4), (removing,4), (miami,4), (snefru,4), (generator,4), (nasa,4), (delete,4), (model,4), (described,4), (amounts,4), (hand,4), (efficient,4), (solar,4), (criminal,4), (hours,4), (wins,4), (north,4), (represents,4), (court,4), (kevin,4), (bruins,4), (tested,4), (canon,4), (technical,4), (virginia,4), (detroit,4), (supplies,4), (suggestions,4), (offers,4), (differential,4), (watching,4), (winnipeg,4), (entire,4), (academic,4), (physical,4), (killed,4), (regularly,4), (fellow,4), (alberta,4), (citizens,4), (fundamental,4), (determine,4), (therapies,4), (rochester,4), (motivated,4), (argument,4), (indicate,4), (concerned,4), (value,4), (choice,4), (option,4), (newsgroups,4), (loss,4), (delaware,4), (spread,4), (move,4), (socket,4), (slow,4), (coreldraw,4), (definitely,4), (room,4), (continue,4), (baltimore,4), (braves,4), (easily,4), (combination,4), (object,4), (copy,4), (ruth,4), (remailer,4), (cartridge,4), (datadesk,4), (presence,4), (therapy,4), (passes,4), (believes,4), (trick,4), (abuses,4), (goal,4), (debate,4), (cats,4), (friends,4), (auto,4), (additional,4), (motorola,4), (held,4), (laboratory,4), (disc,4), (punishment,4), (cost,4), (contributions,4), (routinely,4), (purchase,4), (anywhere,4), (instructions,4), (excuse,4), (dick,4), (statement,4), (chris,4), (comment,4), (shot,3), (cview,3), (andy,3), (viewed,3), (ultra,3), (spencer,3), (compatible,3), (instruments,3), (henry,3), (vehicle,3), (combinations,3), (adapters,3), (remain,3), (summary,3), (forming,3), (tear,3), (accessable,3), (pins,3), (basis,3), (capable,3), (dietary,3), (abbott,3), (rensselaer,3), (calling,3), (signature,3), (austin,3), (involving,3), (fighting,3), (readers,3), (funny,3), (turned,3), (arrogant,3), (surely,3), (rushdie,3), (propagation,3), (brian,3), (indiana,3), (dealers,3), (pulled,3), (comprehensive,3), (leaving,3), (smoking,3), (shows,3), (owners,3), (tradition,3), (director,3), (identifies,3), (copyrighted,3), (comments,3), (merck,3), (thousand,3), (surprising,3), (apparently,3), (targets,3), (settlers,3), (tree,3), (window,3), (memorial,3), (built,3), (aspect,3), (bodies,3), (shipping,3), (stronger,3), (deserve,3), (club,3), (indicates,3), (rear,3), (badly,3), (noticed,3), (wild,3), (bootable,3), (contain,3), (cultural,3), (testicular,3), (australia,3), (healing,3), (heat,3), (cabinet,3), (month,3), (golf,3), (raise,3), (recognized,3), (widely,3), (addition,3), (routing,3), (emotional,3), (class,3), (rest,3), (families,3), (requests,3), (appears,3), (liturgy,3), (afford,3), (input,3), (cold,3), (troubleshooting,3), (rogers,3), (fair,3), (andreychuk,3), (closed,3), (coverage,3), (chance,3), (generation,3), (driver,3), (mammography,3), (paul,3), (conventions,3), (sensitive,3), (electrical,3), (pages,3), (parties,3), (managing,3), (books,3), (fixed,3), (citations,3), (california,3), (happening,3), (capabilities,3), (effort,3), (treat,3), (oxford,3), (carnegie,3), (shack,3), (routine,3), (specifically,3), (southwest,3), (students,3), (commonly,3), (columbus,3), (presents,3), (relativism,3), (dale,3), (substance,3), (diagnosed,3), (listing,3), (rule,3), (bungee,3), (submit,3), (passed,3), (microsoft,3), (culture,3), (shame,3), (greater,3), (bure,3), (brief,3), (screw,3), (chosen,3), (turkish,3), (blew,3), (fine,3), (anneser,3), (entirely,3), (adminstrator,3), (mutual,3), (legally,3), (conversion,3), (servers,3), (congress,3), (universities,3), (showed,3), (slightly,3), (exams,3), (discovery,3), (tremendous,3), (technique,3), (prevention,3), (themselves,3), (wind,3), (faith,3), (linden,3), (countries,3), (expected,3), (citizen,3), (picture,3), (role,3), (becomes,3), (accurate,3), (opposed,3), (conference,3), (tied,3), (trigger,3), (imagine,3), (forging,3), (feet,3), (mask,3), (farm,3), (express,3), (supposedly,3), (hopkins,3), (enhanced,3), (dialogue,3), (barry,3), (road,3), (push,3), (easy,3), (suddenly,3), (unauthorized,3), (followed,3), (krillean,3), (shopping,3), (replaced,3), (distances,3), (carried,3), (amount,3), (economy,3), (apartheid,3), (ratings,3), (restrict,3), (humans,3), (involves,3), (june,3), (installation,3), (addressing,3), (charlie,3), (hopefully,3), (shit,3), (highest,3), (however,3), (killing,3), (hayes,3), (shall,3), (racist,3), (hello,3), (subject,3), (operational,3), (conduct,3), (energy,3), (signed,3), (pamphlets,3), (none,3), (edmonton,3), (thoughts,3), (johns,3), (offer,3), (creatures,3), (proof,3), (incident,3), (genocide,3), (liverpool,3), (nutrition,3), (mike,3), (posters,3), (picked,3), (action,3), (letter,3), (operator,3), (publicly,3), (widespread,3), (advance,3), (costs,3), (iisi,3), (moving,3), (quoted,3), (together,3), (radar,3), (glock,3), (five,3), (documentation,3), (paid,3), (somewhat,3), (french,3), (factors,3), (truely,3), (accident,3), (eight,3), (metal,3), (produces,3), (respond,3), (cities,3), (studies,3), (carolina,3), (staying,3), (ford,3), (forged,3), (identical,3), (venus,3), (figures,3), (crush,3), (sacrafice,3), (applied,3), (considerations,3), (khafre,3), (lists,3), (liable,3), (cancelled,3), (protecting,3), (screwed,3), (pixels,3), (snow,3), (animated,3), (jason,3), (consistently,3), (convention,3), (match,3), (offset,3), (corporations,3), (behaviour,3), (affect,3), (granted,3), (suggested,3), (joseph,3), (experiences,3), (maintaining,3), (receiver,3), (march,3), (opportunity,3), (cheap,3), (historically,3), (prevented,3), (trace,3), (prepared,3), (deck,3), (telecast,3), (writer,3), (authorities,3), (possibility,3), (expansion,3), (served,3), (hosts,3), (casual,3), (passion,3), (ahead,3), (universal,3), (ones,3), (americans,3), (opposite,3), (engage,3), (thereby,3), (keith,3), (pass,3), (theoretically,3), (teach,3), (conceivably,3), (adminstrators,3), (supply,3), (wishes,3), (publications,3), (obvious,3), (season,3), (managed,3), (lancet,3), (theories,3), (announcement,3), (shane,3), (mini,3), (cryptographic,3), (bosnians,3), (compromises,3), (male,3), (mainstream,3), (shifter,3), (wait,3), (russian,3), (army,3), (kicked,3), (modified,3), (murder,3), (originating,3), (freely,3), (heavy,3), (unlikely,3), (checked,3), (facts,3), (unusual,3), (legitimate,3), (tuesday,3), (anymore,3), (banks,3), (keeping,3), (cystic,3), (output,3), (jeff,3), (corrupt,3), (putting,3), (integrated,3), (minutes,3), (memory,3), (blaster,3), (totally,3), (authorized,3), (sink,3), (transmitted,3), (annual,3), (setup,3), (logo,3), (meeting,3), (walls,3), (drawer,3), (annoying,3), (decent,3), (overall,3), (openly,3), (defensive,3), (islanders,3), (regard,3), (movement,3), (stored,3), (overview,3), (andrew,3), (false,3), (survivors,3), (conversation,3), (base,3), (font,3), (recall,3), (jack,3), (belong,3), (posts,3), (recommended,3), (applications,3), (mammograms,3), (christopher,3), (suitable,3), (adding,3), (reach,3), (helping,3), (unique,3), (indeed,3), (incorrect,3), (diseases,3), (illustrator,3), (pharmaceutical,3), (worst,3), (involve,3), (claims,3), (hierarchy,3), (resulting,3), (reports,3), (walk,3), (edward,3), (schools,3), (columns,3), (logs,3), (minister,3), (expensive,3), (continuous,3), (born,3), (growing,3), (holding,3), (location,3), (atmospheric,3), (verse,3), (discussed,3), (caused,3), (northlands,3), (middle,3), (necessary,3), (announced,3), (majority,3), (milk,3), (motherboard,3), (immediate,3), (property,3), (collaboration,3), (authority,3), (flex,3), (protein,3), (newly,3), (interferences,3), (critical,3), (land,3), (economic,3), (quotes,3), (underground,3), (essentially,3), (method,3), (somewhere,3), (harmful,3), (editor,3), (expressed,3), (huge,3), (port,3), (cells,3), (failed,3), (diving,3), (began,3), (stephen,3), (voluntarily,3), (detweiler,3), (occurred,3), (assist,3), (finger,3), (proclamation,3), (tracking,3), (johnson,3), (faster,3), (combined,3), (admit,3), (meet,3), (urbana,3), (practical,3), (classified,3), (relatively,3), (recipes,3), (traditional,3), (wire,3), (doublespace,3), (colorado,3), (claimed,3), (race,3), (damage,3), (healthy,3), (progress,3), (familiar,3), (sports,3), (startup,3), (animals,3), (activity,3), (penn,3), (became,3), (bone,2), (lattitude,2), (transfusion,2), (guia,2), (substitute,2), (minimization,2), (grant,2), (lonoak,2), (vietnam,2), (beleive,2), (territories,2), (conclusions,2), (unforeseen,2), (tube,2), (covered,2), (participants,2), (fail,2), (concise,2), (dividian,2), (remailing,2), (refund,2), (oral,2), (proven,2), (computational,2), (baby,2), (twice,2), (rounding,2), (despite,2), (nowhere,2), (vicente,2), (systematically,2), (containing,2), (abstract,2), (hands,2), (inconvenience,2), (noisy,2), (whenever,2), (obtained,2), (stratus,2), (pitsburgh,2), (findings,2), (wise,2), (funded,2), (dollar,2), (provoke,2), (forces,2), (useless,2), (problematic,2), (nationality,2), (experienced,2), (november,2), (advanced,2), (proud,2), (delivery,2), (mattson,2), (barzilai,2), (targeted,2), (certian,2), (nerve,2), (determining,2), (grind,2), (requirements,2), (slot,2), (responses,2), (optilink,2), (grab,2), (marketing,2), (paying,2), (colors,2), (checking,2), (kicking,2), (courage,2), (drivel,2), (ignorant,2), (zone,2), (compression,2), (morning,2), (crack,2), (ticket,2), (lens,2), (hash,2), (obispo,2), (forwarded,2), (selecting,2), (seeking,2), (trident,2), (taddle,2), (prejudices,2), (damn,2), (searches,2), (warning,2), (diverse,2), (drove,2), (manufacturers,2), (encoded,2), (cassette,2), (neighborhood,2), (fish,2), (frighteningly,2), (himself,2), (escrowed,2), (proceed,2), (improvement,2), (losing,2), (forgeries,2), (reporting,2), (whitney,2), (consumer,2), (espn,2), (short,2), (russell,2), (degrade,2), (causes,2), (armored,2), (jets,2), (dejar,2), (panel,2), (spell,2), (solely,2), (tony,2), (truly,2), (describing,2), (liturgical,2), (normally,2), (speakers,2), (employee,2), (pool,2), (totalitarian,2), (officially,2), (closer,2), (whoever,2), (maryland,2), (colonel,2), (neighbor,2), (vagus,2), (attention,2), (lawfully,2), (playing,2), (schwartz,2), (inconspicuous,2), (opening,2), (maintained,2), (competing,2), (oncology,2), (coping,2), (hole,2), (symptoms,2), (truelove,2), (regardless,2), (bored,2), (loading,2), (viral,2), (grass,2), (karl,2), (tilts,2), (replica,2), (survived,2), (severe,2), (childhood,2), (quickly,2), (thats,2), (consult,2), (wwii,2), (univ,2), (curtis,2), (kimball,2), (randy,2), (columbia,2), (nazi,2), (cryptanalysis,2), (converter,2), (norton,2), (designers,2), (dram,2), (habitable,2), (breathable,2), (canisters,2), (discussing,2), (sentient,2), (voltage,2), (wings,2), (horizontal,2), (meyer,2), (basing,2), (pleased,2), (premiums,2), (views,2), (vulnerable,2), (writing,2), (geographical,2), (becoming,2), (tool,2), (controller,2), (tektronix,2), (balanced,2), (proposal,2), (chid,2), (authentication,2), (intellect,2), (darwinism,2), (alan,2), (rename,2), (databases,2), (cambridge,2), (root,2), (wounded,2), (benefits,2), (desired,2), (hinds,2), (claire,2), (member,2), (burden,2), (gravity,2), (orbit,2), (controlled,2), (plane,2), (spike,2), (tratamiento,2), (applies,2), (consequences,2), (accustomed,2), (faisal,2), (bits,2), (depending,2), (halfway,2), (liking,2), (zero,2), (toyota,2), (graphx,2), (remeber,2), (creek,2), (performed,2), (misunderstood,2), (uniform,2), (propose,2), (underwent,2), (pain,2), (soviet,2), (cryptology,2), (select,2), (assumed,2), (query,2), (christmas,2), (dial,2), (adds,2), (yellow,2), (halogen,2), (turkey,2), (houston,2), (historical,2), (vital,2), (reza,2), (pitching,2), (choosing,2), (krilian,2), (giants,2), (georgia,2), (microcircuits,2), (originate,2), (harder,2), (usable,2), (sunday,2), (pennent,2), (bases,2), (bellcore,2), (complains,2), (informed,2), (hensley,2), (coordinator,2), (assume,2), (destroying,2), (purpose,2), (bounced,2), (merely,2), (impact,2), (temp,2), (rangers,2), (broadcasts,2), (morals,2), (inherently,2), (separately,2), (functioning,2), (champions,2), (biopsy,2), (sooner,2), (adirondack,2), (jersey,2), (advocating,2), (audrey,2), (reasoning,2), (beat,2), (mission,2), (foot,2), (forcing,2), (transponder,2), (decline,2), (omidvar,2), (risky,2), (catholics,2), (optional,2), (alert,2), (monitoring,2), (element,2), (safely,2), (aiken,2), (dieters,2), (female,2), (lived,2), (amusing,2), (flight,2), (methods,2), (filesystems,2), (career,2), (bother,2), (filter,2), (acquire,2), (yours,2), (defining,2), (utilities,2), (leaves,2), (finds,2), (continuing,2), (senior,2), (mithras,2), (recognize,2), (croats,2), (endorsement,2), (replacement,2), (spoke,2), (shifting,2), (untraceable,2), (justify,2), (screening,2), (predicted,2), (inside,2), (ignorance,2), (graphic,2), (lewis,2), (film,2), (tracks,2), (navigation,2), (implementor,2), (feeling,2), (homes,2), (punitive,2), (caucasian,2), (adopt,2), (brother,2), (proponents,2), (ashtray,2), (substantial,2), (sternlight,2), (actual,2), (active,2), (instances,2), (pixel,2), (awhile,2), (gears,2), (implemented,2), (head,2), (filtering,2), (preparing,2), (assurances,2), (collision,2), (employ,2), (signs,2), (tired,2), (pants,2), (microsystems,2), (married,2), (connect,2), (okay,2), (blaming,2), (fachbereich,2), (backpack,2), (idle,2), (animal,2), (stan,2), (cheney,2), (broad,2), (clayton,2), (kapos,2), (assess,2), (associate,2), (deliberately,2), (upon,2), (patch,2), (placebo,2), (ninja,2), (lighting,2), (rawlins,2), (roughly,2), (principle,2), (novell,2), (media,2), (destination,2), (username,2), (agents,2), (burns,2), (positions,2), (nitrogen,2), (complaints,2), (founding,2), (volcano,2), (electronically,2), (corrosion,2), (restored,2), (description,2), (characters,2), (attributed,2), (organizations,2), (stating,2), (preserve,2), (airline,2), (governments,2), (waste,2), (elections,2), (jefferson,2), (bundled,2), (byler,2), (rush,2), (lost,2), (fluidity,2), (areas,2), (turns,2), (curious,2), (elsewhere,2), (hitter,2), (commander,2), (melanoma,2), (disclaimers,2), (mosfet,2), (coalition,2), (cryptic,2), (pollution,2), (pioneer,2), (autonomy,2), (grounds,2), (peter,2), (resolved,2), (iowa,2), (goals,2), (safeties,2), (executive,2), (conflict,2), (shake,2), (outline,2), (mess,2), (programmed,2), (scale,2), (corp,2), (equivalent,2), (stall,2), (interference,2), (detector,2), (degree,2), (persons,2), (rectum,2), (behavior,2), (configuration,2), (blow,2), (resembles,2), (codes,2), (coastline,2), (fozzard,2), (lean,2), (exercise,2), (welcome,2), (nations,2), (leaders,2), (wheels,2), (reasonable,2), (greatly,2), (frequencies,2), (pinouts,2), (netware,2), (omissions,2), (cruelties,2), (infancy,2), (thursday,2), (fully,2), (portal,2), (funds,2), (inch,2), (cyclelok,2), (expert,2), (ecac,2), (glad,2), (measured,2), (aircraft,2), (literally,2), (promising,2), (journals,2), (products,2), (arguments,2), (loved,2), (claiming,2), (causing,2), (mario,2), (sales,2), (informatik,2), (facing,2), (switching,2), (winding,2), (corrupted,2), (expand,2), (referring,2), (numbers,2), (removed,2), (novel,2), (acknowledge,2), (taber,2), (gained,2), (craig,2), (naivete,2), (ripped,2), (answering,2), (secretary,2), (guided,2), (gift,2), (insure,2), (ultimately,2), (albert,2), (extent,2), (ryan,2), (attempts,2), (servicing,2), (vast,2), (resolution,2), (stock,2), (digest,2), (rate,2), (inscrutable,2), (arizona,2), (bore,2), (effectively,2), (beings,2), (vera,2), (pastors,2), (jump,2), (businesses,2), (anticancer,2), (morocco,2), (assertion,2), (allowed,2), (consistent,2), (trapdoors,2), (neat,2), (pushing,2), (arise,2), (perry,2), (liter,2), (belgian,2), (onto,2), (drink,2), (metals,2), (masses,2), (london,2), (wallboard,2), (hypocrisy,2), (hundred,2), (strictly,2), (oregon,2), (monster,2), (guilty,2), (sake,2), (pharmacopeial,2), (liar,2), (patches,2), (patent,2), (utilize,2), (cramer,2), (harvard,2), (symbolic,2), (resolve,2), (rare,2), (benchmarks,2), (shostack,2), (sarcasm,2), (dreams,2), (masking,2), (convince,2), (pack,2), (loyal,2), (route,2), (jasmine,2), (magic,2), (competitors,2), (vladimirov,2), (levels,2), (stated,2), (absence,2), (anabolic,2), (liberal,2), (folks,2), (hagase,2), (acceptance,2), (draws,2), (east,2), (lines,2), (dbase,2), (automation,2), (graphical,2), (prueba,2), (elements,2), (expos,2), (clue,2), (cash,2), (nikon,2), (divers,2), (breaking,2), (foundation,2), (civil,2), (arena,2), (frame,2), (conceptions,2), (gordon,2), (proscriptions,2), (maple,2), (markets,2), (calgary,2), (traced,2), (damned,2), (congruent,2), (primarily,2), (echo,2), (crucial,2), (ball,2), (haverford,2), (complicated,2), (firoozye,2), (null,2), (shai,2), (expelled,2), (cabin,2), (sender,2), (stefan,2), (mohammadi,2), (repair,2), (view,2), (impunity,2), (manager,2), (pancreas,2), (normal,2), (vacation,2), (shoot,2), (loads,2), (centre,2), (style,2), (predestination,2), (england,2), (completed,2), (chair,2), (budget,2), (proceeded,2), (tilt,2), (vendors,2), (minsoo,2), (krumins,2), (benefit,2), (precautions,2), (pulling,2), (sudden,2), (corps,2), (muzzah,2), (orion,2), (functions,2), (manuals,2), (minor,2), (relations,2), (awesome,2), (ultimate,2), (success,2), (emerge,2), (construed,2), (availability,2), (computation,2), (mirror,2), (instrument,2), (nutr,2), (personally,2), (financial,2), (laws,2), (respected,2), (mpeg,2), (assay,2), (charges,2), (sync,2), (minority,2), (enjoy,2), (slightest,2), (encounter,2), (extensive,2), (dineen,2), (aspen,2), (loving,2), (davis,2), (gear,2), (portion,2), (philosophy,2), (assuming,2), (confused,2), (cite,2), (departments,2), (satisfy,2), (intelligence,2), (excerpt,2), (prohibiting,2), (directories,2), (sideways,2), (pictures,2), (mutation,2), (slovenia,2), (acts,2), (evasion,2), (larger,2), (assorted,2), (shared,2), (specialist,2), (stands,2), (detectors,2), (flawed,2), (management,2), (speaker,2), (accessed,2), (existing,2), (healthcare,2), (norris,2), (cure,2), (letters,2), (count,2), (terminals,2), (ethnically,2), (marlin,2), (transmissions,2), (links,2), (stable,2), (invited,2), (reduces,2), (identified,2), (threatening,2), (authorization,2), (interpret,2), (flame,2), (interface,2), (leftover,2), (lighter,2), (convinced,2), (fisher,2), (missed,2), (planets,2), (legislation,2), (notification,2), (comprising,2), (store,2), (toleration,2), (lodge,2), (william,2), (observing,2), (wired,2), (assure,2), (accepted,2), (prompts,2), (drop,2), (horse,2), (purdue,2), (robust,2), (eric,2), (promotion,2), (hull,2), (regions,2), (plays,2), (philips,2), (workable,2), (explosive,2), (owned,2), (ridiculous,2), (underlying,2), (impartial,2), (subsequent,2), (locating,2), (buckeridge,2), (seconds,2), (tainted,2), (notes,2), (deuterocanon,2), (suspect,2), (errors,2), (hailstorm,2), (optimum,2), (recovery,2), (stanford,2), (forms,2), (goddard,2), (adolfo,2), (motor,2), (billboard,2), (chinet,2), (passing,2), (deviant,2), (syntax,2), (accommodate,2), (incompatible,2), (pratt,2), (cobra,2), (grants,2), (safeguards,2), (occurs,2), (encourage,2), (folding,2), (supremacy,2), (vacuum,2), (negative,2), (leafs,2), (handgun,2), (transmitter,2), (dividians,2), (barlow,2), (wolfkam,2), (bull,2), (walla,2), (florida,2), (blackhawks,2), (legendary,2), (registries,2), (conclusion,2), (pranks,2), (chief,2), (permission,2), (improvements,2), (evolve,2), (topic,2), (stupid,2), (blues,2), (activated,2), (arises,2), (square,2), (corporate,2), (updated,2), (newer,2), (sided,2), (growth,2), (dogs,2), (jews,2), (suprised,2), (rock,2), (proclaiming,2), (conspiracy,2), (liberty,2), (generations,2), (repeatedly,2), (omid,2), (earthquake,2), (binghamton,2), (phil,2), (exchange,2), (conspicuous,2), (pull,2), (quake,2), (referred,2), (postings,2), (cyberspace,2), (discrepancy,2), (sciences,2), (angeles,2), (clutch,2), (invisible,2), (transfer,2), (clemens,2), (referenced,2), (throughout,2), (provincial,2), (probability,2), (accounting,2), (suggests,2), (disrupt,2), (creating,2), (communicate,2), (emulate,2), (deserving,2), (intentional,2), (lucrative,2), (quick,2), (hangar,2), (bibliographic,2), (detailing,2), (victor,2), (spirit,2), (transmits,2), (extinguished,2), (terribly,2), (doubts,2), (wash,2), (automatically,2), (alien,2), (target,2), (summer,2), (upgrading,2), (bontchev,2), (photography,2), (listed,2), (chants,2), (discover,2), (inline,2), (luck,2), (postal,2), (across,2), (mykotronx,2), (accepts,2), (reviewed,2), (properly,2), (ascribe,2), (perform,2), (reads,2), (wang,2), (millions,2), (wider,2), (touch,2), (mormons,2), (france,2), (evaluate,2), (worldwide,2), (scheduled,2), (faced,2), (recording,2), (stunningly,2), (advances,2), (repercussions,2), (addressed,2), (trend,2), (plant,2), (ready,2), (specify,2), (austria,2), (dynamic,2), (affecting,2), (luis,2), (watches,2), (credit,2), (daniel,2), (relate,2), (vice,2), (ratio,2), (strips,2), (philippe,2), (condemned,2), (waiting,2), (phonenet,2), (threats,2), (range,2), (russ,2), (anyway,2), (processors,2), (header,2), (backgrounds,2), (fort,2), (provoking,2), (bluejays,2), (batf,2), (tries,2), (stimulates,2), (strikes,2), (terrorists,2), (bruce,2), (licensed,2), (faked,2), (workers,2), (inconsistent,2), (ollie,2), (baptist,2), (standby,2), (madrid,2), (emphysema,2), (origins,2), (features,2), (hebrew,2), (clarkson,2), (eternal,2), (remained,2), (grave,2), (starts,2), (sheep,2), (taxes,2), (hawk,2), (serbians,2), (soul,2), (churches,2), (particles,2), (limit,2), (nick,2), (driving,2), (glide,2), (vandalizing,2), (constitution,2), (rebuild,2), (stopped,2), (persistent,2), (hell,2), (resistance,2), (datos,2), (lacking,2), (masks,2), (attributes,2), (haphazard,2), (springfield,2), (certainty,2), (proprietary,2), (agrees,2), (environment,2), (impression,2), (visit,2), (spare,2), (seven,2), (examples,2), (forced,2), (maintenance,2), (diagnostic,2), (broken,2), (events,2), (possibly,2), (agent,2), (represented,2), (powerbooks,2), (south,2), (scattered,2), (conservative,2), (freemasonry,2), (jartsu,2), (offered,2), (component,2), (roman,2), (indicator,2), (rightwing,2), (hurt,2), (commerce,2), (reject,2), (skin,2), (dying,2), (irvine,2), (xlib,2), (serbs,2), (implementations,2), (breaches,2), (convertible,2), (plot,2), (connector,2), (doug,2), (production,2), (tactical,2), (accelerate,2), (infield,2), (clean,2), (protestants,2), (picking,2), (text,2), (ignoring,2), (guarantees,2), (pointed,2), (issued,2), (introduced,2), (filling,2), (tires,2), (centerline,2), (track,2), (association,2), (helsinki,2), (caveats,2), (brent,2), (central,2), (batteries,2), (gaza,2), (afraid,2), (logical,2), (period,2), (finding,2), (cyrix,2), (seemed,2), (pierrelatte,2), (beyond,2), (smoke,2), (schneider,2), (bolt,2), (opposing,2), (breakable,2), (utilizing,2), (foods,2), (describe,2), (grade,2), (jouni,2), (advocate,2), (carries,2), (maps,2), (half,2), (cancers,2), (extraordinarily,2), (gain,2), (criteria,2), (dunn,2), (committee,2), (scheme,2), (digitized,2), (khufu,2), (specialized,2), (mile,2), (update,2), (fortune,2), (reputation,2), (grounders,2), (context,2), (progressing,2), (calls,2), (thoroughly,2), (automatic,2), (barasso,2), (generated,2), (verify,2), (doctor,2), (treated,2), (king,2), (increasing,2), (hostage,2), (prepended,2), (random,2), (trannie,2), (thinks,2), (compared,2), (pseudouser,2), (direction,2), (besides,2), (registration,2), (shackle,2), (tanks,2), (greatest,2), (mars,2), (colon,2), (detect,2), (intelligent,2), (monthly,2), (disruptive,2), (obscure,2), (path,2), (pick,2), (surges,2), (mountain,2), (construct,2), (parish,2), (hostility,2), (nobleman,1), (conclusively,1), (taxpayer,1), (merge,1), (accomplished,1), (cream,1), (battering,1), (clients,1), (selective,1), (adda,1), (entry,1), (hurled,1), (revelations,1), (goofed,1), (pretend,1), (pauley,1), (transplantation,1), (consists,1), (classic,1), (exhibited,1), (msgs,1), (pathogenesis,1), (accessing,1), (piracy,1), (disbeliever,1), (compeling,1), (inappropriate,1), (capricious,1), (kielbasa,1), (surrey,1), (appearance,1), (stoning,1), (commonwealth,1), (builders,1), (hans,1), (slimy,1), (overwhelmingly,1), (museum,1), (permitted,1), (physiol,1), (sludge,1), (arogant,1), (develops,1), (exclusive,1), (telephony,1), (obstructing,1), (peeing,1), (procure,1), (melkonian,1), (rolfe,1), (sharing,1), (cage,1), (reacts,1), (hated,1), (guido,1), (grace,1), (table,1), (unsympathetic,1), (integration,1), (assayed,1), (unbelieving,1), (unchanging,1), (detracts,1), (paranoid,1), (exportability,1), (wayne,1), (wanting,1), (caught,1), (slayer,1), (burdett,1), (defend,1), (reached,1), (catharines,1), (addicts,1), (feat,1), (sooooooo,1), (unit,1), (beta,1), (naval,1), (scrounge,1), (brag,1), (manages,1), (fortunes,1), (kings,1), (athletic,1), (confidential,1), (telescope,1), (goodyear,1), (actuality,1), (similarly,1), (registered,1), (reputable,1), (lookup,1), (hour,1), (participate,1), (handed,1), (incremented,1), (molecular,1), (anachronistic,1), (dumbest,1), (immature,1), (standing,1), (incoming,1), (relativists,1), (ovid,1), (bladder,1), (pens,1), (silicone,1), (passage,1), (discuss,1), (dawn,1), (jumpstart,1), (dispute,1), (followup,1), (slows,1), (cerebral,1), (valve,1), (punished,1), (blown,1), (encrypted,1), (filmpak,1), (ruderman,1), (hormone,1), (finished,1), (regarded,1), (components,1), (dysplastic,1), (duplicating,1), (fuel,1), (nutty,1), (dumb,1), (destructive,1), (kipling,1), (postnatal,1), (hoaxes,1), (hydraulics,1), (argonne,1), (devastating,1), (bernoulli,1), (jane,1), (earth,1), (baking,1), (debatable,1), (lapses,1), (bigger,1), (craving,1), (sufficient,1), (manhattan,1), (bowl,1), (lesson,1), (specialty,1), (brandon,1), (harassing,1), (swansea,1), (beer,1), (anonymized,1), (heading,1), (cant,1), (journalists,1), (overturned,1), (fairing,1), (smokeless,1), (hatching,1), (betrayal,1), (purchasing,1), (whitman,1), (obed,1), (taurus,1), (ordering,1), (cosmic,1), (tight,1), (thermals,1), (exerting,1), (mighty,1), (terminal,1), (constant,1), (ocnoo,1), (survivor,1), (ineffective,1), (adheres,1), (explanations,1), (alternate,1), (rages,1), (cleared,1), (tipped,1), (shock,1), (bear,1), (whois,1), (german,1), (observatory,1), (mgnoc,1), (peterborough,1), (operations,1), (embarassment,1), (methodologically,1), (figure,1), (babbitt,1), (worse,1), (fits,1), (stopping,1), (questionable,1), (consistant,1), (wolf,1), (facial,1), (girl,1), (brain,1), (modes,1), (training,1), (died,1), (comparable,1), (danforth,1), (inflatable,1), (offenders,1), (linears,1), (waters,1), (struggles,1), (nuclear,1), (ported,1), (densely,1), (iben,1), (hypothesis,1), (haveing,1), (bridges,1), (dots,1), (adulterous,1), (provisions,1), (squashed,1), (reactions,1), (hughes,1), (antithesis,1), (density,1), (conducting,1), (antonio,1), (filled,1), (stewart,1), (embedded,1), (husseini,1), (graph,1), (canucks,1), (perennial,1), (pissed,1), (citrus,1), (pitfall,1), (echoed,1), (constructed,1), (wherever,1), (coast,1), (neal,1), (origin,1), (governmental,1), (column,1), (sacrifices,1), (buying,1), (flag,1), (intel,1), (amperage,1), (victory,1), (murdered,1), (subfile,1), (duty,1), (pontiac,1), (allan,1), (warrants,1), (floppy,1), (summaries,1), (beside,1), (examines,1), (defence,1), (preceded,1), (trunk,1), (entertaining,1), (excerpts,1), (bothering,1), (appressian,1), (comprised,1), (pellet,1), (temporal,1), (exhaust,1), (deleting,1), (misconceptions,1), (threatened,1), (render,1), (ward,1), (physically,1), (stumble,1), (confidentiality,1), (varies,1), (supersede,1), (pseudonymity,1), (hail,1), (identifying,1), (discerning,1), (zinc,1), (rocker,1), (disagreeing,1), (static,1), (subversive,1), (neeeds,1), (collecting,1), (pound,1), (unstable,1), (inches,1), (compares,1), (joshua,1), (whereby,1), (approximatly,1), (interactive,1), (seeped,1), (upgrade,1), (stuck,1), (occasional,1), (enterprises,1), (dashnakist,1), (vote,1), (recordkeeping,1), (momentum,1), (anatomically,1), (charged,1), (yearwood,1), (modify,1), (packard,1), (fulfillment,1), (postmaster,1), (impedance,1), (weather,1), (japan,1), (tutorial,1), (remarkably,1), (planetary,1), (smithkline,1), (append,1), (detected,1), (jamnia,1), (hardcopy,1), (delivered,1), (counts,1), (generators,1), (scientist,1), (inforcement,1), (dialing,1), (subset,1), (door,1), (theists,1), (revealed,1), (chose,1), (boaz,1), (arousing,1), (utica,1), (petrochemical,1), (argic,1), (channels,1), (poised,1), (rectification,1), (transmit,1), (unbreakable,1), (borrowed,1), (centris,1), (bloc,1), (loran,1), (fpus,1), (tissues,1), (cutting,1), (toro,1), (compel,1), (confuses,1), (advocates,1), (jimmy,1), (allocating,1), (pierson,1), (precluded,1), (emulating,1), (filip,1), (aerostitch,1), (strange,1), (preservation,1), (allen,1), (probert,1), (secondary,1), (cartridges,1), (sides,1), (moslems,1), (livni,1), (summarizes,1), (cache,1), (variations,1), (converts,1), (fanatic,1), (retained,1), (simplified,1), (dope,1), (favorite,1), (slamed,1), (spaced,1), (competitiveness,1), (demonstrate,1), (gord,1), (curable,1), (wielded,1), (updates,1), (compelling,1), (wiretapping,1), (astrophysics,1), (angelo,1), (dodges,1), (fallacy,1), (remids,1), (uterus,1), (harness,1), (dist,1), (fanatically,1), (experiments,1), (copied,1), (faded,1), (occurrences,1), (sequences,1), (paycheck,1), (tray,1), (choices,1), (mapping,1), (usual,1), (unorganized,1), (accounted,1), (food,1), (instituting,1), (nina,1), (tendancy,1), (reproduction,1), (similiar,1), (dissociate,1), (pressurized,1), (gasoline,1), (stanky,1), (undergoing,1), (interpreted,1), (alot,1), (heating,1), (cabling,1), (fiber,1), (racing,1), (snuff,1), (quicker,1), (islamic,1), (tourist,1), (intercepting,1), (perspective,1), (knocking,1), (valuable,1), (colons,1), (shneyder,1), (restricting,1), (wall,1), (frank,1), (overt,1), (noncancerous,1), (divert,1), (taces,1), (attacking,1), (reality,1), (hidden,1), (minimum,1), (confrontation,1), (flicked,1), (compounds,1), (doctrine,1), (comfortable,1), (winged,1), (nonlocal,1), (croppers,1), (tougher,1), (coldest,1), (proceeding,1), (village,1), (promises,1), (smirk,1), (saves,1), (electrolyte,1), (reverse,1), (affects,1), (meetings,1), (accidents,1), (glance,1), (equilibrium,1), (blowing,1), (bureau,1), (bhamani,1), (frequent,1), (voluntary,1), (garvas,1), (woulds,1), (rite,1), (debunks,1), (unsuspecting,1), (surreptitious,1), (nova,1), (corn,1), (fountain,1), (brilliantly,1), (endorsed,1), (timothy,1), (therefrom,1), (primers,1), (fullfill,1), (miscellaneous,1), (spilling,1), (eagle,1), (enjoyed,1), (pete,1), (conscious,1), (limits,1), (innocent,1), (kaats,1), (earlier,1), (schocked,1), (michigan,1), (bona,1), (autotrace,1), (sabotage,1), (darned,1), (shop,1), (hiking,1), (kirsch,1), (dictatorship,1), (serving,1), (uncompetitive,1), (padlock,1), (majors,1), (anon,1), (tracked,1), (transmitting,1), (submerge,1), (practicing,1), (pressurization,1), (fiberglass,1), (meditation,1), (confined,1), (vangus,1), (replies,1), (pinch,1), (algorithms,1), (blum,1), (consecration,1), (detailed,1), (lady,1), (possession,1), (bertrand,1), (ursula,1), (fender,1), (motive,1), (conceive,1), (increased,1), (porsche,1), (juridiction,1), (aeronautical,1), (diserve,1), (airwaves,1), (removal,1), (grateful,1), (duration,1), (providers,1), (metropolitan,1), (stat,1), (jumping,1), (spesifications,1), (ironic,1), (flash,1), (ammo,1), (unborn,1), (tape,1), (ordinary,1), (plots,1), (garfiel,1), (sibling,1), (dealt,1), (unprecedented,1), (priority,1), (package,1), (twin,1), (reviewing,1), (massacres,1), (sysadmin,1), (trucks,1), (movements,1), (unconnected,1), (magazine,1), (qualified,1), (reagan,1), (debacle,1), (moore,1), (biol,1), (suggesting,1), (chase,1), (indicating,1), (midelfort,1), (troop,1), (conventional,1), (prominent,1), (draw,1), (forcibly,1), (slack,1), (pseudo,1), (babies,1), (failing,1), (someother,1), (marrow,1), (investigators,1), (inexpensive,1), (amalgam,1), (eggert,1), (conceptual,1), (insect,1), (lowenstein,1), (pads,1), (cross,1), (vision,1), (knob,1), (hemisphere,1), (shook,1), (puts,1), (facilitate,1), (inflexible,1), (insight,1), (locate,1), (moonbase,1), (daylong,1), (occur,1), (hinchakist,1), (winbench,1), (nuntius,1), (mainly,1), (hitler,1), (leefing,1), (electron,1), (propects,1), (danielle,1), (inclineth,1), (hablar,1), (fledgling,1), (optimal,1), (hearing,1), (devastation,1), (paramedic,1), (ruin,1), (ames,1), (bowyer,1), (concern,1), (segments,1), (kent,1), (mysterious,1), (boise,1), (kidson,1), (poems,1), (insulted,1), (regulating,1), (oscilliscopes,1), (harassment,1), (kluskens,1), (idiots,1), (wetteland,1), (decorative,1), (hugh,1), (thoyages,1), (category,1), (ring,1), (silencing,1), (interfacing,1), (stab,1), (nifty,1), (complicates,1), (micrograph,1), (kirzyc,1), (promote,1), (flea,1), (essex,1), (yesterday,1), (powered,1), (anarchists,1), (economies,1), (coils,1), (planet,1), (scoop,1), (faces,1), (signficant,1), (elliptic,1), (smtp,1), (disagreement,1), (jody,1), (lured,1), (admitted,1), (baritone,1), (leaf,1), (calories,1), (potvin,1), (mountaineers,1), (spending,1), (chatham,1), (efficacy,1), (existed,1), (aging,1), (dashing,1), (repeats,1), (patrick,1), (dogmatic,1), (falls,1), (antitrust,1), (perverting,1), (indepedent,1), (introduces,1), (gusts,1), (hoop,1), (flow,1), (spend,1), (fainting,1), (principal,1), (speeds,1), (automated,1), (minus,1), (brown,1), (alias,1), (groping,1), (icic,1), (coward,1), (settlements,1), (abel,1), (nicknamed,1), (healers,1), (shovels,1), (inner,1), (turner,1), (citing,1), (guday,1), (carmel,1), (petty,1), (rubber,1), (satellites,1), (explicit,1), (honda,1), (admonished,1), (cypherpunks,1), (mastectomy,1), (hagalo,1), (misc,1), (dirtiest,1), (slamming,1), (njihk,1), (shap,1), (sidewalk,1), (extreme,1), (shamir,1), (religiously,1), (mounts,1), (feuding,1), (integra,1), (probe,1), (ablex,1), (discretion,1), (smaller,1), (absood,1), (pope,1), (annihilation,1), (institutionalised,1), (lump,1), (myeloma,1), (magick,1), (averages,1), (discouraged,1), (hanging,1), (rape,1), (sitting,1), (appointments,1), (unattended,1), (daytona,1), (universite,1), (radical,1), (wireless,1), (inhuman,1), (spiff,1), (northern,1), (drops,1), (untill,1), (coins,1), (caca,1), (muscles,1), (danny,1), (promoted,1), (occult,1), (needing,1), (smear,1), (independence,1), (bielinski,1), (jabs,1), (shining,1), (motivation,1), (typed,1), (escaping,1), (licenses,1), (daylight,1), (suppl,1), (collective,1), (economical,1), (watched,1), (scolnick,1), (mosque,1), (turnbull,1), (newark,1), (illegitimate,1), (bangles,1), (drain,1), (hamfest,1), (rethought,1), (authors,1), (trans,1), (charge,1), (canyon,1), (hinges,1), (mailer,1), (colorful,1), (resembling,1), (futility,1), (gloves,1), (shimon,1), (trannies,1), (execution,1), (implied,1), (shorting,1), (pearson,1), (walker,1), (sanjay,1), (detent,1), (occasions,1), (prior,1), (costly,1), (nissan,1), (absences,1), (throw,1), (carlos,1), (fxwg,1), (advocacy,1), (immoblisers,1), (voltmeter,1), (realized,1), (exists,1), (fifty,1), (technological,1), (felix,1), (decree,1), (licencing,1), (kotb,1), (artificial,1), (exacerbate,1), (rosary,1), (disgusted,1), (targetted,1), (erased,1), (checkups,1), (timely,1), (syncs,1), (seek,1), (barrel,1), (pressurize,1), (destroy,1), (intercept,1), (bank,1), (larynx,1), (gurus,1), (metodo,1), (everest,1), (biblical,1), (undefined,1), (landscaping,1), (fantasy,1), (nuts,1), (catholicism,1), (eyes,1), (idndication,1), (perceptions,1), (arranged,1), (dated,1), (spitting,1), (scrambles,1), (hassan,1), (inimitable,1), (emcon,1), (snarling,1), (length,1), (horrer,1), (weak,1), (boyhood,1), (weaver,1), (turneth,1), (counted,1), (handled,1), (testamony,1), (requiring,1), (wibbling,1), (warfare,1), (assumptions,1), (nikei,1), (flee,1), (debe,1), (secrecy,1), (desea,1), (scaned,1), (responsibilities,1), (surrogate,1), (orange,1), (safeguarding,1), (mariner,1), (assessment,1), (passwords,1), (technically,1), (relating,1), (perre,1), (miata,1), (offsets,1), (deliberation,1), (utter,1), (satisfactory,1), (censoring,1), (geometry,1), (shawsheen,1), (straight,1), (hits,1), (ascent,1), (freemason,1), (characteristics,1), (palo,1), (mcgill,1), (cook,1), (nonmedical,1), (gold,1), (avoided,1), (publication,1), (abstain,1), (craft,1), (dartmouth,1), (dictate,1), (questioning,1), (montreal,1), (felder,1), (stature,1), (noted,1), (inher,1), (reminds,1), (readable,1), (socially,1), (teachings,1), (hooker,1), (mythology,1), (disappointed,1), (keeper,1), (forsale,1), (ignited,1), (capacity,1), (representing,1), (surround,1), (bucky,1), (sunos,1), (encouraging,1), (whatsoever,1), (benevolent,1), (enter,1), (negotiations,1), (appeared,1), (tricky,1), (hesketh,1), (smythe,1), (unghost,1), (codify,1), (tension,1), (seattle,1), (simon,1), (roommate,1), (emerging,1), (abortion,1), (aiding,1), (feature,1), (flavor,1), (opposition,1), (antennae,1), (silvio,1), (thief,1), (restrain,1), (laying,1), (venomous,1), (offensiveness,1), (ejected,1), (pros,1), (undergraduates,1), (norway,1), (lowest,1), (bubba,1), (effectiveness,1), (barfly,1), (assaulted,1), (corinthians,1), (mathes,1), (mutations,1), (rode,1), (verbatim,1), (untested,1), (controversy,1), (byte,1), (forgive,1), (bread,1), (genes,1), (materials,1), (diagnosticar,1), (preferably,1), (injected,1), (decode,1), (handbook,1), (remedies,1), (mangled,1), (snake,1), (markov,1), (worship,1), (treatable,1), (amorphous,1), (talent,1), (rocks,1), (happend,1), (magnetic,1), (fiddle,1), (seasons,1), (viewer,1), (landed,1), (insuance,1), (evolving,1), (link,1), (bump,1), (sport,1), (metabolic,1), (withdrew,1), (ovni,1), (originations,1), (partially,1), (aziz,1), (feeding,1), (bioactive,1), (employment,1), (avoidance,1), (framework,1), (phils,1), (burton,1), (unbelievers,1), (documents,1), (welfare,1), (consultations,1), (delays,1), (arlington,1), (religions,1), (shieldings,1), (frightened,1), (freychet,1), (plain,1), (differ,1), (breton,1), (acquaint,1), (scheduling,1), (asset,1), (disable,1), (essential,1), (skirmish,1), (sincerely,1), (surrender,1), (dispicable,1), (deny,1), (multiplies,1), (accesses,1), (whitewash,1), (preclinical,1), (delegation,1), (fraction,1), (hippocrates,1), (variable,1), (resistive,1), (taxation,1), (score,1), (indicators,1), (instinctive,1), (toolkit,1), (infeasible,1), (wilcox,1), (forwards,1), (impressed,1), (destruction,1), (egregious,1), (mineral,1), (rely,1), (precisely,1), (permanent,1), (thrilled,1), (aliases,1), (declared,1), (adequate,1), (deep,1), (spaceman,1), (hummingbird,1), (pointing,1), (tragedy,1), (inferior,1), (septuagint,1), (woodruff,1), (presure,1), (reallocated,1), (plenty,1), (gains,1), (serves,1), (clicking,1), (ecole,1), (corrsponding,1), (resident,1), (damaging,1), (disimelar,1), (influences,1), (consideration,1), (contract,1), (condone,1), (chiasson,1), (million,1), (playoffs,1), (objections,1), (refer,1), (orchestrated,1), (heathkit,1), (bianchi,1), (laughed,1), (distributors,1), (overlaid,1), (certificates,1), (palace,1), (assists,1), (relation,1), (jerk,1), (hugged,1), (doubledisk,1), (confirm,1), (wiring,1), (january,1), (concentrate,1), (pavel,1), (lined,1), (believer,1), (afairs,1), (yelsen,1), (thirds,1), (ovraz,1), (eternally,1), (troubling,1), (pair,1), (tracing,1), (bite,1), (expectation,1), (surgeons,1), (october,1), (kurdish,1), (rank,1), (respectable,1), (swii,1), (pitted,1), (defendants,1), (illicit,1), (interior,1), (megadrive,1), (countering,1), (secretory,1), (semen,1), (sterling,1), (incomplete,1), (centers,1), (defused,1), (fool,1), (competion,1), (quest,1), (reyn,1), (mating,1), (svoboda,1), (magnified,1), (unpopular,1), (layman,1), (estate,1), (impair,1), (joint,1), (marshall,1), (modifying,1), (aside,1), (ideology,1), (europeans,1), (burned,1), (unclear,1), (relative,1), (wires,1), (condemning,1), (spur,1), (inferences,1), (sidearms,1), (ecclesiastes,1), (acker,1), (believed,1), (kidney,1), (influencing,1), (outlawing,1), (decreased,1), (pitchers,1), (waves,1), (ently,1), (lone,1), (ghosted,1), (models,1), (informatique,1), (jura,1), (groans,1), (shun,1), (bright,1), (proportionally,1), (ceremony,1), (occurring,1), (adverse,1), (outfielders,1), (constitute,1), (immediately,1), (princeton,1), (cord,1), (garbages,1), (ethinic,1), (invadable,1), (heavily,1), (pfizer,1), (balance,1), (disclock,1), (ballot,1), (zillions,1), (simchik,1), (qualifications,1), (sixth,1), (threatens,1), (laval,1), (batch,1), (recordings,1), (noticeable,1), (versus,1), (toda,1), (overcome,1), (stamber,1), (nist,1), (excitement,1), (infrequently,1), (mailed,1), (borsato,1), (celsius,1), (chocolate,1), (paint,1), (hoped,1), (warf,1), (myth,1), (brute,1), (dumping,1), (donor,1), (accumulated,1), (modeled,1), (suggestion,1), (bottle,1), (logged,1), (decrease,1), (forfeited,1), (viper,1), (wives,1), (motion,1), (twisty,1), (commanded,1), (continuously,1), (borut,1), (igorant,1), (failure,1), (sporting,1), (perliminary,1), (unto,1), (stir,1), (wiggling,1), (occupied,1), (tasmania,1), (cruptology,1), (trevor,1), (matt,1), (struck,1), (plague,1), (dictionary,1), (oven,1), (partition,1), (palm,1), (adams,1), (revoke,1), (frequency,1), (somalia,1), (simulated,1), (abve,1), (folk,1), (wainwright,1), (bunch,1), (privileges,1), (kiefer,1), (analyst,1), (formulating,1), (stooped,1), (alexander,1), (unfortunately,1), (achievements,1), (simultaneously,1), (rabid,1), (gleaned,1), (clamoring,1), (reputations,1), (grandfather,1), (analysing,1), (minute,1), (favor,1), (nevi,1), (concours,1), (reversal,1), (implements,1), (presidential,1), (disinformation,1), (resitance,1), (cheaper,1), (infinite,1), (delighted,1), (concludes,1), (bullhorn,1), (checklist,1), (millivolt,1), (vitality,1), (logout,1), (attribute,1), (quantified,1), (penalized,1), (acting,1), (henderson,1), (routes,1), (portions,1), (subtlety,1), (formatted,1), (glossary,1), (flew,1), (whiting,1), (beed,1), (arriving,1), (serbian,1), (emgo,1), (wooded,1), (disadvantages,1), (reformat,1), (incorrectly,1), (blast,1), (awaiting,1), (occuring,1), (mountainous,1), (cabletron,1), (represent,1), (injustice,1), (stickiness,1), (distrust,1), (scaffolding,1), (ipika,1), (deduced,1), (scanrates,1), (metz,1), (loop,1), (stripping,1), (relationship,1), (recogniton,1), (ranch,1), (knowingly,1), (marttila,1), (cursed,1), (insignificant,1), (returning,1), (pannon,1), (tankers,1), (rejected,1), (bound,1), (laid,1), (braun,1), (inet,1), (chaplain,1), (nekkid,1), (succeed,1), (defensively,1), (tumbling,1), (watt,1), (constitutional,1), (quiet,1), (beneficial,1), (date,1), (contribution,1), (kalis,1), (trim,1), (societies,1), (depressing,1), (narrative,1), (wished,1), (univariate,1), (negotiate,1), (proxy,1), (robertson,1), (xrolo,1), (supplied,1), (switches,1), (encountered,1), (existance,1), (doctoral,1), (incinerate,1), (neoucom,1), (exterior,1), (disagree,1), (testis,1), (irrelevant,1), (binhex,1), (walz,1), (faceshield,1), (worshipping,1), (extensions,1), (vanheyningen,1), (vertical,1), (mitigate,1), (respect,1), (specified,1), (burlington,1), (hafner,1), (sought,1), (slavic,1), (thread,1), (annoyed,1), (mankind,1), (fallen,1), (pseudonym,1), (interim,1), (hypothesized,1), (diplomatic,1), (revised,1), (genocidal,1), (curt,1), (favorable,1), (overnight,1), (crowded,1), (exclude,1), (alternator,1), (teeth,1), (kondis,1), (attractions,1), (cookson,1), (syncro,1), (simulate,1), (sold,1), (trends,1), (pastoral,1), (honolulu,1), (jokes,1), (accpeting,1), (grounded,1), (hdtv,1), (columnist,1), (nielsen,1), (flyer,1), (briarcliff,1), (combo,1), (licensing,1), (locally,1), (defense,1), (complex,1), (powerless,1), (ineffect,1), (elder,1), (circuitry,1), (legitimately,1), (tate,1), (venerable,1), (evacuated,1), (vocabularly,1), (writers,1), (printer,1), (satisfied,1), (jacket,1), (dents,1), (lane,1), (ethical,1), (jobs,1), (basenotes,1), (readme,1), (sexist,1), (locus,1), (neeley,1), (comonist,1), (harmoniously,1), (interchanged,1), (breasts,1), (tammy,1), (dear,1), (biased,1), (district,1), (doublespacing,1), (graham,1), (stage,1), (hassle,1), (moves,1), (sickened,1), (unintentional,1), (examenes,1), (edit,1), (decipher,1), (lackeys,1), (memoribilia,1), (dialog,1), (collier,1), (sunset,1), (clouds,1), (fahrvergnugen,1), (clearly,1), (covenant,1), (underestimate,1), (decisive,1), (standout,1), (event,1), (atheist,1), (pizza,1), (watson,1), (gridline,1), (irreversibly,1), (extortion,1), (challenges,1), (unrelated,1), (improved,1), (dual,1), (atal,1), (kerosine,1), (pencom,1), (lilly,1), (lang,1), (supercede,1), (hypoth,1), (eindhoven,1), (supernatural,1), (pleasures,1), (hooked,1), (originally,1), (sacred,1), (centrally,1), (technician,1), (rotaract,1), (messdos,1), (duesseldorf,1), (spoken,1), (resulted,1), (topics,1), (estimated,1), (misses,1), (swiftly,1), (socialists,1), (battle,1), (pray,1), (stud,1), (disguising,1), (informs,1), (nntp,1), (fulfill,1), (scene,1), (silvia,1), (langley,1), (dissent,1), (lesse,1), (grid,1), (prostate,1), (tacked,1), (exert,1), (ithaca,1), (kirlian,1), (reasonably,1), (maintextsw,1), (noyes,1), (soldier,1), (teenagers,1), (trips,1), (raised,1), (cooperate,1), (huot,1), (passenger,1), (disappeared,1), (odds,1), (mammogram,1), (keystrokes,1), (predictor,1), (dalhousie,1), (handy,1), (strengthen,1), (glib,1), (star,1), (dkril,1), (bedroom,1), (oppose,1), (weapon,1), (balon,1), (armaque,1), (boeing,1), (dixon,1), (greek,1), (cuello,1), (harkey,1), (stylewriter,1), (forgiven,1), (responds,1), (browning,1), (refuse,1), (deja,1), (holocaust,1), (dominates,1), (rectify,1), (likelihood,1), (gantz,1), (caveat,1), (coronal,1), (cookie,1), (lyall,1), (firefighters,1), (superhighway,1), (smells,1), (courses,1), (punching,1), (booting,1), (roar,1), (mdssc,1), (packet,1), (terrific,1), (unlike,1), (globally,1), (follows,1), (surplus,1), (oncologists,1), (amoral,1), (nationalist,1), (reviewers,1), (digits,1), (index,1), (synthesis,1), (intentionally,1), (cables,1), (denying,1), (refuting,1), (located,1), (marked,1), (linux,1), (pomona,1), (brady,1), (turk,1), (illness,1), (markoff,1), (guitar,1), (befalling,1), (antithetical,1), (confine,1), (recourse,1), (minaher,1), (waldmann,1), (rooster,1), (subsidize,1), (uscg,1), (supremely,1), (trashing,1), (regularity,1), (coles,1), (beating,1), (corrective,1), (arctic,1), (manufactures,1), (exposed,1), (rammed,1), (thumb,1), (earl,1), (speaking,1), (cardinal,1), (emissions,1), (disappoints,1), (rookies,1), (particulars,1), (preferences,1), (bigots,1), (pharoahs,1), (suburbs,1), (arbitary,1), (commentators,1), (equality,1), (phillies,1), (intermission,1), (bitching,1), (regards,1), (hollister,1), (stiehm,1), (endless,1), (lion,1), (suffield,1), (beforehand,1), (creationism,1), (load,1), (developpement,1), (universally,1), (quimioterapia,1), (driveline,1), (protections,1), (reflected,1), (violate,1), (shades,1), (pitches,1), (denver,1), (carpenter,1), (saving,1), (squibb,1), (friction,1), (brien,1), (boorstin,1), (evolutionists,1), (flaming,1), (interchange,1), (reconstruction,1), (victim,1), (flown,1), (lets,1), (interplanetary,1), (proportion,1), (lesser,1), (introducing,1), (headers,1), (bryan,1), (triggering,1), (afflicted,1), (tonne,1), (teemu,1), (clement,1), (panasonic,1), (attached,1), (memorable,1), (macintosh,1), (surey,1), (justifying,1), (rationalize,1), (nomenclature,1), (encrypting,1), (conlon,1), (surgery,1), (thick,1), (moto,1), (desirable,1), (parlour,1), (clamp,1), (wintry,1), (taskilise,1), (dismantle,1), (amnon,1), (endlessly,1), (sophistication,1), (whine,1), (trimble,1), (kaczmarek,1), (brains,1), (tough,1), (glens,1), (irish,1), (haggling,1), (fooled,1), (execute,1), (supporting,1), (taste,1), (caffeine,1), (strength,1), (racking,1), (atmospheres,1), (ardrey,1), (inspectorate,1), (quotations,1), (tracer,1), (shield,1), (phylicia,1), (mccoy,1), (boecom,1), (returns,1), (screens,1), (svga,1), (buffalo,1), (fraught,1), (garry,1), (intensify,1), (lymphoma,1), (idiot,1), (reviewer,1), (beset,1), (imply,1), (cindy,1), (futile,1), (preserves,1), (holley,1), (scarborough,1), (encompasses,1), (atheism,1), (bodily,1), (punctuated,1), (aided,1), (tuus,1), (lies,1), (loves,1), (redesign,1), (resaerch,1), (allegheny,1), (suppression,1), (fifteen,1), (valley,1), (awareness,1), (severely,1), (isaiah,1), (dolgo,1), (condition,1), (spelled,1), (armenian,1), (agency,1), (relic,1), (hormones,1), (unplug,1), (unsuccessful,1), (idiomatic,1), (permitting,1), (fron,1), (fails,1), (broadcast,1), (detectable,1), (guin,1), (operative,1), (apocryphal,1), (camera,1), (heck,1), (notion,1), (dives,1), (listeners,1), (confirmed,1), (occasionally,1), (hawaii,1), (zealand,1), (telephones,1), (heads,1), (glaxo,1), (verifying,1), (axial,1), (aline,1), (punishing,1), (koran,1), (attempting,1), (surprised,1), (synchros,1), (relay,1), (sparcstation,1), (painfull,1), (clause,1), (howland,1), (truck,1), (brutally,1), (donated,1), (certified,1), (dipshit,1), (specifies,1), (owner,1), (laboratories,1), (subtle,1), (visiting,1), (disclaimer,1), (stacked,1), (lumpectomy,1), (weisberger,1), (pays,1), (nonsense,1), (woefully,1), (flexibility,1), (edge,1), (birth,1), (conformant,1), (kendall,1), (ethnic,1), (participating,1), (notesfile,1), (relevance,1), (reaction,1), (sabre,1), (nazis,1), (intended,1), (institutions,1), (guard,1), (educational,1), (tuff,1), (enship,1), (depended,1), (programming,1), (sverdrup,1), (omniscient,1), (forget,1), (dream,1), (postscript,1), (damsus,1), (apostles,1), (divine,1), (factor,1), (magnum,1), (cuts,1), (salvation,1), (alluded,1), (examination,1), (password,1), (creative,1), (simpleton,1), (origination,1), (burn,1), (exceptionally,1), (revived,1), (altitudes,1), (walled,1), (biham,1), (nonexistent,1), (ofislamic,1), (velapold,1), (bloody,1), (maredsous,1), (selected,1), (crain,1), (ground,1), (biology,1), (wing,1), (inevitability,1), (worthy,1), (especialista,1), (residue,1), (prelude,1), (exports,1), (brett,1), (happier,1), (strongest,1), (defined,1), (pumped,1), (accelerator,1), (simplest,1), (cons,1), (garble,1), (tactics,1), (philadelphia,1), (turning,1), (inaccurate,1), (negotiation,1), (backrest,1), (moslem,1), (cigarettes,1), (eckenwiler,1), (palestine,1), (scanning,1), (compact,1), (thermal,1), (novels,1), (coments,1), (block,1), (easier,1), (persists,1), (consulted,1), (wife,1), (theist,1), (magazines,1), (purely,1), (apocalyptic,1), (recurring,1), (cape,1), (navajo,1), (mancus,1), (governing,1), (enabled,1), (counseling,1), (correspond,1), (safe,1), (prohibit,1), (intercepted,1), (mithraic,1), (sabin,1), (amusement,1), (procedure,1), (cinder,1), (alphabetic,1), (rapidly,1), (fides,1), (concepts,1), (angle,1), (mithra,1), (ethically,1), (resent,1), (riding,1), (russotto,1), (contained,1), (recommends,1), (seleccion,1), (sean,1), (establish,1), (weekly,1), (orioles,1), (engineer,1), (flyers,1), (inode,1), (cervix,1), (kryptonite,1), (scientists,1), (treatments,1), (inherit,1), (sprang,1), (precise,1), (asserted,1), (corruption,1), (bashed,1), (slider,1), (limiting,1), (soggy,1), (uranium,1), (summa,1), (leader,1), (unscrewing,1), (admonitions,1), (oscilloscope,1), (errr,1), (subjects,1), (wrigley,1), (compensate,1), (invariably,1), (patented,1), (disorganized,1), (band,1), (missouri,1), (nottingham,1), (remains,1), (xtconvertargrec,1), (screaming,1), (knowledgeble,1), (labelled,1), (pittman,1), (recovered,1), (profile,1), (returned,1), (leather,1), (desires,1), (sells,1), (jester,1), (multivariate,1), (melbourne,1), (exchanged,1), (stages,1), (trap,1), (untreatable,1), (crazy,1), (quitting,1), (liars,1), (submitted,1), (realtime,1), (resumed,1), (thet,1), (multitude,1), (vnews,1), (peres,1), (mirsky,1), (ethnicity,1), (attacked,1), (totalitarianism,1), (excluding,1), (treadway,1), (prevents,1), (examiner,1), (connections,1), (unfortunate,1), (mitre,1), (litwin,1), (suspicion,1), (isolate,1), (articles,1), (rounds,1), (intrinsic,1), (evade,1), (polymerase,1), (virginity,1), (chapter,1), (rating,1), (libraries,1), (participation,1), (happily,1), (vulgarity,1), (clearing,1), (closely,1), (chances,1), (phosphor,1), (anatolia,1), (birthday,1), (informing,1), (composite,1), (gregory,1), (challenge,1), (tyranny,1), (graeme,1), (grids,1), (occupation,1), (deficiency,1), (replugged,1), (familiarity,1), (ramstein,1), (unplugged,1), (gsfc,1), (footnotes,1), (competence,1), (anonymizes,1), (serdar,1), (electronics,1), (pengiuns,1), (bent,1), (jokingly,1), (hasten,1), (unfair,1), (forward,1), (popping,1), (refined,1), (tolerant,1), (fehlmann,1), (lipposuction,1), (december,1), (amuse,1), (escalation,1), (schutz,1), (prolonging,1), (manuscripts,1), (imho,1), (blackout,1), (danger,1), (restoring,1), (prepare,1), (confirms,1), (roads,1), (roles,1), (sympathy,1), (suffer,1), (beauchaine,1), (firearms,1), (delino,1), (foreknown,1), (disposed,1), (chatterjee,1), (arafat,1), (reducing,1), (trygon,1), (xmform,1), (photos,1), (uniforum,1), (fires,1), (honored,1), (utilties,1), (intermediate,1), (evolutionary,1), (lican,1), (beautiful,1), (complelled,1), (clone,1), (britain,1), (european,1), (alarming,1), (simms,1), (convenience,1), (invest,1), (philosopher,1), (displays,1), (shariff,1), (parishioners,1), (beth,1), (excalibur,1), (deeds,1), (showing,1), (declining,1), (gould,1), (reaching,1), (biggest,1), (kubelwagen,1), (standings,1), (beads,1), (weekend,1), (switched,1), (thisat,1), (madison,1), (invade,1), (bloodhook,1), (burroughs,1), (succeeded,1), (adjust,1), (silence,1), (matching,1), (canonically,1), (scrables,1), (vastly,1), (lawful,1), (explore,1), (chmod,1), (catalog,1), (quantum,1), (curve,1), (decription,1), (abhored,1), (inadequate,1), (supplying,1), (constantly,1), (ridiculed,1), (gerald,1), (contra,1), (chunk,1), (overcomes,1), (owns,1), (slated,1), (slew,1), (seventh,1), (swett,1), (hardened,1), (butt,1), (northeastern,1), (lemon,1), (thermogenic,1), (instructor,1), (lazers,1), (electricity,1), (nationale,1), (labeled,1), (yadallee,1), (incarcerated,1), (accountable,1), (writings,1), (darse,1), (struggle,1), (steering,1), (apples,1), (preference,1), (hall,1), (dose,1), (academia,1), (gridlines,1), (whats,1), (cube,1), (denning,1), (cheryl,1), (gruffness,1), (implementing,1), (surrounds,1), (promotes,1), (sucked,1), (kach,1), (ventilation,1), (relief,1), (gallant,1), (entitled,1), (endurance,1), (begin,1), (rememdy,1), (diabetes,1), (breastplate,1), (fathom,1), (facelessness,1), (predictive,1), (idiotic,1), (comatose,1), (structure,1), (laced,1), (fancifully,1), (ytou,1), (armatos,1), (exhausted,1), (perlman,1), (abbotts,1), (assignment,1), (meddle,1), (amazing,1), (coded,1), (hackers,1), (newsday,1), (netters,1), (incurable,1), (ministry,1), (hopes,1), (scaling,1), (astonishing,1), (reformers,1), (martin,1), (levine,1), (persevere,1), (crosman,1), (nosed,1), (enrichment,1), (nikan,1), (mahbub,1), (likewise,1), (wernick,1), (inerrant,1), (boulder,1), (considerable,1), (routines,1), (agnosticism,1), (chemotherapy,1), (chronicle,1), (clubs,1), (commuting,1), (ugly,1), (deeper,1), (adjuvant,1), (silly,1), (spoil,1), (practice,1), (radley,1), (demolish,1), (darkness,1), (superior,1), (centro,1), (inevitably,1), (inspirational,1), (noxious,1), (alkaline,1), (superieure,1), (editorial,1), (stretching,1), (finney,1), (atonement,1), (militia,1), (toll,1), (competitive,1), (magellan,1), (rationale,1), (ksand,1), (afforded,1), (speedster,1), (fake,1), (confuse,1), (offender,1), (armed,1), (charter,1), (adolescents,1), (replacing,1), (adjustable,1), (commission,1), (wheel,1), (indentified,1), (sheet,1), (publishing,1), (vese,1), (blocking,1), (showdown,1), (philosophical,1), (keystroke,1), (molested,1), (pending,1), (amin,1), (tenuous,1), (hoping,1), (peaceful,1), (mappings,1), (adaptor,1), (aerobic,1), (sadly,1), (disliked,1), (microwave,1), (deposited,1), (adhere,1), (entities,1), (straightforward,1), (abandoning,1), (wasp,1), (fifth,1), (flashy,1), (epic,1), (dominantly,1), (weaken,1), (connected,1), (durability,1), (pointless,1), (waflinemail,1), (compressor,1), (psychosis,1), (halt,1), (ranger,1), (characteristic,1), (cute,1), (oncologist,1), (external,1), (fumar,1), (naive,1), (moon,1), (archiving,1), (participatory,1), (continuation,1), (boskie,1), (repost,1), (crank,1), (coloring,1), (scores,1), (matox,1), (allocated,1), (communist,1), (convex,1), (cease,1), (microcircuit,1), (carter,1), (copyright,1), (transactions,1), (measures,1), (unifying,1), (saved,1), (saturn,1), (farce,1), (craigs,1), (revoking,1), (flattened,1), (corresponding,1), (creat,1), (mozumder,1), (practitioners,1), (escape,1), (dissociation,1), (arrive,1), (incredibly,1), (wipeinfo,1), (championship,1), (postseason,1), (purposes,1), (providence,1), (precedents,1), (divider,1), (realy,1), (localhost,1), (broke,1), (wave,1), (attitudes,1), (bastard,1), (ageis,1), (coliseum,1), (troll,1), (establishing,1), (ficitious,1), (bothers,1), (transferable,1), (standardized,1), (investing,1), (bukovina,1), (understaffed,1), (standoff,1), (knocked,1), (cardinals,1), (cruise,1), (nonsmokers,1), (league,1), (contacts,1), (rhodes,1), (uncertain,1), (image,1), (eliot,1), (utterly,1), (flares,1), (strict,1), (spinal,1), (humble,1), (pregnancy,1), (inspires,1), (prohibitive,1), (gerrard,1), (objecting,1), (micrographs,1), (innovative,1), (island,1), (circulating,1), (devoted,1), (estrogen,1), (narrow,1), (warm,1), (laser,1), (soaked,1), (planes,1), (metamorphic,1), (respects,1), (shocks,1), (windshield,1), (compiled,1), (worry,1), (doubtless,1), (attacks,1), (publicized,1), (cessation,1), (younger,1), (grasp,1), (words,1), (absurdity,1), (civilian,1), (speculation,1), (helicopter,1), (failures,1), (copper,1), (patently,1), (reform,1), (defeat,1), (brighton,1), (pitcher,1), (consumption,1), (jones,1), (diagnosis,1), (lovable,1), (boehringer,1), (forfeiture,1), (queens,1), (derision,1), (ovary,1), (refuses,1), (drilling,1), (accusing,1), (pastor,1), (jailed,1), (scodl,1), (suda,1), (offended,1), (sinha,1), (kubel,1), (intercepts,1), (resolving,1), (hitchings,1), (lying,1), (sends,1), (crew,1), (silent,1), (cogently,1), (taht,1), (michelle,1), (veracity,1), (inviolability,1), (domingo,1), (biosoc,1), (trip,1), (roxburgh,1), (unreliable,1), (obtainable,1), (neglected,1), (gotta,1), (cornell,1), (ursa,1), (willingness,1), (face,1), (orbital,1), (capitals,1), (whereas,1), (competition,1), (inane,1), (acid,1), (broocks,1), (wernher,1), (christianity,1), (rosemont,1), (ithink,1), (numeric,1), (widgets,1), (chem,1), (fingertips,1), (gnarly,1), (clearinghouse,1), (explicitly,1), (behaviors,1), (spied,1), (grammer,1), (summarize,1), (overwritten,1), (exemplary,1), (infusion,1), (fecal,1), (jake,1), (quit,1), (calvin,1), (distributions,1), (milleniums,1), (admitting,1), (presumed,1), (designates,1), (promise,1), (amused,1), (anecdote,1), (beneath,1), (stations,1), (alignment,1), (roadway,1), (terminator,1), (enrolled,1), (suit,1), (trajectory,1), (purchased,1), (pleshar,1), (bart,1), (august,1), (healy,1), (automotive,1), (fulfilled,1), (dedicated,1), (format,1), (jackson,1), (disavow,1), (consequence,1), (mattingly,1), (catching,1), (employer,1), (arromdee,1), (rashad,1), (occured,1), (escrowing,1), (blazing,1), (amiga,1), (blanked,1), (rained,1), (calder,1), (inevitable,1), (swastika,1), (schematic,1), (ambivalance,1), (brings,1), (cryptanalytic,1), (durante,1), (lawyers,1), (stops,1), (defective,1), (cedex,1), (anonymizing,1), (mete,1), (scrutiny,1), (possesion,1), (militello,1), (substitutes,1), (interdependent,1), (practised,1), (increases,1), (manouver,1), (gonna,1), (wasting,1), (hopeless,1), (necessitating,1), (guzzi,1), (attest,1), (trained,1), (golatender,1), (deployable,1), (bottom,1), (acclimate,1), (partial,1), (tartabull,1), (bouncing,1), (allocate,1), (interleave,1), (metab,1), (megadrives,1), (contacted,1), (rejection,1), (inflammatory,1), (invite,1), (facility,1), (refusing,1), (inducing,1), (restricted,1), (manage,1), (fighter,1), (flies,1), (contracted,1), (scheifler,1), (luckily,1), (specifics,1), (chips,1), (lebanon,1), (neck,1), (pace,1), (wield,1), (connotations,1), (sussex,1), (loaded,1), (atrocities,1), (overburdened,1), (slang,1), (newspaper,1), (efforts,1), (powder,1), (abstracts,1), (lord,1), (buys,1), (lifeless,1), (react,1), (worshipper,1), (compassionately,1), (virtual,1), (eventually,1), (manufacturer,1), (underway,1), (proportions,1), (socialist,1), (adopted,1), (atone,1), (accompanying,1), (suffcient,1), (filters,1), (orbits,1), (mimic,1), (handling,1), (bobbing,1), (stamp,1), (relationships,1), (habitually,1), (pitfalls,1), (violation,1), (refuted,1), (worries,1), (chambers,1), (stigma,1), (inundating,1), (promoting,1), (responding,1), (xians,1), (breakdown,1), (attendance,1), (pregnant,1), (fordham,1), (quebec,1), (ipas,1), (covering,1), (silvestri,1), (lights,1), (discriminating,1), (clark,1), (judge,1), (concentration,1), (confliting,1), (globe,1), (thrill,1), (surviving,1), (cuurrently,1), (ownership,1), (rick,1), (reader,1), (unmutual,1), (someones,1), (favors,1), (secrets,1), (bifurcations,1), (unrecognized,1), (victims,1), (pont,1), (malevolent,1), (saber,1), (passages,1), (unreadable,1), (bandwidth,1), (permanently,1), (samples,1), (separate,1), (wheelspin,1), (nawwww,1), (interests,1), (ships,1), (commenting,1), (surveillance,1), (fraser,1), (talks,1), (sedan,1), (qualification,1), (maintain,1), (gearing,1), (bend,1), (counting,1), (llame,1), (highland,1), (submarines,1), (library,1), (untruths,1), (steczkowski,1), (retrain,1), (forgetting,1), (situated,1), (stealing,1), (jequier,1), (spring,1), (compare,1), (habito,1), (wreaks,1), (stadium,1), (howard,1), (sufficiently,1), (knowledgable,1), (icon,1), (objectionable,1), (wisconsin,1), (blights,1), (strategy,1), (pervasive,1), (document,1), (armenia,1), (alloy,1), (dependant,1), (dell,1), (davebo,1), (piss,1), (realizing,1), (rusnews,1), (ancestor,1), (seizure,1), (chastity,1), (overlooking,1), (elaborate,1), (bradley,1), (nobody,1), (favored,1), (weapons,1), (winmark,1), (sorry,1), (rainy,1), (palmer,1), (core,1), (reboot,1), (implies,1), (inquirer,1), (jeish,1), (mapped,1), (geographic,1), (slavs,1), (douses,1), (collects,1), (parallel,1), (collaborative,1), (fund,1), (naked,1), (doors,1), (september,1), (safties,1), (corroboration,1), (stripped,1), (drozinski,1), (roam,1), (scares,1), (feelings,1), (janney,1), (adobe,1), (vomiting,1), (mods,1), (architect,1), (wary,1), (devising,1), (augment,1), (skeptic,1), (substring,1), (conner,1), (gleaning,1), (shakes,1), (vaccine,1), (begining,1), (colleague,1), (lame,1), (workstation,1), (violence,1), (wiped,1), (founded,1), (circumvented,1), (stroking,1), (pointer,1), (relatives,1), (moron,1), (puzzles,1), (seat,1), (memebership,1), (usted,1), (directive,1), (oliver,1), (lumps,1), (obtaining,1), (actively,1), (reference,1), (irrational,1), (flying,1), (examine,1), (tobacco,1), (aerienne,1), (verification,1), (unquestioning,1), (tkachuk,1), (friday,1), (cordless,1), (kerry,1), (resistant,1), (sentence,1), (wobbly,1), (belfour,1), (vouchers,1), (abate,1), (moratorium,1), (coming,1), (streaky,1), (racism,1), (rememer,1), (orient,1), (popular,1), (orchid,1), (forgiveness,1), (cookamunga,1), (pulse,1), (anytime,1), (ranting,1), (billion,1), (scripture,1), (sited,1), (print,1), (disabling,1), (towns,1), (suffixes,1), (logging,1), (rumor,1), (perl,1), (blame,1), (marc,1), (fierro,1), (seal,1), (salud,1), (detrimental,1), (billaryklintonkligue,1), (pharabod,1), (faqs,1), (diets,1), (sight,1), (discount,1), (disallow,1), (binary,1), (backups,1), (payments,1), (ivseb,1), (worthwhile,1), (drunken,1), (assistants,1), (glue,1), (decryption,1), (democratic,1), (athena,1), (schedule,1), (converse,1), (valis,1), (retards,1), (peole,1), (wars,1), (relevant,1), (dipswitches,1), (roster,1), (perceived,1), (liters,1), (liberalizer,1), (religeous,1), (firebird,1), (string,1), (surprisingly,1), (accountability,1), (volumes,1), (kelsey,1), (tournament,1), (multiplexed,1), (bronco,1), (wanderers,1), (vika,1), (behave,1), (paciente,1), (giddy,1), (chew,1), (tiger,1), (noaa,1), (interferes,1), (proposals,1), (relativist,1), (packets,1), (subdirectory,1), (employees,1), (tuning,1), (legs,1), (frighten,1), (replacements,1), (unity,1), (fuse,1), (examined,1), (compute,1), (charging,1), (glean,1), (guiding,1), (phage,1), (momentarily,1), (instance,1), (fullfilled,1), (cursing,1), (davidians,1), (ismail,1), (graphics,1), (treewater,1), (latest,1), (shade,1), (organize,1), (conditioners,1), (raster,1), (partum,1), (refresh,1), (progression,1), (trusts,1), (indian,1), (followers,1), (stink,1), (suns,1), (disagrees,1), (landing,1), (articulates,1), (stephenson,1), (rarely,1), (garden,1), (thin,1), (award,1), (regime,1), (calibrator,1), (accumulation,1), (wide,1), (penalties,1), (taketh,1), (behanna,1), (mystery,1), (diskus,1), (fluids,1), (ramifications,1), (begun,1), (throws,1), (dollars,1), (couldnt,1), (shash,1), (tangent,1), (leigh,1), (functionality,1), (voltages,1), (soot,1), (insulting,1), (hill,1), (executed,1), (lifetime,1), (illegitimately,1), (organized,1), (reliance,1), (computerized,1), (brock,1), (niether,1), (toxic,1), (participant,1), (asumptions,1), (frantically,1), (salameh,1), (denoted,1), (reflection,1), (chanted,1), (invulnerability,1), (conducted,1), (proliferate,1), (satan,1), (phenomona,1), (reffered,1), (compile,1), (trinity,1), (pillion,1), (toroid,1), (casserole,1), (transcriptions,1), (stealth,1), (frontier,1), (chapel,1), (incarnate,1), (viable,1), (infectious,1), (sacrifice,1), (settlement,1), (characteristically,1), (foreseeably,1), (postmasters,1), (stabilized,1), (einstien,1), (narrator,1), (evelyn,1), (lifting,1), (natural,1), (substances,1), (munch,1), (sheer,1), (underlies,1), (lebonon,1), (baseman,1), (continued,1), (physiological,1), (megabytes,1), (nubus,1), (drewcifer,1), (persistence,1), (believers,1), (successive,1), (rowe,1), (election,1), (reconstructed,1), (nearly,1), (revealing,1), (exposing,1), (bombs,1), (votes,1), (inception,1), (rebuilding,1), (reptile,1), (experimentally,1), (incorporates,1), (strapped,1), (empty,1), (devlope,1), (belonging,1), (cool,1), (nonuniformity,1), (remedied,1), (bozos,1), (crafts,1), (respuestas,1), (preparation,1), (doesnt,1), (kotnml,1), (connecticut,1), (fatally,1), (enhancing,1), (pioneers,1), (sumere,1), (electric,1), (sank,1), (ridicule,1), (british,1), (bind,1), (forever,1), (radial,1), (accompany,1), (performing,1), (revolver,1), (thundered,1), (glover,1), (nonprofit,1), (interrelated,1), (clam,1), (dock,1), (ngegos,1), (vanhorne,1), (begat,1), (westminster,1), (robotics,1), (football,1), (babtist,1), (judgement,1), (instant,1), (spokesdroid,1), (rolling,1), (famous,1), (attaching,1), (intertwined,1), (kenneth,1), (measurements,1), (shanti,1), (burger,1), (pathological,1), (vehicles,1), (resending,1), (ruined,1), (prime,1), (discourages,1), (fotonovela,1), (subfiles,1), (arguably,1), (sandy,1), (exacerbates,1), (bond,1), (amateur,1), (dealer,1), (attractive,1), (fewer,1), (esophagus,1), (portable,1), (elderly,1), (asymptomatic,1), (distance,1), (eighth,1), (overwrote,1), (endow,1), (monitored,1), (ensuring,1), (manufacture,1), (distinguish,1), (tolerance,1), (vincze,1), (poll,1), (pediatric,1), (zoologists,1), (trivial,1), (desperate,1), (recomendaciones,1), (rickey,1), (incorporating,1), (crimes,1), (intact,1), (calorie,1), (gathering,1), (customize,1), (bless,1), (flat,1), (successfully,1), (joins,1), (nautical,1), (forgot,1), (autocad,1), (golden,1), (gently,1), (pieces,1), (remotely,1), (liability,1), (convening,1), (hiding,1), (caprice,1), (harmonic,1), (ballooning,1), (cooperating,1), (opened,1), (sizeable,1), (galaga,1), (siemon,1), (chipped,1), (wilder,1), (probaby,1), (hamfests,1), (drizzing,1), (alive,1), (informacion,1), (ajustment,1), (appeal,1), (chemicals,1), (barrault,1), (theologica,1), (hesitate,1), (solvent,1), (apologies,1), (revb,1), (peak,1), (tiros,1), (shameful,1), (propane,1), (nyikos,1), (distinctions,1), (fedorov,1), (succumbed,1), (objection,1), (cisco,1), (item,1), (ranck,1), (fathers,1), (genetic,1), (redistribution,1), (stimulation,1), (gadgets,1), (quantitative,1), (eastman,1), (mccarty,1), (trent,1), (distributor,1), (distiguish,1), (considerably,1), (continental,1), (spiritual,1), (spinelessness,1), (andric,1), (japanese,1), (neely,1), (hopeful,1), (abandon,1), (organisms,1), (steps,1), (tseng,1), (rough,1), (rudely,1), (sunny,1), (circles,1), (conventionally,1), (felig,1), (leasing,1), (secluded,1), (hewlett,1), (advancing,1), (cray,1), (stoned,1), (disregard,1), (super,1), (constitutes,1), (justified,1), (klein,1), (debugers,1), (cypherpunk,1), (grandparents,1), (signatures,1), (notifying,1), (scenarios,1), (undergone,1), (crashing,1), (definately,1), (soda,1), (chintan,1), (entail,1), (ccording,1), (scholarly,1), (stati,1), (openbugs,1), (lining,1), (urged,1), (oversight,1), (ordered,1), (jackets,1), (berkeley,1), (properties,1), (oslo,1), (newserver,1), (lionel,1), (nucleus,1), (pioneered,1), (crowd,1), (preguntas,1), (ongoing,1), (sleeves,1), (tirade,1), (defenseless,1), (collaborators,1), (observations,1), (cover,1), (cooperation,1), (omniscience,1), (dragon,1), (literature,1), (cleaning,1), (unimpeded,1), (loops,1), (mayhew,1), (exam,1), (finish,1), (coax,1), (understands,1), (genome,1), (budge,1), (invasion,1), (freaking,1), (canadian,1), (nose,1), (curcio,1), (hartung,1), (derek,1), (quoting,1), (gypsum,1), (hundered,1), (hassles,1), (hundreds,1), (correctly,1), (inexperienced,1), (undoubtedly,1), (hoover,1), (rethinking,1), (degrees,1), (sensitivity,1), (wills,1), (subdirectories,1), (videotape,1), (learns,1), (universe,1), (overseeing,1), (poked,1), (matches,1), (bronx,1), (eaton,1), (stepped,1), (remainder,1), (gospels,1), (knowing,1), (lard,1), (seperated,1), (jays,1), (trickles,1), (oversee,1), (paranoia,1), (carbon,1), (auerbach,1), (significence,1), (moderated,1), (revelation,1), (sensitively,1), (paris,1), (recquiescat,1), (annihilate,1), (filimentous,1), (reset,1), (collected,1), (weaknesses,1), (reinforce,1), (assault,1), (bigot,1), (videocassette,1), (significance,1), (theater,1), (syntex,1), (amdahl,1), (sunnyvale,1), (barbarous,1), (frightening,1), (hillary,1), (obsolete,1), (script,1), (chaining,1), (smoker,1), (mariners,1), (garnering,1), (lockheed,1), (facto,1), (motorcycle,1), (dispense,1), (klemans,1), (symmetric,1), (height,1), (sacksteder,1), (generate,1), (insidious,1), (assumes,1), (kingdom,1), (firey,1), (turks,1), (comparison,1), (harrier,1), (atari,1), (dontcha,1), (brad,1), (psychosocial,1), (volt,1), (glocks,1), (forefront,1), (hamid,1), (administered,1), (magnificent,1), (metallic,1), (hutt,1), (briefed,1), (felson,1), (conducts,1), (stimpson,1), (uncovered,1), (terrible,1), (kills,1), (diverges,1), (farenell,1), (aura,1), (graduated,1), (exploiting,1), (interpretations,1), (recieved,1), (briefer,1), (remind,1), (deserves,1), (smois,1), (poorly,1), (thanx,1), (meticulously,1), (willingly,1), (warrant,1), (wireline,1), (vector,1), (splatterhouse,1), (accumulates,1), (smuggling,1), (bibles,1), (organ,1), (scrutable,1), (conceivable,1), (extras,1), (emerson,1), (decompress,1), (palms,1), (representative,1), (bales,1), (crisis,1), (deals,1), (crown,1), (hominem,1), (prejudice,1), (deshields,1), (blessing,1), (neutral,1), (unaware,1), (cosmetic,1), (forwarding,1), (fukugawa,1), (plaintext,1), (passionate,1), (compelled,1)]"
      ]
     },
     "execution_count": 7,
     "metadata": {},
     "output_type": "execute_result"
    }
   ],
   "source": [
    "// Split each document into a sequence of terms (words)\n",
    "val tokenized: RDD[Seq[String]] =\n",
    "  corpus.map(_.toLowerCase.split(\"\\\\s\")).map(_.filter(_.length > 3).filter(_.forall(java.lang.Character.isLetter)))\n",
    "\n",
    "// do the word count.  Each document gets a word count\n",
    "val t0TermCount = System.nanoTime\n",
    "val termCounts: Array[(String, Long)] =\n",
    "  tokenized.flatMap(_.map(_ -> 1L)).reduceByKey(_ + _).collect().sortBy(-_._2)\n",
    "val dtTermCount = Math.round((System.nanoTime-t0TermCount)/1e6)/1e3\n",
    "println(\"Time to Compute Word Count: \" + dtTermCount + \"s\")"
   ]
  },
  {
   "cell_type": "markdown",
   "metadata": {},
   "source": [
    "## Removing Stop Words"
   ]
  },
  {
   "cell_type": "markdown",
   "metadata": {},
   "source": [
    "We sorted the word count by frequency so that we can easily see that innocuous words tend to occur with the most frequency.  For instance, the word \"that\" occurs 661 times, and it is clearly not a word that would help us to understand what sort of topic might be associated with such a word.  We call these words \"stop words\", and filter them from the dataset.  For this example, we are removing the top 10% of the most frequently occuring words. \n",
    "We then generate term count vectors for the documents, which is a more compact representation of the counts, and is what the spark API requires for training."
   ]
  },
  {
   "cell_type": "code",
   "execution_count": 8,
   "metadata": {},
   "outputs": [
    {
     "name": "stdout",
     "output_type": "stream",
     "text": [
      "Time to Compute Term Count: 225.152s\n"
     ]
    },
    {
     "data": {
      "text/plain": [
       "numStopwords = 20\n",
       "fraction = 0.1\n",
       "numStopWords = 653\n",
       "vocabArray = Array(their, like, were, know, university, only, been, information, these, than, should, most, because, does, system, also, even, many, make, could, them, into, good, think, very, anonymous, same, government, over, internet, cancer, privacy, still, email, then, those, computer, time, need, windows, much, used, access, using, anyone, believe, first, mail, said, world, since, between, after, where, encryption, right, really, research, want, file, being, problem, while, under, find, each, aids, such, never, part, available, address, breast, local, data, better, take, back, might, through, someone, fact, going, different, sure, number, news, anonymity, something, things, must, april, years, me...\n"
      ]
     },
     "metadata": {},
     "output_type": "display_data"
    },
    {
     "data": {
      "text/plain": [
       "[their, like, were, know, university, only, been, information, these, than, should, most, because, does, system, also, even, many, make, could, them, into, good, think, very, anonymous, same, government, over, internet, cancer, privacy, still, email, then, those, computer, time, need, windows, much, used, access, using, anyone, believe, first, mail, said, world, since, between, after, where, encryption, right, really, research, want, file, being, problem, while, under, find, each, aids, such, never, part, available, address, breast, local, data, better, take, back, might, through, someone, fact, going, different, sure, number, news, anonymity, something, things, must, april, years, medical, before, during, real, made, based, give, last, network, booklet, national, here, without, security, please, given, both, down, usenet, volume, enough, others, user, least, files, series, well, sites, person, power, help, great, every, public, another, work, patients, read, sense, case, technology, control, whether, probably, following, state, able, send, important, associated, question, drug, best, change, message, mean, jewish, anything, currently, general, rather, rights, toronto, software, always, thing, users, means, early, look, year, makes, several, health, addresses, long, getting, come, posting, identity, test, problems, police, questions, common, private, current, called, communications, expect, patient, department, drive, certain, heard, already, quite, completely, multiple, nothing, drugs, legal, thanks, page, keep, having, server, seems, agencies, perhaps, support, companies, start, high, post, saying, doing, protect, future, group, company, provide, running, networks, making, large, generally, next, possible, order, often, little, happy, provides, engine, single, chip, type, science, enforcement, human, actually, comes, once, around, account, college, radio, seen, either, newsletter, evidence, video, likely, list, willing, space, chromium, systems, program, found, palestinian, unix, phone, keys, secure, less, clipper, everyone, code, religious, above, issue, center, against, book, hicnet, machine, related, similar, institute, behind, point, identification, fans, money, says, david, directly, approach, claim, uses, call, simple, administrators, life, anybody, devices, major, hard, today, mailing, team, strong, tell, john, original, name, remember, stop, simply, services, states, trust, insurance, american, until, requires, potential, device, independent, describes, compromise, personal, among, instead, couple, women, join, ever, whole, includes, directory, suppose, disk, consider, members, interested, turn, second, done, reason, school, goes, away, card, past, kind, takes, looks, remote, president, transmission, kill, total, almost, reading, receiving, basic, three, live, deal, sounds, works, education, electronic, talking, young, press, evolution, wonder, traffic, matter, standard, told, home, though, leads, programs, trying, cipher, wants, looking, bike, types, left, source, care, escrow, accounts, stuff, messages, sent, house, regular, report, freedom, times, sometimes, example, administration, infected, standards, bring, ensure, review, blue, serious, considered, maybe, criminals, groups, understand, development, pressure, longer, exist, including, certainly, usually, situations, service, games, cubs, political, force, become, united, cases, place, carry, researchers, cause, mine, bill, religion, belief, taking, experience, importance, fire, international, treatment, game, final, pretty, feel, love, cellular, safety, hope, later, close, logic, canada, step, family, seem, true, friend, version, thinking, issues, project, main, months, write, frequently, involved, request, choose, tools, global, develop, within, wrong, avoid, atheists, shots, christian, difference, save, obtain, algorithm, known, white, full, except, george, crypto, illinois, social, scientific, idea, thought, front, effective, surgeon, reported, highly, else, clinical, took, protocols, listen, division, field, accept, weight, office, correct, commercial, dave, increase, cult, body, piece, jesus, computers, history, lciii, james, baseball, shell, performance, apple, policy, line, southern, specific, speak, developed, talk, again, contact, suggest, hear, movie, knowledge, near, disease, child, procedures, established, guide, note, voice, effects, sort, evil, analysis, word, shape, potentially, side, mentioned, course, everything, double, release, section, yankee, individual, infection, pamphlet, sound, supposed, define, detection, follow, especially, whom, actions, previous, creation, speed, command, lock, york, direct, church, fields, higher, designed, michael, operation, clear, wade, positive, explain, daily, mark, cannot, texas, concerns, chain, answers, lack, wish, shown, particular, drives, recently, virtually, names, free, quote, although, significantly, beliefs, arbitrary, discusses, prevent, build, insulin, doubt, discussion, difficult, threat, picolinate, country, primary, yanks, whose, koresh, mass, mind, vary, visible, mostly, results, illegal, brochure, industry, powerful, return, explains, function, scodal, computing, commands, agree, create, night, unless, utility, tried, somebody, spacecraft, created, asante, western, arab, allows, disks, added, america, worked, initial, absolutely, theory, steal, invasive, explanation, children, recent, received, adapter, contains, deleted, abus, needed, risk, study, clinton, black, stay, product, immune, outside, ohio, terms, drivers, regarding, muscle, default, solve, opinions, appear, response, small, richard, color, third, city, site, record, joined, nation, leave, guess, carefully, phones, ethernet, mode, wondering, break, require, significant, virus, various, taken, steve, provided, military, washington, came, apply, selling, mechanisms, sexual, louis, worth, parts, death, chicago, limited, writes, answer, prove, display, export, hamburg, guarantee, necessarily, scope, aware, interesting, whatever, connection, scsi, medicine, kept, according, scored, domain, woman, providing, armenians, sheets, proper, resource, references, existence, technologies, thank, search, thomas, israel, telephone, opinion, monitor, mistake, approaches, shift, drawing, missing, self, dangerous, readily, players, particularly, contents, machines, application, host, four, setting, light, individuals, ways, changed, federal, toward, position, effect, motif, cards, login, sale, posted, nice, result, working, inherent, convert, surface, west, patience, zoology, caps, gave, holes, guidelines, engineering, industrial, impossible, unable, extremely, resources, written, journal, keyboard, operators, neural, living, placed, hold, trouble, appropriate, lives, days, israeli, watch, story, wanted, reasons, happened, restrictions, allow, itself, show, points, client, nature, playoff, process, units, radiation, gets, needs, special, poster, morality, lose, street, stolen, neither, knows, kratz, ignore, plus, spanish, park, giving, quicktime, blood, robert, archive, reliable, level, moment, tends, serial, form, guaranteed, installed, islam, secret, loose, background, hardware, equipment, breastmilk, advice, parent, math, asked, increasingly, nixon, lead, rabin, oxygen, check, tells, starting, discovered, decision, hate, responsibility, design, responsible, temperature, directed, harddisk, measure, manual, oilers, turbo, stand, signal, older, crime, switch, options, situation, sections, foreign, alternatives, initiative, harm, screen, dark, further, business, agnostic, locks, protocol, pocklington, desktop, atmosphere, inspired, sell, include, introduction, ability, strongly, peace, play, hospital, conversations, basically, perfectly, zionist, chart, week, christians, drawn, miles, paper, boot, party, polytechnic, language, professionals, building, proposed, myself, heart, split, useful, recommend, values, poor, matthew, runs, ideas, stanley, wiretap, official, sobre, alternative, truth, absolute, cars, satellite, converting, telecommunications, content, determined, weeks, meant, tend, former, palestinians, average, database, asking, moral, material, cable, lawrence, online, gotten, kids, tests, orthopedic, stacker, activities, present, decisions, tickets, finally, changes, solution, experts, required, battery, sets, accuracy, hockey, rules, attempt, started, knew, played, mother, administrator, believing, boston, protection, definition, unlimited, funding, techniques, planning, feasible, wrote, complete, soon, bugs, copies, establishment, alone, typically, elves, percent, modern, aspects, happens, plan, versions, batting, named, justice, quality, organization, considering, meaning, swiss, lower, tips, records, shut, dead, thus, converted, dean, latter, plans, went, otherwise, agreement, muslims, statements, open, selanne, bible, risks, tittle, decide, hung, july, widget, larry, details, jerome, identify, newsgroup, improve, branch, monday, bonds, helps, yankees, powerbook, surgical, interest, para, trade, towards, attorney, bush, prototype, valid, quadra, unknown, supported, sirach, prophecies, eating, modem, handle, altitude, decided, winning, multisync, maximum, noise, policies, title, included, happen, argue, error, subscribe, protected, appreciate, sending, lots, identities, overacker, cell, cryptography, fear, items, reduce, tank, committed, teams, ports, english, station, communication, numerous, distribution, demonstrated, fresh, reserve, veterans, corporation, worried, emphasis, apart, waco, obviously, defeated, slowly, reply, largely, fight, images, guys, extra, arrogance, understanding, variety, finland, editres, status, flames, spent, round, fault, ontario, lung, bosnian, clin, board, stick, remailers, learn, europe, gateway, therefore, ride, nine, info, typical, digital, scared, williams, bikes, father, miss, prefer, sources, places, society, allergy, sophisticated, uncommon, gathered, cigarette, stereo, pittsburgh, testing, affected, sector, boggs, unscrupulous, term, scenario, attitude, hide, fast, collection, concept, mention, officials, attack, staff, careful, rich, gives, excellent, market, realize, massive, germany, price, discussions, green, install, seeing, community, arabs, muslim, brought, serve, adam, smith, author, metabolism, vancouver, fairly, beginning, workgroups, exact, demand, stories, mechanism, bilingual, christ, along, objective, bought, professor, swap, changing, catholic, vesselin, allowing, operating, internal, area, sign, judaism, phase, mount, boxes, bitmap, requesting, receive, share, infrastructure, papers, yourself, population, fall, trials, removing, miami, snefru, generator, nasa, delete, model, described, amounts, hand, efficient, solar, criminal, hours, wins, north, represents, court, kevin, bruins, tested, canon, technical, virginia, detroit, supplies, suggestions, offers, differential, watching, winnipeg, entire, academic, physical, killed, regularly, fellow, alberta, citizens, fundamental, determine, therapies, rochester, motivated, argument, indicate, concerned, value, choice, option, newsgroups, loss, delaware, spread, move, socket, slow, coreldraw, definitely, room, continue, baltimore, braves, easily, combination, object, copy, ruth, remailer, cartridge, datadesk, presence, therapy, passes, believes, trick, abuses, goal, debate, cats, friends, auto, additional, motorola, held, laboratory, disc, punishment, cost, contributions, routinely, purchase, anywhere, instructions, excuse, dick, statement, chris, comment, shot, cview, andy, viewed, ultra, spencer, compatible, instruments, henry, vehicle, combinations, adapters, remain, summary, forming, tear, accessable, pins, basis, capable, dietary, abbott, rensselaer, calling, signature, austin, involving, fighting, readers, funny, turned, arrogant, surely, rushdie, propagation, brian, indiana, dealers, pulled, comprehensive, leaving, smoking, shows, owners, tradition, director, identifies, copyrighted, comments, merck, thousand, surprising, apparently, targets, settlers, tree, window, memorial, built, aspect, bodies, shipping, stronger, deserve, club, indicates, rear, badly, noticed, wild, bootable, contain, cultural, testicular, australia, healing, heat, cabinet, month, golf, raise, recognized, widely, addition, routing, emotional, class, rest, families, requests, appears, liturgy, afford, input, cold, troubleshooting, rogers, fair, andreychuk, closed, coverage, chance, generation, driver, mammography, paul, conventions, sensitive, electrical, pages, parties, managing, books, fixed, citations, california, happening, capabilities, effort, treat, oxford, carnegie, shack, routine, specifically, southwest, students, commonly, columbus, presents, relativism, dale, substance, diagnosed, listing, rule, bungee, submit, passed, microsoft, culture, shame, greater, bure, brief, screw, chosen, turkish, blew, fine, anneser, entirely, adminstrator, mutual, legally, conversion, servers, congress, universities, showed, slightly, exams, discovery, tremendous, technique, prevention, themselves, wind, faith, linden, countries, expected, citizen, picture, role, becomes, accurate, opposed, conference, tied, trigger, imagine, forging, feet, mask, farm, express, supposedly, hopkins, enhanced, dialogue, barry, road, push, easy, suddenly, unauthorized, followed, krillean, shopping, replaced, distances, carried, amount, economy, apartheid, ratings, restrict, humans, involves, june, installation, addressing, charlie, hopefully, shit, highest, however, killing, hayes, shall, racist, hello, subject, operational, conduct, energy, signed, pamphlets, none, edmonton, thoughts, johns, offer, creatures, proof, incident, genocide, liverpool, nutrition, mike, posters, picked, action, letter, operator, publicly, widespread, advance, costs, iisi, moving, quoted, together, radar, glock, five, documentation, paid, somewhat, french, factors, truely, accident, eight, metal, produces, respond, cities, studies, carolina, staying, ford, forged, identical, venus, figures, crush, sacrafice, applied, considerations, khafre, lists, liable, cancelled, protecting, screwed, pixels, snow, animated, jason, consistently, convention, match, offset, corporations, behaviour, affect, granted, suggested, joseph, experiences, maintaining, receiver, march, opportunity, cheap, historically, prevented, trace, prepared, deck, telecast, writer, authorities, possibility, expansion, served, hosts, casual, passion, ahead, universal, ones, americans, opposite, engage, thereby, keith, pass, theoretically, teach, conceivably, adminstrators, supply, wishes, publications, obvious, season, managed, lancet, theories, announcement, shane, mini, cryptographic, bosnians, compromises, male, mainstream, shifter, wait, russian, army, kicked, modified, murder, originating, freely, heavy, unlikely, checked, facts, unusual, legitimate, tuesday, anymore, banks, keeping, cystic, output, jeff, corrupt, putting, integrated, minutes, memory, blaster, totally, authorized, sink, transmitted, annual, setup, logo, meeting, walls, drawer, annoying, decent, overall, openly, defensive, islanders, regard, movement, stored, overview, andrew, false, survivors, conversation, base, font, recall, jack, belong, posts, recommended, applications, mammograms, christopher, suitable, adding, reach, helping, unique, indeed, incorrect, diseases, illustrator, pharmaceutical, worst, involve, claims, hierarchy, resulting, reports, walk, edward, schools, columns, logs, minister, expensive, continuous, born, growing, holding, location, atmospheric, verse, discussed, caused, northlands, middle, necessary, announced, majority, milk, motherboard, immediate, property, collaboration, authority, flex, protein, newly, interferences, critical, land, economic, quotes, underground, essentially, method, somewhere, harmful, editor, expressed, huge, port, cells, failed, diving, began, stephen, voluntarily, detweiler, occurred, assist, finger, proclamation, tracking, johnson, faster, combined, admit, meet, urbana, practical, classified, relatively, recipes, traditional, wire, doublespace, colorado, claimed, race, damage, healthy, progress, familiar, sports, startup, animals, activity, penn, became, bone, lattitude, transfusion, guia, substitute, minimization, grant, lonoak, vietnam, beleive, territories, conclusions, unforeseen, tube, covered, participants, fail, concise, dividian, remailing, refund, oral, proven, computational, baby, twice, rounding, despite, nowhere, vicente, systematically, containing, abstract, hands, inconvenience, noisy, whenever, obtained, stratus, pitsburgh, findings, wise, funded, dollar, provoke, forces, useless, problematic, nationality, experienced, november, advanced, proud, delivery, mattson, barzilai, targeted, certian, nerve, determining, grind, requirements, slot, responses, optilink, grab, marketing, paying, colors, checking, kicking, courage, drivel, ignorant, zone, compression, morning, crack, ticket, lens, hash, obispo, forwarded, selecting, seeking, trident, taddle, prejudices, damn, searches, warning, diverse, drove, manufacturers, encoded, cassette, neighborhood, fish, frighteningly, himself, escrowed, proceed, improvement, losing, forgeries, reporting, whitney, consumer, espn, short, russell, degrade, causes, armored, jets, dejar, panel, spell, solely, tony, truly, describing, liturgical, normally, speakers, employee, pool, totalitarian, officially, closer, whoever, maryland, colonel, neighbor, vagus, attention, lawfully, playing, schwartz, inconspicuous, opening, maintained, competing, oncology, coping, hole, symptoms, truelove, regardless, bored, loading, viral, grass, karl, tilts, replica, survived, severe, childhood, quickly, thats, consult, wwii, univ, curtis, kimball, randy, columbia, nazi, cryptanalysis, converter, norton, designers, dram, habitable, breathable, canisters, discussing, sentient, voltage, wings, horizontal, meyer, basing, pleased, premiums, views, vulnerable, writing, geographical, becoming, tool, controller, tektronix, balanced, proposal, chid, authentication, intellect, darwinism, alan, rename, databases, cambridge, root, wounded, benefits, desired, hinds, claire, member, burden, gravity, orbit, controlled, plane, spike, tratamiento, applies, consequences, accustomed, faisal, bits, depending, halfway, liking, zero, toyota, graphx, remeber, creek, performed, misunderstood, uniform, propose, underwent, pain, soviet, cryptology, select, assumed, query, christmas, dial, adds, yellow, halogen, turkey, houston, historical, vital, reza, pitching, choosing, krilian, giants, georgia, microcircuits, originate, harder, usable, sunday, pennent, bases, bellcore, complains, informed, hensley, coordinator, assume, destroying, purpose, bounced, merely, impact, temp, rangers, broadcasts, morals, inherently, separately, functioning, champions, biopsy, sooner, adirondack, jersey, advocating, audrey, reasoning, beat, mission, foot, forcing, transponder, decline, omidvar, risky, catholics, optional, alert, monitoring, element, safely, aiken, dieters, female, lived, amusing, flight, methods, filesystems, career, bother, filter, acquire, yours, defining, utilities, leaves, finds, continuing, senior, mithras, recognize, croats, endorsement, replacement, spoke, shifting, untraceable, justify, screening, predicted, inside, ignorance, graphic, lewis, film, tracks, navigation, implementor, feeling, homes, punitive, caucasian, adopt, brother, proponents, ashtray, substantial, sternlight, actual, active, instances, pixel, awhile, gears, implemented, head, filtering, preparing, assurances, collision, employ, signs, tired, pants, microsystems, married, connect, okay, blaming, fachbereich, backpack, idle, animal, stan, cheney, broad, clayton, kapos, assess, associate, deliberately, upon, patch, placebo, ninja, lighting, rawlins, roughly, principle, novell, media, destination, username, agents, burns, positions, nitrogen, complaints, founding, volcano, electronically, corrosion, restored, description, characters, attributed, organizations, stating, preserve, airline, governments, waste, elections, jefferson, bundled, byler, rush, lost, fluidity, areas, turns, curious, elsewhere, hitter, commander, melanoma, disclaimers, mosfet, coalition, cryptic, pollution, pioneer, autonomy, grounds, peter, resolved, iowa, goals, safeties, executive, conflict, shake, outline, mess, programmed, scale, corp, equivalent, stall, interference, detector, degree, persons, rectum, behavior, configuration, blow, resembles, codes, coastline, fozzard, lean, exercise, welcome, nations, leaders, wheels, reasonable, greatly, frequencies, pinouts, netware, omissions, cruelties, infancy, thursday, fully, portal, funds, inch, cyclelok, expert, ecac, glad, measured, aircraft, literally, promising, journals, products, arguments, loved, claiming, causing, mario, sales, informatik, facing, switching, winding, corrupted, expand, referring, numbers, removed, novel, acknowledge, taber, gained, craig, naivete, ripped, answering, secretary, guided, gift, insure, ultimately, albert, extent, ryan, attempts, servicing, vast, resolution, stock, digest, rate, inscrutable, arizona, bore, effectively, beings, vera, pastors, jump, businesses, anticancer, morocco, assertion, allowed, consistent, trapdoors, neat, pushing, arise, perry, liter, belgian, onto, drink, metals, masses, london, wallboard, hypocrisy, hundred, strictly, oregon, monster, guilty, sake, pharmacopeial, liar, patches, patent, utilize, cramer, harvard, symbolic, resolve, rare, benchmarks, shostack, sarcasm, dreams, masking, convince, pack, loyal, route, jasmine, magic, competitors, vladimirov, levels, stated, absence, anabolic, liberal, folks, hagase, acceptance, draws, east, lines, dbase, automation, graphical, prueba, elements, expos, clue, cash, nikon, divers, breaking, foundation, civil, arena, frame, conceptions, gordon, proscriptions, maple, markets, calgary, traced, damned, congruent, primarily, echo, crucial, ball, haverford, complicated, firoozye, null, shai, expelled, cabin, sender, stefan, mohammadi, repair, view, impunity, manager, pancreas, normal, vacation, shoot, loads, centre, style, predestination, england, completed, chair, budget, proceeded, tilt, vendors, minsoo, krumins, benefit, precautions, pulling, sudden, corps, muzzah, orion, functions, manuals, minor, relations, awesome, ultimate, success, emerge, construed, availability, computation, mirror, instrument, nutr, personally, financial, laws, respected, mpeg, assay, charges, sync, minority, enjoy, slightest, encounter, extensive, dineen, aspen, loving, davis, gear, portion, philosophy, assuming, confused, cite, departments, satisfy, intelligence, excerpt, prohibiting, directories, sideways, pictures, mutation, slovenia, acts, evasion, larger, assorted, shared, specialist, stands, detectors, flawed, management, speaker, accessed, existing, healthcare, norris, cure, letters, count, terminals, ethnically, marlin, transmissions, links, stable, invited, reduces, identified, threatening, authorization, interpret, flame, interface, leftover, lighter, convinced, fisher, missed, planets, legislation, notification, comprising, store, toleration, lodge, william, observing, wired, assure, accepted, prompts, drop, horse, purdue, robust, eric, promotion, hull, regions, plays, philips, workable, explosive, owned, ridiculous, underlying, impartial, subsequent, locating, buckeridge, seconds, tainted, notes, deuterocanon, suspect, errors, hailstorm, optimum, recovery, stanford, forms, goddard, adolfo, motor, billboard, chinet, passing, deviant, syntax, accommodate, incompatible, pratt, cobra, grants, safeguards, occurs, encourage, folding, supremacy, vacuum, negative, leafs, handgun, transmitter, dividians, barlow, wolfkam, bull, walla, florida, blackhawks, legendary, registries, conclusion, pranks, chief, permission, improvements, evolve, topic, stupid, blues, activated, arises, square, corporate, updated, newer, sided, growth, dogs, jews, suprised, rock, proclaiming, conspiracy, liberty, generations, repeatedly, omid, earthquake, binghamton, phil, exchange, conspicuous, pull, quake, referred, postings, cyberspace, discrepancy, sciences, angeles, clutch, invisible, transfer, clemens, referenced, throughout, provincial, probability, accounting, suggests, disrupt, creating, communicate, emulate, deserving, intentional, lucrative, quick, hangar, bibliographic, detailing, victor, spirit, transmits, extinguished, terribly, doubts, wash, automatically, alien, target, summer, upgrading, bontchev, photography, listed, chants, discover, inline, luck, postal, across, mykotronx, accepts, reviewed, properly, ascribe, perform, reads, wang, millions, wider, touch, mormons, france, evaluate, worldwide, scheduled, faced, recording, stunningly, advances, repercussions, addressed, trend, plant, ready, specify, austria, dynamic, affecting, luis, watches, credit, daniel, relate, vice, ratio, strips, philippe, condemned, waiting, phonenet, threats, range, russ, anyway, processors, header, backgrounds, fort, provoking, bluejays, batf, tries, stimulates, strikes, terrorists, bruce, licensed, faked, workers, inconsistent, ollie, baptist, standby, madrid, emphysema, origins, features, hebrew, clarkson, eternal, remained, grave, starts, sheep, taxes, hawk, serbians, soul, churches, particles, limit, nick, driving, glide, vandalizing, constitution, rebuild, stopped, persistent, hell, resistance, datos, lacking, masks, attributes, haphazard, springfield, certainty, proprietary, agrees, environment, impression, visit, spare, seven, examples, forced, maintenance, diagnostic, broken, events, possibly, agent, represented, powerbooks, south, scattered, conservative, freemasonry, jartsu, offered, component, roman, indicator, rightwing, hurt, commerce, reject, skin, dying, irvine, xlib, serbs, implementations, breaches, convertible, plot, connector, doug, production, tactical, accelerate, infield, clean, protestants, picking, text, ignoring, guarantees, pointed, issued, introduced, filling, tires, centerline, track, association, helsinki, caveats, brent, central, batteries, gaza, afraid, logical, period, finding, cyrix, seemed, pierrelatte, beyond, smoke, schneider, bolt, opposing, breakable, utilizing, foods, describe, grade, jouni, advocate, carries, maps, half, cancers, extraordinarily, gain, criteria, dunn, committee, scheme, digitized, khufu, specialized, mile, update, fortune, reputation, grounders, context, progressing, calls, thoroughly, automatic, barasso, generated, verify, doctor, treated, king, increasing, hostage, prepended, random, trannie, thinks, compared, pseudouser, direction, besides, registration, shackle, tanks, greatest, mars, colon, detect, intelligent, monthly, disruptive, obscure, path, pick, surges, mountain, construct, parish, hostility, nobleman, conclusively, taxpayer, merge, accomplished, cream, battering, clients, selective, adda, entry, hurled, revelations, goofed, pretend, pauley, transplantation, consists, classic, exhibited, msgs, pathogenesis, accessing, piracy, disbeliever, compeling, inappropriate, capricious, kielbasa, surrey, appearance, stoning, commonwealth, builders, hans, slimy, overwhelmingly, museum, permitted, physiol, sludge, arogant, develops, exclusive, telephony, obstructing, peeing, procure, melkonian, rolfe, sharing, cage, reacts, hated, guido, grace, table, unsympathetic, integration, assayed, unbelieving, unchanging, detracts, paranoid, exportability, wayne, wanting, caught, slayer, burdett, defend, reached, catharines, addicts, feat, sooooooo, unit, beta, naval, scrounge, brag, manages, fortunes, kings, athletic, confidential, telescope, goodyear, actuality, similarly, registered, reputable, lookup, hour, participate, handed, incremented, molecular, anachronistic, dumbest, immature, standing, incoming, relativists, ovid, bladder, pens, silicone, passage, discuss, dawn, jumpstart, dispute, followup, slows, cerebral, valve, punished, blown, encrypted, filmpak, ruderman, hormone, finished, regarded, components, dysplastic, duplicating, fuel, nutty, dumb, destructive, kipling, postnatal, hoaxes, hydraulics, argonne, devastating, bernoulli, jane, earth, baking, debatable, lapses, bigger, craving, sufficient, manhattan, bowl, lesson, specialty, brandon, harassing, swansea, beer, anonymized, heading, cant, journalists, overturned, fairing, smokeless, hatching, betrayal, purchasing, whitman, obed, taurus, ordering, cosmic, tight, thermals, exerting, mighty, terminal, constant, ocnoo, survivor, ineffective, adheres, explanations, alternate, rages, cleared, tipped, shock, bear, whois, german, observatory, mgnoc, peterborough, operations, embarassment, methodologically, figure, babbitt, worse, fits, stopping, questionable, consistant, wolf, facial, girl, brain, modes, training, died, comparable, danforth, inflatable, offenders, linears, waters, struggles, nuclear, ported, densely, iben, hypothesis, haveing, bridges, dots, adulterous, provisions, squashed, reactions, hughes, antithesis, density, conducting, antonio, filled, stewart, embedded, husseini, graph, canucks, perennial, pissed, citrus, pitfall, echoed, constructed, wherever, coast, neal, origin, governmental, column, sacrifices, buying, flag, intel, amperage, victory, murdered, subfile, duty, pontiac, allan, warrants, floppy, summaries, beside, examines, defence, preceded, trunk, entertaining, excerpts, bothering, appressian, comprised, pellet, temporal, exhaust, deleting, misconceptions, threatened, render, ward, physically, stumble, confidentiality, varies, supersede, pseudonymity, hail, identifying, discerning, zinc, rocker, disagreeing, static, subversive, neeeds, collecting, pound, unstable, inches, compares, joshua, whereby, approximatly, interactive, seeped, upgrade, stuck, occasional, enterprises, dashnakist, vote, recordkeeping, momentum, anatomically, charged, yearwood, modify, packard, fulfillment, postmaster, impedance, weather, japan, tutorial, remarkably, planetary, smithkline, append, detected, jamnia, hardcopy, delivered, counts, generators, scientist, inforcement, dialing, subset, door, theists, revealed, chose, boaz, arousing, utica, petrochemical, argic, channels, poised, rectification, transmit, unbreakable, borrowed, centris, bloc, loran, fpus, tissues, cutting, toro, compel, confuses, advocates, jimmy, allocating, pierson, precluded, emulating, filip, aerostitch, strange, preservation, allen, probert, secondary, cartridges, sides, moslems, livni, summarizes, cache, variations, converts, fanatic, retained, simplified, dope, favorite, slamed, spaced, competitiveness, demonstrate, gord, curable, wielded, updates, compelling, wiretapping, astrophysics, angelo, dodges, fallacy, remids, uterus, harness, dist, fanatically, experiments, copied, faded, occurrences, sequences, paycheck, tray, choices, mapping, usual, unorganized, accounted, food, instituting, nina, tendancy, reproduction, similiar, dissociate, pressurized, gasoline, stanky, undergoing, interpreted, alot, heating, cabling, fiber, racing, snuff, quicker, islamic, tourist, intercepting, perspective, knocking, valuable, colons, shneyder, restricting, wall, frank, overt, noncancerous, divert, taces, attacking, reality, hidden, minimum, confrontation, flicked, compounds, doctrine, comfortable, winged, nonlocal, croppers, tougher, coldest, proceeding, village, promises, smirk, saves, electrolyte, reverse, affects, meetings, accidents, glance, equilibrium, blowing, bureau, bhamani, frequent, voluntary, garvas, woulds, rite, debunks, unsuspecting, surreptitious, nova, corn, fountain, brilliantly, endorsed, timothy, therefrom, primers, fullfill, miscellaneous, spilling, eagle, enjoyed, pete, conscious, limits, innocent, kaats, earlier, schocked, michigan, bona, autotrace, sabotage, darned, shop, hiking, kirsch, dictatorship, serving, uncompetitive, padlock, majors, anon, tracked, transmitting, submerge, practicing, pressurization, fiberglass, meditation, confined, vangus, replies, pinch, algorithms, blum, consecration, detailed, lady, possession, bertrand, ursula, fender, motive, conceive, increased, porsche, juridiction, aeronautical, diserve, airwaves, removal, grateful, duration, providers, metropolitan, stat, jumping, spesifications, ironic, flash, ammo, unborn, tape, ordinary, plots, garfiel, sibling, dealt, unprecedented, priority, package, twin, reviewing, massacres, sysadmin, trucks, movements, unconnected, magazine, qualified, reagan, debacle, moore, biol, suggesting, chase, indicating, midelfort, troop, conventional, prominent, draw, forcibly, slack, pseudo, babies, failing, someother, marrow, investigators, inexpensive, amalgam, eggert, conceptual, insect, lowenstein, pads, cross, vision, knob, hemisphere, shook, puts, facilitate, inflexible, insight, locate, moonbase, daylong, occur, hinchakist, winbench, nuntius, mainly, hitler, leefing, electron, propects, danielle, inclineth, hablar, fledgling, optimal, hearing, devastation, paramedic, ruin, ames, bowyer, concern, segments, kent, mysterious, boise, kidson, poems, insulted, regulating, oscilliscopes, harassment, kluskens, idiots, wetteland, decorative, hugh, thoyages, category, ring, silencing, interfacing, stab, nifty, complicates, micrograph, kirzyc, promote, flea, essex, yesterday, powered, anarchists, economies, coils, planet, scoop, faces, signficant, elliptic, smtp, disagreement, jody, lured, admitted, baritone, leaf, calories, potvin, mountaineers, spending, chatham, efficacy, existed, aging, dashing, repeats, patrick, dogmatic, falls, antitrust, perverting, indepedent, introduces, gusts, hoop, flow, spend, fainting, principal, speeds, automated, minus, brown, alias, groping, icic, coward, settlements, abel, nicknamed, healers, shovels, inner, turner, citing, guday, carmel, petty, rubber, satellites, explicit, honda, admonished, cypherpunks, mastectomy, hagalo, misc, dirtiest, slamming, njihk, shap, sidewalk, extreme, shamir, religiously, mounts, feuding, integra, probe, ablex, discretion, smaller, absood, pope, annihilation, institutionalised, lump, myeloma, magick, averages, discouraged, hanging, rape, sitting, appointments, unattended, daytona, universite, radical, wireless, inhuman, spiff, northern, drops, untill, coins, caca, muscles, danny, promoted, occult, needing, smear, independence, bielinski, jabs, shining, motivation, typed, escaping, licenses, daylight, suppl, collective, economical, watched, scolnick, mosque, turnbull, newark, illegitimate, bangles, drain, hamfest, rethought, authors, trans, charge, canyon, hinges, mailer, colorful, resembling, futility, gloves, shimon, trannies, execution, implied, shorting, pearson, walker, sanjay, detent, occasions, prior, costly, nissan, absences, throw, carlos, fxwg, advocacy, immoblisers, voltmeter, realized, exists, fifty, technological, felix, decree, licencing, kotb, artificial, exacerbate, rosary, disgusted, targetted, erased, checkups, timely, syncs, seek, barrel, pressurize, destroy, intercept, bank, larynx, gurus, metodo, everest, biblical, undefined, landscaping, fantasy, nuts, catholicism, eyes, idndication, perceptions, arranged, dated, spitting, scrambles, hassan, inimitable, emcon, snarling, length, horrer, weak, boyhood, weaver, turneth, counted, handled, testamony, requiring, wibbling, warfare, assumptions, nikei, flee, debe, secrecy, desea, scaned, responsibilities, surrogate, orange, safeguarding, mariner, assessment, passwords, technically, relating, perre, miata, offsets, deliberation, utter, satisfactory, censoring, geometry, shawsheen, straight, hits, ascent, freemason, characteristics, palo, mcgill, cook, nonmedical, gold, avoided, publication, abstain, craft, dartmouth, dictate, questioning, montreal, felder, stature, noted, inher, reminds, readable, socially, teachings, hooker, mythology, disappointed, keeper, forsale, ignited, capacity, representing, surround, bucky, sunos, encouraging, whatsoever, benevolent, enter, negotiations, appeared, tricky, hesketh, smythe, unghost, codify, tension, seattle, simon, roommate, emerging, abortion, aiding, feature, flavor, opposition, antennae, silvio, thief, restrain, laying, venomous, offensiveness, ejected, pros, undergraduates, norway, lowest, bubba, effectiveness, barfly, assaulted, corinthians, mathes, mutations, rode, verbatim, untested, controversy, byte, forgive, bread, genes, materials, diagnosticar, preferably, injected, decode, handbook, remedies, mangled, snake, markov, worship, treatable, amorphous, talent, rocks, happend, magnetic, fiddle, seasons, viewer, landed, insuance, evolving, link, bump, sport, metabolic, withdrew, ovni, originations, partially, aziz, feeding, bioactive, employment, avoidance, framework, phils, burton, unbelievers, documents, welfare, consultations, delays, arlington, religions, shieldings, frightened, freychet, plain, differ, breton, acquaint, scheduling, asset, disable, essential, skirmish, sincerely, surrender, dispicable, deny, multiplies, accesses, whitewash, preclinical, delegation, fraction, hippocrates, variable, resistive, taxation, score, indicators, instinctive, toolkit, infeasible, wilcox, forwards, impressed, destruction, egregious, mineral, rely, precisely, permanent, thrilled, aliases, declared, adequate, deep, spaceman, hummingbird, pointing, tragedy, inferior, septuagint, woodruff, presure, reallocated, plenty, gains, serves, clicking, ecole, corrsponding, resident, damaging, disimelar, influences, consideration, contract, condone, chiasson, million, playoffs, objections, refer, orchestrated, heathkit, bianchi, laughed, distributors, overlaid, certificates, palace, assists, relation, jerk, hugged, doubledisk, confirm, wiring, january, concentrate, pavel, lined, believer, afairs, yelsen, thirds, ovraz, eternally, troubling, pair, tracing, bite, expectation, surgeons, october, kurdish, rank, respectable, swii, pitted, defendants, illicit, interior, megadrive, countering, secretory, semen, sterling, incomplete, centers, defused, fool, competion, quest, reyn, mating, svoboda, magnified, unpopular, layman, estate, impair, joint, marshall, modifying, aside, ideology, europeans, burned, unclear, relative, wires, condemning, spur, inferences, sidearms, ecclesiastes, acker, believed, kidney, influencing, outlawing, decreased, pitchers, waves, ently, lone, ghosted, models, informatique, jura, groans, shun, bright, proportionally, ceremony, occurring, adverse, outfielders, constitute, immediately, princeton, cord, garbages, ethinic, invadable, heavily, pfizer, balance, disclock, ballot, zillions, simchik, qualifications, sixth, threatens, laval, batch, recordings, noticeable, versus, toda, overcome, stamber, nist, excitement, infrequently, mailed, borsato, celsius, chocolate, paint, hoped, warf, myth, brute, dumping, donor, accumulated, modeled, suggestion, bottle, logged, decrease, forfeited, viper, wives, motion, twisty, commanded, continuously, borut, igorant, failure, sporting, perliminary, unto, stir, wiggling, occupied, tasmania, cruptology, trevor, matt, struck, plague, dictionary, oven, partition, palm, adams, revoke, frequency, somalia, simulated, abve, folk, wainwright, bunch, privileges, kiefer, analyst, formulating, stooped, alexander, unfortunately, achievements, simultaneously, rabid, gleaned, clamoring, reputations, grandfather, analysing, minute, favor, nevi, concours, reversal, implements, presidential, disinformation, resitance, cheaper, infinite, delighted, concludes, bullhorn, checklist, millivolt, vitality, logout, attribute, quantified, penalized, acting, henderson, routes, portions, subtlety, formatted, glossary, flew, whiting, beed, arriving, serbian, emgo, wooded, disadvantages, reformat, incorrectly, blast, awaiting, occuring, mountainous, cabletron, represent, injustice, stickiness, distrust, scaffolding, ipika, deduced, scanrates, metz, loop, stripping, relationship, recogniton, ranch, knowingly, marttila, cursed, insignificant, returning, pannon, tankers, rejected, bound, laid, braun, inet, chaplain, nekkid, succeed, defensively, tumbling, watt, constitutional, quiet, beneficial, date, contribution, kalis, trim, societies, depressing, narrative, wished, univariate, negotiate, proxy, robertson, xrolo, supplied, switches, encountered, existance, doctoral, incinerate, neoucom, exterior, disagree, testis, irrelevant, binhex, walz, faceshield, worshipping, extensions, vanheyningen, vertical, mitigate, respect, specified, burlington, hafner, sought, slavic, thread, annoyed, mankind, fallen, pseudonym, interim, hypothesized, diplomatic, revised, genocidal, curt, favorable, overnight, crowded, exclude, alternator, teeth, kondis, attractions, cookson, syncro, simulate, sold, trends, pastoral, honolulu, jokes, accpeting, grounded, hdtv, columnist, nielsen, flyer, briarcliff, combo, licensing, locally, defense, complex, powerless, ineffect, elder, circuitry, legitimately, tate, venerable, evacuated, vocabularly, writers, printer, satisfied, jacket, dents, lane, ethical, jobs, basenotes, readme, sexist, locus, neeley, comonist, harmoniously, interchanged, breasts, tammy, dear, biased, district, doublespacing, graham, stage, hassle, moves, sickened, unintentional, examenes, edit, decipher, lackeys, memoribilia, dialog, collier, sunset, clouds, fahrvergnugen, clearly, covenant, underestimate, decisive, standout, event, atheist, pizza, watson, gridline, irreversibly, extortion, challenges, unrelated, improved, dual, atal, kerosine, pencom, lilly, lang, supercede, hypoth, eindhoven, supernatural, pleasures, hooked, originally, sacred, centrally, technician, rotaract, messdos, duesseldorf, spoken, resulted, topics, estimated, misses, swiftly, socialists, battle, pray, stud, disguising, informs, nntp, fulfill, scene, silvia, langley, dissent, lesse, grid, prostate, tacked, exert, ithaca, kirlian, reasonably, maintextsw, noyes, soldier, teenagers, trips, raised, cooperate, huot, passenger, disappeared, odds, mammogram, keystrokes, predictor, dalhousie, handy, strengthen, glib, star, dkril, bedroom, oppose, weapon, balon, armaque, boeing, dixon, greek, cuello, harkey, stylewriter, forgiven, responds, browning, refuse, deja, holocaust, dominates, rectify, likelihood, gantz, caveat, coronal, cookie, lyall, firefighters, superhighway, smells, courses, punching, booting, roar, mdssc, packet, terrific, unlike, globally, follows, surplus, oncologists, amoral, nationalist, reviewers, digits, index, synthesis, intentionally, cables, denying, refuting, located, marked, linux, pomona, brady, turk, illness, markoff, guitar, befalling, antithetical, confine, recourse, minaher, waldmann, rooster, subsidize, uscg, supremely, trashing, regularity, coles, beating, corrective, arctic, manufactures, exposed, rammed, thumb, earl, speaking, cardinal, emissions, disappoints, rookies, particulars, preferences, bigots, pharoahs, suburbs, arbitary, commentators, equality, phillies, intermission, bitching, regards, hollister, stiehm, endless, lion, suffield, beforehand, creationism, load, developpement, universally, quimioterapia, driveline, protections, reflected, violate, shades, pitches, denver, carpenter, saving, squibb, friction, brien, boorstin, evolutionists, flaming, interchange, reconstruction, victim, flown, lets, interplanetary, proportion, lesser, introducing, headers, bryan, triggering, afflicted, tonne, teemu, clement, panasonic, attached, memorable, macintosh, surey, justifying, rationalize, nomenclature, encrypting, conlon, surgery, thick, moto, desirable, parlour, clamp, wintry, taskilise, dismantle, amnon, endlessly, sophistication, whine, trimble, kaczmarek, brains, tough, glens, irish, haggling, fooled, execute, supporting, taste, caffeine, strength, racking, atmospheres, ardrey, inspectorate, quotations, tracer, shield, phylicia, mccoy, boecom, returns, screens, svga, buffalo, fraught, garry, intensify, lymphoma, idiot, reviewer, beset, imply, cindy, futile, preserves, holley, scarborough, encompasses, atheism, bodily, punctuated, aided, tuus, lies, loves, redesign, resaerch, allegheny, suppression, fifteen, valley, awareness, severely, isaiah, dolgo, condition, spelled, armenian, agency, relic, hormones, unplug, unsuccessful, idiomatic, permitting, fron, fails, broadcast, detectable, guin, operative, apocryphal, camera, heck, notion, dives, listeners, confirmed, occasionally, hawaii, zealand, telephones, heads, glaxo, verifying, axial, aline, punishing, koran, attempting, surprised, synchros, relay, sparcstation, painfull, clause, howland, truck, brutally, donated, certified, dipshit, specifies, owner, laboratories, subtle, visiting, disclaimer, stacked, lumpectomy, weisberger, pays, nonsense, woefully, flexibility, edge, birth, conformant, kendall, ethnic, participating, notesfile, relevance, reaction, sabre, nazis, intended, institutions, guard, educational, tuff, enship, depended, programming, sverdrup, omniscient, forget, dream, postscript, damsus, apostles, divine, factor, magnum, cuts, salvation, alluded, examination, password, creative, simpleton, origination, burn, exceptionally, revived, altitudes, walled, biham, nonexistent, ofislamic, velapold, bloody, maredsous, selected, crain, ground, biology, wing, inevitability, worthy, especialista, residue, prelude, exports, brett, happier, strongest, defined, pumped, accelerator, simplest, cons, garble, tactics, philadelphia, turning, inaccurate, negotiation, backrest, moslem, cigarettes, eckenwiler, palestine, scanning, compact, thermal, novels, coments, block, easier, persists, consulted, wife, theist, magazines, purely, apocalyptic, recurring, cape, navajo, mancus, governing, enabled, counseling, correspond, safe, prohibit, intercepted, mithraic, sabin, amusement, procedure, cinder, alphabetic, rapidly, fides, concepts, angle, mithra, ethically, resent, riding, russotto, contained, recommends, seleccion, sean, establish, weekly, orioles, engineer, flyers, inode, cervix, kryptonite, scientists, treatments, inherit, sprang, precise, asserted, corruption, bashed, slider, limiting, soggy, uranium, summa, leader, unscrewing, admonitions, oscilloscope, errr, subjects, wrigley, compensate, invariably, patented, disorganized, band, missouri, nottingham, remains, xtconvertargrec, screaming, knowledgeble, labelled, pittman, recovered, profile, returned, leather, desires, sells, jester, multivariate, melbourne, exchanged, stages, trap, untreatable, crazy, quitting, liars, submitted, realtime, resumed, thet, multitude, vnews, peres, mirsky, ethnicity, attacked, totalitarianism, excluding, treadway, prevents, examiner, connections, unfortunate, mitre, litwin, suspicion, isolate, articles, rounds, intrinsic, evade, polymerase, virginity, chapter, rating, libraries, participation, happily, vulgarity, clearing, closely, chances, phosphor, anatolia, birthday, informing, composite, gregory, challenge, tyranny, graeme, grids, occupation, deficiency, replugged, familiarity, ramstein, unplugged, gsfc, footnotes, competence, anonymizes, serdar, electronics, pengiuns, bent, jokingly, hasten, unfair, forward, popping, refined, tolerant, fehlmann, lipposuction, december, amuse, escalation, schutz, prolonging, manuscripts, imho, blackout, danger, restoring, prepare, confirms, roads, roles, sympathy, suffer, beauchaine, firearms, delino, foreknown, disposed, chatterjee, arafat, reducing, trygon, xmform, photos, uniforum, fires, honored, utilties, intermediate, evolutionary, lican, beautiful, complelled, clone, britain, european, alarming, simms, convenience, invest, philosopher, displays, shariff, parishioners, beth, excalibur, deeds, showing, declining, gould, reaching, biggest, kubelwagen, standings, beads, weekend, switched, thisat, madison, invade, bloodhook, burroughs, succeeded, adjust, silence, matching, canonically, scrables, vastly, lawful, explore, chmod, catalog, quantum, curve, decription, abhored, inadequate, supplying, constantly, ridiculed, gerald, contra, chunk, overcomes, owns, slated, slew, seventh, swett, hardened, butt, northeastern, lemon, thermogenic, instructor, lazers, electricity, nationale, labeled, yadallee, incarcerated, accountable, writings, darse, struggle, steering, apples, preference, hall, dose, academia, gridlines, whats, cube, denning, cheryl, gruffness, implementing, surrounds, promotes, sucked, kach, ventilation, relief, gallant, entitled, endurance, begin, rememdy, diabetes, breastplate, fathom, facelessness, predictive, idiotic, comatose, structure, laced, fancifully, ytou, armatos, exhausted, perlman, abbotts, assignment, meddle, amazing, coded, hackers, newsday, netters, incurable, ministry, hopes, scaling, astonishing, reformers, martin, levine, persevere, crosman, nosed, enrichment, nikan, mahbub, likewise, wernick, inerrant, boulder, considerable, routines, agnosticism, chemotherapy, chronicle, clubs, commuting, ugly, deeper, adjuvant, silly, spoil, practice, radley, demolish, darkness, superior, centro, inevitably, inspirational, noxious, alkaline, superieure, editorial, stretching, finney, atonement, militia, toll, competitive, magellan, rationale, ksand, afforded, speedster, fake, confuse, offender, armed, charter, adolescents, replacing, adjustable, commission, wheel, indentified, sheet, publishing, vese, blocking, showdown, philosophical, keystroke, molested, pending, amin, tenuous, hoping, peaceful, mappings, adaptor, aerobic, sadly, disliked, microwave, deposited, adhere, entities, straightforward, abandoning, wasp, fifth, flashy, epic, dominantly, weaken, connected, durability, pointless, waflinemail, compressor, psychosis, halt, ranger, characteristic, cute, oncologist, external, fumar, naive, moon, archiving, participatory, continuation, boskie, repost, crank, coloring, scores, matox, allocated, communist, convex, cease, microcircuit, carter, copyright, transactions, measures, unifying, saved, saturn, farce, craigs, revoking, flattened, corresponding, creat, mozumder, practitioners, escape, dissociation, arrive, incredibly, wipeinfo, championship, postseason, purposes, providence, precedents, divider, realy, localhost, broke, wave, attitudes, bastard, ageis, coliseum, troll, establishing, ficitious, bothers, transferable, standardized, investing, bukovina, understaffed, standoff, knocked, cardinals, cruise, nonsmokers, league, contacts, rhodes, uncertain, image, eliot, utterly, flares, strict, spinal, humble, pregnancy, inspires, prohibitive, gerrard, objecting, micrographs, innovative, island, circulating, devoted, estrogen, narrow, warm, laser, soaked, planes, metamorphic, respects, shocks, windshield, compiled, worry, doubtless, attacks, publicized, cessation, younger, grasp, words, absurdity, civilian, speculation, helicopter, failures, copper, patently, reform, defeat, brighton, pitcher, consumption, jones, diagnosis, lovable, boehringer, forfeiture, queens, derision, ovary, refuses, drilling, accusing, pastor, jailed, scodl, suda, offended, sinha, kubel, intercepts, resolving, hitchings, lying, sends, crew, silent, cogently, taht, michelle, veracity, inviolability, domingo, biosoc, trip, roxburgh, unreliable, obtainable, neglected, gotta, cornell, ursa, willingness, face, orbital, capitals, whereas, competition, inane, acid, broocks, wernher, christianity, rosemont, ithink, numeric, widgets, chem, fingertips, gnarly, clearinghouse, explicitly, behaviors, spied, grammer, summarize, overwritten, exemplary, infusion, fecal, jake, quit, calvin, distributions, milleniums, admitting, presumed, designates, promise, amused, anecdote, beneath, stations, alignment, roadway, terminator, enrolled, suit, trajectory, purchased, pleshar, bart, august, healy, automotive, fulfilled, dedicated, format, jackson, disavow, consequence, mattingly, catching, employer, arromdee, rashad, occured, escrowing, blazing, amiga, blanked, rained, calder, inevitable, swastika, schematic, ambivalance, brings, cryptanalytic, durante, lawyers, stops, defective, cedex, anonymizing, mete, scrutiny, possesion, militello, substitutes, interdependent, practised, increases, manouver, gonna, wasting, hopeless, necessitating, guzzi, attest, trained, golatender, deployable, bottom, acclimate, partial, tartabull, bouncing, allocate, interleave, metab, megadrives, contacted, rejection, inflammatory, invite, facility, refusing, inducing, restricted, manage, fighter, flies, contracted, scheifler, luckily, specifics, chips, lebanon, neck, pace, wield, connotations, sussex, loaded, atrocities, overburdened, slang, newspaper, efforts, powder, abstracts, lord, buys, lifeless, react, worshipper, compassionately, virtual, eventually, manufacturer, underway, proportions, socialist, adopted, atone, accompanying, suffcient, filters, orbits, mimic, handling, bobbing, stamp, relationships, habitually, pitfalls, violation, refuted, worries, chambers, stigma, inundating, promoting, responding, xians, breakdown, attendance, pregnant, fordham, quebec, ipas, covering, silvestri, lights, discriminating, clark, judge, concentration, confliting, globe, thrill, surviving, cuurrently, ownership, rick, reader, unmutual, someones, favors, secrets, bifurcations, unrecognized, victims, pont, malevolent, saber, passages, unreadable, bandwidth, permanently, samples, separate, wheelspin, nawwww, interests, ships, commenting, surveillance, fraser, talks, sedan, qualification, maintain, gearing, bend, counting, llame, highland, submarines, library, untruths, steczkowski, retrain, forgetting, situated, stealing, jequier, spring, compare, habito, wreaks, stadium, howard, sufficiently, knowledgable, icon, objectionable, wisconsin, blights, strategy, pervasive, document, armenia, alloy, dependant, dell, davebo, piss, realizing, rusnews, ancestor, seizure, chastity, overlooking, elaborate, bradley, nobody, favored, weapons, winmark, sorry, rainy, palmer, core, reboot, implies, inquirer, jeish, mapped, geographic, slavs, douses, collects, parallel, collaborative, fund, naked, doors, september, safties, corroboration, stripped, drozinski, roam, scares, feelings, janney, adobe, vomiting, mods, architect, wary, devising, augment, skeptic, substring, conner, gleaning, shakes, vaccine, begining, colleague, lame, workstation, violence, wiped, founded, circumvented, stroking, pointer, relatives, moron, puzzles, seat, memebership, usted, directive, oliver, lumps, obtaining, actively, reference, irrational, flying, examine, tobacco, aerienne, verification, unquestioning, tkachuk, friday, cordless, kerry, resistant, sentence, wobbly, belfour, vouchers, abate, moratorium, coming, streaky, racism, rememer, orient, popular, orchid, forgiveness, cookamunga, pulse, anytime, ranting, billion, scripture, sited, print, disabling, towns, suffixes, logging, rumor, perl, blame, marc, fierro, seal, salud, detrimental, billaryklintonkligue, pharabod, faqs, diets, sight, discount, disallow, binary, backups, payments, ivseb, worthwhile, drunken, assistants, glue, decryption, democratic, athena, schedule, converse, valis, retards, peole, wars, relevant, dipswitches, roster, perceived, liters, liberalizer, religeous, firebird, string, surprisingly, accountability, volumes, kelsey, tournament, multiplexed, bronco, wanderers, vika, behave, paciente, giddy, chew, tiger, noaa, interferes, proposals, relativist, packets, subdirectory, employees, tuning, legs, frighten, replacements, unity, fuse, examined, compute, charging, glean, guiding, phage, momentarily, instance, fullfilled, cursing, davidians, ismail, graphics, treewater, latest, shade, organize, conditioners, raster, partum, refresh, progression, trusts, indian, followers, stink, suns, disagrees, landing, articulates, stephenson, rarely, garden, thin, award, regime, calibrator, accumulation, wide, penalties, taketh, behanna, mystery, diskus, fluids, ramifications, begun, throws, dollars, couldnt, shash, tangent, leigh, functionality, voltages, soot, insulting, hill, executed, lifetime, illegitimately, organized, reliance, computerized, brock, niether, toxic, participant, asumptions, frantically, salameh, denoted, reflection, chanted, invulnerability, conducted, proliferate, satan, phenomona, reffered, compile, trinity, pillion, toroid, casserole, transcriptions, stealth, frontier, chapel, incarnate, viable, infectious, sacrifice, settlement, characteristically, foreseeably, postmasters, stabilized, einstien, narrator, evelyn, lifting, natural, substances, munch, sheer, underlies, lebonon, baseman, continued, physiological, megabytes, nubus, drewcifer, persistence, believers, successive, rowe, election, reconstructed, nearly, revealing, exposing, bombs, votes, inception, rebuilding, reptile, experimentally, incorporates, strapped, empty, devlope, belonging, cool, nonuniformity, remedied, bozos, crafts, respuestas, preparation, doesnt, kotnml, connecticut, fatally, enhancing, pioneers, sumere, electric, sank, ridicule, british, bind, forever, radial, accompany, performing, revolver, thundered, glover, nonprofit, interrelated, clam, dock, ngegos, vanhorne, begat, westminster, robotics, football, babtist, judgement, instant, spokesdroid, rolling, famous, attaching, intertwined, kenneth, measurements, shanti, burger, pathological, vehicles, resending, ruined, prime, discourages, fotonovela, subfiles, arguably, sandy, exacerbates, bond, amateur, dealer, attractive, fewer, esophagus, portable, elderly, asymptomatic, distance, eighth, overwrote, endow, monitored, ensuring, manufacture, distinguish, tolerance, vincze, poll, pediatric, zoologists, trivial, desperate, recomendaciones, rickey, incorporating, crimes, intact, calorie, gathering, customize, bless, flat, successfully, joins, nautical, forgot, autocad, golden, gently, pieces, remotely, liability, convening, hiding, caprice, harmonic, ballooning, cooperating, opened, sizeable, galaga, siemon, chipped, wilder, probaby, hamfests, drizzing, alive, informacion, ajustment, appeal, chemicals, barrault, theologica, hesitate, solvent, apologies, revb, peak, tiros, shameful, propane, nyikos, distinctions, fedorov, succumbed, objection, cisco, item, ranck, fathers, genetic, redistribution, stimulation, gadgets, quantitative, eastman, mccarty, trent, distributor, distiguish, considerably, continental, spiritual, spinelessness, andric, japanese, neely, hopeful, abandon, organisms, steps, tseng, rough, rudely, sunny, circles, conventionally, felig, leasing, secluded, hewlett, advancing, cray, stoned, disregard, super, constitutes, justified, klein, debugers, cypherpunk, grandparents, signatures, notifying, scenarios, undergone, crashing, definately, soda, chintan, entail, ccording, scholarly, stati, openbugs, lining, urged, oversight, ordered, jackets, berkeley, properties, oslo, newserver, lionel, nucleus, pioneered, crowd, preguntas, ongoing, sleeves, tirade, defenseless, collaborators, observations, cover, cooperation, omniscience, dragon, literature, cleaning, unimpeded, loops, mayhew, exam, finish, coax, understands, genome, budge, invasion, freaking, canadian, nose, curcio, hartung, derek, quoting, gypsum, hundered, hassles, hundreds, correctly, inexperienced, undoubtedly, hoover, rethinking, degrees, sensitivity, wills, subdirectories, videotape, learns, universe, overseeing, poked, matches, bronx, eaton, stepped, remainder, gospels, knowing, lard, seperated, jays, trickles, oversee, paranoia, carbon, auerbach, significence, moderated, revelation, sensitively, paris, recquiescat, annihilate, filimentous, reset, collected, weaknesses, reinforce, assault, bigot, videocassette, significance, theater, syntex, amdahl, sunnyvale, barbarous, frightening, hillary, obsolete, script, chaining, smoker, mariners, garnering, lockheed, facto, motorcycle, dispense, klemans, symmetric, height, sacksteder, generate, insidious, assumes, kingdom, firey, turks, comparison, harrier, atari, dontcha, brad, psychosocial, volt, glocks, forefront, hamid, administered, magnificent, metallic, hutt, briefed, felson, conducts, stimpson, uncovered, terrible, kills, diverges, farenell, aura, graduated, exploiting, interpretations, recieved, briefer, remind, deserves, smois, poorly, thanx, meticulously, willingly, warrant, wireline, vector, splatterhouse, accumulates, smuggling, bibles, organ, scrutable, conceivable, extras, emerson, decompress, palms, representative, bales, crisis, deals, crown, hominem, prejudice, deshields, blessing, neutral, unaware, cosmetic, forwarding, fukugawa, plaintext, passionate, compelled]"
      ]
     },
     "execution_count": 8,
     "metadata": {},
     "output_type": "execute_result"
    }
   ],
   "source": [
    "val numStopwords = 20\n",
    "\n",
    "val fraction = 0.1\n",
    "val numStopWords = Math.round(fraction * termCounts.size)\n",
    "\n",
    "// (JN:  This only drops first 20 words...what about a different approach?)\n",
    "val vocabArray: Array[String] =\n",
    "  termCounts.takeRight(termCounts.size - numStopwords).map(_._1)\n",
    "\n",
    "//   vocab: Map term -> term index\n",
    "val vocab: Map[String, Int] = vocabArray.zipWithIndex.toMap\n",
    "\n",
    "// Convert documents into term count vectors\n",
    "val t0Documents = System.nanoTime\n",
    "val documents: RDD[(Long, Vector)] =\n",
    "  tokenized.zipWithIndex.map { case (tokens, id) =>\n",
    "    val counts = new mutable.HashMap[Int, Double]()\n",
    "    tokens.foreach { term =>\n",
    "      if (vocab.contains(term)) {\n",
    "        val idx = vocab(term)\n",
    "        counts(idx) = counts.getOrElse(idx, 0.0) + 1.0\n",
    "      }\n",
    "    }\n",
    "    (id, Vectors.sparse(vocab.size, counts.toSeq))\n",
    "  }\n",
    "\n",
    "val dtDocuments = Math.round((System.nanoTime - t0Documents)/1e6)/1e3\n",
    "println(\"Time to Compute Term Count: \" + dtDocuments + \"s\")"
   ]
  },
  {
   "cell_type": "markdown",
   "metadata": {},
   "source": [
    "## Training the LDA Model"
   ]
  },
  {
   "cell_type": "markdown",
   "metadata": {},
   "source": [
    "Training takes about 5 min.  You should only need to do this once in your life, but if you do it twice you should get the same result, because the random seed is set to 0."
   ]
  },
  {
   "cell_type": "code",
   "execution_count": 1,
   "metadata": {},
   "outputs": [
    {
     "name": "stdout",
     "output_type": "stream",
     "text": [
      "Time to Train: 659.922s\n"
     ]
    },
    {
     "data": {
      "text/plain": [
       "numTopics = 10\n",
       "lda = org.apache.spark.mllib.clustering.LDA@6da22e08\n",
       "t0Train = 2287729162310245\n",
       "ldaModel = org.apache.spark.mllib.clustering.DistributedLDAModel@5173a565\n",
       "dtTrain = 659.922\n"
      ]
     },
     "metadata": {},
     "output_type": "display_data"
    },
    {
     "data": {
      "text/plain": [
       "659.922"
      ]
     },
     "execution_count": 1,
     "metadata": {},
     "output_type": "execute_result"
    }
   ],
   "source": [
    "// Set LDA parameters\n",
    "val numTopics = 10\n",
    "val lda = new LDA().setK(numTopics).setMaxIterations(100)\n",
    "lda.setSeed(0) //important for reproduceability\n",
    "\n",
    "val t0Train = System.nanoTime\n",
    "val ldaModel = lda.run(documents)\n",
    "val dtTrain = Math.round((System.nanoTime - t0Train)/1e6)/1e3\n",
    "println(\"Time to Train: \" + dtTrain + \"s\")"
   ]
  },
  {
   "cell_type": "markdown",
   "metadata": {},
   "source": [
    "We can now print out the top 10 words associated with each of our 10 topics.  This will be handy for comparison to the topics in our second notebook.  For example, the first word of Topic 0 should be \"anonymous\" with a score of 0.0126."
   ]
  },
  {
   "cell_type": "code",
   "execution_count": 10,
   "metadata": {},
   "outputs": [
    {
     "name": "stdout",
     "output_type": "stream",
     "text": [
      "TOPIC: 0\n",
      "anonymous\t0.012643275631369468\n",
      "internet\t0.01199892653846487\n",
      "system\t0.011489389159339945\n",
      "email\t0.010461753442982532\n",
      "information\t0.010033859874241645\n",
      "many\t0.009046697848641316\n",
      "most\t0.008985058416534403\n",
      "these\t0.008776317737127445\n",
      "privacy\t0.00870315316139373\n",
      "mail\t0.008168184471456088\n",
      "address\t0.007318294146922494\n",
      "anonymity\t0.006893699748457801\n",
      "their\t0.006457573336484874\n",
      "access\t0.005735232098296366\n",
      "usenet\t0.0056810127282647055\n",
      "computer\t0.0054274783521739735\n",
      "sites\t0.005346644944619072\n",
      "network\t0.005201538796310405\n",
      "user\t0.004953510922416698\n",
      "message\t0.004673200538625899\n",
      "files\t0.004580725684189369\n",
      "associated\t0.0045489408314838406\n",
      "identity\t0.0044313548110878585\n",
      "where\t0.004270628694089294\n",
      "currently\t0.004267651379416461\n",
      "over\t0.004165226488264872\n",
      "find\t0.0041167933944265675\n",
      "rights\t0.004083307820384657\n",
      "file\t0.0040832693812494865\n",
      "been\t0.0040562934952105565\n",
      "\n",
      "TOPIC: 1\n",
      "encryption\t0.01481548780905835\n",
      "government\t0.013693226139575654\n",
      "same\t0.00917146448637624\n",
      "need\t0.008240628107969715\n",
      "technology\t0.008139930495373543\n",
      "their\t0.007183173290601083\n",
      "something\t0.006766296090831116\n",
      "chip\t0.006469680915325586\n",
      "been\t0.006171461594235087\n",
      "these\t0.0059045164375036395\n",
      "access\t0.005847120158064098\n",
      "happy\t0.005603076222664396\n",
      "available\t0.00548497221412721\n",
      "protect\t0.005388515874076705\n",
      "agencies\t0.005319075322988041\n",
      "private\t0.005282906304730342\n",
      "using\t0.005249530819761519\n",
      "while\t0.005163165996759463\n",
      "privacy\t0.004939044205308935\n",
      "keys\t0.004885169951054146\n",
      "enforcement\t0.004843213697876329\n",
      "data\t0.004711345888801263\n",
      "security\t0.004526942833665887\n",
      "escrow\t0.004307431484733102\n",
      "only\t0.004260597800971894\n",
      "good\t0.004231513645448798\n",
      "trust\t0.0042300672734331\n",
      "used\t0.004193811945770456\n",
      "years\t0.004172900885045008\n",
      "algorithm\t0.0040460756830254276\n",
      "\n",
      "TOPIC: 2\n",
      "university\t0.01747426002699005\n",
      "first\t0.01564696336227368\n",
      "series\t0.013344088641055397\n",
      "please\t0.010765995623060383\n",
      "thanks\t0.010222466073077538\n",
      "toronto\t0.009595869105575349\n",
      "anyone\t0.008051897045693554\n",
      "leads\t0.006728893205584262\n",
      "john\t0.006421315501827411\n",
      "games\t0.006075526845872115\n",
      "world\t0.005555934201031929\n",
      "shots\t0.00551299180054744\n",
      "game\t0.005271125864908158\n",
      "software\t0.005210020469986399\n",
      "second\t0.0051227419492127476\n",
      "looking\t0.004741343541060086\n",
      "third\t0.004266983106075402\n",
      "over\t0.004261906942452582\n",
      "very\t0.00426078861584661\n",
      "year\t0.004258044265131239\n",
      "fans\t0.004055901959950126\n",
      "drivers\t0.004023797418035833\n",
      "playoff\t0.003979883617843636\n",
      "scored\t0.0039582777726165416\n",
      "each\t0.003939005309122572\n",
      "send\t0.0039191886985088615\n",
      "caps\t0.003917802206524398\n",
      "still\t0.003906708684836568\n",
      "louis\t0.003888392894410231\n",
      "division\t0.003877738696263127\n",
      "\n",
      "TOPIC: 3\n",
      "only\t0.009411420577235471\n",
      "sense\t0.007210635156214296\n",
      "does\t0.007033954317302951\n",
      "chromium\t0.006979952220709531\n",
      "been\t0.006797482567685464\n",
      "make\t0.00671900971640935\n",
      "think\t0.006636586734710476\n",
      "whether\t0.006235547074069614\n",
      "should\t0.005847690427809187\n",
      "well\t0.005791411731158775\n",
      "video\t0.005727147082655768\n",
      "good\t0.005343674818135231\n",
      "bike\t0.005154191000259808\n",
      "their\t0.004994773098460049\n",
      "work\t0.004552730955378682\n",
      "them\t0.004530913709126543\n",
      "very\t0.0044173357761951495\n",
      "also\t0.004348773333872266\n",
      "really\t0.004259259513995288\n",
      "going\t0.004201158841885855\n",
      "world\t0.004124516965766642\n",
      "best\t0.004080783686889266\n",
      "time\t0.004028133725026082\n",
      "because\t0.003991911887438345\n",
      "were\t0.0039802051400691036\n",
      "evil\t0.003979070960441069\n",
      "enough\t0.003960408636639922\n",
      "thing\t0.003941481801035652\n",
      "those\t0.003663817148654925\n",
      "weight\t0.003589460848287765\n",
      "\n",
      "TOPIC: 4\n",
      "windows\t0.01657842405176562\n",
      "into\t0.01362835264945759\n",
      "jewish\t0.01015527904530455\n",
      "after\t0.008602098871499021\n",
      "using\t0.008475168073897537\n",
      "drive\t0.008344585003645563\n",
      "file\t0.008208433388043626\n",
      "under\t0.007833718642413171\n",
      "like\t0.007321924922685467\n",
      "also\t0.0072717990137003705\n",
      "back\t0.00700405930948905\n",
      "running\t0.0066547097126617005\n",
      "join\t0.0066467846082723225\n",
      "still\t0.006522573609917412\n",
      "disk\t0.0064262130718070794\n",
      "time\t0.006303352847223693\n",
      "here\t0.005610241801897752\n",
      "change\t0.005389217706563436\n",
      "think\t0.005336168930671571\n",
      "claim\t0.005021454150181768\n",
      "university\t0.004946647648746804\n",
      "same\t0.004750173975543337\n",
      "computer\t0.004636000905616887\n",
      "suppose\t0.004439228609400007\n",
      "define\t0.0044317170682578785\n",
      "over\t0.004383807263620125\n",
      "place\t0.004317583429106028\n",
      "anyone\t0.0042165352610483665\n",
      "because\t0.004026181915268109\n",
      "atheists\t0.004020353236643306\n",
      "\n",
      "TOPIC: 5\n",
      "university\t0.010467701978271175\n",
      "believe\t0.009710904971340454\n",
      "news\t0.009039133762435212\n",
      "really\t0.0081584830898795\n",
      "things\t0.007301015791177509\n",
      "than\t0.007152422137312646\n",
      "said\t0.0064284145986875495\n",
      "someone\t0.006297580809873697\n",
      "evolution\t0.0059402292520382505\n",
      "only\t0.00582813147166806\n",
      "fact\t0.00582775357491166\n",
      "enough\t0.005669513372289536\n",
      "think\t0.004995611697431488\n",
      "read\t0.004805390174990622\n",
      "evidence\t0.004722194271550511\n",
      "belief\t0.004634106837398263\n",
      "make\t0.004512305056030809\n",
      "even\t0.004253835658820602\n",
      "perhaps\t0.00423358981056179\n",
      "radio\t0.0042135816904321595\n",
      "mean\t0.004147271254148472\n",
      "every\t0.004044984058978793\n",
      "those\t0.0038373521103410215\n",
      "religious\t0.0037933411513505723\n",
      "theory\t0.0037438713999714533\n",
      "beliefs\t0.0036812665249846012\n",
      "press\t0.0035572248318190398\n",
      "else\t0.00350475402705437\n",
      "between\t0.0034762865615605497\n",
      "might\t0.0034353173667108646\n",
      "\n",
      "TOPIC: 6\n",
      "know\t0.013018871914448116\n",
      "their\t0.007967604967411852\n",
      "last\t0.007463893438451421\n",
      "them\t0.006969054095081095\n",
      "police\t0.006899629938354797\n",
      "should\t0.006624049878912861\n",
      "could\t0.0066002450479568636\n",
      "only\t0.00597558918578598\n",
      "through\t0.005842616891946801\n",
      "like\t0.005762451813776054\n",
      "palestinian\t0.005747628426363572\n",
      "even\t0.00572486933780479\n",
      "over\t0.005358404460104384\n",
      "never\t0.004978620116823782\n",
      "because\t0.004957355013917386\n",
      "problem\t0.00464208045793398\n",
      "come\t0.004553859826707495\n",
      "were\t0.004518375078028546\n",
      "still\t0.004317420868676282\n",
      "back\t0.004153037486619452\n",
      "force\t0.004133059702415278\n",
      "cubs\t0.004096004985416593\n",
      "local\t0.003939796586526259\n",
      "also\t0.0039287025124299674\n",
      "good\t0.003841974882574129\n",
      "down\t0.003806961321903387\n",
      "insurance\t0.003793746112195685\n",
      "getting\t0.003782101812226447\n",
      "been\t0.0036774285310198925\n",
      "give\t0.003626463708032446\n",
      "\n",
      "TOPIC: 7\n",
      "does\t0.01085397954073694\n",
      "because\t0.008002311445339248\n",
      "much\t0.0076185779675855035\n",
      "being\t0.006605090252859039\n",
      "cipher\t0.005851704795223865\n",
      "like\t0.005849397392869853\n",
      "could\t0.0055843477813147845\n",
      "were\t0.0055539784224081495\n",
      "question\t0.005473001523322474\n",
      "very\t0.005449452064391308\n",
      "make\t0.005405625925205412\n",
      "probably\t0.005012088615567677\n",
      "power\t0.004994482111361154\n",
      "good\t0.0049476602405568474\n",
      "between\t0.004883864527402594\n",
      "problem\t0.004775588229267334\n",
      "money\t0.004754203406679468\n",
      "want\t0.0047223710711638694\n",
      "cellular\t0.004675432739209709\n",
      "life\t0.004396148787871462\n",
      "need\t0.004360988839626503\n",
      "criminals\t0.004241462220315811\n",
      "person\t0.0041776382826414415\n",
      "without\t0.004170665760531206\n",
      "these\t0.003855944282753539\n",
      "able\t0.0037969160236599794\n",
      "kill\t0.003751006981896168\n",
      "human\t0.003748398285512015\n",
      "willing\t0.0037418025766412736\n",
      "steal\t0.0037177898022981454\n",
      "\n",
      "TOPIC: 8\n",
      "cancer\t0.01897281987282188\n",
      "information\t0.013770086135244096\n",
      "breast\t0.012777682925598157\n",
      "aids\t0.011803170454192553\n",
      "medical\t0.010943792173616879\n",
      "booklet\t0.010310677149541769\n",
      "were\t0.010039856800945171\n",
      "patients\t0.00905845122689094\n",
      "april\t0.008722410722470668\n",
      "number\t0.00860008062724315\n",
      "should\t0.00793079889259155\n",
      "health\t0.007297481795999656\n",
      "patient\t0.007176823652996131\n",
      "research\t0.00702205048758898\n",
      "volume\t0.00655680125830849\n",
      "page\t0.006520984156841903\n",
      "newsletter\t0.0061565926787585925\n",
      "hicnet\t0.0057733673412697\n",
      "their\t0.005738578705051698\n",
      "national\t0.005285586946763767\n",
      "drug\t0.00522105954919019\n",
      "during\t0.00510734301633273\n",
      "early\t0.004868797862503514\n",
      "describes\t0.004834465705893565\n",
      "said\t0.004544564350053883\n",
      "questions\t0.0044024116924745674\n",
      "available\t0.004396604590646084\n",
      "provides\t0.004166760556243297\n",
      "transmission\t0.004135252566207765\n",
      "researchers\t0.0041234388728786766\n",
      "\n",
      "TOPIC: 9\n",
      "know\t0.013962095548991943\n",
      "like\t0.012698021708549896\n",
      "than\t0.011995530578465653\n",
      "then\t0.008462203661729228\n",
      "were\t0.008185100922784658\n",
      "better\t0.007992764395090033\n",
      "want\t0.006927354305077678\n",
      "right\t0.006339900843329179\n",
      "science\t0.005886846679513384\n",
      "these\t0.005627734828564949\n",
      "into\t0.005589767544463768\n",
      "been\t0.0055156161717575085\n",
      "many\t0.0052958325752800505\n",
      "should\t0.005030133016182306\n",
      "must\t0.004944435386313594\n",
      "engine\t0.004825132601921394\n",
      "says\t0.004718770042409544\n",
      "good\t0.004452158908143149\n",
      "part\t0.004398339596789552\n",
      "seems\t0.004125086171274554\n",
      "think\t0.004084432470970334\n",
      "most\t0.004034064217021951\n",
      "movie\t0.0038484942594909396\n",
      "after\t0.0038196726814589605\n",
      "once\t0.0035826121104269954\n",
      "something\t0.0034326103407008803\n",
      "because\t0.003341614561024224\n",
      "does\t0.0031614219621072972\n",
      "very\t0.0031201338393694834\n",
      "james\t0.0030811749545112677\n",
      "\n"
     ]
    },
    {
     "data": {
      "text/plain": [
       "idx = 10\n",
       "topicIndices = Array((Array(25, 29, 14, 33, 7, 17, 11, 8, 31, 47, 71, 87, 0, 42, 111, 36, 120, 101, 115, 147, 117, 142, 172, 53, 151, 28, 64, 154, 59, 6),Array(0.012643275631369468, 0.01199892653846487, 0.011489389159339945, 0.010461753442982532, 0.010033859874241645, 0.009046697848641316, 0.008985058416534403, 0.008776317737127445, 0.00870315316139373, 0.008168184471456088, 0.007318294146922494, 0.006893699748457801, 0.006457573336484874, 0.005735232098296366, 0.0056810127282647055, 0.0054274783521739735, 0.005346644944619072, 0.005201538796310405, 0.004953510922416698, 0.004673200538625899, 0.004580725684189369, 0.0045489408314838406, 0.0044313548110878585, 0.004270628694089294, 0.004267651379416461, 0.004165226488264872, 0.00411679339...\n"
      ]
     },
     "metadata": {},
     "output_type": "display_data"
    },
    {
     "data": {
      "text/plain": [
       "[([I@40a32aec,[D@3f930ab2), ([I@384762db,[D@f9c23ca), ([I@56b19c9f,[D@71d0da61), ([I@72023f3a,[D@1c6ed0c3), ([I@4661e2b5,[D@31953bca), ([I@528d392d,[D@380f1377), ([I@71322a89,[D@6961040e), ([I@521e1c5e,[D@12ca29c1), ([I@724c2f73,[D@136c0440), ([I@3132069f,[D@72f5a559)]"
      ]
     },
     "execution_count": 10,
     "metadata": {},
     "output_type": "execute_result"
    }
   ],
   "source": [
    "// Print topics, showing top-weighted 10 terms for each topic.\n",
    "var idx = 0\n",
    "val topicIndices = ldaModel.describeTopics(maxTermsPerTopic = 30)\n",
    "topicIndices.foreach { case (terms, termWeights) =>\n",
    "  println(\"TOPIC: \" + idx)\n",
    "  terms.zip(termWeights).foreach { case (term, weight) =>\n",
    "    println(s\"${vocabArray(term.toInt)}\\t$weight\")\n",
    "  }\n",
    "  println()\n",
    "  idx += 1\n",
    "}"
   ]
  },
  {
   "cell_type": "markdown",
   "metadata": {},
   "source": [
    "Whew, that took a long time!  Let's write this to a directory and move on to the next notebook!  Spark has a standard format that it can read and write here, but it doesn't actually contain the words array, and we want to look at that in the next notebook.  First, let's save the words array."
   ]
  },
  {
   "cell_type": "code",
   "execution_count": 34,
   "metadata": {},
   "outputs": [
    {
     "data": {
      "text/plain": [
       "filename = trainedModel-1\n"
      ]
     },
     "metadata": {},
     "output_type": "display_data"
    },
    {
     "data": {
      "text/plain": [
       "lastException: Throwable = null\n"
      ]
     },
     "metadata": {},
     "output_type": "display_data"
    },
    {
     "data": {
      "text/plain": [
       "trainedModel-1"
      ]
     },
     "execution_count": 34,
     "metadata": {},
     "output_type": "execute_result"
    }
   ],
   "source": [
    "val filename = \"trainedModel-1\"\n",
    "sc.parallelize(vocab.toSeq).saveAsTextFile(\"LDAModels/\" + filename + \"-vocab\")\n"
   ]
  },
  {
   "cell_type": "markdown",
   "metadata": {},
   "source": [
    "Finally, we'll save the model for loading in the next notebook."
   ]
  },
  {
   "cell_type": "code",
   "execution_count": 37,
   "metadata": {},
   "outputs": [
    {
     "data": {
      "text/plain": [
       "lastException: Throwable = null\n"
      ]
     },
     "metadata": {},
     "output_type": "display_data"
    }
   ],
   "source": [
    "ldaModel.save(sc, \"LDAModels/\" + filename)"
   ]
  }
 ],
 "metadata": {
  "kernelspec": {
   "display_name": "Apache Toree - Scala",
   "language": "scala",
   "name": "apache_toree_scala"
  },
  "language_info": {
   "codemirror_mode": "text/x-scala",
   "file_extension": ".scala",
   "mimetype": "text/x-scala",
   "name": "scala",
   "pygments_lexer": "scala",
   "version": "2.11.8"
  }
 },
 "nbformat": 4,
 "nbformat_minor": 1
}
