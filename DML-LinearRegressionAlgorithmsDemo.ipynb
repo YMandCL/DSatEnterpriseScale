{
 "cells": [
  {
   "cell_type": "markdown",
   "metadata": {},
   "source": [
    "# Linear Regression Algorithms using Apache SystemML\n",
    "\n",
    "This notebook shows:\n",
    "- Install SystemML Python package and jar file\n",
    "  - pip\n",
    "  - SystemML 'Hello World'\n",
    "- Example 1: Matrix Multiplication\n",
    "  - SystemML script to generate a random matrix, perform matrix multiplication, and compute the sum of the output\n",
    "  - Examine execution plans, and increase data size to obverve changed execution plans\n",
    "- Load diabetes dataset from scikit-learn\n",
    "- Example 2: Implement three different algorithms to train linear regression model\n",
    "  - Algorithm 1: Linear Regression - Direct Solve (no regularization)\n",
    "  - Algorithm 2: Linear Regression - Batch Gradient Descent (no regularization)\n",
    "  - Algorithm 3: Linear Regression - Conjugate Gradient (no regularization)\n",
    "- Example 3: Invoke existing SystemML algorithm script LinearRegDS.dml using MLContext API\n",
    "- Example 4: Invoke existing SystemML algorithm using scikit-learn/SparkML pipeline like API\n",
    "- Uninstall/Clean up SystemML Python package and jar file"
   ]
  },
  {
   "cell_type": "markdown",
   "metadata": {},
   "source": [
    "# Install SystemML Python package and jar file"
   ]
  },
  {
   "cell_type": "code",
   "execution_count": 1,
   "metadata": {},
   "outputs": [
    {
     "name": "stdout",
     "output_type": "stream",
     "text": [
      "Uninstalling systemml-1.2.0:\n",
      "  Successfully uninstalled systemml-1.2.0\n",
      "Collecting systemml\n",
      "Requirement already satisfied: numpy>=1.8.2 in /Users/nilmeier@us.ibm.com/anaconda2/envs/py35/lib/python3.5/site-packages (from systemml) (1.16.4)\n",
      "Requirement already satisfied: scipy>=0.15.1 in /Users/nilmeier@us.ibm.com/anaconda2/envs/py35/lib/python3.5/site-packages (from systemml) (1.3.0)\n",
      "Requirement already satisfied: pandas in /Users/nilmeier@us.ibm.com/anaconda2/envs/py35/lib/python3.5/site-packages (from systemml) (0.23.4)\n",
      "Requirement already satisfied: scikit-learn in /Users/nilmeier@us.ibm.com/anaconda2/envs/py35/lib/python3.5/site-packages (from systemml) (0.20.0)\n",
      "Requirement already satisfied: Pillow>=2.0.0 in /Users/nilmeier@us.ibm.com/anaconda2/envs/py35/lib/python3.5/site-packages (from systemml) (5.1.0)\n",
      "Requirement already satisfied: python-dateutil>=2.5.0 in /Users/nilmeier@us.ibm.com/anaconda2/envs/py35/lib/python3.5/site-packages (from pandas->systemml) (2.7.0)\n",
      "Requirement already satisfied: pytz>=2011k in /Users/nilmeier@us.ibm.com/anaconda2/envs/py35/lib/python3.5/site-packages (from pandas->systemml) (2018.3)\n",
      "Requirement already satisfied: six>=1.5 in /Users/nilmeier@us.ibm.com/anaconda2/envs/py35/lib/python3.5/site-packages (from python-dateutil>=2.5.0->pandas->systemml) (1.12.0)\n",
      "Installing collected packages: systemml\n",
      "Successfully installed systemml-1.2.0\n",
      "\u001b[33mYou are using pip version 19.0.3, however version 19.2.3 is available.\n",
      "You should consider upgrading via the 'pip install --upgrade pip' command.\u001b[0m\n"
     ]
    }
   ],
   "source": [
    "!pip uninstall systemml --y\n",
    "#!pip install --user https://repository.apache.org/content/groups/snapshots/org/apache/systemml/systemml/1.0.0-SNAPSHOT/systemml-1.0.0-20171201.070207-23-python.tar.gz\n",
    "!pip install systemml"
   ]
  },
  {
   "cell_type": "code",
   "execution_count": 1,
   "metadata": {},
   "outputs": [
    {
     "name": "stdout",
     "output_type": "stream",
     "text": [
      "Name: systemml\r\n",
      "Version: 1.2.0\r\n",
      "Summary: Apache SystemML is a distributed and declarative machine learning platform.\r\n",
      "Home-page: http://systemml.apache.org/\r\n",
      "Author: Apache SystemML\r\n",
      "Author-email: dev@systemml.apache.org\r\n",
      "License: Apache 2.0\r\n",
      "Location: /Users/nilmeier@us.ibm.com/anaconda2/envs/py35/lib/python3.5/site-packages\r\n",
      "Requires: pandas, scikit-learn, Pillow, numpy, scipy\r\n",
      "Required-by: \r\n"
     ]
    }
   ],
   "source": [
    "!pip show systemml"
   ]
  },
  {
   "cell_type": "markdown",
   "metadata": {},
   "source": [
    "### Import SystemML API "
   ]
  },
  {
   "cell_type": "code",
   "execution_count": 2,
   "metadata": {},
   "outputs": [
    {
     "name": "stdout",
     "output_type": "stream",
     "text": [
      "Spark Version: 2.2.1\n",
      "SystemML Version: 1.2.0\n",
      "SystemML Built-Time: 2018-08-17 05:58:31 UTC\n"
     ]
    }
   ],
   "source": [
    "from pyspark import SparkContext\n",
    "from systemml import MLContext, dml, dmlFromResource\n",
    "sc = SparkContext(\"local\", \"Simple App\")\n",
    "ml = MLContext(sc)\n",
    "\n",
    "print(\"Spark Version:\", sc.version) \n",
    "print(\"SystemML Version:\", ml.version()) \n",
    "print(\"SystemML Built-Time:\", ml.buildTime()) "
   ]
  },
  {
   "cell_type": "code",
   "execution_count": 4,
   "metadata": {},
   "outputs": [
    {
     "name": "stdout",
     "output_type": "stream",
     "text": [
      "SystemML Statistics:\n",
      "Total execution time:\t\t0.001 sec.\n",
      "Number of executed Spark inst:\t0.\n",
      "\n",
      "\n"
     ]
    },
    {
     "data": {
      "text/plain": [
       "'Hello World!'"
      ]
     },
     "execution_count": 4,
     "metadata": {},
     "output_type": "execute_result"
    }
   ],
   "source": [
    "ml.execute(dml(\"\"\"s = 'Hello World!'\"\"\").output(\"s\")).get(\"s\")"
   ]
  },
  {
   "cell_type": "markdown",
   "metadata": {},
   "source": [
    "### Import numpy, sklearn, and define some helper functions"
   ]
  },
  {
   "cell_type": "code",
   "execution_count": 3,
   "metadata": {},
   "outputs": [],
   "source": [
    "import matplotlib.pyplot as plt\n",
    "import numpy as np\n",
    "from sklearn import datasets\n",
    "plt.switch_backend('agg')"
   ]
  },
  {
   "cell_type": "markdown",
   "metadata": {},
   "source": [
    "# Example 1: Matrix Multiplication"
   ]
  },
  {
   "cell_type": "markdown",
   "metadata": {},
   "source": [
    "### SystemML script to generate a random matrix, perform matrix multiplication, and compute the sum of the output"
   ]
  },
  {
   "cell_type": "code",
   "execution_count": 6,
   "metadata": {
    "slideshow": {
     "slide_type": "-"
    }
   },
   "outputs": [],
   "source": [
    "script = \"\"\"\n",
    "    X = rand(rows=$nr, cols=1000, sparsity=0.5)\n",
    "    A = t(X) %*% X\n",
    "    s = sum(A)\n",
    "\"\"\""
   ]
  },
  {
   "cell_type": "raw",
   "metadata": {},
   "source": [
    "ml.setStatistics(False)"
   ]
  },
  {
   "cell_type": "raw",
   "metadata": {},
   "source": [
    "ml.setExplain(True).setExplainLevel(\"runtime\")"
   ]
  },
  {
   "cell_type": "code",
   "execution_count": 4,
   "metadata": {},
   "outputs": [
    {
     "ename": "NameError",
     "evalue": "name 'script' is not defined",
     "output_type": "error",
     "traceback": [
      "\u001b[0;31m---------------------------------------------------------------------------\u001b[0m",
      "\u001b[0;31mNameError\u001b[0m                                 Traceback (most recent call last)",
      "\u001b[0;32m<ipython-input-4-1cbdee62a458>\u001b[0m in \u001b[0;36m<module>\u001b[0;34m()\u001b[0m\n\u001b[0;32m----> 1\u001b[0;31m \u001b[0mprog\u001b[0m \u001b[0;34m=\u001b[0m \u001b[0mdml\u001b[0m\u001b[0;34m(\u001b[0m\u001b[0mscript\u001b[0m\u001b[0;34m)\u001b[0m\u001b[0;34m.\u001b[0m\u001b[0minput\u001b[0m\u001b[0;34m(\u001b[0m\u001b[0;34m'$nr'\u001b[0m\u001b[0;34m,\u001b[0m \u001b[0;36m1e5\u001b[0m\u001b[0;34m)\u001b[0m\u001b[0;34m.\u001b[0m\u001b[0moutput\u001b[0m\u001b[0;34m(\u001b[0m\u001b[0;34m's'\u001b[0m\u001b[0;34m)\u001b[0m\u001b[0;34m\u001b[0m\u001b[0m\n\u001b[0m\u001b[1;32m      2\u001b[0m \u001b[0ms\u001b[0m \u001b[0;34m=\u001b[0m \u001b[0mml\u001b[0m\u001b[0;34m.\u001b[0m\u001b[0mexecute\u001b[0m\u001b[0;34m(\u001b[0m\u001b[0mprog\u001b[0m\u001b[0;34m)\u001b[0m\u001b[0;34m.\u001b[0m\u001b[0mget\u001b[0m\u001b[0;34m(\u001b[0m\u001b[0;34m's'\u001b[0m\u001b[0;34m)\u001b[0m\u001b[0;34m\u001b[0m\u001b[0m\n\u001b[1;32m      3\u001b[0m \u001b[0mprint\u001b[0m \u001b[0;34m(\u001b[0m\u001b[0ms\u001b[0m\u001b[0;34m)\u001b[0m\u001b[0;34m\u001b[0m\u001b[0m\n",
      "\u001b[0;31mNameError\u001b[0m: name 'script' is not defined"
     ]
    }
   ],
   "source": [
    "prog = dml(script).input('$nr', 1e5).output('s')\n",
    "s = ml.execute(prog).get('s')\n",
    "print (s)"
   ]
  },
  {
   "cell_type": "markdown",
   "metadata": {},
   "source": [
    "# Load diabetes dataset from scikit-learn "
   ]
  },
  {
   "cell_type": "code",
   "execution_count": null,
   "metadata": {},
   "outputs": [],
   "source": [
    "%matplotlib inline"
   ]
  },
  {
   "cell_type": "code",
   "execution_count": null,
   "metadata": {},
   "outputs": [],
   "source": [
    "diabetes = datasets.load_diabetes()\n",
    "diabetes_X = diabetes.data[:, np.newaxis, 2]\n",
    "diabetes_X_train = diabetes_X[:-20]\n",
    "diabetes_X_test = diabetes_X[-20:]\n",
    "diabetes_y_train = diabetes.target[:-20].reshape(-1,1)\n",
    "diabetes_y_test = diabetes.target[-20:].reshape(-1,1)\n",
    "\n",
    "plt.scatter(diabetes_X_train, diabetes_y_train,  color='black')\n",
    "plt.scatter(diabetes_X_test, diabetes_y_test,  color='red')"
   ]
  },
  {
   "cell_type": "code",
   "execution_count": null,
   "metadata": {},
   "outputs": [],
   "source": [
    "diabetes.data.shape"
   ]
  },
  {
   "cell_type": "markdown",
   "metadata": {},
   "source": [
    "# Example 2: Implement three different algorithms to train linear regression model"
   ]
  },
  {
   "cell_type": "markdown",
   "metadata": {
    "collapsed": true
   },
   "source": [
    "## Algorithm 1: Linear Regression - Direct Solve (no regularization) "
   ]
  },
  {
   "cell_type": "markdown",
   "metadata": {},
   "source": [
    "#### Least squares formulation\n",
    "w* = argminw ||Xw-y||2 = argminw (y - Xw)'(y - Xw) = argminw (w'(X'X)w - w'(X'y))/2\n",
    "\n",
    "#### Setting the gradient\n",
    "dw = (X'X)w - (X'y) to 0, w = (X'X)-1(X' y) = solve(X'X, X'y)"
   ]
  },
  {
   "cell_type": "code",
   "execution_count": null,
   "metadata": {},
   "outputs": [],
   "source": [
    "script = \"\"\"\n",
    "    # add constant feature to X to model intercept\n",
    "    X = cbind(X, matrix(1, rows=nrow(X), cols=1))\n",
    "    A = t(X) %*% X\n",
    "    b = t(X) %*% y\n",
    "    w = solve(A, b)\n",
    "    bias = as.scalar(w[nrow(w),1])\n",
    "    w = w[1:nrow(w)-1,]\n",
    "\"\"\""
   ]
  },
  {
   "cell_type": "code",
   "execution_count": null,
   "metadata": {},
   "outputs": [],
   "source": [
    "prog = dml(script).input(X=diabetes_X_train, y=diabetes_y_train).output('w', 'bias')\n",
    "w, bias = ml.execute(prog).get('w','bias')\n",
    "w = w.toNumPy()"
   ]
  },
  {
   "cell_type": "code",
   "execution_count": null,
   "metadata": {},
   "outputs": [],
   "source": [
    "plt.scatter(diabetes_X_train, diabetes_y_train,  color='black')\n",
    "plt.scatter(diabetes_X_test, diabetes_y_test,  color='red')\n",
    "\n",
    "plt.plot(diabetes_X_test, (w*diabetes_X_test)+bias, color='blue', linestyle ='dotted')"
   ]
  },
  {
   "cell_type": "markdown",
   "metadata": {
    "collapsed": true
   },
   "source": [
    "## Algorithm 2: Linear Regression - Batch Gradient Descent (no regularization)"
   ]
  },
  {
   "cell_type": "markdown",
   "metadata": {},
   "source": [
    "#### Algorithm\n",
    "`Step 1: Start with an initial point \n",
    "while(not converged) { \n",
    "  Step 2: Compute gradient dw. \n",
    "  Step 3: Compute stepsize alpha.     \n",
    "  Step 4: Update: wnew = wold + alpha*dw \n",
    "}`\n",
    "\n",
    "#### Gradient formula\n",
    "`dw = r = (X'X)w - (X'y)`\n",
    "\n",
    "#### Step size formula\n",
    "`Find number alpha to minimize f(w + alpha*r) \n",
    "alpha = -(r'r)/(r'X'Xr)`\n",
    "\n",
    "![Gradient Descent](http://blog.datumbox.com/wp-content/uploads/2013/10/gradient-descent.png)"
   ]
  },
  {
   "cell_type": "code",
   "execution_count": 14,
   "metadata": {},
   "outputs": [],
   "source": [
    "script = \"\"\"\n",
    "    # add constant feature to X to model intercepts\n",
    "    X = cbind(X, matrix(1, rows=nrow(X), cols=1))\n",
    "    max_iter = 100\n",
    "    w = matrix(0, rows=ncol(X), cols=1)\n",
    "    for(i in 1:max_iter){\n",
    "        XtX = t(X) %*% X\n",
    "        dw = XtX %*%w - t(X) %*% y\n",
    "        alpha = -(t(dw) %*% dw) / (t(dw) %*% XtX %*% dw)\n",
    "        w = w + dw*alpha\n",
    "    }\n",
    "    bias = as.scalar(w[nrow(w),1])\n",
    "    w = w[1:nrow(w)-1,]    \n",
    "\"\"\""
   ]
  },
  {
   "cell_type": "code",
   "execution_count": 15,
   "metadata": {},
   "outputs": [
    {
     "name": "stdout",
     "output_type": "stream",
     "text": [
      "SystemML Statistics:\n",
      "Total execution time:\t\t0.073 sec.\n",
      "Number of executed Spark inst:\t2.\n",
      "\n",
      "\n"
     ]
    }
   ],
   "source": [
    "prog = dml(script).input(X=diabetes_X_train, y=diabetes_y_train).output('w', 'bias')\n",
    "w, bias = ml.execute(prog).get('w', 'bias')\n",
    "w = w.toNumPy()"
   ]
  },
  {
   "cell_type": "code",
   "execution_count": 16,
   "metadata": {},
   "outputs": [
    {
     "data": {
      "text/plain": [
       "[<matplotlib.lines.Line2D at 0x1290a1cf8>]"
      ]
     },
     "execution_count": 16,
     "metadata": {},
     "output_type": "execute_result"
    },
    {
     "data": {
      "image/png": "[encoded data removed]",
      "text/plain": [
       "<Figure size 432x288 with 1 Axes>"
      ]
     },
     "metadata": {},
     "output_type": "display_data"
    }
   ],
   "source": [
    "plt.scatter(diabetes_X_train, diabetes_y_train,  color='black')\n",
    "plt.scatter(diabetes_X_test, diabetes_y_test,  color='red')\n",
    "\n",
    "plt.plot(diabetes_X_test, (w*diabetes_X_test)+bias, color='red', linestyle ='dashed')"
   ]
  },
  {
   "cell_type": "markdown",
   "metadata": {},
   "source": [
    "# Algorithm 3: Linear Regression - Conjugate Gradient (no regularization)"
   ]
  },
  {
   "cell_type": "markdown",
   "metadata": {},
   "source": [
    "Problem with gradient descent: Takes very similar directions many times\n",
    "\n",
    "Solution: Enforce conjugacy\n",
    "\n",
    "`Step 1: Start with an initial point \n",
    "while(not converged) {\n",
    "   Step 2: Compute gradient dw.\n",
    "   Step 3: Compute stepsize alpha.\n",
    "   Step 4: Compute next direction p by enforcing conjugacy with previous direction.\n",
    "   Step 4: Update: w_new = w_old + alpha*p\n",
    "}`\n",
    "\n",
    "![Gradient Descent vs Conjugate Gradient](http://i.stack.imgur.com/zh1HH.png)\n"
   ]
  },
  {
   "cell_type": "code",
   "execution_count": 17,
   "metadata": {},
   "outputs": [],
   "source": [
    "script = \"\"\"\n",
    "    # add constant feature to X to model intercepts\n",
    "    X = cbind(X, matrix(1, rows=nrow(X), cols=1))\n",
    "    m = ncol(X); i = 1; \n",
    "    max_iter = 20;\n",
    "    w = matrix (0, rows = m, cols = 1); # initialize weights to 0\n",
    "    dw = - t(X) %*% y; p = - dw;        # dw = (X'X)w - (X'y)\n",
    "    norm_r2 = sum (dw ^ 2); \n",
    "    for(i in 1:max_iter) {\n",
    "        q = t(X) %*% (X %*% p)\n",
    "        alpha = norm_r2 / sum (p * q);  # Minimizes f(w - alpha*r)\n",
    "        w = w + alpha * p;              # update weights\n",
    "        dw = dw + alpha * q;           \n",
    "        old_norm_r2 = norm_r2; norm_r2 = sum (dw ^ 2);\n",
    "        p = -dw + (norm_r2 / old_norm_r2) * p; # next direction - conjugacy to previous direction\n",
    "        i = i + 1;\n",
    "    }\n",
    "    bias = as.scalar(w[nrow(w),1])\n",
    "    w = w[1:nrow(w)-1,]    \n",
    "\"\"\""
   ]
  },
  {
   "cell_type": "code",
   "execution_count": 18,
   "metadata": {},
   "outputs": [
    {
     "name": "stdout",
     "output_type": "stream",
     "text": [
      "SystemML Statistics:\n",
      "Total execution time:\t\t0.019 sec.\n",
      "Number of executed Spark inst:\t2.\n",
      "\n",
      "\n"
     ]
    }
   ],
   "source": [
    "prog = dml(script).input(X=diabetes_X_train, y=diabetes_y_train).output('w', 'bias')\n",
    "w, bias = ml.execute(prog).get('w','bias')\n",
    "w = w.toNumPy()"
   ]
  },
  {
   "cell_type": "code",
   "execution_count": 19,
   "metadata": {},
   "outputs": [
    {
     "data": {
      "text/plain": [
       "[<matplotlib.lines.Line2D at 0x12913e860>]"
      ]
     },
     "execution_count": 19,
     "metadata": {},
     "output_type": "execute_result"
    },
    {
     "data": {
      "image/png": "[encoded data removed]",
      "text/plain": [
       "<Figure size 432x288 with 1 Axes>"
      ]
     },
     "metadata": {},
     "output_type": "display_data"
    }
   ],
   "source": [
    "plt.scatter(diabetes_X_train, diabetes_y_train,  color='black')\n",
    "plt.scatter(diabetes_X_test, diabetes_y_test,  color='red')\n",
    "\n",
    "plt.plot(diabetes_X_test, (w*diabetes_X_test)+bias, color='red', linestyle ='dashed')"
   ]
  },
  {
   "cell_type": "markdown",
   "metadata": {},
   "source": [
    "# Example 3: Invoke existing SystemML algorithm script LinearRegDS.dml using MLContext API"
   ]
  },
  {
   "cell_type": "code",
   "execution_count": 20,
   "metadata": {},
   "outputs": [
    {
     "name": "stdout",
     "output_type": "stream",
     "text": [
      "BEGIN LINEAR REGRESSION SCRIPT\n",
      "Reading X and Y...\n",
      "Calling the Direct Solver...\n",
      "Computing the statistics...\n",
      "AVG_TOT_Y,153.36255924170615\n",
      "STDEV_TOT_Y,77.21853383600028\n",
      "AVG_RES_Y,3.633533705616816E-14\n",
      "STDEV_RES_Y,63.038506337610244\n",
      "DISPERSION,3973.853281276927\n",
      "R2,0.3351312506863875\n",
      "ADJUSTED_R2,0.33354822985468835\n",
      "R2_NOBIAS,0.3351312506863875\n",
      "ADJUSTED_R2_NOBIAS,0.33354822985468835\n",
      "Writing the output matrix...\n",
      "END LINEAR REGRESSION SCRIPT\n",
      "SystemML Statistics:\n",
      "Total execution time:\t\t0.003 sec.\n",
      "Number of executed Spark inst:\t2.\n",
      "\n",
      "\n"
     ]
    }
   ],
   "source": [
    "prog = dmlFromResource('scripts/algorithms/LinearRegDS.dml').input(X=diabetes_X_train, y=diabetes_y_train).input('$icpt',1.0).output('beta_out')\n",
    "w = ml.execute(prog).get('beta_out')\n",
    "w = w.toNumPy()\n",
    "bias=w[1]"
   ]
  },
  {
   "cell_type": "code",
   "execution_count": 21,
   "metadata": {},
   "outputs": [
    {
     "data": {
      "text/plain": [
       "[<matplotlib.lines.Line2D at 0x1291d6400>]"
      ]
     },
     "execution_count": 21,
     "metadata": {},
     "output_type": "execute_result"
    },
    {
     "data": {
      "image/png": "[encoded data removed]",
      "text/plain": [
       "<Figure size 432x288 with 1 Axes>"
      ]
     },
     "metadata": {},
     "output_type": "display_data"
    }
   ],
   "source": [
    "plt.scatter(diabetes_X_train, diabetes_y_train,  color='black')\n",
    "plt.scatter(diabetes_X_test, diabetes_y_test,  color='red')\n",
    "\n",
    "plt.plot(diabetes_X_test, (w[0]*diabetes_X_test)+bias, color='red', linestyle ='dashed')"
   ]
  },
  {
   "cell_type": "markdown",
   "metadata": {},
   "source": [
    "# Uninstall/Clean up SystemML Python package and jar file"
   ]
  },
  {
   "cell_type": "raw",
   "metadata": {},
   "source": [
    "!pip uninstall systemml --y"
   ]
  }
 ],
 "metadata": {
  "anaconda-cloud": {},
  "kernelspec": {
   "display_name": "Python 3.5",
   "language": "python",
   "name": "py35"
  },
  "language_info": {
   "codemirror_mode": {
    "name": "ipython",
    "version": 3
   },
   "file_extension": ".py",
   "mimetype": "text/x-python",
   "name": "python",
   "nbconvert_exporter": "python",
   "pygments_lexer": "ipython3",
   "version": "3.5.5"
  }
 },
 "nbformat": 4,
 "nbformat_minor": 1
}
