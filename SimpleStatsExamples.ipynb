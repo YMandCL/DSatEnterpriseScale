{
 "cells": [
  {
   "cell_type": "markdown",
   "metadata": {},
   "source": [
    "## A comprehensive stats question"
   ]
  },
  {
   "cell_type": "markdown",
   "metadata": {},
   "source": [
    "### Mean and Variance\n",
    "Given a data set $x = \\{x_1, x_2,...,x_N\\}$, write a formula for the mean.\n",
    "\n",
    "$$E[X]=\\frac{1}{N} \\sum_{i=1}^{N} x_i$$\n",
    "\n",
    "Write the formula for the variance\n",
    "\n",
    "$$VAR(X) = E[X^2] - E[X]^2=\\frac{1}{N} \\sum_{i=1}^N x_i^2 - \\left(\\frac{1}{N} \\sum_{i=1}^{N} x_i\\right)^2$$"
   ]
  },
  {
   "cell_type": "markdown",
   "metadata": {},
   "source": [
    "### Covariance\n",
    "Given a second dataset $x = \\{y_1, y_2,...,y_N\\}$ write a formula for the covariance of x and y\n",
    "\n",
    "_I don't think it matters that they have the formula exact or can remember if it off the top of their head, it's more important to see if they can reason through the general idea of covariance_\n",
    "\n",
    "Covariance should measure the tendency of the corresponding data points in x and y to be above or below their mean at the same time. So, perhaps that would be\n",
    "\n",
    "$$COV(X, Y) = E[(X-\\mu_X)(Y - \\mu_Y)]$$\n",
    "\n",
    "Now, if X and Y were completely independent, then we'd expect that the multiplying the data points in the two data sets together would simply yield the product of their means. However, if the two data sets vary together, we'd expect that it would be some number higher than that (since the errors in X and Y would not average out). That might look like:\n",
    "\n",
    "$$COV(X, Y) = E[XY] - E[X]E[Y] = \\frac{1}{N}\\sum_{i=1}^N x_iy_i - \\frac{1}{N^2}\\sum_{i=1}^N x_i \\sum_{i=1}^N y_i$$\n",
    "\n",
    "_Both of these answers are exactly correct but use slightly different reasonings to get there_"
   ]
  },
  {
   "cell_type": "markdown",
   "metadata": {},
   "source": [
    "### R-squared\n",
    "The problem with using covariance is that the magnitude of the number doesn't tell us much on the surface. Can you think of a more appropriate (perhaps related) metric to measure the correlation between two data sets?\n",
    "\n",
    "_Should be able to come up with the fact that the covariance should be normalized by the natural variance in the datasets. Don't think it's important to generate the exact formula for the r-squared._\n",
    "\n",
    "Normalize the covariance by the variances of the data sets.\n",
    "\n",
    "$$R^2=\\frac{COV(X, Y)^2}{VAR(X) \\cdot VAR(Y)}$$"
   ]
  },
  {
   "cell_type": "markdown",
   "metadata": {},
   "source": [
    "Given the histogram below, can you write a formula for computing the mean and variance?"
   ]
  },
  {
   "cell_type": "code",
   "execution_count": 1,
   "metadata": {},
   "outputs": [
    {
     "name": "stderr",
     "output_type": "stream",
     "text": [
      "/Users/jeromenilmeier/anaconda/lib/python2.7/site-packages/matplotlib/font_manager.py:273: UserWarning: Matplotlib is building the font cache using fc-list. This may take a moment.\n",
      "  warnings.warn('Matplotlib is building the font cache using fc-list. This may take a moment.')\n"
     ]
    }
   ],
   "source": [
    "import numpy as np\n",
    "import matplotlib.pyplot as plt\n",
    "%matplotlib inline"
   ]
  },
  {
   "cell_type": "code",
   "execution_count": 2,
   "metadata": {},
   "outputs": [
    {
     "data": {
      "text/plain": [
       "([<matplotlib.axis.XTick at 0x10605d110>,\n",
       "  <matplotlib.axis.XTick at 0x10cd20d10>,\n",
       "  <matplotlib.axis.XTick at 0x11009ab10>,\n",
       "  <matplotlib.axis.XTick at 0x1100c8350>,\n",
       "  <matplotlib.axis.XTick at 0x1100c8a90>,\n",
       "  <matplotlib.axis.XTick at 0x1100d8210>],\n",
       " <a list of 6 Text xticklabel objects>)"
      ]
     },
     "execution_count": 2,
     "metadata": {},
     "output_type": "execute_result"
    },
    {
     "data": {
      "image/png": "[encoded data removed]",
      "text/plain": [
       "<matplotlib.figure.Figure at 0x10fffd310>"
      ]
     },
     "metadata": {},
     "output_type": "display_data"
    }
   ],
   "source": [
    "plt.hist(np.array([0,1,3,3,3,5,5,5,5,5,7,7,7,9,10]), bins=5)\n",
    "plt.xticks([0, 2, 4, 6, 8, 10], ['x'+str(i) for i in xrange(6)])"
   ]
  },
  {
   "cell_type": "markdown",
   "metadata": {},
   "source": [
    "$$E[X]=\\frac{1}{N} \\sum_{i=0}^{N-1} f_i \\frac{x_i + x_{i+1}}{2}\\\\\n",
    "E[X^2] = \\frac{1}{N} \\sum_{i=0}^{N-1} f_i \\frac{x_i^2 + x_{i+1}^2}{2}\\\\\n",
    "VAR(X) = E[X^2] - E[X]^2$$"
   ]
  },
  {
   "cell_type": "markdown",
   "metadata": {},
   "source": [
    "### Code it\n",
    "\n",
    "Write some code that can compute the histogram of a data set. The input should be a list of floats and a number of bins and the output should be a list of tuples [((bin_start, bin_end), frequency)].\n",
    "\n",
    "e.g. x = [0,1,1,4,4,6], nbins = 3 => [((0,2), 3), ((2,4), 2), ((4, 6), 1)]"
   ]
  },
  {
   "cell_type": "code",
   "execution_count": 7,
   "metadata": {
    "collapsed": true
   },
   "outputs": [],
   "source": [
    "def compute_bins(data, num_bins):\n",
    "    start = min(data)\n",
    "    stop = max(data)\n",
    "    interval = (stop - start) / float(num_bins)\n",
    "    return [(start + i*interval, start + (1 + i)*interval) for i in xrange(num_bins)]\n",
    "    "
   ]
  },
  {
   "cell_type": "code",
   "execution_count": 8,
   "metadata": {},
   "outputs": [],
   "source": [
    "from collections import defaultdict\n",
    "def bin_data(data, bins):\n",
    "    # sorting makes solution O(N log N) (data length = N)\n",
    "    # No sorting makes solution O(N*k) (data length = N, num_bins = k)\n",
    "    srtd_data = sorted(data)\n",
    "    bin_idx = 0\n",
    "    d = defaultdict(int)\n",
    "    for sample in srtd_data:\n",
    "        while sample > bins[bin_idx][1]:\n",
    "            if bins[bin_idx] not in d:\n",
    "                d[bins[bin_idx]] = 0\n",
    "            bin_idx += 1\n",
    "        d[bins[bin_idx]] += 1\n",
    "    return [(key, val) for key, val in d.iteritems()]"
   ]
  },
  {
   "cell_type": "markdown",
   "metadata": {},
   "source": [
    "Now, write functions to compute mean and variance from the histogram"
   ]
  },
  {
   "cell_type": "code",
   "execution_count": 9,
   "metadata": {
    "collapsed": true
   },
   "outputs": [],
   "source": [
    "def mean(binned_data):\n",
    "    mean_sum = 0\n",
    "    N = 0\n",
    "    for b, cnt in binned_data:\n",
    "        N += cnt\n",
    "        mean_sum += (b[0] + b[1]) / 2. * cnt\n",
    "    return mean_sum / float(N)\n",
    "def variance(binned_data):\n",
    "    Ex2 = mean([((b[0]**2, b[1]**2), cnt) for b, cnt in binned_data])\n",
    "    Ex = mean(binned_data)\n",
    "    return Ex2 - Ex**2"
   ]
  },
  {
   "cell_type": "code",
   "execution_count": 10,
   "metadata": {},
   "outputs": [
    {
     "name": "stdout",
     "output_type": "stream",
     "text": [
      "9.94329475367\n",
      "9.944044\n",
      "5.133573\n",
      "5.134\n"
     ]
    }
   ],
   "source": [
    "import random\n",
    "some_data = [random.randint(0, 10) for i in xrange(1000)]\n",
    "num_bins = 10000\n",
    "binned_data = bin_data(some_data, compute_bins(some_data, num_bins))\n",
    "print variance(binned_data)\n",
    "print np.var(some_data)\n",
    "print mean(binned_data)\n",
    "print np.mean(some_data)"
   ]
  },
  {
   "cell_type": "markdown",
   "metadata": {},
   "source": [
    "Now, write the pseudo code for making a histogram using map reduce\n",
    "\n",
    "```\n",
    "data.map(lambda x: (mapbin(x, bins), 1)).reduceByKey(lambda a, b: a + b)\n",
    "```"
   ]
  },
  {
   "cell_type": "markdown",
   "metadata": {},
   "source": [
    "### Least Squares Fun"
   ]
  },
  {
   "cell_type": "markdown",
   "metadata": {},
   "source": [
    "**Interviewer**  \n",
    "What function is minimized for a simple least squares regression?\n",
    "\n",
    "**Answer**\n",
    "$$||X\\beta - y||_2^2$$\n",
    "\n",
    "**Interviewer**  \n",
    "What would it look like if you just used a constant to approximate y?\n",
    "\n",
    "**Answer**\n",
    "$$||c - y||_2^2 = \\sum_{i=0}^{N-1} (c-y_i)^2$$\n",
    "\n",
    "**Interviewer**  \n",
    "What would c be?\n",
    "\n",
    "**Answer**\n",
    "Answer: The mean of the output data\n",
    "\n",
    "**Interviewer**  \n",
    "Can you prove it?\n",
    "\n",
    "**Answer**\n",
    "$$\\min_c \\sum_{i=1}^N (c - y_i)^2\\\\\n",
    "\\min_c \\sum_{i=1}^N y_i^2 - 2y_ic + c^2\\\\\n",
    "-2\\sum_{i=1}^N y_i + 2\\sum_{i=1}^N c=0\\\\\n",
    "\\sum_{i=1}^N c = \\sum_{i=1}^N y_i\\\\\n",
    "Nc = \\sum_{i=1}^N y_i\\\\\n",
    "c = \\frac{\\sum_{i=1}^N y_i}{N}\n",
    "$$"
   ]
  },
  {
   "cell_type": "markdown",
   "metadata": {},
   "source": [
    "Now, what if we used a piecewise constant function to estimate y? Meaning,\n",
    "\n",
    "$$\\hat{y} = \\begin{cases}c_1,  i \\in [0, k], \\\\ c_2, i \\in [k+1, N]\\end{cases}$$\n",
    "\n",
    "Answer: \n",
    "\n",
    "$$c_1 = \\frac{1}{k} \\sum_{i=1}^{k} y_i\\\\\n",
    "c_2 = \\frac{1}{N-k} \\sum_{i=k+1}^{N} y_i$$\n",
    "\n",
    "What would the error be?\n",
    "\n",
    "$$\\sum_{i=1}^{k} (c_1-y_i)^2 + \\sum_{i=k+1}^{N} (c_2-y_i)^2$$"
   ]
  },
  {
   "cell_type": "markdown",
   "metadata": {},
   "source": [
    "Write a program that computes c1 and c2 for a give data set and a given value of k and also computes the error."
   ]
  },
  {
   "cell_type": "code",
   "execution_count": 13,
   "metadata": {},
   "outputs": [],
   "source": [
    "# Naive solution\n",
    "data = [random.randint(0, 9) for i in xrange(4)]\n",
    "def compute_error(data, k):\n",
    "    c1 = sum(data[:k]) / float(k)\n",
    "    c2 = sum(data[k:]) / float(len(data) - k)\n",
    "    e1 = sum([(c1 - y)**2 for y in data[:k]])\n",
    "    e2 = sum([(c2 - y)**2 for y in data[k:]])\n",
    "    return e1, e2"
   ]
  },
  {
   "cell_type": "markdown",
   "metadata": {},
   "source": [
    "Now do it using a single for loop\n",
    "\n",
    "Answer: The key to this is to expand the summation. Consider the case where a single constant is used.\n",
    "\n",
    "$$error = \\sum (c - y_i)^2\\\\\n",
    "error = \\sum c^2 - 2cy_i +y_i^2\\\\\n",
    "error = \\sum c^2 - 2c\\sum y_i + \\sum y_i^2\\\\\n",
    "error = Nc^2 - 2c\\sum y_i + \\sum y_i^2\n",
    "$$\n",
    "c is easily computed after looping through the data (the average). The middle summation can be computed after the for loop as $(-2c)(\\sum y_i)$. The final summation can be computed by accumulation through the for loop. Basically, just keep track of two accumulators through the for loop (sum_y and sum_y2). Everything else can be computed after the for loop using simple math operations."
   ]
  },
  {
   "cell_type": "code",
   "execution_count": 14,
   "metadata": {},
   "outputs": [],
   "source": [
    "def compute_error_optimized(data, k):\n",
    "    y = [0, 0]\n",
    "    y2 = [0, 0]\n",
    "    for i, num in enumerate(data):\n",
    "        # use separate accumulators for the two piecewise regions\n",
    "        if i > k - 1:\n",
    "            y2[1] += num*num\n",
    "            y[1] += num\n",
    "        else:\n",
    "            y2[0] += num*num\n",
    "            y[0] += num\n",
    "    N = i + 1\n",
    "    c1 = y[0] / float(k)\n",
    "    e1 = y2[0] - 2*c1*y[0] + c1**2*(k)\n",
    "\n",
    "    c2 = y[1] / float(N - k)\n",
    "    e2 = y2[1] - 2*c2*y[1] + c2**2*(N - k)\n",
    "\n",
    "    return e1, e2"
   ]
  },
  {
   "cell_type": "code",
   "execution_count": 15,
   "metadata": {},
   "outputs": [
    {
     "name": "stdout",
     "output_type": "stream",
     "text": [
      "(18.0, 4.5)\n",
      "(18.0, 4.5)\n"
     ]
    }
   ],
   "source": [
    "print compute_error(data, 2)\n",
    "print compute_error_optimized(data,2)"
   ]
  },
  {
   "cell_type": "code",
   "execution_count": 16,
   "metadata": {},
   "outputs": [
    {
     "data": {
      "text/plain": [
       "[9, 3, 9, 6]"
      ]
     },
     "execution_count": 16,
     "metadata": {},
     "output_type": "execute_result"
    }
   ],
   "source": [
    "data"
   ]
  },
  {
   "cell_type": "code",
   "execution_count": 17,
   "metadata": {},
   "outputs": [
    {
     "data": {
      "text/plain": [
       "6.1875"
      ]
     },
     "execution_count": 17,
     "metadata": {},
     "output_type": "execute_result"
    }
   ],
   "source": [
    "np.var(data)"
   ]
  },
  {
   "cell_type": "code",
   "execution_count": 18,
   "metadata": {},
   "outputs": [
    {
     "data": {
      "text/plain": [
       "6.1875"
      ]
     },
     "execution_count": 18,
     "metadata": {},
     "output_type": "execute_result"
    }
   ],
   "source": [
    "data = np.array(data)\n",
    "np.sum(data*data / float(data.shape[0])) - np.mean(data)**2"
   ]
  }
 ],
 "metadata": {
  "anaconda-cloud": {},
  "kernelspec": {
   "display_name": "Python 2",
   "language": "python",
   "name": "python2"
  },
  "language_info": {
   "codemirror_mode": {
    "name": "ipython",
    "version": 2
   },
   "file_extension": ".py",
   "mimetype": "text/x-python",
   "name": "python",
   "nbconvert_exporter": "python",
   "pygments_lexer": "ipython2",
   "version": "2.7.14"
  }
 },
 "nbformat": 4,
 "nbformat_minor": 1
}
