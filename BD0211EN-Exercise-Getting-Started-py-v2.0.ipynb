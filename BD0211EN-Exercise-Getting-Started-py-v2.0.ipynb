{
 "cells": [
  {
   "cell_type": "markdown",
   "metadata": {},
   "source": [
    "<a href=\"https://cognitiveclass.ai\"><img src = \"https://ibm.box.com/shared/static/9gegpsmnsoo25ikkbl4qzlvlyjbgxs5x.png\" width = 400> </a>"
   ]
  },
  {
   "cell_type": "markdown",
   "metadata": {},
   "source": [
    "<h1 align = \"center\"> Spark Fundamentals I - Introduction to Spark</h1>\n",
    "<h2 align = \"center\"> Getting Started</h2>\n",
    "<br align = \"left\">\n",
    "\n",
    "**Related free online courses:**\n",
    "\n",
    "Related courses can be found in the following learning paths:\n",
    "\n",
    "- [Spark Fundamentals path](http://cocl.us/Spark_Fundamentals_Path)\n",
    "- [Big Data Fundamentals path](http://cocl.us/Big_Data_Fundamentals_Path) \n",
    "\n",
    "<img src = \"http://spark.apache.org/images/spark-logo.png\", height = 100, align = 'left'>"
   ]
  },
  {
   "cell_type": "markdown",
   "metadata": {},
   "source": [
    " ## Spark is built around speed and the ease of use. In these labs you will see for yourself how easy it is to get started using Spark. \n",
    "\n",
    "Spark’s primary abstraction is a distributed collection of items called a Resilient Distributed Dataset or RDD. In a subsequent lab exercise, you will learn more about the details of RDD. RDDs have actions, which return values, and transformations, which return pointers to new RDD.\n",
    "\n",
    "This set of labs uses Cognitive Class Labs (formerly known as BDU Labs) to provide an interactive environment to develop applications and analyze data. It is available in either Scala or Python shells. Scala runs on the Java VM and is thus a good way to use existing Java libraries. In this lab exercise, we will set up our environment in preparation for the later labs.\n",
    "\n",
    "After completing this set of hands-on labs, you should be able to:\n",
    "\n",
    "1. Perform basic RDD actions and transformations\n",
    "2. Use caching to speed up repeated operations\n",
    "\n",
    "\n",
    "### Using this notebook\n",
    "\n",
    "This is an interactive environment where you can show your code through cells, and documentation through markdown.\n",
    "\n",
    "Look at the top right corner. Do you see \"Python 3\"? This indicates that you are running Python in this notebook.\n",
    "\n",
    "**To run a cell:** Shift + Enter\n",
    "\n",
    "### Try creating a new cell below.\n",
    "\n",
    "**To create a new cell:** In the menu, go to _\"Insert\" > \"Insert Cell Below\"_. Or, click outside of a cell, and press \"a\" (insert cell above) or \"b\" (insert cell below)."
   ]
  },
  {
   "cell_type": "markdown",
   "metadata": {},
   "source": [
    "# Lab Setup\n",
    "\n",
    "Run the following cells to get the lab data."
   ]
  },
  {
   "cell_type": "code",
   "execution_count": 12,
   "metadata": {},
   "outputs": [
    {
     "name": "stdout",
     "output_type": "stream",
     "text": [
      "Requirement already satisfied: pyspark in /Users/nilmeier@us.ibm.com/Documents/spark-2.3.0-bin-hadoop2.7/python (2.3.0)\n",
      "Collecting py4j==0.10.6 (from pyspark)\n",
      "\u001b[?25l  Downloading https://files.pythonhosted.org/packages/4a/08/162710786239aa72bd72bb46c64f2b02f54250412ba928cb373b30699139/py4j-0.10.6-py2.py3-none-any.whl (189kB)\n",
      "\u001b[K    100% |████████████████████████████████| 194kB 3.3MB/s ta 0:00:01\n",
      "\u001b[?25hInstalling collected packages: py4j\n",
      "  Found existing installation: py4j 0.10.7\n",
      "    Uninstalling py4j-0.10.7:\n",
      "      Successfully uninstalled py4j-0.10.7\n",
      "Successfully installed py4j-0.10.6\n",
      "\u001b[33mYou are using pip version 19.0.3, however version 19.3.1 is available.\n",
      "You should consider upgrading via the 'pip install --upgrade pip' command.\u001b[0m\n"
     ]
    }
   ],
   "source": [
    "!pip install pyspark"
   ]
  },
  {
   "cell_type": "code",
   "execution_count": 13,
   "metadata": {},
   "outputs": [
    {
     "name": "stdout",
     "output_type": "stream",
     "text": [
      "--2019-12-02 22:14:06--  http://quiet/\n",
      "Resolving quiet (quiet)... failed: nodename nor servname provided, or not known.\n",
      "wget: unable to resolve host address ‘quiet’\n",
      "--2019-12-02 22:14:06--  https://ibm.box.com/shared/static/j8skrriqeqw66f51iyz911zyqai64j2g.zip\n",
      "Resolving ibm.box.com (ibm.box.com)... 107.152.27.197, 107.152.26.197\n",
      "Connecting to ibm.box.com (ibm.box.com)|107.152.27.197|:443... connected.\n",
      "HTTP request sent, awaiting response... 301 Moved Permanently\n",
      "Location: /public/static/j8skrriqeqw66f51iyz911zyqai64j2g.zip [following]\n",
      "--2019-12-02 22:14:06--  https://ibm.box.com/public/static/j8skrriqeqw66f51iyz911zyqai64j2g.zip\n",
      "Reusing existing connection to ibm.box.com:443.\n",
      "HTTP request sent, awaiting response... 301 Moved Permanently\n",
      "Location: https://ibm.ent.box.com/public/static/j8skrriqeqw66f51iyz911zyqai64j2g.zip [following]\n",
      "--2019-12-02 22:14:06--  https://ibm.ent.box.com/public/static/j8skrriqeqw66f51iyz911zyqai64j2g.zip\n",
      "Resolving ibm.ent.box.com (ibm.ent.box.com)... 107.152.27.211, 107.152.26.211\n",
      "Connecting to ibm.ent.box.com (ibm.ent.box.com)|107.152.27.211|:443... connected.\n",
      "HTTP request sent, awaiting response... 302 Found\n",
      "Location: https://public.boxcloud.com/d/1/b1!4J7_y6lbIp9Ozc2VlJAaPOmqGZC6WrSoAjjgTxPgJA5JuvP5Xo0Go1FwfOWaxAtR2Z4NBkHC-3cMTHB2Tuvp4k2io0EAKCmKo9YAd4qw_hiP5IthDY4G29WZ6nZVoQGL0DG9N_pSDBtqk4CRAtHk-2Xr6b3lwuuDbrX7QNunzsGg2VOS6DsTO-V2kcgviCyvo1JshGcDKMY7UEc_Cbl2t1f-C_1cLCQhN3PCQYJqCxZI3PeNt7HxfzixuAj_AcnRMVKOc0e__HjcrkGiDF8Eyt_9NFTxKXfrCh3jGPngggDVVmPf_BXgCt9qgE8Ume6ylHIBwyr2q-po7NN7XJJQfInheuT9SajOd8IrEPvRIIBq825x19HBLzvrzl86ReHc_f-w1QyZNMyR_P9fIp3-CGCKQlWK9bhbbTW-2um8jeY-XEQviWjwVbauxPT8qsydM_npdwcfNmG0akkVFd0K1Jj7yOcKrsoPBtIwDSMrNna-dcA9my-KjbH8HgbEAcZ_0pM-xhkZ9Ta0iOvRFwyVGL7uedHPggoLbb1dsNP2jc3y6Y265P7Yf6RUptBiRsoDiuM2xl7IdHI6cMiNycy-Np0bJTxk_NAayobseNff5bgEWpxMRgwCWtsPNYlNetX6IEG4zNDN8I0E31EgJpUBvLHBb2ZClO5YJ6tvzZI_YJQi6qKxdnnQTdNLxFYk911JgkyTjQRe4Nm_feswjTMrTzOB9Sw2E7rr8YGBD5EgtYzwL6eZ38t42YPK8kMFXp_KlEuwx0ymKq5zxN208QOA4_p2UfAKqzVDs_uOT0_Q3LsXejrnSZjwHimKfZm35gloZGsrY_gSK2AW6yEbflL5SgvksMBC5x01qQqoplabHZl1WK-ZreOHVZPA8hsT9quuJd84nufVy2y2ONFfesocmXUf_CvF9md8ClnmUGt8seDdXQpEMuvnsEllr3pRpZTb1l8Que6qK7GK8VHY44gAnhu-cXwiTjQrRUgs4bsiFWR5hTWdwFGG2S_O6-JwT2-7kV0vApOIqR_eoQroynahxPtfQZcif_6bO7U-3ajsT86VyaFd2QUoSB-a_InVWWOjdQCWqLRA7pWrKcwxWVO1EB3zqtWfovO3Bm3siJeUrBdXMq2a5kn9oze96sBkY4AONThEEQ10FaxuamsXYaMpQ2Bo-Ol6Fg33waic-qezUWpOAgTSOrpvAzun_JvrfvGzprmrGA0K2lMhJUPeOd4r1Xf5mp4lQt7fieVQLQc8ghdNFomUeJyyCKzvZF3am3Zfo2YzF7XEHKh0C0bPS_S5n8gxSkVzf1tHJ68HIO_crZfI3iRQPxIuB2ZdGA8i28mI5LQ2YRewuGAlyObNPTDbagANxgiP8vXpHAgeIt4OiZaA9xC1cCkCXxG9/download [following]\n",
      "--2019-12-02 22:14:07--  https://public.boxcloud.com/d/1/b1!4J7_y6lbIp9Ozc2VlJAaPOmqGZC6WrSoAjjgTxPgJA5JuvP5Xo0Go1FwfOWaxAtR2Z4NBkHC-3cMTHB2Tuvp4k2io0EAKCmKo9YAd4qw_hiP5IthDY4G29WZ6nZVoQGL0DG9N_pSDBtqk4CRAtHk-2Xr6b3lwuuDbrX7QNunzsGg2VOS6DsTO-V2kcgviCyvo1JshGcDKMY7UEc_Cbl2t1f-C_1cLCQhN3PCQYJqCxZI3PeNt7HxfzixuAj_AcnRMVKOc0e__HjcrkGiDF8Eyt_9NFTxKXfrCh3jGPngggDVVmPf_BXgCt9qgE8Ume6ylHIBwyr2q-po7NN7XJJQfInheuT9SajOd8IrEPvRIIBq825x19HBLzvrzl86ReHc_f-w1QyZNMyR_P9fIp3-CGCKQlWK9bhbbTW-2um8jeY-XEQviWjwVbauxPT8qsydM_npdwcfNmG0akkVFd0K1Jj7yOcKrsoPBtIwDSMrNna-dcA9my-KjbH8HgbEAcZ_0pM-xhkZ9Ta0iOvRFwyVGL7uedHPggoLbb1dsNP2jc3y6Y265P7Yf6RUptBiRsoDiuM2xl7IdHI6cMiNycy-Np0bJTxk_NAayobseNff5bgEWpxMRgwCWtsPNYlNetX6IEG4zNDN8I0E31EgJpUBvLHBb2ZClO5YJ6tvzZI_YJQi6qKxdnnQTdNLxFYk911JgkyTjQRe4Nm_feswjTMrTzOB9Sw2E7rr8YGBD5EgtYzwL6eZ38t42YPK8kMFXp_KlEuwx0ymKq5zxN208QOA4_p2UfAKqzVDs_uOT0_Q3LsXejrnSZjwHimKfZm35gloZGsrY_gSK2AW6yEbflL5SgvksMBC5x01qQqoplabHZl1WK-ZreOHVZPA8hsT9quuJd84nufVy2y2ONFfesocmXUf_CvF9md8ClnmUGt8seDdXQpEMuvnsEllr3pRpZTb1l8Que6qK7GK8VHY44gAnhu-cXwiTjQrRUgs4bsiFWR5hTWdwFGG2S_O6-JwT2-7kV0vApOIqR_eoQroynahxPtfQZcif_6bO7U-3ajsT86VyaFd2QUoSB-a_InVWWOjdQCWqLRA7pWrKcwxWVO1EB3zqtWfovO3Bm3siJeUrBdXMq2a5kn9oze96sBkY4AONThEEQ10FaxuamsXYaMpQ2Bo-Ol6Fg33waic-qezUWpOAgTSOrpvAzun_JvrfvGzprmrGA0K2lMhJUPeOd4r1Xf5mp4lQt7fieVQLQc8ghdNFomUeJyyCKzvZF3am3Zfo2YzF7XEHKh0C0bPS_S5n8gxSkVzf1tHJ68HIO_crZfI3iRQPxIuB2ZdGA8i28mI5LQ2YRewuGAlyObNPTDbagANxgiP8vXpHAgeIt4OiZaA9xC1cCkCXxG9/download\n",
      "Resolving public.boxcloud.com (public.boxcloud.com)... 107.152.26.200\n",
      "Connecting to public.boxcloud.com (public.boxcloud.com)|107.152.26.200|:443... connected.\n",
      "HTTP request sent, awaiting response... 200 OK\n",
      "Length: 342130822 (326M) [application/zip]\n",
      "Saving to: ‘j8skrriqeqw66f51iyz911zyqai64j2g.zip.3’\n",
      "\n",
      "j8skrriqeqw66f51iyz 100%[===================>] 326.28M  16.9MB/s    in 28s     \n",
      "\n",
      "2019-12-02 22:14:36 (11.5 MB/s) - ‘j8skrriqeqw66f51iyz911zyqai64j2g.zip.3’ saved [342130822/342130822]\n",
      "\n",
      "FINISHED --2019-12-02 22:14:36--\n",
      "Total wall clock time: 30s\n",
      "Downloaded: 1 files, 326M in 28s (11.5 MB/s)\n",
      "Data Downloaded!\n"
     ]
    }
   ],
   "source": [
    "# download the data from the IBM server\n",
    "# this may take ~30 seconds depending on your internet speed\n",
    "# !wget quiet https://ibm.box.com/shared/static/j8skrriqeqw66f51iyz911zyqai64j2g.zip\n",
    "!wget quiet https://ibm.box.com/shared/static/j8skrriqeqw66f51iyz911zyqai64j2g.zip\n",
    "\n",
    "print(\"Data Downloaded!\")"
   ]
  },
  {
   "cell_type": "markdown",
   "metadata": {},
   "source": [
    "Let's unzip the data that we just downloaded into a directory dedicated for this course. Let's choose the directory **/resources/jupyter/labs/BD0211EN/**."
   ]
  },
  {
   "cell_type": "code",
   "execution_count": 14,
   "metadata": {},
   "outputs": [
    {
     "name": "stdout",
     "output_type": "stream",
     "text": [
      "mkdir: resources: File exists\n",
      "Data Extracted!\n"
     ]
    }
   ],
   "source": [
    "# this may take ~30 seconds depending on your internet speed\n",
    "!mkdir resources\n",
    "#!unzip -q -o -d /resources/jupyterlab/labs/BD0211EN/ j8skrriqeqw66f51iyz911zyqai64j2g.zip\n",
    "!unzip -q -o -d ./resources/ j8skrriqeqw66f51iyz911zyqai64j2g.zip\n",
    "\n",
    "print(\"Data Extracted!\")"
   ]
  },
  {
   "cell_type": "markdown",
   "metadata": {},
   "source": [
    "The data is in a folder called **LabData**. Let's list all the files in the data that we just downloaded and extracted."
   ]
  },
  {
   "cell_type": "code",
   "execution_count": 15,
   "metadata": {},
   "outputs": [
    {
     "name": "stdout",
     "output_type": "stream",
     "text": [
      "\u001b[34mLabData\u001b[m\u001b[m\r\n",
      "\u001b[34m__MACOSX\u001b[m\u001b[m\r\n"
     ]
    }
   ],
   "source": [
    "# list the extracted files\n",
    "!ls -1 resources"
   ]
  },
  {
   "cell_type": "markdown",
   "metadata": {},
   "source": [
    "Should have:\n",
    "    \n",
    "* followers.txt\n",
    "* notebook.log\n",
    "* nyctaxi100.csv\n",
    "* nyctaxi.csv\n",
    "* nyctaxisub.csv\n",
    "* nycweather.csv\n",
    "* pom.xml\n",
    "* README.md\n",
    "* taxistreams.py\n",
    "* users.txt"
   ]
  },
  {
   "cell_type": "code",
   "execution_count": 16,
   "metadata": {},
   "outputs": [
    {
     "data": {
      "text/html": [
       "\n",
       "        <div>\n",
       "            <p><b>SparkContext</b></p>\n",
       "\n",
       "            <p><a href=\"http://jeromeneiersmbp:4040\">Spark UI</a></p>\n",
       "\n",
       "            <dl>\n",
       "              <dt>Version</dt>\n",
       "                <dd><code>v2.3.0</code></dd>\n",
       "              <dt>Master</dt>\n",
       "                <dd><code>local[*]</code></dd>\n",
       "              <dt>AppName</dt>\n",
       "                <dd><code>PySparkShell</code></dd>\n",
       "            </dl>\n",
       "        </div>\n",
       "        "
      ],
      "text/plain": [
       "<SparkContext master=local[*] appName=PySparkShell>"
      ]
     },
     "execution_count": 16,
     "metadata": {},
     "output_type": "execute_result"
    }
   ],
   "source": [
    "sc"
   ]
  },
  {
   "cell_type": "markdown",
   "metadata": {},
   "source": [
    "### Starting with Spark\n",
    "\n",
    "The notebooks provide code assist. For example, type in \"sc.\" followed by the Tab key to get the list of options associated with the spark context:"
   ]
  },
  {
   "cell_type": "code",
   "execution_count": 17,
   "metadata": {},
   "outputs": [],
   "source": [
    "sc."
   ]
  },
  {
   "cell_type": "markdown",
   "metadata": {},
   "source": [
    "To run a command as code, simple select the cell you want to run and either:\n",
    "\n",
    "* Click the play button in the toolbar above\n",
    "* Press \"_Shift+Enter_\"\n",
    "\n",
    "Let's run a basic command and check the version of Spark running:"
   ]
  },
  {
   "cell_type": "code",
   "execution_count": 3,
   "metadata": {},
   "outputs": [
    {
     "data": {
      "text/plain": [
       "'2.3.0'"
      ]
     },
     "execution_count": 3,
     "metadata": {},
     "output_type": "execute_result"
    }
   ],
   "source": [
    "sc.version"
   ]
  },
  {
   "cell_type": "markdown",
   "metadata": {},
   "source": [
    "Add in the path to the *README.md* file in **LabData**."
   ]
  },
  {
   "cell_type": "code",
   "execution_count": 18,
   "metadata": {},
   "outputs": [
    {
     "data": {
      "text/plain": [
       "['# Apache Spark',\n",
       " '',\n",
       " 'Spark is a fast and general cluster computing system for Big Data. It provides',\n",
       " 'high-level APIs in Scala, Java, Python, and R, and an optimized engine that',\n",
       " 'supports general computation graphs for data analysis. It also supports a',\n",
       " 'rich set of higher-level tools including Spark SQL for SQL and DataFrames,',\n",
       " 'MLlib for machine learning, GraphX for graph processing,',\n",
       " 'and Spark Streaming for stream processing.',\n",
       " '',\n",
       " '<http://spark.apache.org/>',\n",
       " '',\n",
       " '',\n",
       " '## Online Documentation',\n",
       " '',\n",
       " 'You can find the latest Spark documentation, including a programming',\n",
       " 'guide, on the [project web page](http://spark.apache.org/documentation.html)',\n",
       " 'and [project wiki](https://cwiki.apache.org/confluence/display/SPARK).',\n",
       " 'This README file only contains basic setup instructions.',\n",
       " '',\n",
       " '## Building Spark',\n",
       " '',\n",
       " 'Spark is built using [Apache Maven](http://maven.apache.org/).',\n",
       " 'To build Spark and its example programs, run:',\n",
       " '',\n",
       " '    build/mvn -DskipTests clean package',\n",
       " '',\n",
       " '(You do not need to do this if you downloaded a pre-built package.)',\n",
       " 'More detailed documentation is available from the project site, at',\n",
       " '[\"Building Spark\"](http://spark.apache.org/docs/latest/building-spark.html).',\n",
       " '',\n",
       " '## Interactive Scala Shell',\n",
       " '',\n",
       " 'The easiest way to start using Spark is through the Scala shell:',\n",
       " '',\n",
       " '    ./bin/spark-shell',\n",
       " '',\n",
       " 'Try the following command, which should return 1000:',\n",
       " '',\n",
       " '    scala> sc.parallelize(1 to 1000).count()',\n",
       " '',\n",
       " '## Interactive Python Shell',\n",
       " '',\n",
       " 'Alternatively, if you prefer Python, you can use the Python shell:',\n",
       " '',\n",
       " '    ./bin/pyspark',\n",
       " '',\n",
       " 'And run the following command, which should also return 1000:',\n",
       " '',\n",
       " '    >>> sc.parallelize(range(1000)).count()',\n",
       " '',\n",
       " '## Example Programs',\n",
       " '',\n",
       " 'Spark also comes with several sample programs in the `examples` directory.',\n",
       " 'To run one of them, use `./bin/run-example <class> [params]`. For example:',\n",
       " '',\n",
       " '    ./bin/run-example SparkPi',\n",
       " '',\n",
       " 'will run the Pi example locally.',\n",
       " '',\n",
       " 'You can set the MASTER environment variable when running examples to submit',\n",
       " 'examples to a cluster. This can be a mesos:// or spark:// URL,',\n",
       " '\"yarn\" to run on YARN, and \"local\" to run',\n",
       " 'locally with one thread, or \"local[N]\" to run locally with N threads. You',\n",
       " 'can also use an abbreviated class name if the class is in the `examples`',\n",
       " 'package. For instance:',\n",
       " '',\n",
       " '    MASTER=spark://host:7077 ./bin/run-example SparkPi',\n",
       " '',\n",
       " 'Many of the example programs print usage help if no params are given.',\n",
       " '',\n",
       " '## Running Tests',\n",
       " '',\n",
       " 'Testing first requires [building Spark](#building-spark). Once Spark is built, tests',\n",
       " 'can be run using:',\n",
       " '',\n",
       " '    ./dev/run-tests',\n",
       " '',\n",
       " 'Please see the guidance on how to',\n",
       " '[run tests for a module, or individual tests](https://cwiki.apache.org/confluence/display/SPARK/Useful+Developer+Tools).',\n",
       " '',\n",
       " '## A Note About Hadoop Versions',\n",
       " '',\n",
       " 'Spark uses the Hadoop core library to talk to HDFS and other Hadoop-supported',\n",
       " 'storage systems. Because the protocols have changed in different versions of',\n",
       " 'Hadoop, you must build Spark against the same version that your cluster runs.',\n",
       " '',\n",
       " 'Please refer to the build documentation at',\n",
       " '[\"Specifying the Hadoop Version\"](http://spark.apache.org/docs/latest/building-spark.html#specifying-the-hadoop-version)',\n",
       " 'for detailed guidance on building for a particular distribution of Hadoop, including',\n",
       " 'building for particular Hive and Hive Thriftserver distributions. See also',\n",
       " '[\"Third Party Hadoop Distributions\"](http://spark.apache.org/docs/latest/hadoop-third-party-distributions.html)',\n",
       " 'for guidance on building a Spark application that works with a particular',\n",
       " 'distribution.',\n",
       " '',\n",
       " '## Configuration',\n",
       " '',\n",
       " 'Please refer to the [Configuration Guide](http://spark.apache.org/docs/latest/configuration.html)',\n",
       " 'in the online documentation for an overview on how to configure Spark.']"
      ]
     },
     "execution_count": 18,
     "metadata": {},
     "output_type": "execute_result"
    }
   ],
   "source": [
    "readme = sc.textFile(\"./resources/LabData/README.md\")\n",
    "readme.collect()"
   ]
  },
  {
   "cell_type": "markdown",
   "metadata": {},
   "source": [
    "Let’s perform some RDD actions on this text file. Count the number of items in the RDD using this command:"
   ]
  },
  {
   "cell_type": "code",
   "execution_count": 19,
   "metadata": {},
   "outputs": [
    {
     "data": {
      "text/plain": [
       "98"
      ]
     },
     "execution_count": 19,
     "metadata": {},
     "output_type": "execute_result"
    }
   ],
   "source": [
    "readme.count()"
   ]
  },
  {
   "cell_type": "markdown",
   "metadata": {},
   "source": [
    "You should see that this RDD action returned a value of 103.\n",
    "\n",
    "Let’s run another action. Run this command to find the first item in the RDD:"
   ]
  },
  {
   "cell_type": "code",
   "execution_count": 20,
   "metadata": {},
   "outputs": [
    {
     "data": {
      "text/plain": [
       "'# Apache Spark'"
      ]
     },
     "execution_count": 20,
     "metadata": {},
     "output_type": "execute_result"
    }
   ],
   "source": [
    "readme.first()"
   ]
  },
  {
   "cell_type": "markdown",
   "metadata": {},
   "source": [
    "Now let’s try a transformation. Use the filter transformation to return a new RDD with a subset of the items in the file. Type in this command:"
   ]
  },
  {
   "cell_type": "code",
   "execution_count": 21,
   "metadata": {},
   "outputs": [],
   "source": [
    "linesWithSpark = readme.filter(lambda line: \"Spark\" in line)"
   ]
  },
  {
   "cell_type": "markdown",
   "metadata": {},
   "source": [
    "You can even chain together transformations and actions. To find out how many lines contains the word “Spark”, type in:"
   ]
  },
  {
   "cell_type": "code",
   "execution_count": 22,
   "metadata": {},
   "outputs": [
    {
     "data": {
      "text/plain": [
       "18"
      ]
     },
     "execution_count": 22,
     "metadata": {},
     "output_type": "execute_result"
    }
   ],
   "source": [
    "linesWithSpark = readme.filter(lambda line: \"Spark\" in line)\n",
    "readme.filter(lambda line: \"Spark\" in line).count()"
   ]
  },
  {
   "cell_type": "markdown",
   "metadata": {},
   "source": [
    "# More on RDD Operations\n",
    "\n",
    "This section builds upon the previous section. In this section, you will see that RDD can be used for more complex computations. You will find the line from that \"README.md\" file with the most words in it.\n",
    "\n",
    "Run the following cell."
   ]
  },
  {
   "cell_type": "code",
   "execution_count": 23,
   "metadata": {},
   "outputs": [
    {
     "data": {
      "text/plain": [
       "14"
      ]
     },
     "execution_count": 23,
     "metadata": {},
     "output_type": "execute_result"
    }
   ],
   "source": [
    "readme.map(lambda line: len(line.split())).reduce(lambda a, b: a if (a > b) else b)"
   ]
  },
  {
   "cell_type": "markdown",
   "metadata": {},
   "source": [
    "There are two parts to this. The first maps a line to an integer value, the number of words in that line. In the second part reduce is called to find the line with the most words in it. The arguments to map and reduce are Python anonymous functions (lambdas), but you can use any top level Python functions. In the next step, you’ll define a max function to illustrate this feature.\n",
    "\n",
    "Define the max function. You will need to type this in:"
   ]
  },
  {
   "cell_type": "code",
   "execution_count": 24,
   "metadata": {},
   "outputs": [],
   "source": [
    "def max(a, b):\n",
    " if a > b:\n",
    "    return a\n",
    " else:\n",
    "    return b"
   ]
  },
  {
   "cell_type": "markdown",
   "metadata": {},
   "source": [
    "Now run the following with the max function:"
   ]
  },
  {
   "cell_type": "code",
   "execution_count": 25,
   "metadata": {},
   "outputs": [
    {
     "data": {
      "text/plain": [
       "14"
      ]
     },
     "execution_count": 25,
     "metadata": {},
     "output_type": "execute_result"
    }
   ],
   "source": [
    "readme.map(lambda line: len(line.split())).reduce(max)"
   ]
  },
  {
   "cell_type": "markdown",
   "metadata": {},
   "source": [
    "Spark has a MapReduce data flow pattern. We can use this to do a word count on the readme file."
   ]
  },
  {
   "cell_type": "code",
   "execution_count": 29,
   "metadata": {},
   "outputs": [],
   "source": [
    "wordCounts = readme.flatMap(lambda line: line.split()).\\\n",
    "map(lambda word: (word, 1)).reduceByKey(lambda a, b: a+b)"
   ]
  },
  {
   "cell_type": "markdown",
   "metadata": {},
   "source": [
    "Here we combined the flatMap, map, and the reduceByKey functions to do a word count of each word in the readme file.\n",
    "\n",
    "To collect the word counts, use the _collect_ action.\n",
    "\n",
    "#### It should be noted that the collect function brings all of the data into the driver node. For a small dataset, this is acceptable but, for a large dataset this can cause an Out Of Memory error. It is recommended to use collect() for testing only. The safer approach is to use the take() function e.g. print take(n)"
   ]
  },
  {
   "cell_type": "code",
   "execution_count": 30,
   "metadata": {},
   "outputs": [
    {
     "data": {
      "text/plain": [
       "[('guide,', 1),\n",
       " ('APIs', 1),\n",
       " ('optimized', 1),\n",
       " ('name', 1),\n",
       " ('Scala,', 1),\n",
       " ('package.', 1),\n",
       " ('particular', 3),\n",
       " ('tools', 1),\n",
       " ('must', 1),\n",
       " ('URL,', 1),\n",
       " ('params', 1),\n",
       " ('programs', 2),\n",
       " ('changed', 1),\n",
       " ('[Configuration', 1),\n",
       " ('following', 2),\n",
       " ('start', 1),\n",
       " ('computation', 1),\n",
       " ('Please', 3),\n",
       " ('SQL', 2),\n",
       " ('Spark.', 1),\n",
       " ('Hadoop,', 2),\n",
       " ('configure', 1),\n",
       " ('distributions.', 1),\n",
       " ('It', 2),\n",
       " ('run:', 1),\n",
       " ('Hive', 2),\n",
       " ('graph', 1),\n",
       " ('distribution', 1),\n",
       " ('Testing', 1),\n",
       " ('using:', 1),\n",
       " ('Building', 1),\n",
       " ('locally', 2),\n",
       " ('built,', 1),\n",
       " ('./bin/run-example', 2),\n",
       " ('have', 1),\n",
       " ('The', 1),\n",
       " ('\"local\"', 1),\n",
       " ('module,', 1),\n",
       " ('programming', 1),\n",
       " ('provides', 1),\n",
       " ('systems.', 1),\n",
       " ('scala>', 1),\n",
       " ('latest', 1),\n",
       " ('instance:', 1),\n",
       " ('machine', 1),\n",
       " ('online', 1),\n",
       " ('in', 5),\n",
       " ('against', 1),\n",
       " ('downloaded', 1),\n",
       " ('Alternatively,', 1),\n",
       " ('several', 1),\n",
       " ('project', 1),\n",
       " ('[params]`.', 1),\n",
       " ('engine', 1),\n",
       " ('[project', 2),\n",
       " ('supports', 2),\n",
       " ('uses', 1),\n",
       " ('1000:', 2),\n",
       " ('About', 1),\n",
       " ('individual', 1),\n",
       " ('version', 1),\n",
       " ('example:', 1),\n",
       " ('README', 1),\n",
       " ('Once', 1),\n",
       " ('help', 1),\n",
       " ('are', 1),\n",
       " ('learning,', 1),\n",
       " ('Spark', 14),\n",
       " ('instructions.', 1),\n",
       " ('[Apache', 1),\n",
       " ('GraphX', 1),\n",
       " ('analysis.', 1),\n",
       " ('Shell', 2),\n",
       " ('MLlib', 1),\n",
       " ('#', 1),\n",
       " ('Python', 2),\n",
       " ('abbreviated', 1),\n",
       " ('Try', 1),\n",
       " ('usage', 1),\n",
       " ('Documentation', 1),\n",
       " ('HDFS', 1),\n",
       " ('them,', 1),\n",
       " ('of', 5),\n",
       " ('only', 1),\n",
       " ('high-level', 1),\n",
       " ('YARN,', 1),\n",
       " ('Guide](http://spark.apache.org/docs/latest/configuration.html)', 1),\n",
       " ('N', 1),\n",
       " ('this', 1),\n",
       " ('[\"Third', 1),\n",
       " ('Hadoop-supported', 1),\n",
       " ('`./bin/run-example', 1),\n",
       " ('Because', 1),\n",
       " ('Spark](#building-spark).', 1),\n",
       " ('tests', 2),\n",
       " ('when', 1),\n",
       " ('basic', 1),\n",
       " ('do', 2),\n",
       " ('spark://', 1),\n",
       " ('way', 1),\n",
       " ('an', 3),\n",
       " ('different', 1),\n",
       " ('library', 1),\n",
       " ('Apache', 1),\n",
       " ('1000).count()', 1),\n",
       " ('distribution.', 1),\n",
       " ('class', 2),\n",
       " ('variable', 1),\n",
       " ('Note', 1),\n",
       " ('examples', 2),\n",
       " ('Spark\"](http://spark.apache.org/docs/latest/building-spark.html).', 1),\n",
       " ('Java,', 1),\n",
       " ('use', 3),\n",
       " ('refer', 2),\n",
       " ('storage', 1),\n",
       " ('./dev/run-tests', 1),\n",
       " ('site,', 1),\n",
       " ('Example', 1),\n",
       " ('guidance', 3),\n",
       " ('set', 2),\n",
       " ('other', 1),\n",
       " ('at', 2),\n",
       " ('documentation', 3),\n",
       " ('Interactive', 2),\n",
       " ('processing,', 1),\n",
       " ('no', 1),\n",
       " ('run', 7),\n",
       " ('is', 6),\n",
       " ('And', 1),\n",
       " ('Thriftserver', 1),\n",
       " ('versions', 1),\n",
       " ('using', 2),\n",
       " ('print', 1),\n",
       " ('overview', 1),\n",
       " ('SparkPi', 2),\n",
       " ('wiki](https://cwiki.apache.org/confluence/display/SPARK).', 1),\n",
       " ('[\"Specifying', 1),\n",
       " ('Version\"](http://spark.apache.org/docs/latest/building-spark.html#specifying-the-hadoop-version)',\n",
       "  1),\n",
       " ('mesos://', 1),\n",
       " ('for', 12),\n",
       " ('its', 1),\n",
       " ('or', 3),\n",
       " ('detailed', 2),\n",
       " ('shell:', 2),\n",
       " ('the', 21),\n",
       " ('find', 1),\n",
       " ('Running', 1),\n",
       " ('sc.parallelize(1', 1),\n",
       " ('\"local[N]\"', 1),\n",
       " ('Pi', 1),\n",
       " ('computing', 1),\n",
       " ('DataFrames,', 1),\n",
       " ('return', 2),\n",
       " ('see', 1),\n",
       " ('See', 1),\n",
       " ('Python,', 2),\n",
       " ('You', 3),\n",
       " ('core', 1),\n",
       " ('tests](https://cwiki.apache.org/confluence/display/SPARK/Useful+Developer+Tools).',\n",
       "  1),\n",
       " ('Versions', 1),\n",
       " ('rich', 1),\n",
       " ('sc.parallelize(range(1000)).count()', 1),\n",
       " ('you', 4),\n",
       " ('processing.', 1),\n",
       " ('package', 1),\n",
       " ('how', 2),\n",
       " ('MASTER', 1),\n",
       " ('works', 1),\n",
       " ('Programs', 1),\n",
       " ('one', 2),\n",
       " ('and', 10),\n",
       " ('application', 1),\n",
       " ('Distributions\"](http://spark.apache.org/docs/latest/hadoop-third-party-distributions.html)',\n",
       "  1),\n",
       " ('higher-level', 1),\n",
       " ('threads.', 1),\n",
       " ('Many', 1),\n",
       " ('`examples`', 2),\n",
       " ('Online', 1),\n",
       " ('a', 10),\n",
       " ('file', 1),\n",
       " ('Configuration', 1),\n",
       " ('also', 5),\n",
       " ('MASTER=spark://host:7077', 1),\n",
       " ('if', 4),\n",
       " ('cluster.', 1),\n",
       " ('package.)', 1),\n",
       " ('runs.', 1),\n",
       " ('page](http://spark.apache.org/documentation.html)', 1),\n",
       " ('with', 4),\n",
       " ('Data.', 1),\n",
       " ('given.', 1),\n",
       " ('[building', 1),\n",
       " ('pre-built', 1),\n",
       " ('should', 2),\n",
       " ('sample', 1),\n",
       " ('need', 1),\n",
       " ('your', 1),\n",
       " ('command,', 2),\n",
       " ('example', 3),\n",
       " ('To', 2),\n",
       " ('from', 1),\n",
       " ('same', 1),\n",
       " ('clean', 1),\n",
       " ('including', 3),\n",
       " ('can', 6),\n",
       " ('build', 3),\n",
       " ('that', 3),\n",
       " ('Maven](http://maven.apache.org/).', 1),\n",
       " ('to', 14),\n",
       " ('not', 1),\n",
       " ('Party', 1),\n",
       " ('first', 1),\n",
       " ('general', 2),\n",
       " ('environment', 1),\n",
       " ('fast', 1),\n",
       " ('build/mvn', 1),\n",
       " ('comes', 1),\n",
       " ('available', 1),\n",
       " ('(You', 1),\n",
       " ('cluster', 2),\n",
       " ('Hadoop', 4),\n",
       " ('For', 2),\n",
       " ('directory.', 1),\n",
       " ('easiest', 1),\n",
       " ('Scala', 2),\n",
       " ('data', 1),\n",
       " ('setup', 1),\n",
       " ('on', 6),\n",
       " ('prefer', 1),\n",
       " ('./bin/spark-shell', 1),\n",
       " ('running', 1),\n",
       " ('locally.', 1),\n",
       " ('which', 2),\n",
       " ('>>>', 1),\n",
       " ('requires', 1),\n",
       " ('[run', 1),\n",
       " ('-DskipTests', 1),\n",
       " ('programs,', 1),\n",
       " ('This', 2),\n",
       " ('R,', 1),\n",
       " ('built', 1),\n",
       " ('Streaming', 1),\n",
       " ('<http://spark.apache.org/>', 1),\n",
       " ('contains', 1),\n",
       " ('be', 2),\n",
       " ('More', 1),\n",
       " ('through', 1),\n",
       " ('will', 1),\n",
       " ('graphs', 1),\n",
       " ('stream', 1),\n",
       " ('system', 1),\n",
       " ('\"yarn\"', 1),\n",
       " ('[\"Building', 1),\n",
       " ('talk', 1),\n",
       " ('Big', 1),\n",
       " ('thread,', 1),\n",
       " ('./bin/pyspark', 1),\n",
       " ('web', 1),\n",
       " ('building', 3),\n",
       " ('documentation,', 1),\n",
       " ('Tests', 1),\n",
       " ('protocols', 1),\n",
       " ('submit', 1),\n",
       " ('A', 1),\n",
       " ('##', 8),\n",
       " ('<class>', 1)]"
      ]
     },
     "execution_count": 30,
     "metadata": {},
     "output_type": "execute_result"
    }
   ],
   "source": [
    "wordCounts.collect()"
   ]
  },
  {
   "cell_type": "markdown",
   "metadata": {},
   "source": [
    "### <span style=\"color: red\">YOUR TURN:</span> \n",
    "\n",
    "#### In the cell below, determine what is the most frequent word in the README, and how many times was it used?"
   ]
  },
  {
   "cell_type": "code",
   "execution_count": 32,
   "metadata": {},
   "outputs": [],
   "source": [
    "# WRITE YOUR CODE BELOW\n"
   ]
  },
  {
   "cell_type": "markdown",
   "metadata": {},
   "source": [
    "Highlight text field for answer:\n",
    "\n",
    "<input type=\"text\" size=\"80\" value=\"wordCounts.reduce(lambda a, b: a if (a[1] > b[1]) else b)\" style=\"color: white\">"
   ]
  },
  {
   "cell_type": "markdown",
   "metadata": {},
   "source": [
    "## Using Spark caching\n",
    "\n",
    "In this short section, you’ll see how Spark caching can be used to pull data sets into a cluster-wide in-memory cache. This is very useful for accessing repeated data, such as querying a small “hot” dataset or when running an iterative algorithm. Both Python and Scala use the same commands.\n",
    "\n",
    "As a simple example, let’s mark our linesWithSpark dataset to be cached and then invoke the first count operation to tell Spark to cache it. Remember that transformation operations such as cache does not get processed until some action like count() is called. Once you run the second count() operation, you should notice a small increase in speed.\n"
   ]
  },
  {
   "cell_type": "code",
   "execution_count": 33,
   "metadata": {},
   "outputs": [
    {
     "name": "stdout",
     "output_type": "stream",
     "text": [
      "18\n"
     ]
    }
   ],
   "source": [
    "print(linesWithSpark.count())"
   ]
  },
  {
   "cell_type": "code",
   "execution_count": 34,
   "metadata": {},
   "outputs": [],
   "source": [
    "from timeit import Timer\n",
    "def count():\n",
    "    return linesWithSpark.count()\n",
    "t = Timer(lambda: count())"
   ]
  },
  {
   "cell_type": "code",
   "execution_count": 35,
   "metadata": {},
   "outputs": [
    {
     "name": "stdout",
     "output_type": "stream",
     "text": [
      "1.4867292999988422\n"
     ]
    }
   ],
   "source": [
    "print(t.timeit(number=50))"
   ]
  },
  {
   "cell_type": "code",
   "execution_count": 36,
   "metadata": {},
   "outputs": [
    {
     "name": "stdout",
     "output_type": "stream",
     "text": [
      "1.333102767006494\n"
     ]
    }
   ],
   "source": [
    "linesWithSpark.cache()\n",
    "print(t.timeit(number=50))"
   ]
  },
  {
   "cell_type": "markdown",
   "metadata": {},
   "source": [
    "It may seem silly to cache such a small file, but for larger data sets across tens or hundreds of nodes, this would still work. The second linesWithSpark.count() action runs against the cache and would perform significantly better for large datasets."
   ]
  },
  {
   "cell_type": "markdown",
   "metadata": {},
   "source": [
    "<div class=\"alert alert-success alertsuccess\" style=\"margin-top: 20px\">\n",
    "**Tip**: Enjoyed using Jupyter notebooks with Spark? Get yourself a free \n",
    "    <a href=\"http://cocl.us/DSX_on_Cloud\">IBM Cloud</a> account where you can use Data Science Experience notebooks\n",
    "    and have *two* Spark executors for free!\n",
    "</div>"
   ]
  },
  {
   "cell_type": "markdown",
   "metadata": {},
   "source": [
    "### Summary\n",
    "Having completed this exercise, you should now be able to log in to your environment and use the Spark shell to run simple actions and transformations for Scala and/or Python. You understand that Spark caching can be used to cache large datasets and subsequent operations on it will utilize the data in the cache rather than re-fetching it from HDFS."
   ]
  },
  {
   "cell_type": "markdown",
   "metadata": {},
   "source": [
    "This notebook is part of the free course on **Cognitive Class** called *Spark Fundamentals I*. If you accessed this notebook outside the course, you can take this free self-paced course, online by going to: http://cocl.us/Spark_Fundamentals_I"
   ]
  },
  {
   "cell_type": "markdown",
   "metadata": {},
   "source": [
    "### About the Authors:  \n",
    "Hi! It's [Alex Aklson](https://www.linkedin.com/in/aklson/), one of the authors of this notebook. I hope you found this lab educational! There is much more to learn about Spark but you are well on your way. Feel free to connect with me if you have any questions.\n",
    "<hr>"
   ]
  },
  {
   "cell_type": "code",
   "execution_count": null,
   "metadata": {},
   "outputs": [],
   "source": []
  }
 ],
 "metadata": {
  "kernelspec": {
   "display_name": "Python 3.5",
   "language": "python",
   "name": "py35"
  },
  "language_info": {
   "codemirror_mode": {
    "name": "ipython",
    "version": 3
   },
   "file_extension": ".py",
   "mimetype": "text/x-python",
   "name": "python",
   "nbconvert_exporter": "python",
   "pygments_lexer": "ipython3",
   "version": "3.5.5"
  },
  "widgets": {
   "state": {},
   "version": "1.1.2"
  }
 },
 "nbformat": 4,
 "nbformat_minor": 2
}
