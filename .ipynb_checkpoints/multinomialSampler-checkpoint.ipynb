{
 "cells": [
  {
   "cell_type": "markdown",
   "metadata": {},
   "source": [
    "# Sampling from a Multinomial Distribution\n",
    "\n",
    "The multinomial distribution is given by:\n",
    "\n",
    "\n",
    "$\\frac{n!}{x_1!\\cdots x_k!} p_1^{x_1} \\cdots p_k^{x_k}$\n",
    "\n",
    "where ${p_i..p_k}$ is the set of probabilities for $n$ events.  This is a generalization of the binomial distribution.\n",
    "\n",
    "Consider a six sided, \"fair\" die, where the probability of rolling any number is $1/6$.  To compute this quantity, we select a uniform random number $\\xi \\sim U[0,1]$, and find the corresponding location in the probability spectrum (or cumulative probability distribution), and assign the number, as shown in the diagram below.  This can also be done for the case of unequal probabilities (shown below).  For the example, we are using a biased die, where the 4 has a probability of $4/9$ while the others have a probability $1/9$.  For the first case, the random draw of 0.45 results in a roll of 3, while the second case would return a roll of 4.\n",
    " \n",
    "\n",
    "<img src=\"multinomialSamplerDiagram.jpeg\" width=\"750\">\n",
    "\n",
    "\n",
    "Spark does not currently provide a multinomial sampler, so we will write our own and validate it against the numpy multinomial function."
   ]
  },
  {
   "cell_type": "code",
   "execution_count": 150,
   "metadata": {},
   "outputs": [
    {
     "data": {
      "image/png": "[encoded data removed]",
      "text/plain": [
       "<matplotlib.figure.Figure at 0x7fba70e08160>"
      ]
     },
     "metadata": {},
     "output_type": "display_data"
    }
   ],
   "source": [
    "import numpy as np\n",
    "import matplotlib.pyplot as plt\n",
    "\n",
    "nTrials = 500 # of rolls per round\n",
    "nRounds = 100 # of rounds\n",
    "np.random.seed(10)\n",
    "numFaces = 6\n",
    "\n",
    "faceNames=[i for i in range(1,numFaces+1)] #assigning \"values\" (die face numbers) to index entries\n",
    "\n",
    "# array for a a fair die\n",
    "p1 = [1/6.]*numFaces \n",
    "\n",
    "# array for a biased die (4 is 4x more likely)\n",
    "p2=[1/9., 1/9., 1/9., 4/9., 1/9., 1/9.] \n",
    "\n",
    "\n",
    "s1 = np.random.multinomial(nTrials, p1, size=nRounds)\n",
    "\n",
    "# not currently used...\n",
    "# s2 = np.random.multinomial(nTrials, p2, size=nRounds)\n",
    "\n",
    "#initialization\n",
    "svg = np.zeros(numFaces) \n",
    "serr = np.zeros(numFaces) \n",
    "\n",
    "#computing averages and standard deviations and plotting\n",
    "for i in range(numFaces):\n",
    "    svg[i] = np.mean(s1[:,i])/nTrials\n",
    "    serr[i]  = np.std(s1[:,i])/nTrials\n",
    "    \n",
    "plt.title(\"np.random.multinomial Sampler Distribution\")    \n",
    "plt.bar(faceNames,svg,yerr=serr)\n",
    "plt.plot(faceNames, p1, '-og')\n",
    "plt.legend(['Analytic','Sampled'])\n",
    "plt.xlabel(\"Die Value\")\n",
    "plt.ylabel(\"Normalized Frequency\")\n",
    "plt.show()\n"
   ]
  },
  {
   "cell_type": "markdown",
   "metadata": {},
   "source": [
    "We can see that the histogrammed values fall within expected values to well within one standard deviation.  Since this is NumPy's builtin function, we are assusming that it works perfectly well, and that we just need to understand it's behavior. "
   ]
  },
  {
   "cell_type": "markdown",
   "metadata": {},
   "source": [
    "## Local Multinomial Function \n",
    "\n",
    "Before writing our Spark function, which may have its own difficulties, let's work out the logic in our local python environment.  This will serve as a logical bridge to the pyspark implementation.\n",
    "\n",
    "For a particular round, we will need to generate many trials and record the number of times each die value is rolled.  We need to generate these rolls with the random number generator and the probability spectrum method that was described in the above section [Sampling from a Multinomial Distribution](#Sampling from a Multinomial Distribution).\n",
    "  "
   ]
  },
  {
   "cell_type": "code",
   "execution_count": 151,
   "metadata": {
    "collapsed": true,
    "scrolled": true
   },
   "outputs": [],
   "source": [
    "def multinomialLocal(nTrials, p, size):\n",
    "      \n",
    "    nRounds = size # using a more descriptive variable\n",
    "    xi = np.random.uniform(size=(nTrials, nRounds))\n",
    "    \n",
    "    # computing the cumulative probabilities (cdf)\n",
    "    pcdf = np.zeros(numFaces)\n",
    "    pcdf[0] = p[0]\n",
    "    \n",
    "    for i in range(1, numFaces):\n",
    "        pcdf[i] = p[i-1] + pcdf[i-1] \n",
    "\n",
    "    s = np.zeros((nRounds, numFaces))\n",
    "\n",
    "    for iTrial in range(nTrials):\n",
    "        for jRound in range(nRounds):\n",
    "            index = np.where(pcdf >= xi[iTrial, jRound])[0][0]\n",
    "            s[jRound, index] += 1\n",
    "    \n",
    "    return s"
   ]
  },
  {
   "cell_type": "markdown",
   "metadata": {},
   "source": [
    "## multinomialLocal Plot\n",
    "Let's plot our result and see if it looks similar to the above result."
   ]
  },
  {
   "cell_type": "code",
   "execution_count": 152,
   "metadata": {},
   "outputs": [
    {
     "name": "stdout",
     "output_type": "stream",
     "text": [
      "[1, 2, 3, 4, 5, 6] [ 0.16862  0.16608  0.16492  0.16914  0.16652  0.16472]\n"
     ]
    },
    {
     "data": {
      "text/plain": [
       "<matplotlib.text.Text at 0x7fba70d1c240>"
      ]
     },
     "execution_count": 152,
     "metadata": {},
     "output_type": "execute_result"
    },
    {
     "data": {
      "image/png": "[encoded data removed]",
      "text/plain": [
       "<matplotlib.figure.Figure at 0x7fba70d7f0f0>"
      ]
     },
     "metadata": {},
     "output_type": "display_data"
    }
   ],
   "source": [
    "svg = np.zeros(numFaces)\n",
    "serr = np.zeros(numFaces)\n",
    "np.random.seed(10)\n",
    "sLocal = multinomialLocal(nTrials, p1, nRounds)\n",
    "\n",
    "# same (simple) plotting code as above...\n",
    "for i in range(numFaces):\n",
    "    svg[i] = np.mean(sLocal[:,i])/nTrials\n",
    "    serr[i] = np.std(sLocal[:,i])/nTrials\n",
    "    \n",
    "print(faceNames,svg)\n",
    "plt.bar(faceNames,svg, yerr=serr)\n",
    "plt.plot(faceNames, p1, '-og')\n",
    "plt.legend(['Analytic','Sampled'])\n",
    "plt.xlabel(\"Die Value\")\n",
    "plt.ylabel(\"Normalized Frequency\")"
   ]
  },
  {
   "cell_type": "markdown",
   "metadata": {},
   "source": [
    "Well, I'm convinced we got it right, but feel free to do some more testing!  Let's look at the Spark code for this.\n",
    "\n",
    "We need to do an import and also start up our spark context"
   ]
  },
  {
   "cell_type": "code",
   "execution_count": 153,
   "metadata": {},
   "outputs": [
    {
     "ename": "ValueError",
     "evalue": "Cannot run multiple SparkContexts at once; existing SparkContext(app=test, master=local[*]) created by __init__ at <ipython-input-21-e300213c7a6f>:2 ",
     "output_type": "error",
     "traceback": [
      "\u001b[0;31m---------------------------------------------------------------------------\u001b[0m",
      "\u001b[0;31mValueError\u001b[0m                                Traceback (most recent call last)",
      "\u001b[0;32m<ipython-input-153-e300213c7a6f>\u001b[0m in \u001b[0;36m<module>\u001b[0;34m()\u001b[0m\n\u001b[1;32m      1\u001b[0m \u001b[0;32mimport\u001b[0m \u001b[0mpyspark\u001b[0m\u001b[0;34m.\u001b[0m\u001b[0mmllib\u001b[0m\u001b[0;34m.\u001b[0m\u001b[0mrandom\u001b[0m\u001b[0;34m\u001b[0m\u001b[0m\n\u001b[0;32m----> 2\u001b[0;31m \u001b[0msc\u001b[0m \u001b[0;34m=\u001b[0m \u001b[0mpyspark\u001b[0m\u001b[0;34m.\u001b[0m\u001b[0mSparkContext\u001b[0m\u001b[0;34m(\u001b[0m\u001b[0mappName\u001b[0m\u001b[0;34m=\u001b[0m\u001b[0;34m\"test\"\u001b[0m\u001b[0;34m)\u001b[0m\u001b[0;34m\u001b[0m\u001b[0m\n\u001b[0m",
      "\u001b[0;32m/root/anaconda2/envs/py35/lib/python3.5/site-packages/pyspark/context.py\u001b[0m in \u001b[0;36m__init__\u001b[0;34m(self, master, appName, sparkHome, pyFiles, environment, batchSize, serializer, conf, gateway, jsc, profiler_cls)\u001b[0m\n\u001b[1;32m    113\u001b[0m         \"\"\"\n\u001b[1;32m    114\u001b[0m         \u001b[0mself\u001b[0m\u001b[0;34m.\u001b[0m\u001b[0m_callsite\u001b[0m \u001b[0;34m=\u001b[0m \u001b[0mfirst_spark_call\u001b[0m\u001b[0;34m(\u001b[0m\u001b[0;34m)\u001b[0m \u001b[0;32mor\u001b[0m \u001b[0mCallSite\u001b[0m\u001b[0;34m(\u001b[0m\u001b[0;32mNone\u001b[0m\u001b[0;34m,\u001b[0m \u001b[0;32mNone\u001b[0m\u001b[0;34m,\u001b[0m \u001b[0;32mNone\u001b[0m\u001b[0;34m)\u001b[0m\u001b[0;34m\u001b[0m\u001b[0m\n\u001b[0;32m--> 115\u001b[0;31m         \u001b[0mSparkContext\u001b[0m\u001b[0;34m.\u001b[0m\u001b[0m_ensure_initialized\u001b[0m\u001b[0;34m(\u001b[0m\u001b[0mself\u001b[0m\u001b[0;34m,\u001b[0m \u001b[0mgateway\u001b[0m\u001b[0;34m=\u001b[0m\u001b[0mgateway\u001b[0m\u001b[0;34m,\u001b[0m \u001b[0mconf\u001b[0m\u001b[0;34m=\u001b[0m\u001b[0mconf\u001b[0m\u001b[0;34m)\u001b[0m\u001b[0;34m\u001b[0m\u001b[0m\n\u001b[0m\u001b[1;32m    116\u001b[0m         \u001b[0;32mtry\u001b[0m\u001b[0;34m:\u001b[0m\u001b[0;34m\u001b[0m\u001b[0m\n\u001b[1;32m    117\u001b[0m             self._do_init(master, appName, sparkHome, pyFiles, environment, batchSize, serializer,\n",
      "\u001b[0;32m/root/anaconda2/envs/py35/lib/python3.5/site-packages/pyspark/context.py\u001b[0m in \u001b[0;36m_ensure_initialized\u001b[0;34m(cls, instance, gateway, conf)\u001b[0m\n\u001b[1;32m    294\u001b[0m                         \u001b[0;34m\" created by %s at %s:%s \"\u001b[0m\u001b[0;34m\u001b[0m\u001b[0m\n\u001b[1;32m    295\u001b[0m                         % (currentAppName, currentMaster,\n\u001b[0;32m--> 296\u001b[0;31m                             callsite.function, callsite.file, callsite.linenum))\n\u001b[0m\u001b[1;32m    297\u001b[0m                 \u001b[0;32melse\u001b[0m\u001b[0;34m:\u001b[0m\u001b[0;34m\u001b[0m\u001b[0m\n\u001b[1;32m    298\u001b[0m                     \u001b[0mSparkContext\u001b[0m\u001b[0;34m.\u001b[0m\u001b[0m_active_spark_context\u001b[0m \u001b[0;34m=\u001b[0m \u001b[0minstance\u001b[0m\u001b[0;34m\u001b[0m\u001b[0m\n",
      "\u001b[0;31mValueError\u001b[0m: Cannot run multiple SparkContexts at once; existing SparkContext(app=test, master=local[*]) created by __init__ at <ipython-input-21-e300213c7a6f>:2 "
     ]
    }
   ],
   "source": [
    "import pyspark.mllib.random\n",
    "sc = pyspark.SparkContext(appName=\"test\")"
   ]
  },
  {
   "cell_type": "markdown",
   "metadata": {},
   "source": [
    "## Pyspark Multinomial Function\n",
    "\n",
    "The spark code follows the same logic, but we are now using pyspark methods which will ultimately be able to run across many CPUs.  The first function uses Spark methods (map, reduceByKey, etc.) but follows the same logic as the [Local Multinomial Function](## Local Multinomial Function)."
   ]
  },
  {
   "cell_type": "code",
   "execution_count": 187,
   "metadata": {
    "collapsed": true
   },
   "outputs": [],
   "source": [
    "# Using Spark Random number generator and accumulating statistics for a single round.\n",
    "def countsForSingleRound(numFaces,nTrials,seed, pcdf):\n",
    "    s = np.zeros(numFaces)\n",
    "    xi = pyspark.mllib.random.RandomRDDs.uniformRDD(sc,nTrials,seed = seed )\n",
    "    # creates an array of (k,v) pairs where k=number rolled(0 to 5) and v is used for counting\n",
    "    index = xi.map(lambda x: np.where(pcdf >= x)[0][0]).map(lambda x: (x,1))\n",
    "    indexCounts = np.array(index.reduceByKey(lambda a,b: a + b).collect())\n",
    "    # assigning counts to each location, accounting for the possiblity of zero counts in \n",
    "    # any particular value\n",
    "    for i in indexCounts:\n",
    "        s[i[0]]=i[1]\n",
    "    return s\n",
    "\n",
    "def multinomialSpark(nTrials, p, size):\n",
    "    # setting Spark seed with numpy seed state:\n",
    "    sparkSeed = int(np.random.get_state()[1][0] )\n",
    "    nRounds = size\n",
    "    numFaces = len(p)\n",
    "    pcdf = np.zeros(numFaces)\n",
    "    \n",
    "    pcdf[0] = p[0]\n",
    "    for i in range(1, numFaces):\n",
    "            pcdf[i] = p[i-1] + pcdf[i-1] \n",
    "               \n",
    "    s = np.zeros((nRounds, numFaces))\n",
    "    # assume that nRounds is of reasonable size (nTrials can be very large).  \n",
    "    # This means that Spark data types won't be needed.\n",
    "    for iRound in range(nRounds):\n",
    "        # each round is assigned a deterministic, unique seed\n",
    "        s[iRound, :] = countsForSingleRound(numFaces, nTrials, sparkSeed + iRound, pcdf)\n",
    "    return s"
   ]
  },
  {
   "cell_type": "code",
   "execution_count": 180,
   "metadata": {},
   "outputs": [
    {
     "name": "stdout",
     "output_type": "stream",
     "text": [
      "[ 91.  85.  89.  82.  65.  88.]\n"
     ]
    }
   ],
   "source": [
    "s = np.zeros(numFaces)\n",
    "xi = pyspark.mllib.random.RandomRDDs.uniformRDD(sc,nTrials,0 )\n",
    "# creates an array of (k,v) pairs where k=number rolled(0 to 5) and v is used for counting\n",
    "index = xi.map(lambda x: np.where(pcdf >= x)[0][0]).map(lambda x: (x,1))\n",
    "indexCounts = np.array(index.reduceByKey(lambda a,b: a + b).collect())\n",
    "# assigning counts to each location, accounting for the possiblity of zero counts in \n",
    "# any particular value\n",
    "for i in indexCounts:\n",
    "    s[i[0]]=i[1]\n",
    "print(s)"
   ]
  },
  {
   "cell_type": "markdown",
   "metadata": {},
   "source": [
    "## multinomialSpark Plot"
   ]
  },
  {
   "cell_type": "code",
   "execution_count": 189,
   "metadata": {},
   "outputs": [
    {
     "data": {
      "text/plain": [
       "<matplotlib.text.Text at 0x7fba709c4630>"
      ]
     },
     "execution_count": 189,
     "metadata": {},
     "output_type": "execute_result"
    },
    {
     "data": {
      "image/png": "[encoded data removed]",
      "text/plain": [
       "<matplotlib.figure.Figure at 0x7fba70a18d68>"
      ]
     },
     "metadata": {},
     "output_type": "display_data"
    }
   ],
   "source": [
    "%matplotlib inline\n",
    "np.random.seed(10)\n",
    "sSpark = multinomialSpark(nTrials, p1, size=nRounds)\n",
    "\n",
    "svg = np.zeros(numFaces)\n",
    "serr = np.zeros(numFaces)\n",
    "\n",
    "for i in range(numFaces):\n",
    "    svg[i] = np.mean(sSpark[:,i])/nTrials\n",
    "    serr[i] = np.std(sSpark[:,i])/nTrials\n",
    "    \n",
    "plt.title(\"np.random.multinomial Sampler Distribution\")    \n",
    "plt.bar(faceNames,svg,yerr=serr)\n",
    "plt.plot(faceNames, p1, '-og')\n",
    "plt.legend(['Analytic','Sampled'])\n",
    "plt.xlabel(\"Die Value\")\n",
    "plt.ylabel(\"Normalized Frequency\")"
   ]
  },
  {
   "cell_type": "markdown",
   "metadata": {},
   "source": [
    "## Numpy Unit Test Data\n",
    "Timings are also reported here...\n",
    "\n",
    "The output that we have validated here can now be taken as pseudoranom sequence that can be used to verify that the random number generator is performing exactly as we expect.  We could use a much smaller statistical sample  as well to generate these sequences to improve calculation time (we are already using sufficiently small sample sizes here)."
   ]
  },
  {
   "cell_type": "code",
   "execution_count": 191,
   "metadata": {},
   "outputs": [
    {
     "name": "stdout",
     "output_type": "stream",
     "text": [
      "\n",
      " first 5 rows (to be used for Unit Test)\n",
      "[[ 0.  1.  0.  0.  1.  0.]\n",
      " [ 1.  1.  0.  0.  0.  0.]\n",
      " [ 0.  0.  0.  1.  1.  0.]\n",
      " [ 0.  1.  0.  0.  1.  0.]\n",
      " [ 1.  0.  1.  0.  0.  0.]]\n"
     ]
    }
   ],
   "source": [
    "nTrialsUT = 2 # using a much smaller sample for Unit Test (faster compilation)\n",
    "nRoundsUT = 5 \n",
    "np.random.seed(10)\n",
    "sLocal = multinomialLocal(nTrialsUT, p1, size=nRoundsUT)\n",
    "print(\"\\n first 5 rows (to be used for Unit Test)\")\n",
    "print(sLocal[0:5])"
   ]
  },
  {
   "cell_type": "markdown",
   "metadata": {},
   "source": [
    "## Spark Unit Test Data\n",
    "\n",
    "Spark calculations will always be much slower than the comparable single CPU process as it has lots of overhead built into it for managing large scale calculations."
   ]
  },
  {
   "cell_type": "code",
   "execution_count": 192,
   "metadata": {
    "scrolled": true
   },
   "outputs": [
    {
     "name": "stdout",
     "output_type": "stream",
     "text": [
      "\n",
      " first 5 rows (to be used for Unit Test)\n",
      "[[ 1.  0.  1.  0.  0.  0.]\n",
      " [ 0.  0.  0.  1.  0.  1.]\n",
      " [ 0.  2.  0.  0.  0.  0.]\n",
      " [ 0.  0.  0.  1.  1.  0.]\n",
      " [ 0.  1.  1.  0.  0.  0.]]\n"
     ]
    }
   ],
   "source": [
    "np.random.seed(10) # need to reset the state\n",
    "sSpark = multinomialSpark(nTrialsUT, p1, size = nRoundsUT)\n",
    "print(\"\\n first 5 rows (to be used for Unit Test)\")\n",
    "print(sSpark[0:5])"
   ]
  },
  {
   "cell_type": "code",
   "execution_count": 166,
   "metadata": {},
   "outputs": [],
   "source": [
    "import unittest\n",
    "\n",
    "class TestMultinomialMethods(unittest.TestCase):\n",
    "    # See http://localhost:8888/notebooks/multinomialScratch.ipynb for a detailed description\n",
    "    nTrials = 2\n",
    "    nRounds = 5\n",
    "    \n",
    "    def testMultinomialLocal(self):\n",
    "        np.random.seed(10)\n",
    "        p = [1/6.]*6\n",
    "        nTrials = 2\n",
    "        nRounds = 5\n",
    "        # reference data generated in notebook (preferably a github link)\n",
    "        # http://localhost:8888/notebooks/multinomialScratch.ipynb#Numpy-Unit-Test-Data\n",
    "        sLocalReference = np.array([[ 0., 1., 0., 0., 1., 0.],\n",
    "                                    [ 1., 1., 0., 0., 0., 0.],\n",
    "                                    [ 0., 0., 0., 1., 1., 0.],\n",
    "                                    [ 0., 1., 0., 0., 1., 0.],\n",
    "                                    [ 1., 0., 1., 0., 0., 0.]])      \n",
    "\n",
    "        sTest = multinomialLocal(nTrials, p, size=nRounds)\n",
    "        np.testing.assert_array_equal(sTest[0:5],sLocalReference)\n",
    "    \n",
    "    def testMultinomialSpark(self):\n",
    "        np.random.seed(10)\n",
    "        p = [1/6.]*6\n",
    "        nTrials = 2\n",
    "        nRounds = 5\n",
    "        # reference data generated in notebook:\n",
    "        # http://localhost:8888/notebooks/multinomialScratch.ipynb#Spark-Unit-Test-Data\n",
    "        sSparkReference = np.array([[ 0., 0., 1., 0.,  1.,  0.],\n",
    "                                    [ 0., 0., 1., 0.,  1.,  0.],\n",
    "                                    [ 0., 0., 1., 0.,  1.,  0.],\n",
    "                                    [ 0., 0., 1., 0.,  1.,  0.],\n",
    "                                    [ 0., 0., 1., 0.,  1.,  0.]])\n",
    "        \n",
    "        sTest = multinomialSpark(nTrials, p, size = nRounds)\n",
    "        np.testing.assert_array_equal(sTest[0:5],sSparkReference)\n"
   ]
  },
  {
   "cell_type": "code",
   "execution_count": 167,
   "metadata": {
    "scrolled": true
   },
   "outputs": [
    {
     "name": "stderr",
     "output_type": "stream",
     "text": [
      "testMultinomialLocal (__main__.TestMultinomialMethods) ... ok\n",
      "testMultinomialSpark (__main__.TestMultinomialMethods) ... ok\n",
      "\n",
      "----------------------------------------------------------------------\n",
      "Ran 2 tests in 0.846s\n",
      "\n",
      "OK\n"
     ]
    },
    {
     "data": {
      "text/plain": [
       "<unittest.runner.TextTestResult run=2 errors=0 failures=0>"
      ]
     },
     "execution_count": 167,
     "metadata": {},
     "output_type": "execute_result"
    }
   ],
   "source": [
    "suite = unittest.TestLoader().loadTestsFromTestCase(TestMultinomialMethods)\n",
    "unittest.TextTestRunner(verbosity = 2).run(suite)"
   ]
  }
 ],
 "metadata": {
  "anaconda-cloud": {},
  "celltoolbar": "Slideshow",
  "kernelspec": {
   "display_name": "Python 3",
   "language": "python",
   "name": "python3"
  },
  "language_info": {
   "codemirror_mode": {
    "name": "ipython",
    "version": 3
   },
   "file_extension": ".py",
   "mimetype": "text/x-python",
   "name": "python",
   "nbconvert_exporter": "python",
   "pygments_lexer": "ipython3",
   "version": "3.5.3"
  }
 },
 "nbformat": 4,
 "nbformat_minor": 2
}
