{
 "cells": [
  {
   "cell_type": "markdown",
   "metadata": {},
   "source": [
    "# Scala Syntax Examples"
   ]
  },
  {
   "cell_type": "markdown",
   "metadata": {},
   "source": [
    "### Immutability Example"
   ]
  },
  {
   "cell_type": "markdown",
   "metadata": {},
   "source": [
    "In scala, once a variable is created, it cannot be modified, which is why you must define it as a `val` (for value).  If you are using the notebook or the shell (not the compiled code), you may overwrite this value by redefining it."
   ]
  },
  {
   "cell_type": "code",
   "execution_count": 57,
   "metadata": {},
   "outputs": [
    {
     "data": {
      "text/plain": [
       "Name: Compile Error\n",
       "Message: <console>:32: error: value += is not a member of String\n",
       "       hello += \" world\" //this won't work\n",
       "             ^\n",
       "\n",
       "StackTrace: "
      ]
     },
     "execution_count": 57,
     "metadata": {},
     "output_type": "execute_result"
    }
   ],
   "source": [
    "//immutability example\n",
    "val hello = \"hello\"\n",
    "hello += \" world\" //this won't work"
   ]
  },
  {
   "cell_type": "markdown",
   "metadata": {},
   "source": [
    "Using a `var` definition will allow you to modify the variable.  In general, however, immutability is a much safer construct when running code that will be parallelized."
   ]
  },
  {
   "cell_type": "code",
   "execution_count": 2,
   "metadata": {},
   "outputs": [
    {
     "data": {
      "text/plain": [
       "hello = hello world\n"
      ]
     },
     "metadata": {},
     "output_type": "display_data"
    },
    {
     "data": {
      "text/plain": [
       "hello world"
      ]
     },
     "execution_count": 2,
     "metadata": {},
     "output_type": "execute_result"
    }
   ],
   "source": [
    "var hello = \"hello\"\n",
    "hello += \" world\" //this will work"
   ]
  },
  {
   "cell_type": "markdown",
   "metadata": {},
   "source": [
    "### Inferred Types"
   ]
  },
  {
   "cell_type": "markdown",
   "metadata": {},
   "source": [
    "Scala has strong type enforcement, which means that all datatypes are checked for consistency at *compile* time rather than at *run* time.  Most of the time, the compiler can assign types without assistance.  \n",
    "It can be a helpful practice, however, to declare the type in the code (as `name: Type`).  This practice can make the code much more legible, particularly when many similar types are being used."
   ]
  },
  {
   "cell_type": "code",
   "execution_count": 58,
   "metadata": {},
   "outputs": [
    {
     "data": {
      "text/plain": [
       "hello = hello\n",
       "hello2 = hello\n"
      ]
     },
     "metadata": {},
     "output_type": "display_data"
    },
    {
     "data": {
      "text/plain": [
       "hello"
      ]
     },
     "execution_count": 58,
     "metadata": {},
     "output_type": "execute_result"
    }
   ],
   "source": [
    "//inferred type\n",
    "val hello = \"hello\"\n",
    "val hello2: String = \"hello\""
   ]
  },
  {
   "cell_type": "markdown",
   "metadata": {},
   "source": [
    "Adding your own type definitions can also keep you honest.  Many errors in programming can be avoided by using these simple annotations."
   ]
  },
  {
   "cell_type": "code",
   "execution_count": 59,
   "metadata": {},
   "outputs": [
    {
     "data": {
      "text/plain": [
       "Name: Compile Error\n",
       "Message: <console>:25: error: type mismatch;\n",
       " found   : String(\"hello\")\n",
       " required: Int\n",
       "       val hello: Int = \"hello\" //this won't work\n",
       "                        ^\n",
       "\n",
       "StackTrace: "
      ]
     },
     "execution_count": 59,
     "metadata": {},
     "output_type": "execute_result"
    }
   ],
   "source": [
    "val hello: Int = \"hello\" //this won't work"
   ]
  },
  {
   "cell_type": "markdown",
   "metadata": {},
   "source": [
    "### Expressions"
   ]
  },
  {
   "cell_type": "markdown",
   "metadata": {},
   "source": [
    "Expressions are an important concept in scala.  An expression returns a value.  In this sense, variable, value, and function definitions can all be thought of as expressions."
   ]
  },
  {
   "cell_type": "code",
   "execution_count": 60,
   "metadata": {},
   "outputs": [
    {
     "data": {
      "text/plain": [
       "result = hello\n"
      ]
     },
     "metadata": {},
     "output_type": "display_data"
    },
    {
     "data": {
      "text/plain": [
       "hello"
      ]
     },
     "execution_count": 60,
     "metadata": {},
     "output_type": "execute_result"
    }
   ],
   "source": [
    "val result = if (1 == 1) \"hello\" else \"goodbye\""
   ]
  },
  {
   "cell_type": "markdown",
   "metadata": {},
   "source": [
    "### Lambda Expressions"
   ]
  },
  {
   "cell_type": "markdown",
   "metadata": {},
   "source": [
    "A lambda expression, also known as an inline function, or anonymous function, is simply a very compact way of defining a function.  For the function \n",
    "\n",
    "$$f(x)=x+1$$\n",
    "\n",
    ", the lambda expression is simply `x => x+1`.  The lambda expression here is defined as a `val`, and can be passed into other functions as an `Int`.  "
   ]
  },
  {
   "cell_type": "code",
   "execution_count": 11,
   "metadata": {},
   "outputs": [
    {
     "data": {
      "text/plain": [
       "comingOrGoing = > String = <function1>\n"
      ]
     },
     "metadata": {},
     "output_type": "display_data"
    },
    {
     "data": {
      "text/plain": [
       "hello"
      ]
     },
     "execution_count": 11,
     "metadata": {},
     "output_type": "execute_result"
    }
   ],
   "source": [
    "val comingOrGoing = (n:Int) => if (n==1) \"hello\" else \"goodbye\" \n",
    "comingOrGoing(1)"
   ]
  },
  {
   "cell_type": "markdown",
   "metadata": {},
   "source": [
    "### Multiline Expressions"
   ]
  },
  {
   "cell_type": "markdown",
   "metadata": {},
   "source": [
    "An expression can contain many lines, but only the last line is returned.  "
   ]
  },
  {
   "cell_type": "code",
   "execution_count": 64,
   "metadata": {},
   "outputs": [
    {
     "data": {
      "text/plain": [
       "bigExpression = hello world\n"
      ]
     },
     "metadata": {},
     "output_type": "display_data"
    },
    {
     "data": {
      "text/plain": [
       "hello world"
      ]
     },
     "execution_count": 64,
     "metadata": {},
     "output_type": "execute_result"
    }
   ],
   "source": [
    "val bigExpression = {\n",
    "  val a = \"hello\" \n",
    "  val b = \" world\"\n",
    "  a + b\n",
    "}"
   ]
  },
  {
   "cell_type": "markdown",
   "metadata": {},
   "source": [
    "All intermediate values are held within the scope of the expression, just as in functions."
   ]
  },
  {
   "cell_type": "code",
   "execution_count": 65,
   "metadata": {},
   "outputs": [
    {
     "data": {
      "text/plain": [
       "Name: Compile Error\n",
       "Message: <console>:26: error: not found: value a\n",
       "       println(a)\n",
       "               ^\n",
       "\n",
       "StackTrace: "
      ]
     },
     "execution_count": 65,
     "metadata": {},
     "output_type": "execute_result"
    }
   ],
   "source": [
    "println(a)"
   ]
  },
  {
   "cell_type": "markdown",
   "metadata": {},
   "source": [
    "### Strong Typing in Branched Expressions "
   ]
  },
  {
   "cell_type": "code",
   "execution_count": 67,
   "metadata": {},
   "outputs": [
    {
     "data": {
      "text/plain": [
       "poorlyTypedExpression = > AnyVal = <function1>\n",
       "betterBranchExpression = > Int = <function1>\n"
      ]
     },
     "metadata": {},
     "output_type": "display_data"
    },
    {
     "data": {
      "text/plain": [
       "<function1>"
      ]
     },
     "execution_count": 67,
     "metadata": {},
     "output_type": "execute_result"
    }
   ],
   "source": [
    "val poorlyTypedExpression = (test:Boolean) => if (test) 1\n",
    "val betterBranchExpression = (test:Boolean) => {if (test) 1 else 0}"
   ]
  },
  {
   "cell_type": "markdown",
   "metadata": {},
   "source": [
    "## Simple Modularization "
   ]
  },
  {
   "cell_type": "markdown",
   "metadata": {},
   "source": [
    "### Functions"
   ]
  },
  {
   "cell_type": "markdown",
   "metadata": {},
   "source": [
    "Function definitions have a very simple syntax.  Assigning default values is easy too.  Here are some examples."
   ]
  },
  {
   "cell_type": "code",
   "execution_count": 68,
   "metadata": {},
   "outputs": [
    {
     "data": {
      "text/plain": [
       "name: (first: String, last: String)String\n"
      ]
     },
     "metadata": {},
     "output_type": "display_data"
    },
    {
     "name": "stdout",
     "output_type": "stream",
     "text": [
      "1) Martin Odersky\n",
      "2) first Odersky\n",
      "3) Martin last\n"
     ]
    }
   ],
   "source": [
    "def name(first: String = \"first\", last: String = \"last\"): String = {\n",
    "    first + \" \" + last\n",
    "}\n",
    "\n",
    "println( \"1) \" + name(first = \"Martin\", last = \"Odersky\"))\n",
    "println( \"2) \" + name(last = \"Odersky\"))\n",
    "println( \"3) \" + name(\"Martin\"))"
   ]
  },
  {
   "cell_type": "markdown",
   "metadata": {},
   "source": [
    "### Singleton Objects"
   ]
  },
  {
   "cell_type": "markdown",
   "metadata": {},
   "source": [
    "A singleton object has only one instance, and is created upon definition."
   ]
  },
  {
   "cell_type": "code",
   "execution_count": null,
   "metadata": {
    "collapsed": true
   },
   "outputs": [],
   "source": [
    "object Hello{ def message = \"HelloDefault\"}\n",
    "Hello.message"
   ]
  },
  {
   "cell_type": "markdown",
   "metadata": {},
   "source": [
    "### Classes"
   ]
  },
  {
   "cell_type": "markdown",
   "metadata": {},
   "source": [
    "A class can have multiple instances with different intializations."
   ]
  },
  {
   "cell_type": "code",
   "execution_count": 30,
   "metadata": {},
   "outputs": [
    {
     "data": {
      "text/plain": [
       "defined class HelloClass\n",
       "hello = HelloClass@690f2b6f\n"
      ]
     },
     "metadata": {},
     "output_type": "display_data"
    },
    {
     "data": {
      "text/plain": [
       "I'm a class!"
      ]
     },
     "execution_count": 30,
     "metadata": {},
     "output_type": "execute_result"
    }
   ],
   "source": [
    "class HelloClass(val message: String)\n",
    "val hello = new HelloClass(\"I'm a class!\")\n",
    "hello.message"
   ]
  },
  {
   "cell_type": "markdown",
   "metadata": {},
   "source": [
    "The case class is used a lot in Apache Spark code."
   ]
  },
  {
   "cell_type": "code",
   "execution_count": 31,
   "metadata": {},
   "outputs": [
    {
     "data": {
      "text/plain": [
       "defined class HelloCC\n",
       "hello2 = HelloCC(I'm a case class!)\n"
      ]
     },
     "metadata": {},
     "output_type": "display_data"
    },
    {
     "data": {
      "text/plain": [
       "I'm a case class!"
      ]
     },
     "execution_count": 31,
     "metadata": {},
     "output_type": "execute_result"
    }
   ],
   "source": [
    "case class HelloCC(message: String)\n",
    "val hello2 = HelloCC(\"I'm a case class!\")\n",
    "hello2.message"
   ]
  },
  {
   "cell_type": "markdown",
   "metadata": {},
   "source": [
    "## Operations on Collections"
   ]
  },
  {
   "cell_type": "markdown",
   "metadata": {},
   "source": [
    "### The Tuple...is NOT a Collection"
   ]
  },
  {
   "cell_type": "code",
   "execution_count": 40,
   "metadata": {},
   "outputs": [
    {
     "name": "stdout",
     "output_type": "stream",
     "text": [
      "1\n",
      "a\n"
     ]
    },
    {
     "data": {
      "text/plain": [
       "pair = (1,a)\n",
       "sampepair = (1,a)\n"
      ]
     },
     "metadata": {},
     "output_type": "display_data"
    },
    {
     "data": {
      "text/plain": [
       "(1,a)"
      ]
     },
     "execution_count": 40,
     "metadata": {},
     "output_type": "execute_result"
    }
   ],
   "source": [
    "val pair = (1,\"a\")\n",
    "println(pair._1) \n",
    "println(pair._2)\n",
    "// another way to define 2 element tuples:\n",
    "val sampepair = 1 -> \"a\""
   ]
  },
  {
   "cell_type": "code",
   "execution_count": 44,
   "metadata": {},
   "outputs": [
    {
     "data": {
      "text/plain": [
       "map1 = Map(1 -> a, 2 -> b)\n",
       "map2 = Map(3 -> c)\n",
       "map3 = Map(1 -> a, 2 -> b, 3 -> c)\n"
      ]
     },
     "metadata": {},
     "output_type": "display_data"
    },
    {
     "data": {
      "text/plain": [
       "Map(1 -> a, 2 -> b, 3 -> c)"
      ]
     },
     "execution_count": 44,
     "metadata": {},
     "output_type": "execute_result"
    }
   ],
   "source": [
    "val map1 = Map((1,\"a\"),(2,\"b\")) \n",
    "val map2 = Map(3 -> \"c\")\n",
    "val map3 = map1 ++ map2"
   ]
  },
  {
   "cell_type": "markdown",
   "metadata": {},
   "source": [
    "### Using the `map()` Method"
   ]
  },
  {
   "cell_type": "markdown",
   "metadata": {},
   "source": [
    "The `map()` method can be applied to all elements of a collection"
   ]
  },
  {
   "cell_type": "code",
   "execution_count": 47,
   "metadata": {},
   "outputs": [
    {
     "data": {
      "text/plain": [
       "standardLambdaMap = Vector(2, 3, 4, 5, 6)\n",
       "equivalendLambdaMap = Vector(2, 3, 4, 5, 6)\n"
      ]
     },
     "metadata": {},
     "output_type": "display_data"
    },
    {
     "data": {
      "text/plain": [
       "Vector(2, 3, 4, 5, 6)"
      ]
     },
     "execution_count": 47,
     "metadata": {},
     "output_type": "execute_result"
    }
   ],
   "source": [
    "val standardLambdaMap = (1 to 5).map(n =>  n + 1) \n",
    "// an equivalent (syntactic sugar) expression\n",
    "val equivalendLambdaMap = (1 to 5).map(_ + 1) "
   ]
  },
  {
   "cell_type": "markdown",
   "metadata": {},
   "source": [
    "### Functions are First Class Citizens"
   ]
  },
  {
   "cell_type": "code",
   "execution_count": 49,
   "metadata": {},
   "outputs": [
    {
     "data": {
      "text/plain": [
       "addOne = > Int = <function1>\n",
       "mapUsingFunction = Vector(2, 3, 4, 5, 6)\n",
       "mapUsingSyntacticSugar = Vector(2, 3, 4, 5, 6)\n"
      ]
     },
     "metadata": {},
     "output_type": "display_data"
    },
    {
     "data": {
      "text/plain": [
       "Vector(2, 3, 4, 5, 6)"
      ]
     },
     "execution_count": 49,
     "metadata": {},
     "output_type": "execute_result"
    }
   ],
   "source": [
    "val addOne = (n: Int) => n + 1\n",
    "\n",
    "val mapUsingFunction = (1 to 5).map(n => addOne(n))\n",
    "\n",
    "val mapUsingSyntacticSugar = (1 to 5).map(addOne)"
   ]
  },
  {
   "cell_type": "markdown",
   "metadata": {},
   "source": [
    "### Other Mapping Operations"
   ]
  },
  {
   "cell_type": "markdown",
   "metadata": {},
   "source": [
    "### `flatMap()` example"
   ]
  },
  {
   "cell_type": "code",
   "execution_count": 34,
   "metadata": {},
   "outputs": [
    {
     "data": {
      "text/plain": [
       "arrayOfArrays = Array(Array(1, 2, 3, 4, 5), Array(6, 7, 8, 9, 10), Array(11, 12, 13, 14, 15), Array(16, 17, 18, 19, 20), Array(21, 22, 23, 24, 25))\n"
      ]
     },
     "metadata": {},
     "output_type": "display_data"
    },
    {
     "data": {
      "text/plain": [
       "[[1, 2, 3, 4, 5], [6, 7, 8, 9, 10], [11, 12, 13, 14, 15], [16, 17, 18, 19, 20], [21, 22, 23, 24, 25]]"
      ]
     },
     "execution_count": 34,
     "metadata": {},
     "output_type": "execute_result"
    }
   ],
   "source": [
    "val arrayOfArrays: Array[Array[Int]] = \n",
    "   (0 to 4).toArray.map(x=> (5*x+1 to 5*x + 5).toArray)"
   ]
  },
  {
   "cell_type": "markdown",
   "metadata": {},
   "source": [
    "This structure appears frequently when loading data as arrays in each row of a dataset.  Printing out the arrays in rows here...."
   ]
  },
  {
   "cell_type": "code",
   "execution_count": 31,
   "metadata": {},
   "outputs": [
    {
     "name": "stdout",
     "output_type": "stream",
     "text": [
      "0)1,2,3,4,5\n",
      "1)6,7,8,9,10\n",
      "2)11,12,13,14,15\n",
      "3)16,17,18,19,20\n",
      "4)21,22,23,24,25\n"
     ]
    }
   ],
   "source": [
    "arrayOfArrays.zipWithIndex.\n",
    "   foreach(x => \n",
    "     println(x._2 + \")\" + \n",
    "        x._1.map(x=>x.toString).reduce((x,y) => x +\",\" +y)))"
   ]
  },
  {
   "cell_type": "markdown",
   "metadata": {},
   "source": [
    "`flatMap()` is a clever method that treats the double array as a sinlge array."
   ]
  },
  {
   "cell_type": "code",
   "execution_count": 29,
   "metadata": {},
   "outputs": [
    {
     "data": {
      "text/plain": [
       "[1, 2, 3, 4, 5, 6, 7, 8, 9, 10, 11, 12, 13, 14, 15, 16, 17, 18, 19, 20, 21, 22, 23, 24, 25]"
      ]
     },
     "execution_count": 29,
     "metadata": {},
     "output_type": "execute_result"
    }
   ],
   "source": [
    "arrayOfArrays.flatMap(x => x)"
   ]
  },
  {
   "cell_type": "markdown",
   "metadata": {},
   "source": [
    "### Using the `reduce()` method"
   ]
  },
  {
   "cell_type": "code",
   "execution_count": 32,
   "metadata": {},
   "outputs": [
    {
     "data": {
      "text/plain": [
       "reduceSum = 20\n",
       "reduceSumWithSugar = 20\n"
      ]
     },
     "metadata": {},
     "output_type": "display_data"
    },
    {
     "data": {
      "text/plain": [
       "20"
      ]
     },
     "execution_count": 32,
     "metadata": {},
     "output_type": "execute_result"
    }
   ],
   "source": [
    "val reduceSum = (1 to 5).map(addOne).reduce((a,b)=>a+b)\n",
    "val reduceSumWithSugar = (1 to 5).map(addOne).reduce(_+_) "
   ]
  },
  {
   "cell_type": "code",
   "execution_count": 33,
   "metadata": {},
   "outputs": [
    {
     "data": {
      "text/plain": [
       "stringVector = Vector(a1, a2, a3, a4, a5)\n",
       "reducedStrings = a1a2a3a4a5\n"
      ]
     },
     "metadata": {},
     "output_type": "display_data"
    },
    {
     "data": {
      "text/plain": [
       "a1a2a3a4a5"
      ]
     },
     "execution_count": 33,
     "metadata": {},
     "output_type": "execute_result"
    }
   ],
   "source": [
    "val stringVector = //reduce as strings\n",
    "(1 to 5).map(n => \"a\" + n.toString)\n",
    "\n",
    "val reducedStrings = stringList.reduce((a,b)=>a+b) "
   ]
  },
  {
   "cell_type": "markdown",
   "metadata": {},
   "source": [
    "### A Simple example of Processing a Collection"
   ]
  },
  {
   "cell_type": "code",
   "execution_count": 55,
   "metadata": {},
   "outputs": [
    {
     "name": "stdout",
     "output_type": "stream",
     "text": [
      "x: 401\n",
      "x: 402\n",
      "x: 403\n",
      "x: 404\n",
      "x: 405\n"
     ]
    }
   ],
   "source": [
    "// put expression in curly brackets to supress output\n",
    "{val rawList = {1 to 5000}}\n",
    "\n",
    "// doing some filtering here and printing the result...is it\n",
    "// what you expected?\n",
    "{rawList\n",
    " .filter(x => x > 400)\n",
    " .take(5)\n",
    " .foreach(x => println(\"x: \" + x))\n",
    "}"
   ]
  }
 ],
 "metadata": {
  "kernelspec": {
   "display_name": "Apache Toree - Scala",
   "language": "scala",
   "name": "apache_toree_scala"
  },
  "language_info": {
   "codemirror_mode": "text/x-scala",
   "file_extension": ".scala",
   "mimetype": "text/x-scala",
   "name": "scala",
   "pygments_lexer": "scala",
   "version": "2.11.8"
  }
 },
 "nbformat": 4,
 "nbformat_minor": 2
}
